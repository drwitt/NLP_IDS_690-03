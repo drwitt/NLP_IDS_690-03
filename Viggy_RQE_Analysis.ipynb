{
  "nbformat": 4,
  "nbformat_minor": 0,
  "metadata": {
    "colab": {
      "name": "RQE_Analysis.ipynb",
      "version": "0.3.2",
      "provenance": [],
      "collapsed_sections": [],
      "include_colab_link": true
    },
    "kernelspec": {
      "name": "python3",
      "display_name": "Python 3"
    },
    "accelerator": "GPU"
  },
  "cells": [
    {
      "cell_type": "markdown",
      "metadata": {
        "id": "view-in-github",
        "colab_type": "text"
      },
      "source": [
        "<a href=\"https://colab.research.google.com/github/drwitt/NLP_IDS_690-03/blob/master/Viggy_RQE_Analysis.ipynb\" target=\"_parent\"><img src=\"https://colab.research.google.com/assets/colab-badge.svg\" alt=\"Open In Colab\"/></a>"
      ]
    },
    {
      "cell_type": "code",
      "metadata": {
        "id": "69TCvatAvYSE",
        "colab_type": "code",
        "colab": {}
      },
      "source": [
        "# RQE Analysis\n",
        "# Viggy Kumaresan"
      ],
      "execution_count": 0,
      "outputs": []
    },
    {
      "cell_type": "code",
      "metadata": {
        "id": "ye7rzUEivi5J",
        "colab_type": "code",
        "colab": {}
      },
      "source": [
        "import pandas as pd\n",
        "import numpy as np\n",
        "import matplotlib.pyplot as plt\n",
        "import seaborn as sns\n",
        "import xml.etree.ElementTree as ET\n",
        "import nltk\n",
        "import re"
      ],
      "execution_count": 0,
      "outputs": []
    },
    {
      "cell_type": "markdown",
      "metadata": {
        "id": "SmOAdTPx82xR",
        "colab_type": "text"
      },
      "source": [
        "Before starting, first download XML files from Github repository (https://github.com/abachaa/RQE_Data_AMIA2016) and upload to Colab. "
      ]
    },
    {
      "cell_type": "code",
      "metadata": {
        "id": "65JFoY2Ovnpf",
        "colab_type": "code",
        "colab": {}
      },
      "source": [
        "# Import Train and Text XML files\n",
        "def parse_XML(xml_file, df_cols): \n",
        "    \"\"\"Parse the input XML file and store the result in a pandas \n",
        "    DataFrame with the given columns. \n",
        "    \n",
        "    The first element of df_cols is supposed to be the identifier \n",
        "    variable, which is an attribute of each node element in the \n",
        "    XML data; other features will be parsed from the text content \n",
        "    of each sub-element. \n",
        "    \"\"\"\n",
        "    \n",
        "    xtree = ET.parse(xml_file)\n",
        "    xroot = xtree.getroot()\n",
        "    rows = []\n",
        "    \n",
        "    for node in xroot: \n",
        "        res = []\n",
        "        res.append(node.attrib.get(df_cols[0]))\n",
        "        res.append(node.attrib.get(df_cols[1]))\n",
        "        res.append(node.attrib.get(df_cols[2]))\n",
        "        for el in df_cols[3:]: \n",
        "            if node is not None and node.find(el) is not None:\n",
        "                res.append(node.find(el).text)\n",
        "            else: \n",
        "                res.append(None)\n",
        "        rows.append({df_cols[i]: res[i] \n",
        "                     for i, _ in enumerate(df_cols)})\n",
        "    \n",
        "    out_df = pd.DataFrame(rows, columns=df_cols)\n",
        "        \n",
        "    return out_df"
      ],
      "execution_count": 0,
      "outputs": []
    },
    {
      "cell_type": "code",
      "metadata": {
        "id": "-Ir2hVF9yLZ-",
        "colab_type": "code",
        "colab": {}
      },
      "source": [
        "train = parse_XML('/content/RQE_Train_8588_AMIA2016.xml', ['pid', 'type', 'value', 'chq', 'faq'])"
      ],
      "execution_count": 0,
      "outputs": []
    },
    {
      "cell_type": "code",
      "metadata": {
        "id": "ZsInN9cixnp4",
        "colab_type": "code",
        "outputId": "d0863255-61aa-497e-bc47-b9de88828c7d",
        "colab": {
          "base_uri": "https://localhost:8080/",
          "height": 206
        }
      },
      "source": [
        "train.head()"
      ],
      "execution_count": 0,
      "outputs": [
        {
          "output_type": "execute_result",
          "data": {
            "text/html": [
              "<div>\n",
              "<style scoped>\n",
              "    .dataframe tbody tr th:only-of-type {\n",
              "        vertical-align: middle;\n",
              "    }\n",
              "\n",
              "    .dataframe tbody tr th {\n",
              "        vertical-align: top;\n",
              "    }\n",
              "\n",
              "    .dataframe thead th {\n",
              "        text-align: right;\n",
              "    }\n",
              "</style>\n",
              "<table border=\"1\" class=\"dataframe\">\n",
              "  <thead>\n",
              "    <tr style=\"text-align: right;\">\n",
              "      <th></th>\n",
              "      <th>pid</th>\n",
              "      <th>type</th>\n",
              "      <th>value</th>\n",
              "      <th>chq</th>\n",
              "      <th>faq</th>\n",
              "    </tr>\n",
              "  </thead>\n",
              "  <tbody>\n",
              "    <tr>\n",
              "      <th>0</th>\n",
              "      <td>1</td>\n",
              "      <td>originalQ-shortQ</td>\n",
              "      <td>true</td>\n",
              "      <td>\\n   How should I treat polymenorrhea in a 14-...</td>\n",
              "      <td>\\n   How should I treat polymenorrhea in a 14-...</td>\n",
              "    </tr>\n",
              "    <tr>\n",
              "      <th>1</th>\n",
              "      <td>2</td>\n",
              "      <td>originalQ-shortQ</td>\n",
              "      <td>true</td>\n",
              "      <td>\\n   Have there been any studies with low mole...</td>\n",
              "      <td>\\n   Can I use low molecular weight heparin in...</td>\n",
              "    </tr>\n",
              "    <tr>\n",
              "      <th>2</th>\n",
              "      <td>3</td>\n",
              "      <td>originalQ-shortRandQ</td>\n",
              "      <td>false</td>\n",
              "      <td>\\n   Have there been any studies with low mole...</td>\n",
              "      <td>\\n   What are the side effects of Florinef?  C...</td>\n",
              "    </tr>\n",
              "    <tr>\n",
              "      <th>3</th>\n",
              "      <td>4</td>\n",
              "      <td>originalQ-shortQ</td>\n",
              "      <td>true</td>\n",
              "      <td>\\n   Let's give these immunizations.  That's r...</td>\n",
              "      <td>\\n   Let's give these immunizations.  That's r...</td>\n",
              "    </tr>\n",
              "    <tr>\n",
              "      <th>4</th>\n",
              "      <td>5</td>\n",
              "      <td>originalQ-shortRandQ</td>\n",
              "      <td>false</td>\n",
              "      <td>\\n   Let's give these immunizations.  That's r...</td>\n",
              "      <td>\\n   Is there more support we can provide pati...</td>\n",
              "    </tr>\n",
              "  </tbody>\n",
              "</table>\n",
              "</div>"
            ],
            "text/plain": [
              "  pid  ...                                                faq\n",
              "0   1  ...  \\n   How should I treat polymenorrhea in a 14-...\n",
              "1   2  ...  \\n   Can I use low molecular weight heparin in...\n",
              "2   3  ...  \\n   What are the side effects of Florinef?  C...\n",
              "3   4  ...  \\n   Let's give these immunizations.  That's r...\n",
              "4   5  ...  \\n   Is there more support we can provide pati...\n",
              "\n",
              "[5 rows x 5 columns]"
            ]
          },
          "metadata": {
            "tags": []
          },
          "execution_count": 5
        }
      ]
    },
    {
      "cell_type": "code",
      "metadata": {
        "id": "PUaQ1MzVx1Oi",
        "colab_type": "code",
        "colab": {}
      },
      "source": [
        "test = parse_XML('/content/RQE_Test_302_pairs_AMIA2016.xml', ['pid', 'type', 'value', 'chq', 'faq'])"
      ],
      "execution_count": 0,
      "outputs": []
    },
    {
      "cell_type": "code",
      "metadata": {
        "id": "Op1jMdW65_Fr",
        "colab_type": "code",
        "outputId": "e9832d8d-2943-4696-decb-424326384807",
        "colab": {
          "base_uri": "https://localhost:8080/",
          "height": 206
        }
      },
      "source": [
        "test.head()"
      ],
      "execution_count": 0,
      "outputs": [
        {
          "output_type": "execute_result",
          "data": {
            "text/html": [
              "<div>\n",
              "<style scoped>\n",
              "    .dataframe tbody tr th:only-of-type {\n",
              "        vertical-align: middle;\n",
              "    }\n",
              "\n",
              "    .dataframe tbody tr th {\n",
              "        vertical-align: top;\n",
              "    }\n",
              "\n",
              "    .dataframe thead th {\n",
              "        text-align: right;\n",
              "    }\n",
              "</style>\n",
              "<table border=\"1\" class=\"dataframe\">\n",
              "  <thead>\n",
              "    <tr style=\"text-align: right;\">\n",
              "      <th></th>\n",
              "      <th>pid</th>\n",
              "      <th>type</th>\n",
              "      <th>value</th>\n",
              "      <th>chq</th>\n",
              "      <th>faq</th>\n",
              "    </tr>\n",
              "  </thead>\n",
              "  <tbody>\n",
              "    <tr>\n",
              "      <th>0</th>\n",
              "      <td>1</td>\n",
              "      <td>part1</td>\n",
              "      <td>false</td>\n",
              "      <td>High Blood Pressure. I know you may not answer...</td>\n",
              "      <td>What is High Blood Pressure?</td>\n",
              "    </tr>\n",
              "    <tr>\n",
              "      <th>1</th>\n",
              "      <td>2</td>\n",
              "      <td>part1</td>\n",
              "      <td>false</td>\n",
              "      <td>Arrhythmia. can arrhythmia occurs after ablati...</td>\n",
              "      <td>What is an Arrhythmia?</td>\n",
              "    </tr>\n",
              "    <tr>\n",
              "      <th>2</th>\n",
              "      <td>3</td>\n",
              "      <td>part1</td>\n",
              "      <td>false</td>\n",
              "      <td>medicine and allied. I LIKE TO KNOW RECENT THE...</td>\n",
              "      <td>What is an Arrhythmia?</td>\n",
              "    </tr>\n",
              "    <tr>\n",
              "      <th>3</th>\n",
              "      <td>4</td>\n",
              "      <td>part1</td>\n",
              "      <td>false</td>\n",
              "      <td>EAR LOBE CREASES. Are ear lobe creases always ...</td>\n",
              "      <td>What is Coronary Heart Disease?</td>\n",
              "    </tr>\n",
              "    <tr>\n",
              "      <th>4</th>\n",
              "      <td>5</td>\n",
              "      <td>part1</td>\n",
              "      <td>false</td>\n",
              "      <td>sleep apnea. I was diagnosed with sleep apnea ...</td>\n",
              "      <td>What is Sleep Apnea?</td>\n",
              "    </tr>\n",
              "  </tbody>\n",
              "</table>\n",
              "</div>"
            ],
            "text/plain": [
              "  pid  ...                              faq\n",
              "0   1  ...     What is High Blood Pressure?\n",
              "1   2  ...           What is an Arrhythmia?\n",
              "2   3  ...           What is an Arrhythmia?\n",
              "3   4  ...  What is Coronary Heart Disease?\n",
              "4   5  ...             What is Sleep Apnea?\n",
              "\n",
              "[5 rows x 5 columns]"
            ]
          },
          "metadata": {
            "tags": []
          },
          "execution_count": 7
        }
      ]
    },
    {
      "cell_type": "code",
      "metadata": {
        "id": "40YDheu95_rc",
        "colab_type": "code",
        "outputId": "6ed933d0-b29f-413b-e23d-24cf3e95a48e",
        "colab": {
          "base_uri": "https://localhost:8080/",
          "height": 206
        }
      },
      "source": [
        "# Binarize outcome variable\n",
        "train['outcome'] = np.where(train['value'] == 'true', 1, 0)\n",
        "test['outcome'] = np.where(test['value'] == 'true', 1, 0)\n",
        "train.head()"
      ],
      "execution_count": 0,
      "outputs": [
        {
          "output_type": "execute_result",
          "data": {
            "text/html": [
              "<div>\n",
              "<style scoped>\n",
              "    .dataframe tbody tr th:only-of-type {\n",
              "        vertical-align: middle;\n",
              "    }\n",
              "\n",
              "    .dataframe tbody tr th {\n",
              "        vertical-align: top;\n",
              "    }\n",
              "\n",
              "    .dataframe thead th {\n",
              "        text-align: right;\n",
              "    }\n",
              "</style>\n",
              "<table border=\"1\" class=\"dataframe\">\n",
              "  <thead>\n",
              "    <tr style=\"text-align: right;\">\n",
              "      <th></th>\n",
              "      <th>pid</th>\n",
              "      <th>type</th>\n",
              "      <th>value</th>\n",
              "      <th>chq</th>\n",
              "      <th>faq</th>\n",
              "      <th>outcome</th>\n",
              "    </tr>\n",
              "  </thead>\n",
              "  <tbody>\n",
              "    <tr>\n",
              "      <th>0</th>\n",
              "      <td>1</td>\n",
              "      <td>originalQ-shortQ</td>\n",
              "      <td>true</td>\n",
              "      <td>\\n   How should I treat polymenorrhea in a 14-...</td>\n",
              "      <td>\\n   How should I treat polymenorrhea in a 14-...</td>\n",
              "      <td>1</td>\n",
              "    </tr>\n",
              "    <tr>\n",
              "      <th>1</th>\n",
              "      <td>2</td>\n",
              "      <td>originalQ-shortQ</td>\n",
              "      <td>true</td>\n",
              "      <td>\\n   Have there been any studies with low mole...</td>\n",
              "      <td>\\n   Can I use low molecular weight heparin in...</td>\n",
              "      <td>1</td>\n",
              "    </tr>\n",
              "    <tr>\n",
              "      <th>2</th>\n",
              "      <td>3</td>\n",
              "      <td>originalQ-shortRandQ</td>\n",
              "      <td>false</td>\n",
              "      <td>\\n   Have there been any studies with low mole...</td>\n",
              "      <td>\\n   What are the side effects of Florinef?  C...</td>\n",
              "      <td>0</td>\n",
              "    </tr>\n",
              "    <tr>\n",
              "      <th>3</th>\n",
              "      <td>4</td>\n",
              "      <td>originalQ-shortQ</td>\n",
              "      <td>true</td>\n",
              "      <td>\\n   Let's give these immunizations.  That's r...</td>\n",
              "      <td>\\n   Let's give these immunizations.  That's r...</td>\n",
              "      <td>1</td>\n",
              "    </tr>\n",
              "    <tr>\n",
              "      <th>4</th>\n",
              "      <td>5</td>\n",
              "      <td>originalQ-shortRandQ</td>\n",
              "      <td>false</td>\n",
              "      <td>\\n   Let's give these immunizations.  That's r...</td>\n",
              "      <td>\\n   Is there more support we can provide pati...</td>\n",
              "      <td>0</td>\n",
              "    </tr>\n",
              "  </tbody>\n",
              "</table>\n",
              "</div>"
            ],
            "text/plain": [
              "  pid  ... outcome\n",
              "0   1  ...       1\n",
              "1   2  ...       1\n",
              "2   3  ...       0\n",
              "3   4  ...       1\n",
              "4   5  ...       0\n",
              "\n",
              "[5 rows x 6 columns]"
            ]
          },
          "metadata": {
            "tags": []
          },
          "execution_count": 8
        }
      ]
    },
    {
      "cell_type": "markdown",
      "metadata": {
        "id": "oe9krOEakagX",
        "colab_type": "text"
      },
      "source": [
        "## Text Preprocessing\n"
      ]
    },
    {
      "cell_type": "code",
      "metadata": {
        "id": "kJMFgCej6uxL",
        "colab_type": "code",
        "outputId": "649ce193-2eb0-4bb2-eea9-d4d16f75e4d7",
        "colab": {
          "base_uri": "https://localhost:8080/",
          "height": 434
        }
      },
      "source": [
        "# Remove punctuation and non-necessary characters\n",
        "nltk.download('punkt')\n",
        "nltk.download('stopwords')\n",
        "from nltk.tokenize import word_tokenize\n",
        "from nltk.corpus import stopwords \n",
        "from nltk.stem.porter import PorterStemmer\n",
        "\n",
        "def preprocess_text(text):\n",
        "  text = re.sub('[^A-Za-z]', ' ', text)\n",
        "\n",
        "  # Convert all to lowercase\n",
        "  text = text.lower()\n",
        "\n",
        "  # Tokenize\n",
        "  tokenized_text = word_tokenize(text)\n",
        "\n",
        "  # Remove stopwords\n",
        "  for word in tokenized_text:\n",
        "      if word in stopwords.words('english'):\n",
        "          tokenized_text.remove(word)\n",
        "\n",
        "  # Stem\n",
        "  stemmer = PorterStemmer()\n",
        "  for i in range(len(tokenized_text)):\n",
        "      tokenized_text[i] = stemmer.stem(tokenized_text[i])\n",
        "\n",
        "  # List of words\n",
        "  p_text = \" \".join(tokenized_text)\n",
        "\n",
        "  return p_text\n",
        "\n",
        "train_processed = train.copy()\n",
        "X_train = train_processed[['chq', 'faq']]\n",
        "y_train = train_processed['outcome']\n",
        "\n",
        "X_train['chq'] = train.apply(lambda x: preprocess_text(x['chq']), axis=1)\n",
        "X_train['faq'] = train.apply(lambda x: preprocess_text(x['faq']), axis=1)\n",
        "\n",
        "test_processed = test.copy()\n",
        "X_test = test_processed[['chq', 'faq']]\n",
        "y_test = test_processed['outcome']\n",
        "\n",
        "X_test['chq'] = test.apply(lambda x: preprocess_text(x['chq']), axis=1)\n",
        "X_test['faq'] = test.apply(lambda x: preprocess_text(x['faq']), axis=1)"
      ],
      "execution_count": 0,
      "outputs": [
        {
          "output_type": "stream",
          "text": [
            "[nltk_data] Downloading package punkt to /root/nltk_data...\n",
            "[nltk_data]   Package punkt is already up-to-date!\n",
            "[nltk_data] Downloading package stopwords to /root/nltk_data...\n",
            "[nltk_data]   Package stopwords is already up-to-date!\n"
          ],
          "name": "stdout"
        },
        {
          "output_type": "stream",
          "text": [
            "/usr/local/lib/python3.6/dist-packages/ipykernel_launcher.py:35: SettingWithCopyWarning: \n",
            "A value is trying to be set on a copy of a slice from a DataFrame.\n",
            "Try using .loc[row_indexer,col_indexer] = value instead\n",
            "\n",
            "See the caveats in the documentation: http://pandas.pydata.org/pandas-docs/stable/indexing.html#indexing-view-versus-copy\n",
            "/usr/local/lib/python3.6/dist-packages/ipykernel_launcher.py:36: SettingWithCopyWarning: \n",
            "A value is trying to be set on a copy of a slice from a DataFrame.\n",
            "Try using .loc[row_indexer,col_indexer] = value instead\n",
            "\n",
            "See the caveats in the documentation: http://pandas.pydata.org/pandas-docs/stable/indexing.html#indexing-view-versus-copy\n",
            "/usr/local/lib/python3.6/dist-packages/ipykernel_launcher.py:42: SettingWithCopyWarning: \n",
            "A value is trying to be set on a copy of a slice from a DataFrame.\n",
            "Try using .loc[row_indexer,col_indexer] = value instead\n",
            "\n",
            "See the caveats in the documentation: http://pandas.pydata.org/pandas-docs/stable/indexing.html#indexing-view-versus-copy\n",
            "/usr/local/lib/python3.6/dist-packages/ipykernel_launcher.py:43: SettingWithCopyWarning: \n",
            "A value is trying to be set on a copy of a slice from a DataFrame.\n",
            "Try using .loc[row_indexer,col_indexer] = value instead\n",
            "\n",
            "See the caveats in the documentation: http://pandas.pydata.org/pandas-docs/stable/indexing.html#indexing-view-versus-copy\n"
          ],
          "name": "stderr"
        }
      ]
    },
    {
      "cell_type": "code",
      "metadata": {
        "id": "OCkqb2NrAP4X",
        "colab_type": "code",
        "outputId": "ad11c315-dd8b-4b8b-ac56-00e62dc9cdaa",
        "colab": {
          "base_uri": "https://localhost:8080/",
          "height": 206
        }
      },
      "source": [
        "X_train.head()"
      ],
      "execution_count": 0,
      "outputs": [
        {
          "output_type": "execute_result",
          "data": {
            "text/html": [
              "<div>\n",
              "<style scoped>\n",
              "    .dataframe tbody tr th:only-of-type {\n",
              "        vertical-align: middle;\n",
              "    }\n",
              "\n",
              "    .dataframe tbody tr th {\n",
              "        vertical-align: top;\n",
              "    }\n",
              "\n",
              "    .dataframe thead th {\n",
              "        text-align: right;\n",
              "    }\n",
              "</style>\n",
              "<table border=\"1\" class=\"dataframe\">\n",
              "  <thead>\n",
              "    <tr style=\"text-align: right;\">\n",
              "      <th></th>\n",
              "      <th>chq</th>\n",
              "      <th>faq</th>\n",
              "    </tr>\n",
              "  </thead>\n",
              "  <tbody>\n",
              "    <tr>\n",
              "      <th>0</th>\n",
              "      <td>should treat polymenorrhea a year old girl</td>\n",
              "      <td>should treat polymenorrhea a year old girl</td>\n",
              "    </tr>\n",
              "    <tr>\n",
              "      <th>1</th>\n",
              "      <td>there ani studi low molecular weight heparin p...</td>\n",
              "      <td>i use low molecular weight heparin pregnanc pa...</td>\n",
              "    </tr>\n",
              "    <tr>\n",
              "      <th>2</th>\n",
              "      <td>there ani studi low molecular weight heparin p...</td>\n",
              "      <td>are side effect florinef could caus headach</td>\n",
              "    </tr>\n",
              "    <tr>\n",
              "      <th>3</th>\n",
              "      <td>let give immun s right t</td>\n",
              "      <td>let give immun s right t</td>\n",
              "    </tr>\n",
              "    <tr>\n",
              "      <th>4</th>\n",
              "      <td>let give immun s right t</td>\n",
              "      <td>there support can provid patient macular degener</td>\n",
              "    </tr>\n",
              "  </tbody>\n",
              "</table>\n",
              "</div>"
            ],
            "text/plain": [
              "                                                 chq                                                faq\n",
              "0         should treat polymenorrhea a year old girl         should treat polymenorrhea a year old girl\n",
              "1  there ani studi low molecular weight heparin p...  i use low molecular weight heparin pregnanc pa...\n",
              "2  there ani studi low molecular weight heparin p...        are side effect florinef could caus headach\n",
              "3                           let give immun s right t                           let give immun s right t\n",
              "4                           let give immun s right t   there support can provid patient macular degener"
            ]
          },
          "metadata": {
            "tags": []
          },
          "execution_count": 10
        }
      ]
    },
    {
      "cell_type": "code",
      "metadata": {
        "id": "_rYEuUw9PaqP",
        "colab_type": "code",
        "outputId": "876a7b4f-f95e-44af-dea9-6f6a2076a15b",
        "colab": {
          "base_uri": "https://localhost:8080/",
          "height": 206
        }
      },
      "source": [
        "X_test.head()"
      ],
      "execution_count": 0,
      "outputs": [
        {
          "output_type": "execute_result",
          "data": {
            "text/html": [
              "<div>\n",
              "<style scoped>\n",
              "    .dataframe tbody tr th:only-of-type {\n",
              "        vertical-align: middle;\n",
              "    }\n",
              "\n",
              "    .dataframe tbody tr th {\n",
              "        vertical-align: top;\n",
              "    }\n",
              "\n",
              "    .dataframe thead th {\n",
              "        text-align: right;\n",
              "    }\n",
              "</style>\n",
              "<table border=\"1\" class=\"dataframe\">\n",
              "  <thead>\n",
              "    <tr style=\"text-align: right;\">\n",
              "      <th></th>\n",
              "      <th>chq</th>\n",
              "      <th>faq</th>\n",
              "    </tr>\n",
              "  </thead>\n",
              "  <tbody>\n",
              "    <tr>\n",
              "      <th>0</th>\n",
              "      <td>high blood pressur know may answer but blood p...</td>\n",
              "      <td>is high blood pressur</td>\n",
              "    </tr>\n",
              "    <tr>\n",
              "      <th>1</th>\n",
              "      <td>arrhythmia arrhythmia occur ablat is success r...</td>\n",
              "      <td>is arrhythmia</td>\n",
              "    </tr>\n",
              "    <tr>\n",
              "      <th>2</th>\n",
              "      <td>medicin alli like know recent therapi arrhythm...</td>\n",
              "      <td>is arrhythmia</td>\n",
              "    </tr>\n",
              "    <tr>\n",
              "      <th>3</th>\n",
              "      <td>ear lobe creas ear lobe creas alway heart dise...</td>\n",
              "      <td>is coronari heart diseas</td>\n",
              "    </tr>\n",
              "    <tr>\n",
              "      <th>4</th>\n",
              "      <td>sleep apnea wa diagnos sleep apnea prolli year...</td>\n",
              "      <td>is sleep apnea</td>\n",
              "    </tr>\n",
              "  </tbody>\n",
              "</table>\n",
              "</div>"
            ],
            "text/plain": [
              "                                                 chq                       faq\n",
              "0  high blood pressur know may answer but blood p...     is high blood pressur\n",
              "1  arrhythmia arrhythmia occur ablat is success r...             is arrhythmia\n",
              "2  medicin alli like know recent therapi arrhythm...             is arrhythmia\n",
              "3  ear lobe creas ear lobe creas alway heart dise...  is coronari heart diseas\n",
              "4  sleep apnea wa diagnos sleep apnea prolli year...            is sleep apnea"
            ]
          },
          "metadata": {
            "tags": []
          },
          "execution_count": 11
        }
      ]
    },
    {
      "cell_type": "markdown",
      "metadata": {
        "id": "Ry1lF2-2kfhC",
        "colab_type": "text"
      },
      "source": [
        "## BoW"
      ]
    },
    {
      "cell_type": "code",
      "metadata": {
        "id": "Ou9vj-cJ8mLZ",
        "colab_type": "code",
        "outputId": "368925da-2ac7-4742-efc9-a83453406438",
        "colab": {
          "base_uri": "https://localhost:8080/",
          "height": 34
        }
      },
      "source": [
        "# chq text\n",
        "from sklearn.feature_extraction.text import CountVectorizer\n",
        "X_train_chq = X_train.chq\n",
        "matrix = CountVectorizer(min_df=5, max_df=0.7).fit(X_train_chq)\n",
        "X_train_chq = pd.DataFrame(matrix.transform(X_train_chq).todense(), columns=matrix.get_feature_names())\n",
        "X_train_chq.shape "
      ],
      "execution_count": 0,
      "outputs": [
        {
          "output_type": "execute_result",
          "data": {
            "text/plain": [
              "(8588, 2417)"
            ]
          },
          "metadata": {
            "tags": []
          },
          "execution_count": 12
        }
      ]
    },
    {
      "cell_type": "code",
      "metadata": {
        "id": "RcPmR6yJTsY8",
        "colab_type": "code",
        "outputId": "b1b7f1a2-630a-4d2b-8427-e233348280f0",
        "colab": {
          "base_uri": "https://localhost:8080/",
          "height": 34
        }
      },
      "source": [
        "# transform X_test (DON'T FIT)\n",
        "X_test_chq = X_test.chq\n",
        "X_test_chq = pd.DataFrame(matrix.transform(X_test_chq).todense(), columns=matrix.get_feature_names())\n",
        "X_test_chq.shape "
      ],
      "execution_count": 0,
      "outputs": [
        {
          "output_type": "execute_result",
          "data": {
            "text/plain": [
              "(302, 2417)"
            ]
          },
          "metadata": {
            "tags": []
          },
          "execution_count": 13
        }
      ]
    },
    {
      "cell_type": "code",
      "metadata": {
        "id": "2QIO8XnWYXtl",
        "colab_type": "code",
        "outputId": "6ab5a448-38f8-4f86-9307-7148747e9d58",
        "colab": {
          "base_uri": "https://localhost:8080/",
          "height": 52
        }
      },
      "source": [
        "# faq text\n",
        "X_train_faq = X_train.faq\n",
        "matrix = CountVectorizer(min_df=5, max_df=0.7).fit(X_train_faq)\n",
        "X_train_faq = pd.DataFrame(matrix.transform(X_train_faq).todense(), columns=matrix.get_feature_names())\n",
        "X_test_faq = X_test.faq\n",
        "X_test_faq = pd.DataFrame(matrix.transform(X_test_faq).todense(), columns=matrix.get_feature_names())\n",
        "\n",
        "# concatenate\n",
        "X_train_bow = pd.concat([X_train_chq, X_train_faq], axis=1)\n",
        "X_test_bow = pd.concat([X_test_chq, X_test_faq], axis=1)\n",
        "print(X_train.shape)\n",
        "print(X_test.shape)"
      ],
      "execution_count": 0,
      "outputs": [
        {
          "output_type": "stream",
          "text": [
            "(8588, 2)\n",
            "(302, 2)\n"
          ],
          "name": "stdout"
        }
      ]
    },
    {
      "cell_type": "code",
      "metadata": {
        "id": "fBZFU4QW7fi6",
        "colab_type": "code",
        "outputId": "07e68f89-44ab-4e39-cb16-c692791b4688",
        "colab": {
          "base_uri": "https://localhost:8080/",
          "height": 34
        }
      },
      "source": [
        "#Import Gaussian Naive Bayes model\n",
        "from sklearn.naive_bayes import GaussianNB\n",
        "\n",
        "#Create a Gaussian Classifier\n",
        "gnb = GaussianNB()\n",
        "\n",
        "#Train the model using the training sets\n",
        "gnb.fit(X_train_bow, y_train)\n",
        "\n",
        "#Predict the response for test dataset\n",
        "y_pred = gnb.predict(X_test_bow)\n",
        "\n",
        "#Import scikit-learn metrics module for accuracy calculation\n",
        "from sklearn import metrics\n",
        "\n",
        "# Model Accuracy, how often is the classifier correct?\n",
        "print(\"Accuracy:\",metrics.accuracy_score(y_test, y_pred))"
      ],
      "execution_count": 0,
      "outputs": [
        {
          "output_type": "stream",
          "text": [
            "Accuracy: 0.4900662251655629\n"
          ],
          "name": "stdout"
        }
      ]
    },
    {
      "cell_type": "markdown",
      "metadata": {
        "id": "nyFGZTFrkXeA",
        "colab_type": "text"
      },
      "source": [
        "## Fuzzy Matching"
      ]
    },
    {
      "cell_type": "code",
      "metadata": {
        "id": "a6hsegXpbA7V",
        "colab_type": "code",
        "outputId": "1ccabea7-b820-49dd-9a01-c9fc223d8d3f",
        "colab": {
          "base_uri": "https://localhost:8080/",
          "height": 278
        }
      },
      "source": [
        "!pip3 install fuzzywuzzy[speedup]\n",
        "from fuzzywuzzy import fuzz\n",
        "\n",
        "def get_ratio(row):\n",
        "    chq = row['chq']\n",
        "    faq = row['faq']\n",
        "    return fuzz.token_set_ratio(chq, faq)\n",
        "  \n",
        "X_train_fuzzy = X_train.copy()\n",
        "X_test_fuzzy = X_test.copy()\n",
        "\n",
        "X_train_fuzzy['fuzzy_ratio'] = X_train_fuzzy.apply(get_ratio, axis=1)\n",
        "X_train_fuzzy.head()"
      ],
      "execution_count": 0,
      "outputs": [
        {
          "output_type": "stream",
          "text": [
            "Requirement already satisfied: fuzzywuzzy[speedup] in /usr/local/lib/python3.6/dist-packages (0.17.0)\n",
            "Requirement already satisfied: python-levenshtein>=0.12; extra == \"speedup\" in /usr/local/lib/python3.6/dist-packages (from fuzzywuzzy[speedup]) (0.12.0)\n",
            "Requirement already satisfied: setuptools in /usr/local/lib/python3.6/dist-packages (from python-levenshtein>=0.12; extra == \"speedup\"->fuzzywuzzy[speedup]) (41.2.0)\n"
          ],
          "name": "stdout"
        },
        {
          "output_type": "execute_result",
          "data": {
            "text/html": [
              "<div>\n",
              "<style scoped>\n",
              "    .dataframe tbody tr th:only-of-type {\n",
              "        vertical-align: middle;\n",
              "    }\n",
              "\n",
              "    .dataframe tbody tr th {\n",
              "        vertical-align: top;\n",
              "    }\n",
              "\n",
              "    .dataframe thead th {\n",
              "        text-align: right;\n",
              "    }\n",
              "</style>\n",
              "<table border=\"1\" class=\"dataframe\">\n",
              "  <thead>\n",
              "    <tr style=\"text-align: right;\">\n",
              "      <th></th>\n",
              "      <th>chq</th>\n",
              "      <th>faq</th>\n",
              "      <th>fuzzy_ratio</th>\n",
              "    </tr>\n",
              "  </thead>\n",
              "  <tbody>\n",
              "    <tr>\n",
              "      <th>0</th>\n",
              "      <td>should treat polymenorrhea a year old girl</td>\n",
              "      <td>should treat polymenorrhea a year old girl</td>\n",
              "      <td>100</td>\n",
              "    </tr>\n",
              "    <tr>\n",
              "      <th>1</th>\n",
              "      <td>there ani studi low molecular weight heparin p...</td>\n",
              "      <td>i use low molecular weight heparin pregnanc pa...</td>\n",
              "      <td>100</td>\n",
              "    </tr>\n",
              "    <tr>\n",
              "      <th>2</th>\n",
              "      <td>there ani studi low molecular weight heparin p...</td>\n",
              "      <td>are side effect florinef could caus headach</td>\n",
              "      <td>32</td>\n",
              "    </tr>\n",
              "    <tr>\n",
              "      <th>3</th>\n",
              "      <td>let give immun s right t</td>\n",
              "      <td>let give immun s right t</td>\n",
              "      <td>100</td>\n",
              "    </tr>\n",
              "    <tr>\n",
              "      <th>4</th>\n",
              "      <td>let give immun s right t</td>\n",
              "      <td>there support can provid patient macular degener</td>\n",
              "      <td>42</td>\n",
              "    </tr>\n",
              "  </tbody>\n",
              "</table>\n",
              "</div>"
            ],
            "text/plain": [
              "                                                 chq  ... fuzzy_ratio\n",
              "0         should treat polymenorrhea a year old girl  ...         100\n",
              "1  there ani studi low molecular weight heparin p...  ...         100\n",
              "2  there ani studi low molecular weight heparin p...  ...          32\n",
              "3                           let give immun s right t  ...         100\n",
              "4                           let give immun s right t  ...          42\n",
              "\n",
              "[5 rows x 3 columns]"
            ]
          },
          "metadata": {
            "tags": []
          },
          "execution_count": 16
        }
      ]
    },
    {
      "cell_type": "code",
      "metadata": {
        "colab_type": "code",
        "id": "b2oP2OOYkGlN",
        "colab": {}
      },
      "source": [
        "X_test_fuzzy['fuzzy_ratio'] = X_test_fuzzy.apply(get_ratio, axis=1)"
      ],
      "execution_count": 0,
      "outputs": []
    },
    {
      "cell_type": "code",
      "metadata": {
        "id": "gWQMu0gwfDq9",
        "colab_type": "code",
        "colab": {}
      },
      "source": [
        "# just use fuzzy ratio as predictor\n",
        "X_train_fuzzy = np.array(X_train_fuzzy.fuzzy_ratio).reshape(-1, 1)\n",
        "X_test_fuzzy = np.array(X_test_fuzzy.fuzzy_ratio).reshape(-1, 1)"
      ],
      "execution_count": 0,
      "outputs": []
    },
    {
      "cell_type": "code",
      "metadata": {
        "id": "iIwtUKoef0Bu",
        "colab_type": "code",
        "outputId": "599e1e1f-4099-4083-e3af-bd116ce8f523",
        "colab": {
          "base_uri": "https://localhost:8080/",
          "height": 86
        }
      },
      "source": [
        "print(X_train_fuzzy.shape)\n",
        "print(X_test_fuzzy.shape)\n",
        "print(y_train.shape)\n",
        "print(y_test.shape)"
      ],
      "execution_count": 0,
      "outputs": [
        {
          "output_type": "stream",
          "text": [
            "(8588, 1)\n",
            "(302, 1)\n",
            "(8588,)\n",
            "(302,)\n"
          ],
          "name": "stdout"
        }
      ]
    },
    {
      "cell_type": "code",
      "metadata": {
        "id": "WnH4d4VbfYQ4",
        "colab_type": "code",
        "outputId": "79fa3623-9e14-4ec4-886e-adfe9c95a615",
        "colab": {
          "base_uri": "https://localhost:8080/",
          "height": 34
        }
      },
      "source": [
        "#Import Gaussian Naive Bayes model\n",
        "from sklearn.naive_bayes import GaussianNB\n",
        "\n",
        "#Create a Gaussian Classifier\n",
        "gnb = GaussianNB()\n",
        "\n",
        "#Train the model using the training sets\n",
        "gnb.fit(X_train_fuzzy, y_train)\n",
        "\n",
        "#Predict the response for test dataset\n",
        "y_pred = gnb.predict(X_test_fuzzy)\n",
        "\n",
        "#Import scikit-learn metrics module for accuracy calculation\n",
        "from sklearn import metrics\n",
        "\n",
        "# Model Accuracy, how often is the classifier correct?\n",
        "print(\"Accuracy:\",metrics.accuracy_score(y_test, y_pred))"
      ],
      "execution_count": 0,
      "outputs": [
        {
          "output_type": "stream",
          "text": [
            "Accuracy: 0.6920529801324503\n"
          ],
          "name": "stdout"
        }
      ]
    },
    {
      "cell_type": "code",
      "metadata": {
        "id": "_SNhwneR1Q2o",
        "colab_type": "code",
        "outputId": "6bdc26f4-56e0-4ea4-a09a-7bed73bea271",
        "colab": {
          "base_uri": "https://localhost:8080/",
          "height": 34
        }
      },
      "source": [
        "unique, counts = np.unique(y_pred, return_counts=True)\n",
        "dict(zip(unique, counts))"
      ],
      "execution_count": 0,
      "outputs": [
        {
          "output_type": "execute_result",
          "data": {
            "text/plain": [
              "{0: 192, 1: 110}"
            ]
          },
          "metadata": {
            "tags": []
          },
          "execution_count": 21
        }
      ]
    },
    {
      "cell_type": "markdown",
      "metadata": {
        "id": "iOFQx9omlOWZ",
        "colab_type": "text"
      },
      "source": [
        "### Accuracy Metrics\n",
        "Ratio: 0.583\n",
        "\n",
        "Partial Ratio: 0.656\n",
        "\n",
        "Token Sort Ratio (ignores word order): 0.589\n",
        "\n",
        "Token Set Ratio (ignores duplicate words): 0.692\n"
      ]
    },
    {
      "cell_type": "markdown",
      "metadata": {
        "id": "wlIWWpXykjfM",
        "colab_type": "text"
      },
      "source": [
        "## Rules Based Hypothesis Testing"
      ]
    },
    {
      "cell_type": "markdown",
      "metadata": {
        "id": "nKs5r_I8A6PH",
        "colab_type": "text"
      },
      "source": [
        "•\tTake the RQE data: https://raw.githubusercontent.com/abachaa/RQE_Data_AMIA2016/master/RQE_Train_8588_AMIA2016.xml \n",
        "\n",
        "•\tDivide randomly  this data into training and testing (test data set should have at least 1500 data points). Do not use the original test data.\n",
        "\n",
        "•\tUsing only regular expressions, counting, fraction and other simple arithmetic, create a collection of  if-then-else clauses to build a classifier that significantly improves on the majority classifier.\n",
        "\n",
        "\n",
        "•\tI suggest each person independently should come with such rules, and note the reason for them, and then the group combines it intelligently into a tree of rules. \n",
        "\n",
        "•\tOnly use your test data to get accuracy numbers; do not look at them to modify your rules. \n"
      ]
    },
    {
      "cell_type": "code",
      "metadata": {
        "id": "qRXpv_emBDqw",
        "colab_type": "code",
        "outputId": "2f4b33e4-a813-4978-e735-3fed5a43285a",
        "colab": {
          "base_uri": "https://localhost:8080/",
          "height": 206
        }
      },
      "source": [
        "new_data = parse_XML('/content/RQE_Train_8588_AMIA2016.xml', ['pid', 'type', 'value', 'chq', 'faq'])\n",
        "new_data.head()"
      ],
      "execution_count": 0,
      "outputs": [
        {
          "output_type": "execute_result",
          "data": {
            "text/html": [
              "<div>\n",
              "<style scoped>\n",
              "    .dataframe tbody tr th:only-of-type {\n",
              "        vertical-align: middle;\n",
              "    }\n",
              "\n",
              "    .dataframe tbody tr th {\n",
              "        vertical-align: top;\n",
              "    }\n",
              "\n",
              "    .dataframe thead th {\n",
              "        text-align: right;\n",
              "    }\n",
              "</style>\n",
              "<table border=\"1\" class=\"dataframe\">\n",
              "  <thead>\n",
              "    <tr style=\"text-align: right;\">\n",
              "      <th></th>\n",
              "      <th>pid</th>\n",
              "      <th>type</th>\n",
              "      <th>value</th>\n",
              "      <th>chq</th>\n",
              "      <th>faq</th>\n",
              "    </tr>\n",
              "  </thead>\n",
              "  <tbody>\n",
              "    <tr>\n",
              "      <th>0</th>\n",
              "      <td>1</td>\n",
              "      <td>originalQ-shortQ</td>\n",
              "      <td>true</td>\n",
              "      <td>\\n   How should I treat polymenorrhea in a 14-...</td>\n",
              "      <td>\\n   How should I treat polymenorrhea in a 14-...</td>\n",
              "    </tr>\n",
              "    <tr>\n",
              "      <th>1</th>\n",
              "      <td>2</td>\n",
              "      <td>originalQ-shortQ</td>\n",
              "      <td>true</td>\n",
              "      <td>\\n   Have there been any studies with low mole...</td>\n",
              "      <td>\\n   Can I use low molecular weight heparin in...</td>\n",
              "    </tr>\n",
              "    <tr>\n",
              "      <th>2</th>\n",
              "      <td>3</td>\n",
              "      <td>originalQ-shortRandQ</td>\n",
              "      <td>false</td>\n",
              "      <td>\\n   Have there been any studies with low mole...</td>\n",
              "      <td>\\n   What are the side effects of Florinef?  C...</td>\n",
              "    </tr>\n",
              "    <tr>\n",
              "      <th>3</th>\n",
              "      <td>4</td>\n",
              "      <td>originalQ-shortQ</td>\n",
              "      <td>true</td>\n",
              "      <td>\\n   Let's give these immunizations.  That's r...</td>\n",
              "      <td>\\n   Let's give these immunizations.  That's r...</td>\n",
              "    </tr>\n",
              "    <tr>\n",
              "      <th>4</th>\n",
              "      <td>5</td>\n",
              "      <td>originalQ-shortRandQ</td>\n",
              "      <td>false</td>\n",
              "      <td>\\n   Let's give these immunizations.  That's r...</td>\n",
              "      <td>\\n   Is there more support we can provide pati...</td>\n",
              "    </tr>\n",
              "  </tbody>\n",
              "</table>\n",
              "</div>"
            ],
            "text/plain": [
              "  pid  ...                                                faq\n",
              "0   1  ...  \\n   How should I treat polymenorrhea in a 14-...\n",
              "1   2  ...  \\n   Can I use low molecular weight heparin in...\n",
              "2   3  ...  \\n   What are the side effects of Florinef?  C...\n",
              "3   4  ...  \\n   Let's give these immunizations.  That's r...\n",
              "4   5  ...  \\n   Is there more support we can provide pati...\n",
              "\n",
              "[5 rows x 5 columns]"
            ]
          },
          "metadata": {
            "tags": []
          },
          "execution_count": 22
        }
      ]
    },
    {
      "cell_type": "code",
      "metadata": {
        "id": "a2RiNhMSwceZ",
        "colab_type": "code",
        "outputId": "0f9d57b6-ec4c-4f65-e612-a93bd6279372",
        "colab": {
          "base_uri": "https://localhost:8080/",
          "height": 34
        }
      },
      "source": [
        "print(new_data.shape)"
      ],
      "execution_count": 0,
      "outputs": [
        {
          "output_type": "stream",
          "text": [
            "(8588, 5)\n"
          ],
          "name": "stdout"
        }
      ]
    },
    {
      "cell_type": "code",
      "metadata": {
        "id": "LiKwtwTNwfgM",
        "colab_type": "code",
        "outputId": "ff77b7d4-e4e2-4d31-a0f9-4b128e48bda2",
        "colab": {
          "base_uri": "https://localhost:8080/",
          "height": 34
        }
      },
      "source": [
        "1500/8588"
      ],
      "execution_count": 0,
      "outputs": [
        {
          "output_type": "execute_result",
          "data": {
            "text/plain": [
              "0.17466231951560315"
            ]
          },
          "metadata": {
            "tags": []
          },
          "execution_count": 24
        }
      ]
    },
    {
      "cell_type": "code",
      "metadata": {
        "id": "tEfEPP9K9jIH",
        "colab_type": "code",
        "outputId": "94d8fdfb-c330-49f3-f5f5-3e33d49bae94",
        "colab": {
          "base_uri": "https://localhost:8080/",
          "height": 206
        }
      },
      "source": [
        "# clean up text\n",
        "\n",
        "def preprocess_text(text):\n",
        "  text = re.sub('[^A-Za-z]', ' ', text)\n",
        "\n",
        "  # Convert all to lowercase\n",
        "  text = text.lower()\n",
        "\n",
        "  return text\n",
        "\n",
        "\n",
        "new_data['chq'] = new_data.apply(lambda x: preprocess_text(x['chq']), axis=1)\n",
        "new_data['faq'] = new_data.apply(lambda x: preprocess_text(x['faq']), axis=1)\n",
        "\n",
        "new_data.head()"
      ],
      "execution_count": 0,
      "outputs": [
        {
          "output_type": "execute_result",
          "data": {
            "text/html": [
              "<div>\n",
              "<style scoped>\n",
              "    .dataframe tbody tr th:only-of-type {\n",
              "        vertical-align: middle;\n",
              "    }\n",
              "\n",
              "    .dataframe tbody tr th {\n",
              "        vertical-align: top;\n",
              "    }\n",
              "\n",
              "    .dataframe thead th {\n",
              "        text-align: right;\n",
              "    }\n",
              "</style>\n",
              "<table border=\"1\" class=\"dataframe\">\n",
              "  <thead>\n",
              "    <tr style=\"text-align: right;\">\n",
              "      <th></th>\n",
              "      <th>pid</th>\n",
              "      <th>type</th>\n",
              "      <th>value</th>\n",
              "      <th>chq</th>\n",
              "      <th>faq</th>\n",
              "    </tr>\n",
              "  </thead>\n",
              "  <tbody>\n",
              "    <tr>\n",
              "      <th>0</th>\n",
              "      <td>1</td>\n",
              "      <td>originalQ-shortQ</td>\n",
              "      <td>true</td>\n",
              "      <td>how should i treat polymenorrhea in a    y...</td>\n",
              "      <td>how should i treat polymenorrhea in a    y...</td>\n",
              "    </tr>\n",
              "    <tr>\n",
              "      <th>1</th>\n",
              "      <td>2</td>\n",
              "      <td>originalQ-shortQ</td>\n",
              "      <td>true</td>\n",
              "      <td>have there been any studies with low molec...</td>\n",
              "      <td>can i use low molecular weight heparin in ...</td>\n",
              "    </tr>\n",
              "    <tr>\n",
              "      <th>2</th>\n",
              "      <td>3</td>\n",
              "      <td>originalQ-shortRandQ</td>\n",
              "      <td>false</td>\n",
              "      <td>have there been any studies with low molec...</td>\n",
              "      <td>what are the side effects of florinef   co...</td>\n",
              "    </tr>\n",
              "    <tr>\n",
              "      <th>3</th>\n",
              "      <td>4</td>\n",
              "      <td>originalQ-shortQ</td>\n",
              "      <td>true</td>\n",
              "      <td>let s give these immunizations   that s ri...</td>\n",
              "      <td>let s give these immunizations   that s ri...</td>\n",
              "    </tr>\n",
              "    <tr>\n",
              "      <th>4</th>\n",
              "      <td>5</td>\n",
              "      <td>originalQ-shortRandQ</td>\n",
              "      <td>false</td>\n",
              "      <td>let s give these immunizations   that s ri...</td>\n",
              "      <td>is there more support we can provide patie...</td>\n",
              "    </tr>\n",
              "  </tbody>\n",
              "</table>\n",
              "</div>"
            ],
            "text/plain": [
              "  pid  ...                                                faq\n",
              "0   1  ...      how should i treat polymenorrhea in a    y...\n",
              "1   2  ...      can i use low molecular weight heparin in ...\n",
              "2   3  ...      what are the side effects of florinef   co...\n",
              "3   4  ...      let s give these immunizations   that s ri...\n",
              "4   5  ...      is there more support we can provide patie...\n",
              "\n",
              "[5 rows x 5 columns]"
            ]
          },
          "metadata": {
            "tags": []
          },
          "execution_count": 25
        }
      ]
    },
    {
      "cell_type": "code",
      "metadata": {
        "id": "uGaCrXpKw74J",
        "colab_type": "code",
        "outputId": "05d2d2e4-348e-4aa3-8db5-cf0d26d2f144",
        "colab": {
          "base_uri": "https://localhost:8080/",
          "height": 206
        }
      },
      "source": [
        "# Binarize outcome variable\n",
        "y = pd.DataFrame()\n",
        "y['outcome'] = np.where(new_data['value'] == 'true', 1, 0)\n",
        "y.head()"
      ],
      "execution_count": 0,
      "outputs": [
        {
          "output_type": "execute_result",
          "data": {
            "text/html": [
              "<div>\n",
              "<style scoped>\n",
              "    .dataframe tbody tr th:only-of-type {\n",
              "        vertical-align: middle;\n",
              "    }\n",
              "\n",
              "    .dataframe tbody tr th {\n",
              "        vertical-align: top;\n",
              "    }\n",
              "\n",
              "    .dataframe thead th {\n",
              "        text-align: right;\n",
              "    }\n",
              "</style>\n",
              "<table border=\"1\" class=\"dataframe\">\n",
              "  <thead>\n",
              "    <tr style=\"text-align: right;\">\n",
              "      <th></th>\n",
              "      <th>outcome</th>\n",
              "    </tr>\n",
              "  </thead>\n",
              "  <tbody>\n",
              "    <tr>\n",
              "      <th>0</th>\n",
              "      <td>1</td>\n",
              "    </tr>\n",
              "    <tr>\n",
              "      <th>1</th>\n",
              "      <td>1</td>\n",
              "    </tr>\n",
              "    <tr>\n",
              "      <th>2</th>\n",
              "      <td>0</td>\n",
              "    </tr>\n",
              "    <tr>\n",
              "      <th>3</th>\n",
              "      <td>1</td>\n",
              "    </tr>\n",
              "    <tr>\n",
              "      <th>4</th>\n",
              "      <td>0</td>\n",
              "    </tr>\n",
              "  </tbody>\n",
              "</table>\n",
              "</div>"
            ],
            "text/plain": [
              "   outcome\n",
              "0        1\n",
              "1        1\n",
              "2        0\n",
              "3        1\n",
              "4        0"
            ]
          },
          "metadata": {
            "tags": []
          },
          "execution_count": 26
        }
      ]
    },
    {
      "cell_type": "code",
      "metadata": {
        "id": "1CUvBjHfvrYa",
        "colab_type": "code",
        "colab": {}
      },
      "source": [
        "# Divide train data into train and test (validation)\n",
        "# 80-20 split\n",
        "from sklearn.model_selection import train_test_split\n",
        "x_train,x_test, y_train, y_test = train_test_split(new_data, y, test_size=0.2, random_state=42)"
      ],
      "execution_count": 0,
      "outputs": []
    },
    {
      "cell_type": "code",
      "metadata": {
        "id": "5LBrohGAxphw",
        "colab_type": "code",
        "outputId": "11194f1d-0926-47cd-a366-def9aa3616d0",
        "colab": {
          "base_uri": "https://localhost:8080/",
          "height": 34
        }
      },
      "source": [
        "x_train.shape"
      ],
      "execution_count": 0,
      "outputs": [
        {
          "output_type": "execute_result",
          "data": {
            "text/plain": [
              "(6870, 5)"
            ]
          },
          "metadata": {
            "tags": []
          },
          "execution_count": 28
        }
      ]
    },
    {
      "cell_type": "code",
      "metadata": {
        "id": "RO5BSyqn5ujS",
        "colab_type": "code",
        "outputId": "3305e027-f340-4017-c9cb-6366c25cfd32",
        "colab": {
          "base_uri": "https://localhost:8080/",
          "height": 415
        }
      },
      "source": [
        "x_train['outcome'] = np.where(x_train['value'] == 'true', 1, 0)\n",
        "x_test['outcome'] = np.where(x_test['value'] == 'true', 1, 0)\n",
        "x_train.head()"
      ],
      "execution_count": 0,
      "outputs": [
        {
          "output_type": "stream",
          "text": [
            "/usr/local/lib/python3.6/dist-packages/ipykernel_launcher.py:1: SettingWithCopyWarning: \n",
            "A value is trying to be set on a copy of a slice from a DataFrame.\n",
            "Try using .loc[row_indexer,col_indexer] = value instead\n",
            "\n",
            "See the caveats in the documentation: http://pandas.pydata.org/pandas-docs/stable/indexing.html#indexing-view-versus-copy\n",
            "  \"\"\"Entry point for launching an IPython kernel.\n",
            "/usr/local/lib/python3.6/dist-packages/ipykernel_launcher.py:2: SettingWithCopyWarning: \n",
            "A value is trying to be set on a copy of a slice from a DataFrame.\n",
            "Try using .loc[row_indexer,col_indexer] = value instead\n",
            "\n",
            "See the caveats in the documentation: http://pandas.pydata.org/pandas-docs/stable/indexing.html#indexing-view-versus-copy\n",
            "  \n"
          ],
          "name": "stderr"
        },
        {
          "output_type": "execute_result",
          "data": {
            "text/html": [
              "<div>\n",
              "<style scoped>\n",
              "    .dataframe tbody tr th:only-of-type {\n",
              "        vertical-align: middle;\n",
              "    }\n",
              "\n",
              "    .dataframe tbody tr th {\n",
              "        vertical-align: top;\n",
              "    }\n",
              "\n",
              "    .dataframe thead th {\n",
              "        text-align: right;\n",
              "    }\n",
              "</style>\n",
              "<table border=\"1\" class=\"dataframe\">\n",
              "  <thead>\n",
              "    <tr style=\"text-align: right;\">\n",
              "      <th></th>\n",
              "      <th>pid</th>\n",
              "      <th>type</th>\n",
              "      <th>value</th>\n",
              "      <th>chq</th>\n",
              "      <th>faq</th>\n",
              "      <th>outcome</th>\n",
              "    </tr>\n",
              "  </thead>\n",
              "  <tbody>\n",
              "    <tr>\n",
              "      <th>6569</th>\n",
              "      <td>6570</td>\n",
              "      <td>originalQ-shortQ</td>\n",
              "      <td>true</td>\n",
              "      <td>year old woman presented yesterday with...</td>\n",
              "      <td>should a patient with influenza symptoms b...</td>\n",
              "      <td>1</td>\n",
              "    </tr>\n",
              "    <tr>\n",
              "      <th>4205</th>\n",
              "      <td>4206</td>\n",
              "      <td>originalQ-shortRandQ</td>\n",
              "      <td>false</td>\n",
              "      <td>is a history of pulmonary embolus a contra...</td>\n",
              "      <td>should we switch to ancef for this diabeti...</td>\n",
              "      <td>0</td>\n",
              "    </tr>\n",
              "    <tr>\n",
              "      <th>3889</th>\n",
              "      <td>3890</td>\n",
              "      <td>originalQ-shortQ</td>\n",
              "      <td>true</td>\n",
              "      <td>should you treat a    year old with a posi...</td>\n",
              "      <td>should you treat a    year old with a posi...</td>\n",
              "      <td>1</td>\n",
              "    </tr>\n",
              "    <tr>\n",
              "      <th>2357</th>\n",
              "      <td>2358</td>\n",
              "      <td>originalQ-shortRandQ</td>\n",
              "      <td>false</td>\n",
              "      <td>do we need to worry about thrombocytopenia...</td>\n",
              "      <td>how do you inject the bicipital tendon</td>\n",
              "      <td>0</td>\n",
              "    </tr>\n",
              "    <tr>\n",
              "      <th>58</th>\n",
              "      <td>59</td>\n",
              "      <td>originalQ-shortQ</td>\n",
              "      <td>true</td>\n",
              "      <td>in this patient with tias  transient ische...</td>\n",
              "      <td>in this patient with transient ischemic at...</td>\n",
              "      <td>1</td>\n",
              "    </tr>\n",
              "  </tbody>\n",
              "</table>\n",
              "</div>"
            ],
            "text/plain": [
              "       pid  ... outcome\n",
              "6569  6570  ...       1\n",
              "4205  4206  ...       0\n",
              "3889  3890  ...       1\n",
              "2357  2358  ...       0\n",
              "58      59  ...       1\n",
              "\n",
              "[5 rows x 6 columns]"
            ]
          },
          "metadata": {
            "tags": []
          },
          "execution_count": 29
        }
      ]
    },
    {
      "cell_type": "code",
      "metadata": {
        "id": "8OMvTkqR5xQG",
        "colab_type": "code",
        "outputId": "37593e31-58c3-41b7-8e35-b0c40e0af8b7",
        "colab": {
          "base_uri": "https://localhost:8080/",
          "height": 69
        }
      },
      "source": [
        "# majority classifier - training\n",
        "x_train['outcome'].value_counts()"
      ],
      "execution_count": 0,
      "outputs": [
        {
          "output_type": "execute_result",
          "data": {
            "text/plain": [
              "1    3739\n",
              "0    3131\n",
              "Name: outcome, dtype: int64"
            ]
          },
          "metadata": {
            "tags": []
          },
          "execution_count": 30
        }
      ]
    },
    {
      "cell_type": "code",
      "metadata": {
        "id": "a-0iArVX52z7",
        "colab_type": "code",
        "outputId": "0de52d84-7e1f-4078-86e3-0ce76bfc7179",
        "colab": {
          "base_uri": "https://localhost:8080/",
          "height": 34
        }
      },
      "source": [
        "print('Majority Classifier train accuracy:', 3739/(3739+3131))"
      ],
      "execution_count": 0,
      "outputs": [
        {
          "output_type": "stream",
          "text": [
            "Majority Classifier train accuracy: 0.5442503639010189\n"
          ],
          "name": "stdout"
        }
      ]
    },
    {
      "cell_type": "code",
      "metadata": {
        "id": "XrOi2Xz1xqQo",
        "colab_type": "code",
        "outputId": "1db266ca-17c3-4d02-b05c-ee2a9df71517",
        "colab": {
          "base_uri": "https://localhost:8080/",
          "height": 34
        }
      },
      "source": [
        "x_test.shape"
      ],
      "execution_count": 0,
      "outputs": [
        {
          "output_type": "execute_result",
          "data": {
            "text/plain": [
              "(1718, 6)"
            ]
          },
          "metadata": {
            "tags": []
          },
          "execution_count": 32
        }
      ]
    },
    {
      "cell_type": "code",
      "metadata": {
        "id": "FmWNA1LwxtCU",
        "colab_type": "code",
        "outputId": "4662263d-d340-435f-dfd6-3c08d0521f86",
        "colab": {
          "base_uri": "https://localhost:8080/",
          "height": 69
        }
      },
      "source": [
        "# majority classifier\n",
        "y_test['outcome'].value_counts()"
      ],
      "execution_count": 0,
      "outputs": [
        {
          "output_type": "execute_result",
          "data": {
            "text/plain": [
              "1    916\n",
              "0    802\n",
              "Name: outcome, dtype: int64"
            ]
          },
          "metadata": {
            "tags": []
          },
          "execution_count": 33
        }
      ]
    },
    {
      "cell_type": "code",
      "metadata": {
        "id": "Fftps8Ckx_nL",
        "colab_type": "code",
        "outputId": "223c7d0d-c9f1-4c41-ea5a-c0baf05382ea",
        "colab": {
          "base_uri": "https://localhost:8080/",
          "height": 34
        }
      },
      "source": [
        "print('Majority Classifier test accuracy:', 916/(916+802))"
      ],
      "execution_count": 0,
      "outputs": [
        {
          "output_type": "stream",
          "text": [
            "Majority Classifier test accuracy: 0.5331781140861467\n"
          ],
          "name": "stdout"
        }
      ]
    },
    {
      "cell_type": "markdown",
      "metadata": {
        "id": "x6sb9Ra7EBP6",
        "colab_type": "text"
      },
      "source": [
        "# Rule 1"
      ]
    },
    {
      "cell_type": "markdown",
      "metadata": {
        "id": "aeoJSybayp63",
        "colab_type": "text"
      },
      "source": [
        "Rule #1: Find words that exist in both the chq and faq. If this number is greater than certain threshold, then predict 1. Else, predict 0."
      ]
    },
    {
      "cell_type": "code",
      "metadata": {
        "id": "lGzJmcGz9O4m",
        "colab_type": "code",
        "outputId": "e4b112b8-c21a-412d-ad1e-88c5dfa8db0e",
        "colab": {
          "base_uri": "https://localhost:8080/",
          "height": 206
        }
      },
      "source": [
        "x_train.head()"
      ],
      "execution_count": 0,
      "outputs": [
        {
          "output_type": "execute_result",
          "data": {
            "text/html": [
              "<div>\n",
              "<style scoped>\n",
              "    .dataframe tbody tr th:only-of-type {\n",
              "        vertical-align: middle;\n",
              "    }\n",
              "\n",
              "    .dataframe tbody tr th {\n",
              "        vertical-align: top;\n",
              "    }\n",
              "\n",
              "    .dataframe thead th {\n",
              "        text-align: right;\n",
              "    }\n",
              "</style>\n",
              "<table border=\"1\" class=\"dataframe\">\n",
              "  <thead>\n",
              "    <tr style=\"text-align: right;\">\n",
              "      <th></th>\n",
              "      <th>pid</th>\n",
              "      <th>type</th>\n",
              "      <th>value</th>\n",
              "      <th>chq</th>\n",
              "      <th>faq</th>\n",
              "      <th>outcome</th>\n",
              "    </tr>\n",
              "  </thead>\n",
              "  <tbody>\n",
              "    <tr>\n",
              "      <th>6569</th>\n",
              "      <td>6570</td>\n",
              "      <td>originalQ-shortQ</td>\n",
              "      <td>true</td>\n",
              "      <td>year old woman presented yesterday with...</td>\n",
              "      <td>should a patient with influenza symptoms b...</td>\n",
              "      <td>1</td>\n",
              "    </tr>\n",
              "    <tr>\n",
              "      <th>4205</th>\n",
              "      <td>4206</td>\n",
              "      <td>originalQ-shortRandQ</td>\n",
              "      <td>false</td>\n",
              "      <td>is a history of pulmonary embolus a contra...</td>\n",
              "      <td>should we switch to ancef for this diabeti...</td>\n",
              "      <td>0</td>\n",
              "    </tr>\n",
              "    <tr>\n",
              "      <th>3889</th>\n",
              "      <td>3890</td>\n",
              "      <td>originalQ-shortQ</td>\n",
              "      <td>true</td>\n",
              "      <td>should you treat a    year old with a posi...</td>\n",
              "      <td>should you treat a    year old with a posi...</td>\n",
              "      <td>1</td>\n",
              "    </tr>\n",
              "    <tr>\n",
              "      <th>2357</th>\n",
              "      <td>2358</td>\n",
              "      <td>originalQ-shortRandQ</td>\n",
              "      <td>false</td>\n",
              "      <td>do we need to worry about thrombocytopenia...</td>\n",
              "      <td>how do you inject the bicipital tendon</td>\n",
              "      <td>0</td>\n",
              "    </tr>\n",
              "    <tr>\n",
              "      <th>58</th>\n",
              "      <td>59</td>\n",
              "      <td>originalQ-shortQ</td>\n",
              "      <td>true</td>\n",
              "      <td>in this patient with tias  transient ische...</td>\n",
              "      <td>in this patient with transient ischemic at...</td>\n",
              "      <td>1</td>\n",
              "    </tr>\n",
              "  </tbody>\n",
              "</table>\n",
              "</div>"
            ],
            "text/plain": [
              "       pid  ... outcome\n",
              "6569  6570  ...       1\n",
              "4205  4206  ...       0\n",
              "3889  3890  ...       1\n",
              "2357  2358  ...       0\n",
              "58      59  ...       1\n",
              "\n",
              "[5 rows x 6 columns]"
            ]
          },
          "metadata": {
            "tags": []
          },
          "execution_count": 35
        }
      ]
    },
    {
      "cell_type": "code",
      "metadata": {
        "id": "JlENk5DbyvHQ",
        "colab_type": "code",
        "outputId": "88ab3585-6d22-429f-8cb3-2ec40a7639f2",
        "colab": {
          "base_uri": "https://localhost:8080/",
          "height": 310
        }
      },
      "source": [
        "x_train['exists_both'] = [set(x[3].split()) & set(x[4].split()) for x in x_train.values]\n",
        "x_train.head()"
      ],
      "execution_count": 0,
      "outputs": [
        {
          "output_type": "stream",
          "text": [
            "/usr/local/lib/python3.6/dist-packages/ipykernel_launcher.py:1: SettingWithCopyWarning: \n",
            "A value is trying to be set on a copy of a slice from a DataFrame.\n",
            "Try using .loc[row_indexer,col_indexer] = value instead\n",
            "\n",
            "See the caveats in the documentation: http://pandas.pydata.org/pandas-docs/stable/indexing.html#indexing-view-versus-copy\n",
            "  \"\"\"Entry point for launching an IPython kernel.\n"
          ],
          "name": "stderr"
        },
        {
          "output_type": "execute_result",
          "data": {
            "text/html": [
              "<div>\n",
              "<style scoped>\n",
              "    .dataframe tbody tr th:only-of-type {\n",
              "        vertical-align: middle;\n",
              "    }\n",
              "\n",
              "    .dataframe tbody tr th {\n",
              "        vertical-align: top;\n",
              "    }\n",
              "\n",
              "    .dataframe thead th {\n",
              "        text-align: right;\n",
              "    }\n",
              "</style>\n",
              "<table border=\"1\" class=\"dataframe\">\n",
              "  <thead>\n",
              "    <tr style=\"text-align: right;\">\n",
              "      <th></th>\n",
              "      <th>pid</th>\n",
              "      <th>type</th>\n",
              "      <th>value</th>\n",
              "      <th>chq</th>\n",
              "      <th>faq</th>\n",
              "      <th>outcome</th>\n",
              "      <th>exists_both</th>\n",
              "    </tr>\n",
              "  </thead>\n",
              "  <tbody>\n",
              "    <tr>\n",
              "      <th>6569</th>\n",
              "      <td>6570</td>\n",
              "      <td>originalQ-shortQ</td>\n",
              "      <td>true</td>\n",
              "      <td>year old woman presented yesterday with...</td>\n",
              "      <td>should a patient with influenza symptoms b...</td>\n",
              "      <td>1</td>\n",
              "      <td>{influenza, a, with}</td>\n",
              "    </tr>\n",
              "    <tr>\n",
              "      <th>4205</th>\n",
              "      <td>4206</td>\n",
              "      <td>originalQ-shortRandQ</td>\n",
              "      <td>false</td>\n",
              "      <td>is a history of pulmonary embolus a contra...</td>\n",
              "      <td>should we switch to ancef for this diabeti...</td>\n",
              "      <td>0</td>\n",
              "      <td>{to}</td>\n",
              "    </tr>\n",
              "    <tr>\n",
              "      <th>3889</th>\n",
              "      <td>3890</td>\n",
              "      <td>originalQ-shortQ</td>\n",
              "      <td>true</td>\n",
              "      <td>should you treat a    year old with a posi...</td>\n",
              "      <td>should you treat a    year old with a posi...</td>\n",
              "      <td>1</td>\n",
              "      <td>{history, should, ray, you, purified, a, posit...</td>\n",
              "    </tr>\n",
              "    <tr>\n",
              "      <th>2357</th>\n",
              "      <td>2358</td>\n",
              "      <td>originalQ-shortRandQ</td>\n",
              "      <td>false</td>\n",
              "      <td>do we need to worry about thrombocytopenia...</td>\n",
              "      <td>how do you inject the bicipital tendon</td>\n",
              "      <td>0</td>\n",
              "      <td>{do}</td>\n",
              "    </tr>\n",
              "    <tr>\n",
              "      <th>58</th>\n",
              "      <td>59</td>\n",
              "      <td>originalQ-shortQ</td>\n",
              "      <td>true</td>\n",
              "      <td>in this patient with tias  transient ische...</td>\n",
              "      <td>in this patient with transient ischemic at...</td>\n",
              "      <td>1</td>\n",
              "      <td>{should, transient, anyway, an, ischemic, atta...</td>\n",
              "    </tr>\n",
              "  </tbody>\n",
              "</table>\n",
              "</div>"
            ],
            "text/plain": [
              "       pid  ...                                        exists_both\n",
              "6569  6570  ...                               {influenza, a, with}\n",
              "4205  4206  ...                                               {to}\n",
              "3889  3890  ...  {history, should, ray, you, purified, a, posit...\n",
              "2357  2358  ...                                               {do}\n",
              "58      59  ...  {should, transient, anyway, an, ischemic, atta...\n",
              "\n",
              "[5 rows x 7 columns]"
            ]
          },
          "metadata": {
            "tags": []
          },
          "execution_count": 36
        }
      ]
    },
    {
      "cell_type": "code",
      "metadata": {
        "id": "8OOcSSR01WeZ",
        "colab_type": "code",
        "outputId": "ba24791f-890a-47f9-874e-16213836d6d5",
        "colab": {
          "base_uri": "https://localhost:8080/",
          "height": 397
        }
      },
      "source": [
        "x_train['exists_both_len'] = x_train['exists_both'].apply(len)\n",
        "x_train.head()"
      ],
      "execution_count": 0,
      "outputs": [
        {
          "output_type": "stream",
          "text": [
            "/usr/local/lib/python3.6/dist-packages/ipykernel_launcher.py:1: SettingWithCopyWarning: \n",
            "A value is trying to be set on a copy of a slice from a DataFrame.\n",
            "Try using .loc[row_indexer,col_indexer] = value instead\n",
            "\n",
            "See the caveats in the documentation: http://pandas.pydata.org/pandas-docs/stable/indexing.html#indexing-view-versus-copy\n",
            "  \"\"\"Entry point for launching an IPython kernel.\n"
          ],
          "name": "stderr"
        },
        {
          "output_type": "execute_result",
          "data": {
            "text/html": [
              "<div>\n",
              "<style scoped>\n",
              "    .dataframe tbody tr th:only-of-type {\n",
              "        vertical-align: middle;\n",
              "    }\n",
              "\n",
              "    .dataframe tbody tr th {\n",
              "        vertical-align: top;\n",
              "    }\n",
              "\n",
              "    .dataframe thead th {\n",
              "        text-align: right;\n",
              "    }\n",
              "</style>\n",
              "<table border=\"1\" class=\"dataframe\">\n",
              "  <thead>\n",
              "    <tr style=\"text-align: right;\">\n",
              "      <th></th>\n",
              "      <th>pid</th>\n",
              "      <th>type</th>\n",
              "      <th>value</th>\n",
              "      <th>chq</th>\n",
              "      <th>faq</th>\n",
              "      <th>outcome</th>\n",
              "      <th>exists_both</th>\n",
              "      <th>exists_both_len</th>\n",
              "    </tr>\n",
              "  </thead>\n",
              "  <tbody>\n",
              "    <tr>\n",
              "      <th>6569</th>\n",
              "      <td>6570</td>\n",
              "      <td>originalQ-shortQ</td>\n",
              "      <td>true</td>\n",
              "      <td>year old woman presented yesterday with...</td>\n",
              "      <td>should a patient with influenza symptoms b...</td>\n",
              "      <td>1</td>\n",
              "      <td>{influenza, a, with}</td>\n",
              "      <td>3</td>\n",
              "    </tr>\n",
              "    <tr>\n",
              "      <th>4205</th>\n",
              "      <td>4206</td>\n",
              "      <td>originalQ-shortRandQ</td>\n",
              "      <td>false</td>\n",
              "      <td>is a history of pulmonary embolus a contra...</td>\n",
              "      <td>should we switch to ancef for this diabeti...</td>\n",
              "      <td>0</td>\n",
              "      <td>{to}</td>\n",
              "      <td>1</td>\n",
              "    </tr>\n",
              "    <tr>\n",
              "      <th>3889</th>\n",
              "      <td>3890</td>\n",
              "      <td>originalQ-shortQ</td>\n",
              "      <td>true</td>\n",
              "      <td>should you treat a    year old with a posi...</td>\n",
              "      <td>should you treat a    year old with a posi...</td>\n",
              "      <td>1</td>\n",
              "      <td>{history, should, ray, you, purified, a, posit...</td>\n",
              "      <td>20</td>\n",
              "    </tr>\n",
              "    <tr>\n",
              "      <th>2357</th>\n",
              "      <td>2358</td>\n",
              "      <td>originalQ-shortRandQ</td>\n",
              "      <td>false</td>\n",
              "      <td>do we need to worry about thrombocytopenia...</td>\n",
              "      <td>how do you inject the bicipital tendon</td>\n",
              "      <td>0</td>\n",
              "      <td>{do}</td>\n",
              "      <td>1</td>\n",
              "    </tr>\n",
              "    <tr>\n",
              "      <th>58</th>\n",
              "      <td>59</td>\n",
              "      <td>originalQ-shortQ</td>\n",
              "      <td>true</td>\n",
              "      <td>in this patient with tias  transient ische...</td>\n",
              "      <td>in this patient with transient ischemic at...</td>\n",
              "      <td>1</td>\n",
              "      <td>{should, transient, anyway, an, ischemic, atta...</td>\n",
              "      <td>16</td>\n",
              "    </tr>\n",
              "  </tbody>\n",
              "</table>\n",
              "</div>"
            ],
            "text/plain": [
              "       pid  ... exists_both_len\n",
              "6569  6570  ...               3\n",
              "4205  4206  ...               1\n",
              "3889  3890  ...              20\n",
              "2357  2358  ...               1\n",
              "58      59  ...              16\n",
              "\n",
              "[5 rows x 8 columns]"
            ]
          },
          "metadata": {
            "tags": []
          },
          "execution_count": 37
        }
      ]
    },
    {
      "cell_type": "code",
      "metadata": {
        "id": "AskFLWXL2WtA",
        "colab_type": "code",
        "outputId": "47575f98-217d-457f-948f-01de82711ddc",
        "colab": {
          "base_uri": "https://localhost:8080/",
          "height": 173
        }
      },
      "source": [
        "x_train['exists_both_len'].describe()"
      ],
      "execution_count": 0,
      "outputs": [
        {
          "output_type": "execute_result",
          "data": {
            "text/plain": [
              "count    6870.000000\n",
              "mean        5.736827\n",
              "std         5.117859\n",
              "min         0.000000\n",
              "25%         1.000000\n",
              "50%         4.500000\n",
              "75%        10.000000\n",
              "max        30.000000\n",
              "Name: exists_both_len, dtype: float64"
            ]
          },
          "metadata": {
            "tags": []
          },
          "execution_count": 38
        }
      ]
    },
    {
      "cell_type": "code",
      "metadata": {
        "id": "PJGszTPm_JKv",
        "colab_type": "code",
        "outputId": "3d9b5ccb-623b-47fe-8509-df53b0e48a51",
        "colab": {
          "base_uri": "https://localhost:8080/",
          "height": 173
        }
      },
      "source": [
        "x_train['exist_feature'] = np.where(x_train['exists_both_len'] > 3, 1, 0)\n",
        "x_train['exist_feature'].value_counts()"
      ],
      "execution_count": 0,
      "outputs": [
        {
          "output_type": "stream",
          "text": [
            "/usr/local/lib/python3.6/dist-packages/ipykernel_launcher.py:1: SettingWithCopyWarning: \n",
            "A value is trying to be set on a copy of a slice from a DataFrame.\n",
            "Try using .loc[row_indexer,col_indexer] = value instead\n",
            "\n",
            "See the caveats in the documentation: http://pandas.pydata.org/pandas-docs/stable/indexing.html#indexing-view-versus-copy\n",
            "  \"\"\"Entry point for launching an IPython kernel.\n"
          ],
          "name": "stderr"
        },
        {
          "output_type": "execute_result",
          "data": {
            "text/plain": [
              "1    3738\n",
              "0    3132\n",
              "Name: exist_feature, dtype: int64"
            ]
          },
          "metadata": {
            "tags": []
          },
          "execution_count": 39
        }
      ]
    },
    {
      "cell_type": "code",
      "metadata": {
        "id": "aVBY4E6IAT9Q",
        "colab_type": "code",
        "outputId": "ae411c56-f5b3-4f1d-cccf-351068891381",
        "colab": {
          "base_uri": "https://localhost:8080/",
          "height": 34
        }
      },
      "source": [
        "train_pred = x_train[x_train['exist_feature'] == x_train['outcome']]\n",
        "train_pred.shape"
      ],
      "execution_count": 0,
      "outputs": [
        {
          "output_type": "execute_result",
          "data": {
            "text/plain": [
              "(6451, 9)"
            ]
          },
          "metadata": {
            "tags": []
          },
          "execution_count": 40
        }
      ]
    },
    {
      "cell_type": "code",
      "metadata": {
        "id": "gAsQ4Mu8AeeR",
        "colab_type": "code",
        "outputId": "7eaa597f-3190-4801-fb28-f5601155df7e",
        "colab": {
          "base_uri": "https://localhost:8080/",
          "height": 293
        }
      },
      "source": [
        "train_pred.head()"
      ],
      "execution_count": 0,
      "outputs": [
        {
          "output_type": "execute_result",
          "data": {
            "text/html": [
              "<div>\n",
              "<style scoped>\n",
              "    .dataframe tbody tr th:only-of-type {\n",
              "        vertical-align: middle;\n",
              "    }\n",
              "\n",
              "    .dataframe tbody tr th {\n",
              "        vertical-align: top;\n",
              "    }\n",
              "\n",
              "    .dataframe thead th {\n",
              "        text-align: right;\n",
              "    }\n",
              "</style>\n",
              "<table border=\"1\" class=\"dataframe\">\n",
              "  <thead>\n",
              "    <tr style=\"text-align: right;\">\n",
              "      <th></th>\n",
              "      <th>pid</th>\n",
              "      <th>type</th>\n",
              "      <th>value</th>\n",
              "      <th>chq</th>\n",
              "      <th>faq</th>\n",
              "      <th>outcome</th>\n",
              "      <th>exists_both</th>\n",
              "      <th>exists_both_len</th>\n",
              "      <th>exist_feature</th>\n",
              "    </tr>\n",
              "  </thead>\n",
              "  <tbody>\n",
              "    <tr>\n",
              "      <th>4205</th>\n",
              "      <td>4206</td>\n",
              "      <td>originalQ-shortRandQ</td>\n",
              "      <td>false</td>\n",
              "      <td>is a history of pulmonary embolus a contra...</td>\n",
              "      <td>should we switch to ancef for this diabeti...</td>\n",
              "      <td>0</td>\n",
              "      <td>{to}</td>\n",
              "      <td>1</td>\n",
              "      <td>0</td>\n",
              "    </tr>\n",
              "    <tr>\n",
              "      <th>3889</th>\n",
              "      <td>3890</td>\n",
              "      <td>originalQ-shortQ</td>\n",
              "      <td>true</td>\n",
              "      <td>should you treat a    year old with a posi...</td>\n",
              "      <td>should you treat a    year old with a posi...</td>\n",
              "      <td>1</td>\n",
              "      <td>{history, should, ray, you, purified, a, posit...</td>\n",
              "      <td>20</td>\n",
              "      <td>1</td>\n",
              "    </tr>\n",
              "    <tr>\n",
              "      <th>2357</th>\n",
              "      <td>2358</td>\n",
              "      <td>originalQ-shortRandQ</td>\n",
              "      <td>false</td>\n",
              "      <td>do we need to worry about thrombocytopenia...</td>\n",
              "      <td>how do you inject the bicipital tendon</td>\n",
              "      <td>0</td>\n",
              "      <td>{do}</td>\n",
              "      <td>1</td>\n",
              "      <td>0</td>\n",
              "    </tr>\n",
              "    <tr>\n",
              "      <th>58</th>\n",
              "      <td>59</td>\n",
              "      <td>originalQ-shortQ</td>\n",
              "      <td>true</td>\n",
              "      <td>in this patient with tias  transient ische...</td>\n",
              "      <td>in this patient with transient ischemic at...</td>\n",
              "      <td>1</td>\n",
              "      <td>{should, transient, anyway, an, ischemic, atta...</td>\n",
              "      <td>16</td>\n",
              "      <td>1</td>\n",
              "    </tr>\n",
              "    <tr>\n",
              "      <th>2303</th>\n",
              "      <td>2304</td>\n",
              "      <td>originalQ-shortQ</td>\n",
              "      <td>true</td>\n",
              "      <td>what is the reference for the article on a...</td>\n",
              "      <td>what is the reference to the article on ar...</td>\n",
              "      <td>1</td>\n",
              "      <td>{what, reference, arthrocentesis, technique, a...</td>\n",
              "      <td>8</td>\n",
              "      <td>1</td>\n",
              "    </tr>\n",
              "  </tbody>\n",
              "</table>\n",
              "</div>"
            ],
            "text/plain": [
              "       pid                  type  ... exists_both_len exist_feature\n",
              "4205  4206  originalQ-shortRandQ  ...               1             0\n",
              "3889  3890      originalQ-shortQ  ...              20             1\n",
              "2357  2358  originalQ-shortRandQ  ...               1             0\n",
              "58      59      originalQ-shortQ  ...              16             1\n",
              "2303  2304      originalQ-shortQ  ...               8             1\n",
              "\n",
              "[5 rows x 9 columns]"
            ]
          },
          "metadata": {
            "tags": []
          },
          "execution_count": 41
        }
      ]
    },
    {
      "cell_type": "code",
      "metadata": {
        "id": "Ixr647xiAHRI",
        "colab_type": "code",
        "outputId": "f3de6637-9911-49d0-9d92-790a59c4b79b",
        "colab": {
          "base_uri": "https://localhost:8080/",
          "height": 34
        }
      },
      "source": [
        "incorrect_train_pred = x_train[x_train['exist_feature'] != x_train['outcome']]\n",
        "incorrect_train_pred.shape"
      ],
      "execution_count": 0,
      "outputs": [
        {
          "output_type": "execute_result",
          "data": {
            "text/plain": [
              "(419, 9)"
            ]
          },
          "metadata": {
            "tags": []
          },
          "execution_count": 42
        }
      ]
    },
    {
      "cell_type": "code",
      "metadata": {
        "id": "Sb4TLb-5-tXm",
        "colab_type": "code",
        "outputId": "126624de-eb54-4eae-84ff-edb933dc1595",
        "colab": {
          "base_uri": "https://localhost:8080/",
          "height": 293
        }
      },
      "source": [
        "incorrect_train_pred.head()"
      ],
      "execution_count": 0,
      "outputs": [
        {
          "output_type": "execute_result",
          "data": {
            "text/html": [
              "<div>\n",
              "<style scoped>\n",
              "    .dataframe tbody tr th:only-of-type {\n",
              "        vertical-align: middle;\n",
              "    }\n",
              "\n",
              "    .dataframe tbody tr th {\n",
              "        vertical-align: top;\n",
              "    }\n",
              "\n",
              "    .dataframe thead th {\n",
              "        text-align: right;\n",
              "    }\n",
              "</style>\n",
              "<table border=\"1\" class=\"dataframe\">\n",
              "  <thead>\n",
              "    <tr style=\"text-align: right;\">\n",
              "      <th></th>\n",
              "      <th>pid</th>\n",
              "      <th>type</th>\n",
              "      <th>value</th>\n",
              "      <th>chq</th>\n",
              "      <th>faq</th>\n",
              "      <th>outcome</th>\n",
              "      <th>exists_both</th>\n",
              "      <th>exists_both_len</th>\n",
              "      <th>exist_feature</th>\n",
              "    </tr>\n",
              "  </thead>\n",
              "  <tbody>\n",
              "    <tr>\n",
              "      <th>6569</th>\n",
              "      <td>6570</td>\n",
              "      <td>originalQ-shortQ</td>\n",
              "      <td>true</td>\n",
              "      <td>year old woman presented yesterday with...</td>\n",
              "      <td>should a patient with influenza symptoms b...</td>\n",
              "      <td>1</td>\n",
              "      <td>{influenza, a, with}</td>\n",
              "      <td>3</td>\n",
              "      <td>0</td>\n",
              "    </tr>\n",
              "    <tr>\n",
              "      <th>156</th>\n",
              "      <td>157</td>\n",
              "      <td>originalQ-shortRandQ</td>\n",
              "      <td>false</td>\n",
              "      <td>how soon should you ambulate a patient wit...</td>\n",
              "      <td>can i use low molecular weight heparin in ...</td>\n",
              "      <td>0</td>\n",
              "      <td>{deep, thrombosis, vein, with, patient}</td>\n",
              "      <td>5</td>\n",
              "      <td>1</td>\n",
              "    </tr>\n",
              "    <tr>\n",
              "      <th>2057</th>\n",
              "      <td>2058</td>\n",
              "      <td>originalQ-shortRandQ</td>\n",
              "      <td>false</td>\n",
              "      <td>what are the causes of and how do you work...</td>\n",
              "      <td>what is the incubation period of influenza...</td>\n",
              "      <td>0</td>\n",
              "      <td>{a, what, the, of}</td>\n",
              "      <td>4</td>\n",
              "      <td>1</td>\n",
              "    </tr>\n",
              "    <tr>\n",
              "      <th>6885</th>\n",
              "      <td>6886</td>\n",
              "      <td>originalQ-shortRandQ</td>\n",
              "      <td>false</td>\n",
              "      <td>year old woman complains that her heart...</td>\n",
              "      <td>how should i treat polymenorrhea in a    y...</td>\n",
              "      <td>0</td>\n",
              "      <td>{i, year, in, old, a}</td>\n",
              "      <td>5</td>\n",
              "      <td>1</td>\n",
              "    </tr>\n",
              "    <tr>\n",
              "      <th>6400</th>\n",
              "      <td>6401</td>\n",
              "      <td>originalQ-shortRandQ</td>\n",
              "      <td>false</td>\n",
              "      <td>i had a guy     year old man  with subclav...</td>\n",
              "      <td>what is the cause and treatment of this ol...</td>\n",
              "      <td>0</td>\n",
              "      <td>{the, and, man, old}</td>\n",
              "      <td>4</td>\n",
              "      <td>1</td>\n",
              "    </tr>\n",
              "  </tbody>\n",
              "</table>\n",
              "</div>"
            ],
            "text/plain": [
              "       pid                  type  ... exists_both_len exist_feature\n",
              "6569  6570      originalQ-shortQ  ...               3             0\n",
              "156    157  originalQ-shortRandQ  ...               5             1\n",
              "2057  2058  originalQ-shortRandQ  ...               4             1\n",
              "6885  6886  originalQ-shortRandQ  ...               5             1\n",
              "6400  6401  originalQ-shortRandQ  ...               4             1\n",
              "\n",
              "[5 rows x 9 columns]"
            ]
          },
          "metadata": {
            "tags": []
          },
          "execution_count": 43
        }
      ]
    },
    {
      "cell_type": "code",
      "metadata": {
        "id": "Wn0uXpmCCI4p",
        "colab_type": "code",
        "outputId": "e3b2f428-2221-4594-fa2b-7a057ee30038",
        "colab": {
          "base_uri": "https://localhost:8080/",
          "height": 52
        }
      },
      "source": [
        "print('Majority Classifier Train Accuracy:',3739/(3739+3131))\n",
        "print('Exact Match > 0 Classifier Train Accuracy:',6451/(3739+3131))"
      ],
      "execution_count": 0,
      "outputs": [
        {
          "output_type": "stream",
          "text": [
            "Majority Classifier Train Accuracy: 0.5442503639010189\n",
            "Exact Match > 0 Classifier Train Accuracy: 0.9390101892285299\n"
          ],
          "name": "stdout"
        }
      ]
    },
    {
      "cell_type": "code",
      "metadata": {
        "id": "zpV6zweN2cwB",
        "colab_type": "code",
        "outputId": "bcb02080-f855-43ec-f4ef-d344ef04a702",
        "colab": {
          "base_uri": "https://localhost:8080/",
          "height": 347
        }
      },
      "source": [
        "# Test classifier\n",
        "x_test['exists_both'] = [set(x[3].split()) & set(x[4].split()) for x in x_test.values]\n",
        "x_test['exists_both_len'] = x_test['exists_both'].apply(len)\n",
        "x_test['exist_feature'] = np.where(x_test['exists_both_len'] > 3, 1, 0)\n",
        "pred = x_test[x_test['exist_feature'] == x_test['outcome']]\n",
        "pred.shape"
      ],
      "execution_count": 0,
      "outputs": [
        {
          "output_type": "stream",
          "text": [
            "/usr/local/lib/python3.6/dist-packages/ipykernel_launcher.py:1: SettingWithCopyWarning: \n",
            "A value is trying to be set on a copy of a slice from a DataFrame.\n",
            "Try using .loc[row_indexer,col_indexer] = value instead\n",
            "\n",
            "See the caveats in the documentation: http://pandas.pydata.org/pandas-docs/stable/indexing.html#indexing-view-versus-copy\n",
            "  \"\"\"Entry point for launching an IPython kernel.\n",
            "/usr/local/lib/python3.6/dist-packages/ipykernel_launcher.py:2: SettingWithCopyWarning: \n",
            "A value is trying to be set on a copy of a slice from a DataFrame.\n",
            "Try using .loc[row_indexer,col_indexer] = value instead\n",
            "\n",
            "See the caveats in the documentation: http://pandas.pydata.org/pandas-docs/stable/indexing.html#indexing-view-versus-copy\n",
            "  \n",
            "/usr/local/lib/python3.6/dist-packages/ipykernel_launcher.py:3: SettingWithCopyWarning: \n",
            "A value is trying to be set on a copy of a slice from a DataFrame.\n",
            "Try using .loc[row_indexer,col_indexer] = value instead\n",
            "\n",
            "See the caveats in the documentation: http://pandas.pydata.org/pandas-docs/stable/indexing.html#indexing-view-versus-copy\n",
            "  This is separate from the ipykernel package so we can avoid doing imports until\n"
          ],
          "name": "stderr"
        },
        {
          "output_type": "execute_result",
          "data": {
            "text/plain": [
              "(1609, 9)"
            ]
          },
          "metadata": {
            "tags": []
          },
          "execution_count": 45
        }
      ]
    },
    {
      "cell_type": "code",
      "metadata": {
        "id": "JPjsTQi1AvEy",
        "colab_type": "code",
        "outputId": "a90c35dd-67fc-4926-e653-c2ff75616a0f",
        "colab": {
          "base_uri": "https://localhost:8080/",
          "height": 34
        }
      },
      "source": [
        "incorrect_pred = x_test[x_test['exist_feature'] != x_test['outcome']]\n",
        "incorrect_pred.shape"
      ],
      "execution_count": 0,
      "outputs": [
        {
          "output_type": "execute_result",
          "data": {
            "text/plain": [
              "(109, 9)"
            ]
          },
          "metadata": {
            "tags": []
          },
          "execution_count": 46
        }
      ]
    },
    {
      "cell_type": "code",
      "metadata": {
        "id": "JCDAvh507wDu",
        "colab_type": "code",
        "outputId": "5454cef1-7186-42e4-bccb-3291f2b05b0d",
        "colab": {
          "base_uri": "https://localhost:8080/",
          "height": 69
        }
      },
      "source": [
        "x_test['outcome'].value_counts()"
      ],
      "execution_count": 0,
      "outputs": [
        {
          "output_type": "execute_result",
          "data": {
            "text/plain": [
              "1    916\n",
              "0    802\n",
              "Name: outcome, dtype: int64"
            ]
          },
          "metadata": {
            "tags": []
          },
          "execution_count": 47
        }
      ]
    },
    {
      "cell_type": "code",
      "metadata": {
        "id": "_HZz1Jor7yvk",
        "colab_type": "code",
        "outputId": "7143eb06-ddb6-42fd-c015-bc2e026932f4",
        "colab": {
          "base_uri": "https://localhost:8080/",
          "height": 52
        }
      },
      "source": [
        "print('Majority Classifier Test Accuracy:',916/(916+802))\n",
        "print('Exact Match > 0 Classifier Test Accuracy:',1609/(916+802))"
      ],
      "execution_count": 0,
      "outputs": [
        {
          "output_type": "stream",
          "text": [
            "Majority Classifier Test Accuracy: 0.5331781140861467\n",
            "Exact Match > 0 Classifier Test Accuracy: 0.9365541327124564\n"
          ],
          "name": "stdout"
        }
      ]
    },
    {
      "cell_type": "markdown",
      "metadata": {
        "id": "FupSd-jU8cXo",
        "colab_type": "text"
      },
      "source": [
        "Accuracy improved from ~53% -> ~93% by applying the rule:\n",
        "\n",
        "(number of exact words matching > 3) == 1, else 0"
      ]
    },
    {
      "cell_type": "markdown",
      "metadata": {
        "id": "AjHsz0rdD7z5",
        "colab_type": "text"
      },
      "source": [
        "# Rule 2"
      ]
    },
    {
      "cell_type": "markdown",
      "metadata": {
        "id": "D40nopNL8hih",
        "colab_type": "text"
      },
      "source": [
        "Let's look at our incorrect predictions to then improve our classifier with our next rule."
      ]
    },
    {
      "cell_type": "code",
      "metadata": {
        "id": "KfHT9x5W8GCg",
        "colab_type": "code",
        "outputId": "1e87d177-fba8-4245-ffc7-8dc5cc518742",
        "colab": {
          "base_uri": "https://localhost:8080/",
          "height": 1000
        }
      },
      "source": [
        "incorrect_train_pred.head(20)"
      ],
      "execution_count": 0,
      "outputs": [
        {
          "output_type": "execute_result",
          "data": {
            "text/html": [
              "<div>\n",
              "<style scoped>\n",
              "    .dataframe tbody tr th:only-of-type {\n",
              "        vertical-align: middle;\n",
              "    }\n",
              "\n",
              "    .dataframe tbody tr th {\n",
              "        vertical-align: top;\n",
              "    }\n",
              "\n",
              "    .dataframe thead th {\n",
              "        text-align: right;\n",
              "    }\n",
              "</style>\n",
              "<table border=\"1\" class=\"dataframe\">\n",
              "  <thead>\n",
              "    <tr style=\"text-align: right;\">\n",
              "      <th></th>\n",
              "      <th>pid</th>\n",
              "      <th>type</th>\n",
              "      <th>value</th>\n",
              "      <th>chq</th>\n",
              "      <th>faq</th>\n",
              "      <th>outcome</th>\n",
              "      <th>exists_both</th>\n",
              "      <th>exists_both_len</th>\n",
              "      <th>exist_feature</th>\n",
              "    </tr>\n",
              "  </thead>\n",
              "  <tbody>\n",
              "    <tr>\n",
              "      <th>6569</th>\n",
              "      <td>6570</td>\n",
              "      <td>originalQ-shortQ</td>\n",
              "      <td>true</td>\n",
              "      <td>year old woman presented yesterday with...</td>\n",
              "      <td>should a patient with influenza symptoms b...</td>\n",
              "      <td>1</td>\n",
              "      <td>{influenza, a, with}</td>\n",
              "      <td>3</td>\n",
              "      <td>0</td>\n",
              "    </tr>\n",
              "    <tr>\n",
              "      <th>156</th>\n",
              "      <td>157</td>\n",
              "      <td>originalQ-shortRandQ</td>\n",
              "      <td>false</td>\n",
              "      <td>how soon should you ambulate a patient wit...</td>\n",
              "      <td>can i use low molecular weight heparin in ...</td>\n",
              "      <td>0</td>\n",
              "      <td>{deep, thrombosis, vein, with, patient}</td>\n",
              "      <td>5</td>\n",
              "      <td>1</td>\n",
              "    </tr>\n",
              "    <tr>\n",
              "      <th>2057</th>\n",
              "      <td>2058</td>\n",
              "      <td>originalQ-shortRandQ</td>\n",
              "      <td>false</td>\n",
              "      <td>what are the causes of and how do you work...</td>\n",
              "      <td>what is the incubation period of influenza...</td>\n",
              "      <td>0</td>\n",
              "      <td>{a, what, the, of}</td>\n",
              "      <td>4</td>\n",
              "      <td>1</td>\n",
              "    </tr>\n",
              "    <tr>\n",
              "      <th>6885</th>\n",
              "      <td>6886</td>\n",
              "      <td>originalQ-shortRandQ</td>\n",
              "      <td>false</td>\n",
              "      <td>year old woman complains that her heart...</td>\n",
              "      <td>how should i treat polymenorrhea in a    y...</td>\n",
              "      <td>0</td>\n",
              "      <td>{i, year, in, old, a}</td>\n",
              "      <td>5</td>\n",
              "      <td>1</td>\n",
              "    </tr>\n",
              "    <tr>\n",
              "      <th>6400</th>\n",
              "      <td>6401</td>\n",
              "      <td>originalQ-shortRandQ</td>\n",
              "      <td>false</td>\n",
              "      <td>i had a guy     year old man  with subclav...</td>\n",
              "      <td>what is the cause and treatment of this ol...</td>\n",
              "      <td>0</td>\n",
              "      <td>{the, and, man, old}</td>\n",
              "      <td>4</td>\n",
              "      <td>1</td>\n",
              "    </tr>\n",
              "    <tr>\n",
              "      <th>333</th>\n",
              "      <td>334</td>\n",
              "      <td>originalQ-shortRandQ</td>\n",
              "      <td>false</td>\n",
              "      <td>it s not crystal clear what s going on wit...</td>\n",
              "      <td>how should i treat polymenorrhea in a    y...</td>\n",
              "      <td>0</td>\n",
              "      <td>{a, i, in, old, treat, year}</td>\n",
              "      <td>6</td>\n",
              "      <td>1</td>\n",
              "    </tr>\n",
              "    <tr>\n",
              "      <th>752</th>\n",
              "      <td>753</td>\n",
              "      <td>originalQ-shortRandQ</td>\n",
              "      <td>false</td>\n",
              "      <td>what is the significance of haemophilus ae...</td>\n",
              "      <td>what is the dose of sporanox</td>\n",
              "      <td>0</td>\n",
              "      <td>{is, what, the, of}</td>\n",
              "      <td>4</td>\n",
              "      <td>1</td>\n",
              "    </tr>\n",
              "    <tr>\n",
              "      <th>351</th>\n",
              "      <td>352</td>\n",
              "      <td>originalQ-shortQ</td>\n",
              "      <td>true</td>\n",
              "      <td>what is legatrin</td>\n",
              "      <td>what is legatrin</td>\n",
              "      <td>1</td>\n",
              "      <td>{is, legatrin, what}</td>\n",
              "      <td>3</td>\n",
              "      <td>0</td>\n",
              "    </tr>\n",
              "    <tr>\n",
              "      <th>2996</th>\n",
              "      <td>2997</td>\n",
              "      <td>originalQ-shortRandQ</td>\n",
              "      <td>false</td>\n",
              "      <td>what is the upper limit of normal of small...</td>\n",
              "      <td>what is that new drug like prilosec   it h...</td>\n",
              "      <td>0</td>\n",
              "      <td>{is, what, the, of}</td>\n",
              "      <td>4</td>\n",
              "      <td>1</td>\n",
              "    </tr>\n",
              "    <tr>\n",
              "      <th>1412</th>\n",
              "      <td>1413</td>\n",
              "      <td>originalQ-shortRandQ</td>\n",
              "      <td>false</td>\n",
              "      <td>is keflex the drug of choice for this pati...</td>\n",
              "      <td>is serzone okay to give to with a partial ...</td>\n",
              "      <td>0</td>\n",
              "      <td>{is, to, a, with}</td>\n",
              "      <td>4</td>\n",
              "      <td>1</td>\n",
              "    </tr>\n",
              "    <tr>\n",
              "      <th>4228</th>\n",
              "      <td>4229</td>\n",
              "      <td>originalQ-shortQ</td>\n",
              "      <td>true</td>\n",
              "      <td>what causes hypercalcemia  elevated serum ...</td>\n",
              "      <td>what causes hypercalcemia</td>\n",
              "      <td>1</td>\n",
              "      <td>{hypercalcemia, what, causes}</td>\n",
              "      <td>3</td>\n",
              "      <td>0</td>\n",
              "    </tr>\n",
              "    <tr>\n",
              "      <th>3309</th>\n",
              "      <td>3310</td>\n",
              "      <td>originalQ-shortRandQ</td>\n",
              "      <td>false</td>\n",
              "      <td>what is the difference between the glycohe...</td>\n",
              "      <td>what is the cause and treatment of this ol...</td>\n",
              "      <td>0</td>\n",
              "      <td>{is, and, what, the}</td>\n",
              "      <td>4</td>\n",
              "      <td>1</td>\n",
              "    </tr>\n",
              "    <tr>\n",
              "      <th>2319</th>\n",
              "      <td>2320</td>\n",
              "      <td>originalQ-shortRandQ</td>\n",
              "      <td>false</td>\n",
              "      <td>what is a good protocol for diagnosis and ...</td>\n",
              "      <td>what is the dose of bactrim for a   year o...</td>\n",
              "      <td>0</td>\n",
              "      <td>{what, for, is, a, of}</td>\n",
              "      <td>5</td>\n",
              "      <td>1</td>\n",
              "    </tr>\n",
              "    <tr>\n",
              "      <th>6181</th>\n",
              "      <td>6182</td>\n",
              "      <td>originalQ-shortQ</td>\n",
              "      <td>true</td>\n",
              "      <td>year old woman with bladder symptoms   ...</td>\n",
              "      <td>what are glitter cells</td>\n",
              "      <td>1</td>\n",
              "      <td>{glitter, what, cells}</td>\n",
              "      <td>3</td>\n",
              "      <td>0</td>\n",
              "    </tr>\n",
              "    <tr>\n",
              "      <th>5614</th>\n",
              "      <td>5615</td>\n",
              "      <td>originalQ-shortQ</td>\n",
              "      <td>true</td>\n",
              "      <td>i have a   month old with a varicocele and...</td>\n",
              "      <td>when should an infant with a hydrocele be ...</td>\n",
              "      <td>1</td>\n",
              "      <td>{with, a}</td>\n",
              "      <td>2</td>\n",
              "      <td>0</td>\n",
              "    </tr>\n",
              "    <tr>\n",
              "      <th>5931</th>\n",
              "      <td>5932</td>\n",
              "      <td>originalQ-shortQ</td>\n",
              "      <td>true</td>\n",
              "      <td>a question the study physician wrote on th...</td>\n",
              "      <td>which oral contraceptive should be used fo...</td>\n",
              "      <td>1</td>\n",
              "      <td>{acne}</td>\n",
              "      <td>1</td>\n",
              "      <td>0</td>\n",
              "    </tr>\n",
              "    <tr>\n",
              "      <th>7187</th>\n",
              "      <td>7188</td>\n",
              "      <td>originalQ-shortRandQ</td>\n",
              "      <td>false</td>\n",
              "      <td>twenty six month old boy   serum sickness ...</td>\n",
              "      <td>what is the cause and treatment of this ol...</td>\n",
              "      <td>0</td>\n",
              "      <td>{what, this, and, old, the}</td>\n",
              "      <td>5</td>\n",
              "      <td>1</td>\n",
              "    </tr>\n",
              "    <tr>\n",
              "      <th>88</th>\n",
              "      <td>89</td>\n",
              "      <td>originalQ-shortRandQ</td>\n",
              "      <td>false</td>\n",
              "      <td>at age   has had two simple bladder infect...</td>\n",
              "      <td>maneuver mentioned at continuing medical e...</td>\n",
              "      <td>0</td>\n",
              "      <td>{do, at, or, of}</td>\n",
              "      <td>4</td>\n",
              "      <td>1</td>\n",
              "    </tr>\n",
              "    <tr>\n",
              "      <th>5875</th>\n",
              "      <td>5876</td>\n",
              "      <td>originalQ-shortRandQ</td>\n",
              "      <td>false</td>\n",
              "      <td>year old volleyball player with leg cra...</td>\n",
              "      <td>how should i treat polymenorrhea in a    y...</td>\n",
              "      <td>0</td>\n",
              "      <td>{i, year, in, old}</td>\n",
              "      <td>4</td>\n",
              "      <td>1</td>\n",
              "    </tr>\n",
              "    <tr>\n",
              "      <th>548</th>\n",
              "      <td>549</td>\n",
              "      <td>originalQ-shortRandQ</td>\n",
              "      <td>false</td>\n",
              "      <td>this morning i saw a    year old man with ...</td>\n",
              "      <td>in this patient with transient ischemic at...</td>\n",
              "      <td>0</td>\n",
              "      <td>{i, this, and, with, no}</td>\n",
              "      <td>5</td>\n",
              "      <td>1</td>\n",
              "    </tr>\n",
              "  </tbody>\n",
              "</table>\n",
              "</div>"
            ],
            "text/plain": [
              "       pid                  type  ... exists_both_len exist_feature\n",
              "6569  6570      originalQ-shortQ  ...               3             0\n",
              "156    157  originalQ-shortRandQ  ...               5             1\n",
              "2057  2058  originalQ-shortRandQ  ...               4             1\n",
              "6885  6886  originalQ-shortRandQ  ...               5             1\n",
              "6400  6401  originalQ-shortRandQ  ...               4             1\n",
              "333    334  originalQ-shortRandQ  ...               6             1\n",
              "752    753  originalQ-shortRandQ  ...               4             1\n",
              "351    352      originalQ-shortQ  ...               3             0\n",
              "2996  2997  originalQ-shortRandQ  ...               4             1\n",
              "1412  1413  originalQ-shortRandQ  ...               4             1\n",
              "4228  4229      originalQ-shortQ  ...               3             0\n",
              "3309  3310  originalQ-shortRandQ  ...               4             1\n",
              "2319  2320  originalQ-shortRandQ  ...               5             1\n",
              "6181  6182      originalQ-shortQ  ...               3             0\n",
              "5614  5615      originalQ-shortQ  ...               2             0\n",
              "5931  5932      originalQ-shortQ  ...               1             0\n",
              "7187  7188  originalQ-shortRandQ  ...               5             1\n",
              "88      89  originalQ-shortRandQ  ...               4             1\n",
              "5875  5876  originalQ-shortRandQ  ...               4             1\n",
              "548    549  originalQ-shortRandQ  ...               5             1\n",
              "\n",
              "[20 rows x 9 columns]"
            ]
          },
          "metadata": {
            "tags": []
          },
          "execution_count": 49
        }
      ]
    },
    {
      "cell_type": "code",
      "metadata": {
        "id": "YEufX53OCfqi",
        "colab_type": "code",
        "outputId": "b89499e3-8b7b-40a7-c6f8-dc4aa15f26e4",
        "colab": {
          "base_uri": "https://localhost:8080/",
          "height": 69
        }
      },
      "source": [
        "incorrect_train_pred['outcome'].value_counts()"
      ],
      "execution_count": 0,
      "outputs": [
        {
          "output_type": "execute_result",
          "data": {
            "text/plain": [
              "1    210\n",
              "0    209\n",
              "Name: outcome, dtype: int64"
            ]
          },
          "metadata": {
            "tags": []
          },
          "execution_count": 50
        }
      ]
    },
    {
      "cell_type": "markdown",
      "metadata": {
        "id": "E5uJUPGQEOj9",
        "colab_type": "text"
      },
      "source": [
        "It seems that a lot of our incorrect predictions are due to the fact that non-relevant words are being matched. We can try to improve this by removing stopwords."
      ]
    },
    {
      "cell_type": "code",
      "metadata": {
        "id": "FEWKCWU2C09i",
        "colab_type": "code",
        "outputId": "a941c44a-5c69-4541-cf22-4d1b123c28ce",
        "colab": {
          "base_uri": "https://localhost:8080/",
          "height": 536
        }
      },
      "source": [
        "import nltk\n",
        "nltk.download('stopwords')\n",
        "nltk.download('punkt')\n",
        "from nltk.corpus import stopwords \n",
        "from nltk.tokenize import word_tokenize\n",
        "\n",
        "\n",
        "def tokenize_and_remove_stopwords(text):\n",
        "  # Tokenize\n",
        "  tokenized_text = word_tokenize(text)\n",
        "\n",
        "  # Remove stopwords\n",
        "  for word in tokenized_text:\n",
        "      if word in stopwords.words('english'):\n",
        "          tokenized_text.remove(word)\n",
        "  return tokenized_text\n",
        "\n",
        "x_train['chq'] = x_train.apply(lambda x: tokenize_and_remove_stopwords(x['chq']), axis=1)\n",
        "x_train['faq'] = x_train.apply(lambda x: tokenize_and_remove_stopwords(x['faq']), axis=1)\n",
        "\n",
        "x_train.head()"
      ],
      "execution_count": 0,
      "outputs": [
        {
          "output_type": "stream",
          "text": [
            "[nltk_data] Downloading package stopwords to /root/nltk_data...\n",
            "[nltk_data]   Package stopwords is already up-to-date!\n",
            "[nltk_data] Downloading package punkt to /root/nltk_data...\n",
            "[nltk_data]   Package punkt is already up-to-date!\n"
          ],
          "name": "stdout"
        },
        {
          "output_type": "stream",
          "text": [
            "/usr/local/lib/python3.6/dist-packages/ipykernel_launcher.py:18: SettingWithCopyWarning: \n",
            "A value is trying to be set on a copy of a slice from a DataFrame.\n",
            "Try using .loc[row_indexer,col_indexer] = value instead\n",
            "\n",
            "See the caveats in the documentation: http://pandas.pydata.org/pandas-docs/stable/indexing.html#indexing-view-versus-copy\n",
            "/usr/local/lib/python3.6/dist-packages/ipykernel_launcher.py:19: SettingWithCopyWarning: \n",
            "A value is trying to be set on a copy of a slice from a DataFrame.\n",
            "Try using .loc[row_indexer,col_indexer] = value instead\n",
            "\n",
            "See the caveats in the documentation: http://pandas.pydata.org/pandas-docs/stable/indexing.html#indexing-view-versus-copy\n"
          ],
          "name": "stderr"
        },
        {
          "output_type": "execute_result",
          "data": {
            "text/html": [
              "<div>\n",
              "<style scoped>\n",
              "    .dataframe tbody tr th:only-of-type {\n",
              "        vertical-align: middle;\n",
              "    }\n",
              "\n",
              "    .dataframe tbody tr th {\n",
              "        vertical-align: top;\n",
              "    }\n",
              "\n",
              "    .dataframe thead th {\n",
              "        text-align: right;\n",
              "    }\n",
              "</style>\n",
              "<table border=\"1\" class=\"dataframe\">\n",
              "  <thead>\n",
              "    <tr style=\"text-align: right;\">\n",
              "      <th></th>\n",
              "      <th>pid</th>\n",
              "      <th>type</th>\n",
              "      <th>value</th>\n",
              "      <th>chq</th>\n",
              "      <th>faq</th>\n",
              "      <th>outcome</th>\n",
              "      <th>exists_both</th>\n",
              "      <th>exists_both_len</th>\n",
              "      <th>exist_feature</th>\n",
              "    </tr>\n",
              "  </thead>\n",
              "  <tbody>\n",
              "    <tr>\n",
              "      <th>6569</th>\n",
              "      <td>6570</td>\n",
              "      <td>originalQ-shortQ</td>\n",
              "      <td>true</td>\n",
              "      <td>[year, old, woman, presented, yesterday, a, pe...</td>\n",
              "      <td>[a, patient, influenza, symptoms, treated, the...</td>\n",
              "      <td>1</td>\n",
              "      <td>{influenza, a, with}</td>\n",
              "      <td>3</td>\n",
              "      <td>0</td>\n",
              "    </tr>\n",
              "    <tr>\n",
              "      <th>4205</th>\n",
              "      <td>4206</td>\n",
              "      <td>originalQ-shortRandQ</td>\n",
              "      <td>false</td>\n",
              "      <td>[history, pulmonary, embolus, a, contraindicat...</td>\n",
              "      <td>[we, switch, ancef, this, diabetic, foot, ulce...</td>\n",
              "      <td>0</td>\n",
              "      <td>{to}</td>\n",
              "      <td>1</td>\n",
              "      <td>0</td>\n",
              "    </tr>\n",
              "    <tr>\n",
              "      <th>3889</th>\n",
              "      <td>3890</td>\n",
              "      <td>originalQ-shortQ</td>\n",
              "      <td>true</td>\n",
              "      <td>[you, treat, year, old, a, positive, ppd, puri...</td>\n",
              "      <td>[you, treat, year, old, a, positive, ppd, puri...</td>\n",
              "      <td>1</td>\n",
              "      <td>{history, should, ray, you, purified, a, posit...</td>\n",
              "      <td>20</td>\n",
              "      <td>1</td>\n",
              "    </tr>\n",
              "    <tr>\n",
              "      <th>2357</th>\n",
              "      <td>2358</td>\n",
              "      <td>originalQ-shortRandQ</td>\n",
              "      <td>false</td>\n",
              "      <td>[we, need, worry, thrombocytopenia, other, sid...</td>\n",
              "      <td>[do, inject, bicipital, tendon]</td>\n",
              "      <td>0</td>\n",
              "      <td>{do}</td>\n",
              "      <td>1</td>\n",
              "      <td>0</td>\n",
              "    </tr>\n",
              "    <tr>\n",
              "      <th>58</th>\n",
              "      <td>59</td>\n",
              "      <td>originalQ-shortQ</td>\n",
              "      <td>true</td>\n",
              "      <td>[this, patient, tias, transient, ischemic, att...</td>\n",
              "      <td>[this, patient, transient, ischemic, attacks, ...</td>\n",
              "      <td>1</td>\n",
              "      <td>{should, transient, anyway, an, ischemic, atta...</td>\n",
              "      <td>16</td>\n",
              "      <td>1</td>\n",
              "    </tr>\n",
              "  </tbody>\n",
              "</table>\n",
              "</div>"
            ],
            "text/plain": [
              "       pid                  type  ... exists_both_len exist_feature\n",
              "6569  6570      originalQ-shortQ  ...               3             0\n",
              "4205  4206  originalQ-shortRandQ  ...               1             0\n",
              "3889  3890      originalQ-shortQ  ...              20             1\n",
              "2357  2358  originalQ-shortRandQ  ...               1             0\n",
              "58      59      originalQ-shortQ  ...              16             1\n",
              "\n",
              "[5 rows x 9 columns]"
            ]
          },
          "metadata": {
            "tags": []
          },
          "execution_count": 51
        }
      ]
    },
    {
      "cell_type": "code",
      "metadata": {
        "id": "pXsqd65RE9gt",
        "colab_type": "code",
        "outputId": "f8d19a01-550b-49a6-874b-239e3a5ed664",
        "colab": {
          "base_uri": "https://localhost:8080/",
          "height": 347
        }
      },
      "source": [
        "# Re-calculate common text feature\n",
        "x_train['exists_both'] = [set(x[3]) & set(x[4]) for x in x_train.values]\n",
        "x_train['exists_both_len'] = x_train['exists_both'].apply(len)\n",
        "x_train['exist_feature'] = np.where(x_train['exists_both_len'] > 1, 1, 0)\n",
        "\n",
        "train_pred_2 = x_train[x_train['exist_feature'] == x_train['outcome']]\n",
        "train_pred_2.shape"
      ],
      "execution_count": 0,
      "outputs": [
        {
          "output_type": "stream",
          "text": [
            "/usr/local/lib/python3.6/dist-packages/ipykernel_launcher.py:1: SettingWithCopyWarning: \n",
            "A value is trying to be set on a copy of a slice from a DataFrame.\n",
            "Try using .loc[row_indexer,col_indexer] = value instead\n",
            "\n",
            "See the caveats in the documentation: http://pandas.pydata.org/pandas-docs/stable/indexing.html#indexing-view-versus-copy\n",
            "  \"\"\"Entry point for launching an IPython kernel.\n",
            "/usr/local/lib/python3.6/dist-packages/ipykernel_launcher.py:2: SettingWithCopyWarning: \n",
            "A value is trying to be set on a copy of a slice from a DataFrame.\n",
            "Try using .loc[row_indexer,col_indexer] = value instead\n",
            "\n",
            "See the caveats in the documentation: http://pandas.pydata.org/pandas-docs/stable/indexing.html#indexing-view-versus-copy\n",
            "  \n",
            "/usr/local/lib/python3.6/dist-packages/ipykernel_launcher.py:3: SettingWithCopyWarning: \n",
            "A value is trying to be set on a copy of a slice from a DataFrame.\n",
            "Try using .loc[row_indexer,col_indexer] = value instead\n",
            "\n",
            "See the caveats in the documentation: http://pandas.pydata.org/pandas-docs/stable/indexing.html#indexing-view-versus-copy\n",
            "  This is separate from the ipykernel package so we can avoid doing imports until\n"
          ],
          "name": "stderr"
        },
        {
          "output_type": "execute_result",
          "data": {
            "text/plain": [
              "(6582, 9)"
            ]
          },
          "metadata": {
            "tags": []
          },
          "execution_count": 52
        }
      ]
    },
    {
      "cell_type": "code",
      "metadata": {
        "id": "Z5-qxuR4GHQ6",
        "colab_type": "code",
        "outputId": "5ea93a40-fcb2-42de-a2fd-814dc31193da",
        "colab": {
          "base_uri": "https://localhost:8080/",
          "height": 34
        }
      },
      "source": [
        "incorrect_train_pred_2 = x_train[x_train['exist_feature'] != x_train['outcome']]\n",
        "incorrect_train_pred_2.shape"
      ],
      "execution_count": 0,
      "outputs": [
        {
          "output_type": "execute_result",
          "data": {
            "text/plain": [
              "(288, 9)"
            ]
          },
          "metadata": {
            "tags": []
          },
          "execution_count": 76
        }
      ]
    },
    {
      "cell_type": "code",
      "metadata": {
        "id": "Yv_PKJxrHNFx",
        "colab_type": "code",
        "outputId": "f4a2e933-9cba-4784-89d0-70c7975d9a92",
        "colab": {
          "base_uri": "https://localhost:8080/",
          "height": 52
        }
      },
      "source": [
        "print('Majority Classifier Train Accuracy:',3739/(3739+3131))\n",
        "print('Exact Match w/no stopwords > 1 Classifier Train Accuracy:',6582/(3739+3131))"
      ],
      "execution_count": 0,
      "outputs": [
        {
          "output_type": "stream",
          "text": [
            "Majority Classifier Train Accuracy: 0.5442503639010189\n",
            "Exact Match w/no stopwords > 1 Classifier Train Accuracy: 0.9580786026200874\n"
          ],
          "name": "stdout"
        }
      ]
    },
    {
      "cell_type": "code",
      "metadata": {
        "id": "P7zTy4EbGVs2",
        "colab_type": "code",
        "outputId": "b4e3da99-90e7-4fc7-db8f-49bdfdc15fe8",
        "colab": {
          "base_uri": "https://localhost:8080/",
          "height": 555
        }
      },
      "source": [
        "# clean test data\n",
        "x_test['chq'] = x_test.apply(lambda x: tokenize_and_remove_stopwords(x['chq']), axis=1)\n",
        "x_test['faq'] = x_test.apply(lambda x: tokenize_and_remove_stopwords(x['faq']), axis=1)\n",
        "\n",
        "# Test classifier\n",
        "x_test['exists_both'] = [set(x[3]) & set(x[4]) for x in x_test.values]\n",
        "x_test['exists_both_len'] = x_test['exists_both'].apply(len)\n",
        "x_test['exist_feature'] = np.where(x_test['exists_both_len'] > 1, 1, 0)\n",
        "pred_2 = x_test[x_test['exist_feature'] == x_test['outcome']]\n",
        "pred_2.shape"
      ],
      "execution_count": 0,
      "outputs": [
        {
          "output_type": "stream",
          "text": [
            "/usr/local/lib/python3.6/dist-packages/ipykernel_launcher.py:1: SettingWithCopyWarning: \n",
            "A value is trying to be set on a copy of a slice from a DataFrame.\n",
            "Try using .loc[row_indexer,col_indexer] = value instead\n",
            "\n",
            "See the caveats in the documentation: http://pandas.pydata.org/pandas-docs/stable/indexing.html#indexing-view-versus-copy\n",
            "  \"\"\"Entry point for launching an IPython kernel.\n",
            "/usr/local/lib/python3.6/dist-packages/ipykernel_launcher.py:2: SettingWithCopyWarning: \n",
            "A value is trying to be set on a copy of a slice from a DataFrame.\n",
            "Try using .loc[row_indexer,col_indexer] = value instead\n",
            "\n",
            "See the caveats in the documentation: http://pandas.pydata.org/pandas-docs/stable/indexing.html#indexing-view-versus-copy\n",
            "  \n",
            "/usr/local/lib/python3.6/dist-packages/ipykernel_launcher.py:5: SettingWithCopyWarning: \n",
            "A value is trying to be set on a copy of a slice from a DataFrame.\n",
            "Try using .loc[row_indexer,col_indexer] = value instead\n",
            "\n",
            "See the caveats in the documentation: http://pandas.pydata.org/pandas-docs/stable/indexing.html#indexing-view-versus-copy\n",
            "  \"\"\"\n",
            "/usr/local/lib/python3.6/dist-packages/ipykernel_launcher.py:6: SettingWithCopyWarning: \n",
            "A value is trying to be set on a copy of a slice from a DataFrame.\n",
            "Try using .loc[row_indexer,col_indexer] = value instead\n",
            "\n",
            "See the caveats in the documentation: http://pandas.pydata.org/pandas-docs/stable/indexing.html#indexing-view-versus-copy\n",
            "  \n",
            "/usr/local/lib/python3.6/dist-packages/ipykernel_launcher.py:7: SettingWithCopyWarning: \n",
            "A value is trying to be set on a copy of a slice from a DataFrame.\n",
            "Try using .loc[row_indexer,col_indexer] = value instead\n",
            "\n",
            "See the caveats in the documentation: http://pandas.pydata.org/pandas-docs/stable/indexing.html#indexing-view-versus-copy\n",
            "  import sys\n"
          ],
          "name": "stderr"
        },
        {
          "output_type": "execute_result",
          "data": {
            "text/plain": [
              "(1648, 9)"
            ]
          },
          "metadata": {
            "tags": []
          },
          "execution_count": 55
        }
      ]
    },
    {
      "cell_type": "code",
      "metadata": {
        "id": "alC1Kd2MGsGw",
        "colab_type": "code",
        "outputId": "d20b94a9-2788-4217-f5f9-e74197903897",
        "colab": {
          "base_uri": "https://localhost:8080/",
          "height": 34
        }
      },
      "source": [
        "incorrect_pred_2 = x_test[x_test['exist_feature'] != x_test['outcome']]\n",
        "incorrect_pred_2.shape"
      ],
      "execution_count": 0,
      "outputs": [
        {
          "output_type": "execute_result",
          "data": {
            "text/plain": [
              "(70, 9)"
            ]
          },
          "metadata": {
            "tags": []
          },
          "execution_count": 70
        }
      ]
    },
    {
      "cell_type": "code",
      "metadata": {
        "id": "RjJrcBO6HI7Q",
        "colab_type": "code",
        "outputId": "c6a8d76a-342f-4d4d-edcb-31460bcc62fd",
        "colab": {
          "base_uri": "https://localhost:8080/",
          "height": 52
        }
      },
      "source": [
        "print('Majority Classifier Test Accuracy:',916/(916+802))\n",
        "print('Exact Match w/no stopwords > 1 Classifier Test Accuracy:',1648/(916+802))"
      ],
      "execution_count": 0,
      "outputs": [
        {
          "output_type": "stream",
          "text": [
            "Majority Classifier Test Accuracy: 0.5331781140861467\n",
            "Exact Match w/no stopwords > 1 Classifier Test Accuracy: 0.959254947613504\n"
          ],
          "name": "stdout"
        }
      ]
    },
    {
      "cell_type": "markdown",
      "metadata": {
        "id": "yoU1wyZ3HelX",
        "colab_type": "text"
      },
      "source": [
        "Rule #2 (removing stopwords and tokenizing) further improved our test accuracy from ~93% -> ~95%"
      ]
    },
    {
      "cell_type": "markdown",
      "metadata": {
        "id": "owPzcR5eH-Nn",
        "colab_type": "text"
      },
      "source": [
        "Look at incorrect predictions to further improve rules"
      ]
    },
    {
      "cell_type": "code",
      "metadata": {
        "id": "MUoBQaDXHdoh",
        "colab_type": "code",
        "outputId": "b1091c1a-6b66-404c-8a67-cb04d4f0439c",
        "colab": {
          "base_uri": "https://localhost:8080/",
          "height": 1000
        }
      },
      "source": [
        "incorrect_train_pred_2.head(20)"
      ],
      "execution_count": 0,
      "outputs": [
        {
          "output_type": "execute_result",
          "data": {
            "text/html": [
              "<div>\n",
              "<style scoped>\n",
              "    .dataframe tbody tr th:only-of-type {\n",
              "        vertical-align: middle;\n",
              "    }\n",
              "\n",
              "    .dataframe tbody tr th {\n",
              "        vertical-align: top;\n",
              "    }\n",
              "\n",
              "    .dataframe thead th {\n",
              "        text-align: right;\n",
              "    }\n",
              "</style>\n",
              "<table border=\"1\" class=\"dataframe\">\n",
              "  <thead>\n",
              "    <tr style=\"text-align: right;\">\n",
              "      <th></th>\n",
              "      <th>pid</th>\n",
              "      <th>type</th>\n",
              "      <th>value</th>\n",
              "      <th>chq</th>\n",
              "      <th>faq</th>\n",
              "      <th>outcome</th>\n",
              "      <th>exists_both</th>\n",
              "      <th>exists_both_len</th>\n",
              "      <th>exist_feature</th>\n",
              "    </tr>\n",
              "  </thead>\n",
              "  <tbody>\n",
              "    <tr>\n",
              "      <th>96</th>\n",
              "      <td>97</td>\n",
              "      <td>originalQ-shortRandQ</td>\n",
              "      <td>false</td>\n",
              "      <td>[do, do, a, lead, level, in, month, old, is, b...</td>\n",
              "      <td>[should, treat, polymenorrhea, a, year, old, g...</td>\n",
              "      <td>0</td>\n",
              "      <td>{a, old}</td>\n",
              "      <td>2</td>\n",
              "      <td>1</td>\n",
              "    </tr>\n",
              "    <tr>\n",
              "      <th>156</th>\n",
              "      <td>157</td>\n",
              "      <td>originalQ-shortRandQ</td>\n",
              "      <td>false</td>\n",
              "      <td>[soon, you, ambulate, patient, a, deep, vein, ...</td>\n",
              "      <td>[i, use, low, molecular, weight, heparin, preg...</td>\n",
              "      <td>0</td>\n",
              "      <td>{patient, deep, thrombosis, vein}</td>\n",
              "      <td>4</td>\n",
              "      <td>1</td>\n",
              "    </tr>\n",
              "    <tr>\n",
              "      <th>6885</th>\n",
              "      <td>6886</td>\n",
              "      <td>originalQ-shortRandQ</td>\n",
              "      <td>false</td>\n",
              "      <td>[year, old, woman, complains, heart, feels, li...</td>\n",
              "      <td>[should, treat, polymenorrhea, a, year, old, g...</td>\n",
              "      <td>0</td>\n",
              "      <td>{year, old}</td>\n",
              "      <td>2</td>\n",
              "      <td>1</td>\n",
              "    </tr>\n",
              "    <tr>\n",
              "      <th>6400</th>\n",
              "      <td>6401</td>\n",
              "      <td>originalQ-shortRandQ</td>\n",
              "      <td>false</td>\n",
              "      <td>[guy, year, old, man, subclavian, steal, syndr...</td>\n",
              "      <td>[is, cause, treatment, this, old, man, stomati...</td>\n",
              "      <td>0</td>\n",
              "      <td>{man, old}</td>\n",
              "      <td>2</td>\n",
              "      <td>1</td>\n",
              "    </tr>\n",
              "    <tr>\n",
              "      <th>8230</th>\n",
              "      <td>8231</td>\n",
              "      <td>originalQ-shortRandQ</td>\n",
              "      <td>false</td>\n",
              "      <td>[is, differential, diagnosis, a, patient, cons...</td>\n",
              "      <td>[wonder, this, patient, could, a, rotator, cuf...</td>\n",
              "      <td>0</td>\n",
              "      <td>{patient, a}</td>\n",
              "      <td>2</td>\n",
              "      <td>1</td>\n",
              "    </tr>\n",
              "    <tr>\n",
              "      <th>6395</th>\n",
              "      <td>6396</td>\n",
              "      <td>originalQ-shortQ</td>\n",
              "      <td>true</td>\n",
              "      <td>[have, home, problem, children, one, the, kids...</td>\n",
              "      <td>[is, treatment, a, human, bite]</td>\n",
              "      <td>1</td>\n",
              "      <td>{human}</td>\n",
              "      <td>1</td>\n",
              "      <td>0</td>\n",
              "    </tr>\n",
              "    <tr>\n",
              "      <th>333</th>\n",
              "      <td>334</td>\n",
              "      <td>originalQ-shortRandQ</td>\n",
              "      <td>false</td>\n",
              "      <td>[s, crystal, clear, s, going, with, may, treat...</td>\n",
              "      <td>[should, treat, polymenorrhea, a, year, old, g...</td>\n",
              "      <td>0</td>\n",
              "      <td>{a, year, old, treat}</td>\n",
              "      <td>4</td>\n",
              "      <td>1</td>\n",
              "    </tr>\n",
              "    <tr>\n",
              "      <th>7288</th>\n",
              "      <td>7289</td>\n",
              "      <td>originalQ-shortQ</td>\n",
              "      <td>true</td>\n",
              "      <td>[month, old, intoeing, had, look, intoeing, we...</td>\n",
              "      <td>[is, approach, intoeing, children]</td>\n",
              "      <td>1</td>\n",
              "      <td>{intoeing}</td>\n",
              "      <td>1</td>\n",
              "      <td>0</td>\n",
              "    </tr>\n",
              "    <tr>\n",
              "      <th>378</th>\n",
              "      <td>379</td>\n",
              "      <td>originalQ-shortRandQ</td>\n",
              "      <td>false</td>\n",
              "      <td>[is, dose, imipramine, a, year, old, boy]</td>\n",
              "      <td>[should, treat, polymenorrhea, a, year, old, g...</td>\n",
              "      <td>0</td>\n",
              "      <td>{a, year, old}</td>\n",
              "      <td>3</td>\n",
              "      <td>1</td>\n",
              "    </tr>\n",
              "    <tr>\n",
              "      <th>6715</th>\n",
              "      <td>6716</td>\n",
              "      <td>originalQ-shortQ</td>\n",
              "      <td>true</td>\n",
              "      <td>[year, old, woman, complaining, excess, sweati...</td>\n",
              "      <td>[is, sweating]</td>\n",
              "      <td>1</td>\n",
              "      <td>{sweating}</td>\n",
              "      <td>1</td>\n",
              "      <td>0</td>\n",
              "    </tr>\n",
              "    <tr>\n",
              "      <th>5614</th>\n",
              "      <td>5615</td>\n",
              "      <td>originalQ-shortQ</td>\n",
              "      <td>true</td>\n",
              "      <td>[have, month, old, a, varicocele, the, questio...</td>\n",
              "      <td>[should, infant, a, hydrocele, referred, a, su...</td>\n",
              "      <td>1</td>\n",
              "      <td>{a}</td>\n",
              "      <td>1</td>\n",
              "      <td>0</td>\n",
              "    </tr>\n",
              "    <tr>\n",
              "      <th>5931</th>\n",
              "      <td>5932</td>\n",
              "      <td>originalQ-shortQ</td>\n",
              "      <td>true</td>\n",
              "      <td>[question, study, physician, wrote, the, data,...</td>\n",
              "      <td>[oral, contraceptive, be, used, acne]</td>\n",
              "      <td>1</td>\n",
              "      <td>{acne}</td>\n",
              "      <td>1</td>\n",
              "      <td>0</td>\n",
              "    </tr>\n",
              "    <tr>\n",
              "      <th>7954</th>\n",
              "      <td>7955</td>\n",
              "      <td>originalQ-shortRandQ</td>\n",
              "      <td>false</td>\n",
              "      <td>[dose, acyclovir, this, patient, need]</td>\n",
              "      <td>[wonder, this, patient, could, a, rotator, cuf...</td>\n",
              "      <td>0</td>\n",
              "      <td>{patient, this}</td>\n",
              "      <td>2</td>\n",
              "      <td>1</td>\n",
              "    </tr>\n",
              "    <tr>\n",
              "      <th>5875</th>\n",
              "      <td>5876</td>\n",
              "      <td>originalQ-shortRandQ</td>\n",
              "      <td>false</td>\n",
              "      <td>[year, old, volleyball, player, leg, cramps, c...</td>\n",
              "      <td>[should, treat, polymenorrhea, a, year, old, g...</td>\n",
              "      <td>0</td>\n",
              "      <td>{year, old}</td>\n",
              "      <td>2</td>\n",
              "      <td>1</td>\n",
              "    </tr>\n",
              "    <tr>\n",
              "      <th>6995</th>\n",
              "      <td>6996</td>\n",
              "      <td>originalQ-shortRandQ</td>\n",
              "      <td>false</td>\n",
              "      <td>[year, old, woman, swallowed, tongue, piercing...</td>\n",
              "      <td>[should, treat, polymenorrhea, a, year, old, g...</td>\n",
              "      <td>0</td>\n",
              "      <td>{year, old}</td>\n",
              "      <td>2</td>\n",
              "      <td>1</td>\n",
              "    </tr>\n",
              "    <tr>\n",
              "      <th>1181</th>\n",
              "      <td>1182</td>\n",
              "      <td>originalQ-shortRandQ</td>\n",
              "      <td>false</td>\n",
              "      <td>[year, old, man, total, cholesterol, low, dens...</td>\n",
              "      <td>[year, old, reserve, officers, training, corps...</td>\n",
              "      <td>0</td>\n",
              "      <td>{year, old}</td>\n",
              "      <td>2</td>\n",
              "      <td>1</td>\n",
              "    </tr>\n",
              "    <tr>\n",
              "      <th>6426</th>\n",
              "      <td>6427</td>\n",
              "      <td>originalQ-shortRandQ</td>\n",
              "      <td>false</td>\n",
              "      <td>[is, best, radiologic, test, order, rule, brai...</td>\n",
              "      <td>[what, ages, you, a, denver, developmental, sc...</td>\n",
              "      <td>0</td>\n",
              "      <td>{test, you}</td>\n",
              "      <td>2</td>\n",
              "      <td>1</td>\n",
              "    </tr>\n",
              "    <tr>\n",
              "      <th>6626</th>\n",
              "      <td>6627</td>\n",
              "      <td>originalQ-shortQ</td>\n",
              "      <td>true</td>\n",
              "      <td>[year, old, woman, bladder, cancer, last, neoa...</td>\n",
              "      <td>[is, rash]</td>\n",
              "      <td>1</td>\n",
              "      <td>{rash}</td>\n",
              "      <td>1</td>\n",
              "      <td>0</td>\n",
              "    </tr>\n",
              "    <tr>\n",
              "      <th>1164</th>\n",
              "      <td>1165</td>\n",
              "      <td>originalQ-shortRandQ</td>\n",
              "      <td>false</td>\n",
              "      <td>[patient, from, foreign, country, a, high, pre...</td>\n",
              "      <td>[what, ages, you, a, denver, developmental, sc...</td>\n",
              "      <td>0</td>\n",
              "      <td>{test, a}</td>\n",
              "      <td>2</td>\n",
              "      <td>1</td>\n",
              "    </tr>\n",
              "    <tr>\n",
              "      <th>4013</th>\n",
              "      <td>4014</td>\n",
              "      <td>originalQ-shortRandQ</td>\n",
              "      <td>false</td>\n",
              "      <td>[a, magnesium, level, normal, low, enough, treat]</td>\n",
              "      <td>[should, treat, polymenorrhea, a, year, old, g...</td>\n",
              "      <td>0</td>\n",
              "      <td>{a, treat}</td>\n",
              "      <td>2</td>\n",
              "      <td>1</td>\n",
              "    </tr>\n",
              "  </tbody>\n",
              "</table>\n",
              "</div>"
            ],
            "text/plain": [
              "       pid                  type  ... exists_both_len exist_feature\n",
              "96      97  originalQ-shortRandQ  ...               2             1\n",
              "156    157  originalQ-shortRandQ  ...               4             1\n",
              "6885  6886  originalQ-shortRandQ  ...               2             1\n",
              "6400  6401  originalQ-shortRandQ  ...               2             1\n",
              "8230  8231  originalQ-shortRandQ  ...               2             1\n",
              "6395  6396      originalQ-shortQ  ...               1             0\n",
              "333    334  originalQ-shortRandQ  ...               4             1\n",
              "7288  7289      originalQ-shortQ  ...               1             0\n",
              "378    379  originalQ-shortRandQ  ...               3             1\n",
              "6715  6716      originalQ-shortQ  ...               1             0\n",
              "5614  5615      originalQ-shortQ  ...               1             0\n",
              "5931  5932      originalQ-shortQ  ...               1             0\n",
              "7954  7955  originalQ-shortRandQ  ...               2             1\n",
              "5875  5876  originalQ-shortRandQ  ...               2             1\n",
              "6995  6996  originalQ-shortRandQ  ...               2             1\n",
              "1181  1182  originalQ-shortRandQ  ...               2             1\n",
              "6426  6427  originalQ-shortRandQ  ...               2             1\n",
              "6626  6627      originalQ-shortQ  ...               1             0\n",
              "1164  1165  originalQ-shortRandQ  ...               2             1\n",
              "4013  4014  originalQ-shortRandQ  ...               2             1\n",
              "\n",
              "[20 rows x 9 columns]"
            ]
          },
          "metadata": {
            "tags": []
          },
          "execution_count": 58
        }
      ]
    },
    {
      "cell_type": "code",
      "metadata": {
        "id": "lL4IK3HnICmk",
        "colab_type": "code",
        "outputId": "014b2466-3d0e-469d-a0dd-0326a5d6047e",
        "colab": {
          "base_uri": "https://localhost:8080/",
          "height": 69
        }
      },
      "source": [
        "incorrect_train_pred_2['outcome'].value_counts()"
      ],
      "execution_count": 0,
      "outputs": [
        {
          "output_type": "execute_result",
          "data": {
            "text/plain": [
              "0    183\n",
              "1    105\n",
              "Name: outcome, dtype: int64"
            ]
          },
          "metadata": {
            "tags": []
          },
          "execution_count": 59
        }
      ]
    },
    {
      "cell_type": "code",
      "metadata": {
        "id": "Zw-c13Fr1gia",
        "colab_type": "code",
        "outputId": "343b4c92-aa92-43ce-b092-08fdd0366fee",
        "colab": {
          "base_uri": "https://localhost:8080/",
          "height": 397
        }
      },
      "source": [
        "incorrect_train_pred_2.exists_both = incorrect_train_pred_2.exists_both.apply(list)\n",
        "incorrect_train_pred_2.exists_both = incorrect_train_pred_2.exists_both.apply(', '.join)\n",
        "incorrect_train_pred_2.head()"
      ],
      "execution_count": 0,
      "outputs": [
        {
          "output_type": "stream",
          "text": [
            "/usr/local/lib/python3.6/dist-packages/pandas/core/generic.py:5096: SettingWithCopyWarning: \n",
            "A value is trying to be set on a copy of a slice from a DataFrame.\n",
            "Try using .loc[row_indexer,col_indexer] = value instead\n",
            "\n",
            "See the caveats in the documentation: http://pandas.pydata.org/pandas-docs/stable/indexing.html#indexing-view-versus-copy\n",
            "  self[name] = value\n"
          ],
          "name": "stderr"
        },
        {
          "output_type": "execute_result",
          "data": {
            "text/html": [
              "<div>\n",
              "<style scoped>\n",
              "    .dataframe tbody tr th:only-of-type {\n",
              "        vertical-align: middle;\n",
              "    }\n",
              "\n",
              "    .dataframe tbody tr th {\n",
              "        vertical-align: top;\n",
              "    }\n",
              "\n",
              "    .dataframe thead th {\n",
              "        text-align: right;\n",
              "    }\n",
              "</style>\n",
              "<table border=\"1\" class=\"dataframe\">\n",
              "  <thead>\n",
              "    <tr style=\"text-align: right;\">\n",
              "      <th></th>\n",
              "      <th>pid</th>\n",
              "      <th>type</th>\n",
              "      <th>value</th>\n",
              "      <th>chq</th>\n",
              "      <th>faq</th>\n",
              "      <th>outcome</th>\n",
              "      <th>exists_both</th>\n",
              "      <th>exists_both_len</th>\n",
              "      <th>exist_feature</th>\n",
              "    </tr>\n",
              "  </thead>\n",
              "  <tbody>\n",
              "    <tr>\n",
              "      <th>96</th>\n",
              "      <td>97</td>\n",
              "      <td>originalQ-shortRandQ</td>\n",
              "      <td>false</td>\n",
              "      <td>[do, do, a, lead, level, in, month, old, is, b...</td>\n",
              "      <td>[should, treat, polymenorrhea, a, year, old, g...</td>\n",
              "      <td>0</td>\n",
              "      <td>a, old</td>\n",
              "      <td>2</td>\n",
              "      <td>1</td>\n",
              "    </tr>\n",
              "    <tr>\n",
              "      <th>156</th>\n",
              "      <td>157</td>\n",
              "      <td>originalQ-shortRandQ</td>\n",
              "      <td>false</td>\n",
              "      <td>[soon, you, ambulate, patient, a, deep, vein, ...</td>\n",
              "      <td>[i, use, low, molecular, weight, heparin, preg...</td>\n",
              "      <td>0</td>\n",
              "      <td>patient, deep, thrombosis, vein</td>\n",
              "      <td>4</td>\n",
              "      <td>1</td>\n",
              "    </tr>\n",
              "    <tr>\n",
              "      <th>6885</th>\n",
              "      <td>6886</td>\n",
              "      <td>originalQ-shortRandQ</td>\n",
              "      <td>false</td>\n",
              "      <td>[year, old, woman, complains, heart, feels, li...</td>\n",
              "      <td>[should, treat, polymenorrhea, a, year, old, g...</td>\n",
              "      <td>0</td>\n",
              "      <td>year, old</td>\n",
              "      <td>2</td>\n",
              "      <td>1</td>\n",
              "    </tr>\n",
              "    <tr>\n",
              "      <th>6400</th>\n",
              "      <td>6401</td>\n",
              "      <td>originalQ-shortRandQ</td>\n",
              "      <td>false</td>\n",
              "      <td>[guy, year, old, man, subclavian, steal, syndr...</td>\n",
              "      <td>[is, cause, treatment, this, old, man, stomati...</td>\n",
              "      <td>0</td>\n",
              "      <td>man, old</td>\n",
              "      <td>2</td>\n",
              "      <td>1</td>\n",
              "    </tr>\n",
              "    <tr>\n",
              "      <th>8230</th>\n",
              "      <td>8231</td>\n",
              "      <td>originalQ-shortRandQ</td>\n",
              "      <td>false</td>\n",
              "      <td>[is, differential, diagnosis, a, patient, cons...</td>\n",
              "      <td>[wonder, this, patient, could, a, rotator, cuf...</td>\n",
              "      <td>0</td>\n",
              "      <td>patient, a</td>\n",
              "      <td>2</td>\n",
              "      <td>1</td>\n",
              "    </tr>\n",
              "  </tbody>\n",
              "</table>\n",
              "</div>"
            ],
            "text/plain": [
              "       pid                  type  ... exists_both_len exist_feature\n",
              "96      97  originalQ-shortRandQ  ...               2             1\n",
              "156    157  originalQ-shortRandQ  ...               4             1\n",
              "6885  6886  originalQ-shortRandQ  ...               2             1\n",
              "6400  6401  originalQ-shortRandQ  ...               2             1\n",
              "8230  8231  originalQ-shortRandQ  ...               2             1\n",
              "\n",
              "[5 rows x 9 columns]"
            ]
          },
          "metadata": {
            "tags": []
          },
          "execution_count": 77
        }
      ]
    },
    {
      "cell_type": "markdown",
      "metadata": {
        "id": "jlCDU06jIHmN",
        "colab_type": "text"
      },
      "source": [
        "Now it seems we are hitting a point where the sentences are extremely similar, so we need to develop a more nuanced rule.\n",
        "\n",
        "Most of our incorrect predictions for this classifier were false positives (predicted 1 but is actually 0), so we'll build our next rule to guard against that.\n",
        "\n",
        "There seems to be words that are frequently found in both chq and faq, but don't have anything to do with the meaning (ex. a, old). Let's build a brief dictionary of these terms and see if we can exclude that in our classifier.\n"
      ]
    },
    {
      "cell_type": "code",
      "metadata": {
        "id": "RRq2bVMEIHBE",
        "colab_type": "code",
        "outputId": "8a284615-337a-4ba4-8e6b-9c7a1e9a4195",
        "colab": {
          "base_uri": "https://localhost:8080/",
          "height": 1000
        }
      },
      "source": [
        "Counter(incorrect_train_pred_2.exists_both).most_common(100)"
      ],
      "execution_count": 0,
      "outputs": [
        {
          "output_type": "execute_result",
          "data": {
            "text/plain": [
              "[('year, old', 40),\n",
              " ('a, year, old', 18),\n",
              " ('', 13),\n",
              " ('patient, a', 8),\n",
              " ('a, old', 6),\n",
              " ('is, dose', 6),\n",
              " ('girl, year, old', 6),\n",
              " ('i, patient', 5),\n",
              " ('i, use', 4),\n",
              " ('is, patient', 4),\n",
              " ('man, old', 3),\n",
              " ('a', 3),\n",
              " ('should, a', 3),\n",
              " ('the', 3),\n",
              " ('a, year, old, treat', 2),\n",
              " ('patient, this', 2),\n",
              " ('rash', 2),\n",
              " ('a, treat', 2),\n",
              " ('enuresis', 2),\n",
              " ('is, good', 2),\n",
              " ('herpes', 2),\n",
              " ('the, treat', 2),\n",
              " ('is', 2),\n",
              " ('s, t', 2),\n",
              " ('thyroid', 2),\n",
              " ('should, year, old', 2),\n",
              " ('girl, old', 2),\n",
              " ('weeks, a', 2),\n",
              " ('is, the', 2),\n",
              " ('did, the', 2),\n",
              " ('woman', 2),\n",
              " ('prostate', 2),\n",
              " ('patient, a, do', 2),\n",
              " ('girl, a', 2),\n",
              " ('immunizations', 2),\n",
              " ('dose', 2),\n",
              " ('patient, deep, thrombosis, vein', 1),\n",
              " ('human', 1),\n",
              " ('intoeing', 1),\n",
              " ('sweating', 1),\n",
              " ('acne', 1),\n",
              " ('test, you', 1),\n",
              " ('test, a', 1),\n",
              " ('is, old', 1),\n",
              " ('i, this', 1),\n",
              " ('do', 1),\n",
              " ('barrett', 1),\n",
              " ('hyperthyroidism', 1),\n",
              " ('liver', 1),\n",
              " ('stachybotrys', 1),\n",
              " ('hours', 1),\n",
              " ('zantac', 1),\n",
              " ('hemoglobinopathy', 1),\n",
              " ('s, give', 1),\n",
              " ('portacath', 1),\n",
              " ('old, can', 1),\n",
              " ('patient, infected', 1),\n",
              " ('screening', 1),\n",
              " ('give, t', 1),\n",
              " ('sulfur', 1),\n",
              " ('is, it, the', 1),\n",
              " ('sigmoidoscopy', 1),\n",
              " ('i, old', 1),\n",
              " ('i, foot', 1),\n",
              " ('to, would', 1),\n",
              " ('this, diabetic', 1),\n",
              " ('patient, a, this', 1),\n",
              " ('tibia', 1),\n",
              " ('nail', 1),\n",
              " ('is, this', 1),\n",
              " ('a, what', 1),\n",
              " ('medications', 1),\n",
              " ('we, this', 1),\n",
              " ('should, treat', 1),\n",
              " ('methylprednisolone', 1),\n",
              " ('aricept', 1),\n",
              " ('woman, cause', 1),\n",
              " ('patient, last', 1),\n",
              " ('von', 1),\n",
              " ('i, low', 1),\n",
              " ('effexor', 1),\n",
              " ('celexa', 1),\n",
              " ('this, man, old', 1),\n",
              " ('i, year, old', 1),\n",
              " ('blepharitis', 1),\n",
              " ('heparin, low, weight, molecular', 1),\n",
              " ('rhinomanometry', 1),\n",
              " ('drops', 1),\n",
              " ('i, patient, low, weight', 1),\n",
              " ('distal', 1),\n",
              " ('patient, rash', 1),\n",
              " ('woman, year, old', 1),\n",
              " ('vision, blurred', 1),\n",
              " ('gynecomastia', 1),\n",
              " ('is, name', 1),\n",
              " ('a, you', 1),\n",
              " ('is, year, old', 1),\n",
              " ('microcytosis', 1),\n",
              " ('anticoagulation', 1),\n",
              " ('tachycardia', 1)]"
            ]
          },
          "metadata": {
            "tags": []
          },
          "execution_count": 78
        }
      ]
    },
    {
      "cell_type": "code",
      "metadata": {
        "id": "Srh_E3Pu2EvR",
        "colab_type": "code",
        "colab": {}
      },
      "source": [
        "nonrel_words = ['year', 'old', 'a', 'years', 'patient', 'girl', 'i']"
      ],
      "execution_count": 0,
      "outputs": []
    },
    {
      "cell_type": "code",
      "metadata": {
        "id": "tM35I7432VY0",
        "colab_type": "code",
        "outputId": "ea856f50-af5b-4789-cb65-cf65d652ecb0",
        "colab": {
          "base_uri": "https://localhost:8080/",
          "height": 347
        }
      },
      "source": [
        "# Re-calculate common text feature\n",
        "x_train['exists_both'] = [set(x[3]) & set(x[4]) for x in x_train.values]\n",
        "# iterate over the dataframe row by row\n",
        "for index_label, row_series in x_train.iterrows():\n",
        "   # For each row update the exists_both variable\n",
        "   for word in nonrel_words:\n",
        "    if word in x_train.at[index_label, 'exists_both']:\n",
        "      x_train.at[index_label , 'exists_both'].remove(word)\n",
        "x_train['exists_both_len'] = x_train['exists_both'].apply(len)\n",
        "x_train['exist_feature'] = np.where(x_train['exists_both_len'] > 1, 1, 0)\n",
        "\n",
        "train_pred_3 = x_train[x_train['exist_feature'] == x_train['outcome']]\n",
        "train_pred_3.shape"
      ],
      "execution_count": 0,
      "outputs": [
        {
          "output_type": "stream",
          "text": [
            "/usr/local/lib/python3.6/dist-packages/ipykernel_launcher.py:1: SettingWithCopyWarning: \n",
            "A value is trying to be set on a copy of a slice from a DataFrame.\n",
            "Try using .loc[row_indexer,col_indexer] = value instead\n",
            "\n",
            "See the caveats in the documentation: http://pandas.pydata.org/pandas-docs/stable/indexing.html#indexing-view-versus-copy\n",
            "  \"\"\"Entry point for launching an IPython kernel.\n",
            "/usr/local/lib/python3.6/dist-packages/ipykernel_launcher.py:8: SettingWithCopyWarning: \n",
            "A value is trying to be set on a copy of a slice from a DataFrame.\n",
            "Try using .loc[row_indexer,col_indexer] = value instead\n",
            "\n",
            "See the caveats in the documentation: http://pandas.pydata.org/pandas-docs/stable/indexing.html#indexing-view-versus-copy\n",
            "  \n",
            "/usr/local/lib/python3.6/dist-packages/ipykernel_launcher.py:9: SettingWithCopyWarning: \n",
            "A value is trying to be set on a copy of a slice from a DataFrame.\n",
            "Try using .loc[row_indexer,col_indexer] = value instead\n",
            "\n",
            "See the caveats in the documentation: http://pandas.pydata.org/pandas-docs/stable/indexing.html#indexing-view-versus-copy\n",
            "  if __name__ == '__main__':\n"
          ],
          "name": "stderr"
        },
        {
          "output_type": "execute_result",
          "data": {
            "text/plain": [
              "(6703, 9)"
            ]
          },
          "metadata": {
            "tags": []
          },
          "execution_count": 96
        }
      ]
    },
    {
      "cell_type": "code",
      "metadata": {
        "id": "pJFbb-ro4AuU",
        "colab_type": "code",
        "outputId": "14ea3f83-1911-4b64-ae0d-8c0a5bf85e29",
        "colab": {
          "base_uri": "https://localhost:8080/",
          "height": 34
        }
      },
      "source": [
        "incorrect_train_pred_3 = x_train[x_train['exist_feature'] != x_train['outcome']]\n",
        "incorrect_train_pred_3.shape"
      ],
      "execution_count": 0,
      "outputs": [
        {
          "output_type": "execute_result",
          "data": {
            "text/plain": [
              "(167, 9)"
            ]
          },
          "metadata": {
            "tags": []
          },
          "execution_count": 97
        }
      ]
    },
    {
      "cell_type": "code",
      "metadata": {
        "id": "GpPOg5V84WMB",
        "colab_type": "code",
        "outputId": "924b5313-7b23-4cc7-c347-b69218ab398a",
        "colab": {
          "base_uri": "https://localhost:8080/",
          "height": 52
        }
      },
      "source": [
        "print('Majority Classifier Train Accuracy:',3739/(3739+3131))\n",
        "print('Exact Match w/no stopwords or nonrelevant words > 1 Classifier Train Accuracy:',6703/(3739+3131))"
      ],
      "execution_count": 0,
      "outputs": [
        {
          "output_type": "stream",
          "text": [
            "Majority Classifier Train Accuracy: 0.5442503639010189\n",
            "Exact Match w/no stopwords or nonrelevant words > 1 Classifier Train Accuracy: 0.9756914119359534\n"
          ],
          "name": "stdout"
        }
      ]
    },
    {
      "cell_type": "code",
      "metadata": {
        "id": "n5IbHMDx4f5F",
        "colab_type": "code",
        "outputId": "260d1d8a-5151-4681-9cd8-eef8bd939120",
        "colab": {
          "base_uri": "https://localhost:8080/",
          "height": 451
        }
      },
      "source": [
        "# Test classifier\n",
        "# Re-calculate common text feature\n",
        "x_test['exists_both'] = [set(x[3]) & set(x[4]) for x in x_test.values]\n",
        "# iterate over the dataframe row by row\n",
        "for index_label, row_series in x_test.iterrows():\n",
        "   # For each row update the exists_both variable\n",
        "   for word in nonrel_words:\n",
        "    if word in x_test.at[index_label, 'exists_both']:\n",
        "      x_test.at[index_label , 'exists_both'].remove(word)\n",
        "x_test['exists_both'] = [set(x[3]) & set(x[4]) for x in x_test.values]\n",
        "x_test['exists_both_len'] = x_test['exists_both'].apply(len)\n",
        "x_test['exist_feature'] = np.where(x_test['exists_both_len'] > 1, 1, 0)\n",
        "pred_3 = x_test[x_test['exist_feature'] == x_test['outcome']]\n",
        "pred_3.shape"
      ],
      "execution_count": 0,
      "outputs": [
        {
          "output_type": "stream",
          "text": [
            "/usr/local/lib/python3.6/dist-packages/ipykernel_launcher.py:1: SettingWithCopyWarning: \n",
            "A value is trying to be set on a copy of a slice from a DataFrame.\n",
            "Try using .loc[row_indexer,col_indexer] = value instead\n",
            "\n",
            "See the caveats in the documentation: http://pandas.pydata.org/pandas-docs/stable/indexing.html#indexing-view-versus-copy\n",
            "  \"\"\"Entry point for launching an IPython kernel.\n",
            "/usr/local/lib/python3.6/dist-packages/ipykernel_launcher.py:8: SettingWithCopyWarning: \n",
            "A value is trying to be set on a copy of a slice from a DataFrame.\n",
            "Try using .loc[row_indexer,col_indexer] = value instead\n",
            "\n",
            "See the caveats in the documentation: http://pandas.pydata.org/pandas-docs/stable/indexing.html#indexing-view-versus-copy\n",
            "  \n",
            "/usr/local/lib/python3.6/dist-packages/ipykernel_launcher.py:9: SettingWithCopyWarning: \n",
            "A value is trying to be set on a copy of a slice from a DataFrame.\n",
            "Try using .loc[row_indexer,col_indexer] = value instead\n",
            "\n",
            "See the caveats in the documentation: http://pandas.pydata.org/pandas-docs/stable/indexing.html#indexing-view-versus-copy\n",
            "  if __name__ == '__main__':\n",
            "/usr/local/lib/python3.6/dist-packages/ipykernel_launcher.py:10: SettingWithCopyWarning: \n",
            "A value is trying to be set on a copy of a slice from a DataFrame.\n",
            "Try using .loc[row_indexer,col_indexer] = value instead\n",
            "\n",
            "See the caveats in the documentation: http://pandas.pydata.org/pandas-docs/stable/indexing.html#indexing-view-versus-copy\n",
            "  # Remove the CWD from sys.path while we load stuff.\n"
          ],
          "name": "stderr"
        },
        {
          "output_type": "execute_result",
          "data": {
            "text/plain": [
              "(1648, 9)"
            ]
          },
          "metadata": {
            "tags": []
          },
          "execution_count": 99
        }
      ]
    },
    {
      "cell_type": "code",
      "metadata": {
        "id": "c2i5kFX34x-l",
        "colab_type": "code",
        "outputId": "96161054-d01b-478e-8033-4299a77e1244",
        "colab": {
          "base_uri": "https://localhost:8080/",
          "height": 34
        }
      },
      "source": [
        "incorrect_pred_3 = x_test[x_test['exist_feature'] != x_test['outcome']]\n",
        "incorrect_pred_3.shape"
      ],
      "execution_count": 0,
      "outputs": [
        {
          "output_type": "execute_result",
          "data": {
            "text/plain": [
              "(70, 9)"
            ]
          },
          "metadata": {
            "tags": []
          },
          "execution_count": 100
        }
      ]
    },
    {
      "cell_type": "code",
      "metadata": {
        "id": "9ifkrTbk43UC",
        "colab_type": "code",
        "outputId": "440135cb-24a9-4596-ffaa-99c671f577dc",
        "colab": {
          "base_uri": "https://localhost:8080/",
          "height": 52
        }
      },
      "source": [
        "print('Majority Classifier Test Accuracy:',916/(916+802))\n",
        "print('Exact Match w/no stopwords or nonrelevant words > 1 Classifier Test Accuracy:',1648/(916+802))"
      ],
      "execution_count": 0,
      "outputs": [
        {
          "output_type": "stream",
          "text": [
            "Majority Classifier Test Accuracy: 0.5331781140861467\n",
            "Exact Match w/no stopwords or nonrelevant words > 1 Classifier Test Accuracy: 0.959254947613504\n"
          ],
          "name": "stdout"
        }
      ]
    },
    {
      "cell_type": "markdown",
      "metadata": {
        "id": "d0iC6_024_YY",
        "colab_type": "text"
      },
      "source": [
        "Train accuracy improved from ~95% -> ~97%, but test accuracy was exact same. "
      ]
    },
    {
      "cell_type": "code",
      "metadata": {
        "id": "in8IeSBw4-gg",
        "colab_type": "code",
        "colab": {}
      },
      "source": [
        ""
      ],
      "execution_count": 0,
      "outputs": []
    }
  ]
}