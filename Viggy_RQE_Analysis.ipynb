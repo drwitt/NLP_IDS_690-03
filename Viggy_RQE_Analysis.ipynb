{
  "nbformat": 4,
  "nbformat_minor": 0,
  "metadata": {
    "colab": {
      "name": "RQE_Analysis.ipynb",
      "version": "0.3.2",
      "provenance": [],
      "collapsed_sections": [],
      "include_colab_link": true
    },
    "kernelspec": {
      "name": "python3",
      "display_name": "Python 3"
    },
    "accelerator": "GPU"
  },
  "cells": [
    {
      "cell_type": "markdown",
      "metadata": {
        "id": "view-in-github",
        "colab_type": "text"
      },
      "source": [
        "<a href=\"https://colab.research.google.com/github/drwitt/NLP_IDS_690-03/blob/master/Viggy_RQE_Analysis.ipynb\" target=\"_parent\"><img src=\"https://colab.research.google.com/assets/colab-badge.svg\" alt=\"Open In Colab\"/></a>"
      ]
    },
    {
      "cell_type": "code",
      "metadata": {
        "id": "69TCvatAvYSE",
        "colab_type": "code",
        "colab": {}
      },
      "source": [
        "# RQE Analysis\n",
        "# Viggy Kumaresan"
      ],
      "execution_count": 0,
      "outputs": []
    },
    {
      "cell_type": "code",
      "metadata": {
        "id": "ye7rzUEivi5J",
        "colab_type": "code",
        "colab": {}
      },
      "source": [
        "import pandas as pd\n",
        "import numpy as np\n",
        "import matplotlib.pyplot as plt\n",
        "import seaborn as sns\n",
        "import xml.etree.ElementTree as ET\n",
        "import nltk\n",
        "import re"
      ],
      "execution_count": 0,
      "outputs": []
    },
    {
      "cell_type": "markdown",
      "metadata": {
        "id": "SmOAdTPx82xR",
        "colab_type": "text"
      },
      "source": [
        "Before starting, first download XML files from Github repository (https://github.com/abachaa/RQE_Data_AMIA2016) and upload to Colab. "
      ]
    },
    {
      "cell_type": "code",
      "metadata": {
        "id": "65JFoY2Ovnpf",
        "colab_type": "code",
        "colab": {}
      },
      "source": [
        "# Import Train and Text XML files\n",
        "def parse_XML(xml_file, df_cols): \n",
        "    \"\"\"Parse the input XML file and store the result in a pandas \n",
        "    DataFrame with the given columns. \n",
        "    \n",
        "    The first element of df_cols is supposed to be the identifier \n",
        "    variable, which is an attribute of each node element in the \n",
        "    XML data; other features will be parsed from the text content \n",
        "    of each sub-element. \n",
        "    \"\"\"\n",
        "    \n",
        "    xtree = ET.parse(xml_file)\n",
        "    xroot = xtree.getroot()\n",
        "    rows = []\n",
        "    \n",
        "    for node in xroot: \n",
        "        res = []\n",
        "        res.append(node.attrib.get(df_cols[0]))\n",
        "        res.append(node.attrib.get(df_cols[1]))\n",
        "        res.append(node.attrib.get(df_cols[2]))\n",
        "        for el in df_cols[3:]: \n",
        "            if node is not None and node.find(el) is not None:\n",
        "                res.append(node.find(el).text)\n",
        "            else: \n",
        "                res.append(None)\n",
        "        rows.append({df_cols[i]: res[i] \n",
        "                     for i, _ in enumerate(df_cols)})\n",
        "    \n",
        "    out_df = pd.DataFrame(rows, columns=df_cols)\n",
        "        \n",
        "    return out_df"
      ],
      "execution_count": 0,
      "outputs": []
    },
    {
      "cell_type": "code",
      "metadata": {
        "id": "M8nNcthRB2co",
        "colab_type": "code",
        "colab": {
          "resources": {
            "http://localhost:8080/nbextensions/google.colab/files.js": {
              "data": "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",
              "ok": true,
              "headers": [
                [
                  "content-type",
                  "application/javascript"
                ]
              ],
              "status": 200,
              "status_text": ""
            }
          },
          "base_uri": "https://localhost:8080/",
          "height": 71
        },
        "outputId": "46cc7d05-9c64-46bc-abb4-d08775a7b89f"
      },
      "source": [
        "from google.colab import files\n",
        "uploaded = files.upload()"
      ],
      "execution_count": 27,
      "outputs": [
        {
          "output_type": "display_data",
          "data": {
            "text/html": [
              "\n",
              "     <input type=\"file\" id=\"files-5c250e32-c171-4ba5-abdf-9ff261174419\" name=\"files[]\" multiple disabled />\n",
              "     <output id=\"result-5c250e32-c171-4ba5-abdf-9ff261174419\">\n",
              "      Upload widget is only available when the cell has been executed in the\n",
              "      current browser session. Please rerun this cell to enable.\n",
              "      </output>\n",
              "      <script src=\"/nbextensions/google.colab/files.js\"></script> "
            ],
            "text/plain": [
              "<IPython.core.display.HTML object>"
            ]
          },
          "metadata": {
            "tags": []
          }
        },
        {
          "output_type": "stream",
          "text": [
            "Saving RQE_Test_302_pairs_AMIA2016.xml to RQE_Test_302_pairs_AMIA2016.xml\n"
          ],
          "name": "stdout"
        }
      ]
    },
    {
      "cell_type": "code",
      "metadata": {
        "id": "-Ir2hVF9yLZ-",
        "colab_type": "code",
        "colab": {}
      },
      "source": [
        "train = parse_XML('/content/RQE_Train_8588_AMIA2016.xml', ['pid', 'type', 'value', 'chq', 'faq'])"
      ],
      "execution_count": 0,
      "outputs": []
    },
    {
      "cell_type": "code",
      "metadata": {
        "id": "ZsInN9cixnp4",
        "colab_type": "code",
        "outputId": "6dd1ba02-42e3-4ca6-8b05-76ff4e2ee901",
        "colab": {
          "base_uri": "https://localhost:8080/",
          "height": 204
        }
      },
      "source": [
        "train.head()"
      ],
      "execution_count": 19,
      "outputs": [
        {
          "output_type": "execute_result",
          "data": {
            "text/html": [
              "<div>\n",
              "<style scoped>\n",
              "    .dataframe tbody tr th:only-of-type {\n",
              "        vertical-align: middle;\n",
              "    }\n",
              "\n",
              "    .dataframe tbody tr th {\n",
              "        vertical-align: top;\n",
              "    }\n",
              "\n",
              "    .dataframe thead th {\n",
              "        text-align: right;\n",
              "    }\n",
              "</style>\n",
              "<table border=\"1\" class=\"dataframe\">\n",
              "  <thead>\n",
              "    <tr style=\"text-align: right;\">\n",
              "      <th></th>\n",
              "      <th>pid</th>\n",
              "      <th>type</th>\n",
              "      <th>value</th>\n",
              "      <th>chq</th>\n",
              "      <th>faq</th>\n",
              "    </tr>\n",
              "  </thead>\n",
              "  <tbody>\n",
              "    <tr>\n",
              "      <th>0</th>\n",
              "      <td>1</td>\n",
              "      <td>originalQ-shortQ</td>\n",
              "      <td>true</td>\n",
              "      <td>\\n   How should I treat polymenorrhea in a 14-...</td>\n",
              "      <td>\\n   How should I treat polymenorrhea in a 14-...</td>\n",
              "    </tr>\n",
              "    <tr>\n",
              "      <th>1</th>\n",
              "      <td>2</td>\n",
              "      <td>originalQ-shortQ</td>\n",
              "      <td>true</td>\n",
              "      <td>\\n   Have there been any studies with low mole...</td>\n",
              "      <td>\\n   Can I use low molecular weight heparin in...</td>\n",
              "    </tr>\n",
              "    <tr>\n",
              "      <th>2</th>\n",
              "      <td>3</td>\n",
              "      <td>originalQ-shortRandQ</td>\n",
              "      <td>false</td>\n",
              "      <td>\\n   Have there been any studies with low mole...</td>\n",
              "      <td>\\n   What are the side effects of Florinef?  C...</td>\n",
              "    </tr>\n",
              "    <tr>\n",
              "      <th>3</th>\n",
              "      <td>4</td>\n",
              "      <td>originalQ-shortQ</td>\n",
              "      <td>true</td>\n",
              "      <td>\\n   Let's give these immunizations.  That's r...</td>\n",
              "      <td>\\n   Let's give these immunizations.  That's r...</td>\n",
              "    </tr>\n",
              "    <tr>\n",
              "      <th>4</th>\n",
              "      <td>5</td>\n",
              "      <td>originalQ-shortRandQ</td>\n",
              "      <td>false</td>\n",
              "      <td>\\n   Let's give these immunizations.  That's r...</td>\n",
              "      <td>\\n   Is there more support we can provide pati...</td>\n",
              "    </tr>\n",
              "  </tbody>\n",
              "</table>\n",
              "</div>"
            ],
            "text/plain": [
              "  pid  ...                                                faq\n",
              "0   1  ...  \\n   How should I treat polymenorrhea in a 14-...\n",
              "1   2  ...  \\n   Can I use low molecular weight heparin in...\n",
              "2   3  ...  \\n   What are the side effects of Florinef?  C...\n",
              "3   4  ...  \\n   Let's give these immunizations.  That's r...\n",
              "4   5  ...  \\n   Is there more support we can provide pati...\n",
              "\n",
              "[5 rows x 5 columns]"
            ]
          },
          "metadata": {
            "tags": []
          },
          "execution_count": 19
        }
      ]
    },
    {
      "cell_type": "code",
      "metadata": {
        "id": "PUaQ1MzVx1Oi",
        "colab_type": "code",
        "colab": {}
      },
      "source": [
        "test = parse_XML('/content/RQE_Test_302_pairs_AMIA2016.xml', ['pid', 'type', 'value', 'chq', 'faq'])"
      ],
      "execution_count": 0,
      "outputs": []
    },
    {
      "cell_type": "code",
      "metadata": {
        "id": "Op1jMdW65_Fr",
        "colab_type": "code",
        "outputId": "d3403652-5d56-416d-f853-355733f97c87",
        "colab": {
          "base_uri": "https://localhost:8080/",
          "height": 204
        }
      },
      "source": [
        "test.head()"
      ],
      "execution_count": 30,
      "outputs": [
        {
          "output_type": "execute_result",
          "data": {
            "text/html": [
              "<div>\n",
              "<style scoped>\n",
              "    .dataframe tbody tr th:only-of-type {\n",
              "        vertical-align: middle;\n",
              "    }\n",
              "\n",
              "    .dataframe tbody tr th {\n",
              "        vertical-align: top;\n",
              "    }\n",
              "\n",
              "    .dataframe thead th {\n",
              "        text-align: right;\n",
              "    }\n",
              "</style>\n",
              "<table border=\"1\" class=\"dataframe\">\n",
              "  <thead>\n",
              "    <tr style=\"text-align: right;\">\n",
              "      <th></th>\n",
              "      <th>pid</th>\n",
              "      <th>type</th>\n",
              "      <th>value</th>\n",
              "      <th>chq</th>\n",
              "      <th>faq</th>\n",
              "    </tr>\n",
              "  </thead>\n",
              "  <tbody>\n",
              "    <tr>\n",
              "      <th>0</th>\n",
              "      <td>1</td>\n",
              "      <td>part1</td>\n",
              "      <td>false</td>\n",
              "      <td>High Blood Pressure. I know you may not answer...</td>\n",
              "      <td>What is High Blood Pressure?</td>\n",
              "    </tr>\n",
              "    <tr>\n",
              "      <th>1</th>\n",
              "      <td>2</td>\n",
              "      <td>part1</td>\n",
              "      <td>false</td>\n",
              "      <td>Arrhythmia. can arrhythmia occurs after ablati...</td>\n",
              "      <td>What is an Arrhythmia?</td>\n",
              "    </tr>\n",
              "    <tr>\n",
              "      <th>2</th>\n",
              "      <td>3</td>\n",
              "      <td>part1</td>\n",
              "      <td>false</td>\n",
              "      <td>medicine and allied. I LIKE TO KNOW RECENT THE...</td>\n",
              "      <td>What is an Arrhythmia?</td>\n",
              "    </tr>\n",
              "    <tr>\n",
              "      <th>3</th>\n",
              "      <td>4</td>\n",
              "      <td>part1</td>\n",
              "      <td>false</td>\n",
              "      <td>EAR LOBE CREASES. Are ear lobe creases always ...</td>\n",
              "      <td>What is Coronary Heart Disease?</td>\n",
              "    </tr>\n",
              "    <tr>\n",
              "      <th>4</th>\n",
              "      <td>5</td>\n",
              "      <td>part1</td>\n",
              "      <td>false</td>\n",
              "      <td>sleep apnea. I was diagnosed with sleep apnea ...</td>\n",
              "      <td>What is Sleep Apnea?</td>\n",
              "    </tr>\n",
              "  </tbody>\n",
              "</table>\n",
              "</div>"
            ],
            "text/plain": [
              "  pid  ...                              faq\n",
              "0   1  ...     What is High Blood Pressure?\n",
              "1   2  ...           What is an Arrhythmia?\n",
              "2   3  ...           What is an Arrhythmia?\n",
              "3   4  ...  What is Coronary Heart Disease?\n",
              "4   5  ...             What is Sleep Apnea?\n",
              "\n",
              "[5 rows x 5 columns]"
            ]
          },
          "metadata": {
            "tags": []
          },
          "execution_count": 30
        }
      ]
    },
    {
      "cell_type": "code",
      "metadata": {
        "id": "40YDheu95_rc",
        "colab_type": "code",
        "outputId": "6794aeb8-9fbe-46e8-fab3-1d8d7e35fe48",
        "colab": {
          "base_uri": "https://localhost:8080/",
          "height": 204
        }
      },
      "source": [
        "# Binarize outcome variable\n",
        "train['outcome'] = np.where(train['value'] == 'true', 1, 0)\n",
        "test['outcome'] = np.where(test['value'] == 'true', 1, 0)\n",
        "train.head()"
      ],
      "execution_count": 31,
      "outputs": [
        {
          "output_type": "execute_result",
          "data": {
            "text/html": [
              "<div>\n",
              "<style scoped>\n",
              "    .dataframe tbody tr th:only-of-type {\n",
              "        vertical-align: middle;\n",
              "    }\n",
              "\n",
              "    .dataframe tbody tr th {\n",
              "        vertical-align: top;\n",
              "    }\n",
              "\n",
              "    .dataframe thead th {\n",
              "        text-align: right;\n",
              "    }\n",
              "</style>\n",
              "<table border=\"1\" class=\"dataframe\">\n",
              "  <thead>\n",
              "    <tr style=\"text-align: right;\">\n",
              "      <th></th>\n",
              "      <th>pid</th>\n",
              "      <th>type</th>\n",
              "      <th>value</th>\n",
              "      <th>chq</th>\n",
              "      <th>faq</th>\n",
              "      <th>outcome</th>\n",
              "    </tr>\n",
              "  </thead>\n",
              "  <tbody>\n",
              "    <tr>\n",
              "      <th>0</th>\n",
              "      <td>1</td>\n",
              "      <td>originalQ-shortQ</td>\n",
              "      <td>true</td>\n",
              "      <td>\\n   How should I treat polymenorrhea in a 14-...</td>\n",
              "      <td>\\n   How should I treat polymenorrhea in a 14-...</td>\n",
              "      <td>1</td>\n",
              "    </tr>\n",
              "    <tr>\n",
              "      <th>1</th>\n",
              "      <td>2</td>\n",
              "      <td>originalQ-shortQ</td>\n",
              "      <td>true</td>\n",
              "      <td>\\n   Have there been any studies with low mole...</td>\n",
              "      <td>\\n   Can I use low molecular weight heparin in...</td>\n",
              "      <td>1</td>\n",
              "    </tr>\n",
              "    <tr>\n",
              "      <th>2</th>\n",
              "      <td>3</td>\n",
              "      <td>originalQ-shortRandQ</td>\n",
              "      <td>false</td>\n",
              "      <td>\\n   Have there been any studies with low mole...</td>\n",
              "      <td>\\n   What are the side effects of Florinef?  C...</td>\n",
              "      <td>0</td>\n",
              "    </tr>\n",
              "    <tr>\n",
              "      <th>3</th>\n",
              "      <td>4</td>\n",
              "      <td>originalQ-shortQ</td>\n",
              "      <td>true</td>\n",
              "      <td>\\n   Let's give these immunizations.  That's r...</td>\n",
              "      <td>\\n   Let's give these immunizations.  That's r...</td>\n",
              "      <td>1</td>\n",
              "    </tr>\n",
              "    <tr>\n",
              "      <th>4</th>\n",
              "      <td>5</td>\n",
              "      <td>originalQ-shortRandQ</td>\n",
              "      <td>false</td>\n",
              "      <td>\\n   Let's give these immunizations.  That's r...</td>\n",
              "      <td>\\n   Is there more support we can provide pati...</td>\n",
              "      <td>0</td>\n",
              "    </tr>\n",
              "  </tbody>\n",
              "</table>\n",
              "</div>"
            ],
            "text/plain": [
              "  pid  ... outcome\n",
              "0   1  ...       1\n",
              "1   2  ...       1\n",
              "2   3  ...       0\n",
              "3   4  ...       1\n",
              "4   5  ...       0\n",
              "\n",
              "[5 rows x 6 columns]"
            ]
          },
          "metadata": {
            "tags": []
          },
          "execution_count": 31
        }
      ]
    },
    {
      "cell_type": "markdown",
      "metadata": {
        "id": "oe9krOEakagX",
        "colab_type": "text"
      },
      "source": [
        "## Text Preprocessing\n"
      ]
    },
    {
      "cell_type": "code",
      "metadata": {
        "id": "kJMFgCej6uxL",
        "colab_type": "code",
        "outputId": "7997debf-ba93-4061-8efe-cdddfbfcd094",
        "colab": {
          "base_uri": "https://localhost:8080/",
          "height": 425
        }
      },
      "source": [
        "# Remove punctuation and non-necessary characters\n",
        "nltk.download('punkt')\n",
        "nltk.download('stopwords')\n",
        "from nltk.tokenize import word_tokenize\n",
        "from nltk.corpus import stopwords \n",
        "from nltk.stem.porter import PorterStemmer\n",
        "\n",
        "def preprocess_text(text):\n",
        "  text = re.sub('[^A-Za-z]', ' ', text)\n",
        "\n",
        "  # Convert all to lowercase\n",
        "  text = text.lower()\n",
        "\n",
        "  # Tokenize\n",
        "  tokenized_text = word_tokenize(text)\n",
        "\n",
        "  # Remove stopwords\n",
        "  for word in tokenized_text:\n",
        "      if word in stopwords.words('english'):\n",
        "          tokenized_text.remove(word)\n",
        "\n",
        "  # Stem\n",
        "  stemmer = PorterStemmer()\n",
        "  for i in range(len(tokenized_text)):\n",
        "      tokenized_text[i] = stemmer.stem(tokenized_text[i])\n",
        "\n",
        "  # List of words\n",
        "  p_text = \" \".join(tokenized_text)\n",
        "\n",
        "  return p_text\n",
        "\n",
        "train_processed = train.copy()\n",
        "X_train = train_processed[['chq', 'faq']]\n",
        "y_train = train_processed['outcome']\n",
        "\n",
        "X_train['chq'] = train.apply(lambda x: preprocess_text(x['chq']), axis=1)\n",
        "X_train['faq'] = train.apply(lambda x: preprocess_text(x['faq']), axis=1)\n",
        "\n",
        "test_processed = test.copy()\n",
        "X_test = test_processed[['chq', 'faq']]\n",
        "y_test = test_processed['outcome']\n",
        "\n",
        "X_test['chq'] = test.apply(lambda x: preprocess_text(x['chq']), axis=1)\n",
        "X_test['faq'] = test.apply(lambda x: preprocess_text(x['faq']), axis=1)"
      ],
      "execution_count": 32,
      "outputs": [
        {
          "output_type": "stream",
          "text": [
            "[nltk_data] Downloading package punkt to /root/nltk_data...\n",
            "[nltk_data]   Unzipping tokenizers/punkt.zip.\n",
            "[nltk_data] Downloading package stopwords to /root/nltk_data...\n",
            "[nltk_data]   Unzipping corpora/stopwords.zip.\n"
          ],
          "name": "stdout"
        },
        {
          "output_type": "stream",
          "text": [
            "/usr/local/lib/python3.6/dist-packages/ipykernel_launcher.py:35: SettingWithCopyWarning: \n",
            "A value is trying to be set on a copy of a slice from a DataFrame.\n",
            "Try using .loc[row_indexer,col_indexer] = value instead\n",
            "\n",
            "See the caveats in the documentation: http://pandas.pydata.org/pandas-docs/stable/indexing.html#indexing-view-versus-copy\n",
            "/usr/local/lib/python3.6/dist-packages/ipykernel_launcher.py:36: SettingWithCopyWarning: \n",
            "A value is trying to be set on a copy of a slice from a DataFrame.\n",
            "Try using .loc[row_indexer,col_indexer] = value instead\n",
            "\n",
            "See the caveats in the documentation: http://pandas.pydata.org/pandas-docs/stable/indexing.html#indexing-view-versus-copy\n",
            "/usr/local/lib/python3.6/dist-packages/ipykernel_launcher.py:42: SettingWithCopyWarning: \n",
            "A value is trying to be set on a copy of a slice from a DataFrame.\n",
            "Try using .loc[row_indexer,col_indexer] = value instead\n",
            "\n",
            "See the caveats in the documentation: http://pandas.pydata.org/pandas-docs/stable/indexing.html#indexing-view-versus-copy\n",
            "/usr/local/lib/python3.6/dist-packages/ipykernel_launcher.py:43: SettingWithCopyWarning: \n",
            "A value is trying to be set on a copy of a slice from a DataFrame.\n",
            "Try using .loc[row_indexer,col_indexer] = value instead\n",
            "\n",
            "See the caveats in the documentation: http://pandas.pydata.org/pandas-docs/stable/indexing.html#indexing-view-versus-copy\n"
          ],
          "name": "stderr"
        }
      ]
    },
    {
      "cell_type": "code",
      "metadata": {
        "id": "OCkqb2NrAP4X",
        "colab_type": "code",
        "outputId": "09392770-7846-4e7b-996e-1e995f3e5ea0",
        "colab": {
          "base_uri": "https://localhost:8080/",
          "height": 204
        }
      },
      "source": [
        "X_train.head()"
      ],
      "execution_count": 33,
      "outputs": [
        {
          "output_type": "execute_result",
          "data": {
            "text/html": [
              "<div>\n",
              "<style scoped>\n",
              "    .dataframe tbody tr th:only-of-type {\n",
              "        vertical-align: middle;\n",
              "    }\n",
              "\n",
              "    .dataframe tbody tr th {\n",
              "        vertical-align: top;\n",
              "    }\n",
              "\n",
              "    .dataframe thead th {\n",
              "        text-align: right;\n",
              "    }\n",
              "</style>\n",
              "<table border=\"1\" class=\"dataframe\">\n",
              "  <thead>\n",
              "    <tr style=\"text-align: right;\">\n",
              "      <th></th>\n",
              "      <th>chq</th>\n",
              "      <th>faq</th>\n",
              "    </tr>\n",
              "  </thead>\n",
              "  <tbody>\n",
              "    <tr>\n",
              "      <th>0</th>\n",
              "      <td>should treat polymenorrhea a year old girl</td>\n",
              "      <td>should treat polymenorrhea a year old girl</td>\n",
              "    </tr>\n",
              "    <tr>\n",
              "      <th>1</th>\n",
              "      <td>there ani studi low molecular weight heparin p...</td>\n",
              "      <td>i use low molecular weight heparin pregnanc pa...</td>\n",
              "    </tr>\n",
              "    <tr>\n",
              "      <th>2</th>\n",
              "      <td>there ani studi low molecular weight heparin p...</td>\n",
              "      <td>are side effect florinef could caus headach</td>\n",
              "    </tr>\n",
              "    <tr>\n",
              "      <th>3</th>\n",
              "      <td>let give immun s right t</td>\n",
              "      <td>let give immun s right t</td>\n",
              "    </tr>\n",
              "    <tr>\n",
              "      <th>4</th>\n",
              "      <td>let give immun s right t</td>\n",
              "      <td>there support can provid patient macular degener</td>\n",
              "    </tr>\n",
              "  </tbody>\n",
              "</table>\n",
              "</div>"
            ],
            "text/plain": [
              "                                                 chq                                                faq\n",
              "0         should treat polymenorrhea a year old girl         should treat polymenorrhea a year old girl\n",
              "1  there ani studi low molecular weight heparin p...  i use low molecular weight heparin pregnanc pa...\n",
              "2  there ani studi low molecular weight heparin p...        are side effect florinef could caus headach\n",
              "3                           let give immun s right t                           let give immun s right t\n",
              "4                           let give immun s right t   there support can provid patient macular degener"
            ]
          },
          "metadata": {
            "tags": []
          },
          "execution_count": 33
        }
      ]
    },
    {
      "cell_type": "code",
      "metadata": {
        "id": "_rYEuUw9PaqP",
        "colab_type": "code",
        "outputId": "8b888008-9216-43e0-c729-ad53f9139d6a",
        "colab": {
          "base_uri": "https://localhost:8080/",
          "height": 204
        }
      },
      "source": [
        "X_test.head()"
      ],
      "execution_count": 34,
      "outputs": [
        {
          "output_type": "execute_result",
          "data": {
            "text/html": [
              "<div>\n",
              "<style scoped>\n",
              "    .dataframe tbody tr th:only-of-type {\n",
              "        vertical-align: middle;\n",
              "    }\n",
              "\n",
              "    .dataframe tbody tr th {\n",
              "        vertical-align: top;\n",
              "    }\n",
              "\n",
              "    .dataframe thead th {\n",
              "        text-align: right;\n",
              "    }\n",
              "</style>\n",
              "<table border=\"1\" class=\"dataframe\">\n",
              "  <thead>\n",
              "    <tr style=\"text-align: right;\">\n",
              "      <th></th>\n",
              "      <th>chq</th>\n",
              "      <th>faq</th>\n",
              "    </tr>\n",
              "  </thead>\n",
              "  <tbody>\n",
              "    <tr>\n",
              "      <th>0</th>\n",
              "      <td>high blood pressur know may answer but blood p...</td>\n",
              "      <td>is high blood pressur</td>\n",
              "    </tr>\n",
              "    <tr>\n",
              "      <th>1</th>\n",
              "      <td>arrhythmia arrhythmia occur ablat is success r...</td>\n",
              "      <td>is arrhythmia</td>\n",
              "    </tr>\n",
              "    <tr>\n",
              "      <th>2</th>\n",
              "      <td>medicin alli like know recent therapi arrhythm...</td>\n",
              "      <td>is arrhythmia</td>\n",
              "    </tr>\n",
              "    <tr>\n",
              "      <th>3</th>\n",
              "      <td>ear lobe creas ear lobe creas alway heart dise...</td>\n",
              "      <td>is coronari heart diseas</td>\n",
              "    </tr>\n",
              "    <tr>\n",
              "      <th>4</th>\n",
              "      <td>sleep apnea wa diagnos sleep apnea prolli year...</td>\n",
              "      <td>is sleep apnea</td>\n",
              "    </tr>\n",
              "  </tbody>\n",
              "</table>\n",
              "</div>"
            ],
            "text/plain": [
              "                                                 chq                       faq\n",
              "0  high blood pressur know may answer but blood p...     is high blood pressur\n",
              "1  arrhythmia arrhythmia occur ablat is success r...             is arrhythmia\n",
              "2  medicin alli like know recent therapi arrhythm...             is arrhythmia\n",
              "3  ear lobe creas ear lobe creas alway heart dise...  is coronari heart diseas\n",
              "4  sleep apnea wa diagnos sleep apnea prolli year...            is sleep apnea"
            ]
          },
          "metadata": {
            "tags": []
          },
          "execution_count": 34
        }
      ]
    },
    {
      "cell_type": "markdown",
      "metadata": {
        "id": "Ry1lF2-2kfhC",
        "colab_type": "text"
      },
      "source": [
        "## BoW"
      ]
    },
    {
      "cell_type": "code",
      "metadata": {
        "id": "Ou9vj-cJ8mLZ",
        "colab_type": "code",
        "outputId": "f296040d-b1fc-4e85-b6a8-22e711095d3a",
        "colab": {
          "base_uri": "https://localhost:8080/",
          "height": 34
        }
      },
      "source": [
        "# chq text\n",
        "from sklearn.feature_extraction.text import CountVectorizer\n",
        "X_train_chq = X_train.chq\n",
        "matrix = CountVectorizer(min_df=5, max_df=0.7).fit(X_train_chq)\n",
        "X_train_chq = pd.DataFrame(matrix.transform(X_train_chq).todense(), columns=matrix.get_feature_names())\n",
        "X_train_chq.shape "
      ],
      "execution_count": 35,
      "outputs": [
        {
          "output_type": "execute_result",
          "data": {
            "text/plain": [
              "(8588, 2417)"
            ]
          },
          "metadata": {
            "tags": []
          },
          "execution_count": 35
        }
      ]
    },
    {
      "cell_type": "code",
      "metadata": {
        "id": "RcPmR6yJTsY8",
        "colab_type": "code",
        "outputId": "8f6b3446-3550-4362-e3c2-b5aad89c2f29",
        "colab": {
          "base_uri": "https://localhost:8080/",
          "height": 34
        }
      },
      "source": [
        "# transform X_test (DON'T FIT)\n",
        "X_test_chq = X_test.chq\n",
        "X_test_chq = pd.DataFrame(matrix.transform(X_test_chq).todense(), columns=matrix.get_feature_names())\n",
        "X_test_chq.shape "
      ],
      "execution_count": 36,
      "outputs": [
        {
          "output_type": "execute_result",
          "data": {
            "text/plain": [
              "(302, 2417)"
            ]
          },
          "metadata": {
            "tags": []
          },
          "execution_count": 36
        }
      ]
    },
    {
      "cell_type": "code",
      "metadata": {
        "id": "2QIO8XnWYXtl",
        "colab_type": "code",
        "outputId": "32424ed1-e6cd-4a64-db42-b6f83edec4fa",
        "colab": {
          "base_uri": "https://localhost:8080/",
          "height": 51
        }
      },
      "source": [
        "# faq text\n",
        "X_train_faq = X_train.faq\n",
        "matrix = CountVectorizer(min_df=5, max_df=0.7).fit(X_train_faq)\n",
        "X_train_faq = pd.DataFrame(matrix.transform(X_train_faq).todense(), columns=matrix.get_feature_names())\n",
        "X_test_faq = X_test.faq\n",
        "X_test_faq = pd.DataFrame(matrix.transform(X_test_faq).todense(), columns=matrix.get_feature_names())\n",
        "\n",
        "# concatenate\n",
        "X_train_bow = pd.concat([X_train_chq, X_train_faq], axis=1)\n",
        "X_test_bow = pd.concat([X_test_chq, X_test_faq], axis=1)\n",
        "print(X_train.shape)\n",
        "print(X_test.shape)"
      ],
      "execution_count": 37,
      "outputs": [
        {
          "output_type": "stream",
          "text": [
            "(8588, 2)\n",
            "(302, 2)\n"
          ],
          "name": "stdout"
        }
      ]
    },
    {
      "cell_type": "code",
      "metadata": {
        "id": "fBZFU4QW7fi6",
        "colab_type": "code",
        "outputId": "96b1ad86-1443-40e9-e6e8-04656fbe6893",
        "colab": {
          "base_uri": "https://localhost:8080/",
          "height": 34
        }
      },
      "source": [
        "#Import Gaussian Naive Bayes model\n",
        "from sklearn.naive_bayes import GaussianNB\n",
        "\n",
        "#Create a Gaussian Classifier\n",
        "gnb = GaussianNB()\n",
        "\n",
        "#Train the model using the training sets\n",
        "gnb.fit(X_train_bow, y_train)\n",
        "\n",
        "#Predict the response for test dataset\n",
        "y_pred = gnb.predict(X_test_bow)\n",
        "\n",
        "#Import scikit-learn metrics module for accuracy calculation\n",
        "from sklearn import metrics\n",
        "\n",
        "# Model Accuracy, how often is the classifier correct?\n",
        "print(\"Accuracy:\",metrics.accuracy_score(y_test, y_pred))"
      ],
      "execution_count": 38,
      "outputs": [
        {
          "output_type": "stream",
          "text": [
            "Accuracy: 0.4900662251655629\n"
          ],
          "name": "stdout"
        }
      ]
    },
    {
      "cell_type": "markdown",
      "metadata": {
        "id": "nyFGZTFrkXeA",
        "colab_type": "text"
      },
      "source": [
        "## Fuzzy Matching"
      ]
    },
    {
      "cell_type": "code",
      "metadata": {
        "id": "a6hsegXpbA7V",
        "colab_type": "code",
        "outputId": "4a8a2ccc-ad15-4d31-9c76-78e216a44207",
        "colab": {
          "base_uri": "https://localhost:8080/",
          "height": 445
        }
      },
      "source": [
        "!pip3 install fuzzywuzzy[speedup]\n",
        "from fuzzywuzzy import fuzz\n",
        "\n",
        "def get_ratio(row):\n",
        "    chq = row['chq']\n",
        "    faq = row['faq']\n",
        "    return fuzz.token_set_ratio(chq, faq)\n",
        "  \n",
        "X_train_fuzzy = X_train.copy()\n",
        "X_test_fuzzy = X_test.copy()\n",
        "\n",
        "X_train_fuzzy['fuzzy_ratio'] = X_train_fuzzy.apply(get_ratio, axis=1)\n",
        "X_train_fuzzy.head()"
      ],
      "execution_count": 39,
      "outputs": [
        {
          "output_type": "stream",
          "text": [
            "Collecting fuzzywuzzy[speedup]\n",
            "  Downloading https://files.pythonhosted.org/packages/d8/f1/5a267addb30ab7eaa1beab2b9323073815da4551076554ecc890a3595ec9/fuzzywuzzy-0.17.0-py2.py3-none-any.whl\n",
            "Collecting python-levenshtein>=0.12; extra == \"speedup\" (from fuzzywuzzy[speedup])\n",
            "\u001b[?25l  Downloading https://files.pythonhosted.org/packages/42/a9/d1785c85ebf9b7dfacd08938dd028209c34a0ea3b1bcdb895208bd40a67d/python-Levenshtein-0.12.0.tar.gz (48kB)\n",
            "\u001b[K     |████████████████████████████████| 51kB 3.8MB/s \n",
            "\u001b[?25hRequirement already satisfied: setuptools in /usr/local/lib/python3.6/dist-packages (from python-levenshtein>=0.12; extra == \"speedup\"->fuzzywuzzy[speedup]) (41.2.0)\n",
            "Building wheels for collected packages: python-levenshtein\n",
            "  Building wheel for python-levenshtein (setup.py) ... \u001b[?25l\u001b[?25hdone\n",
            "  Created wheel for python-levenshtein: filename=python_Levenshtein-0.12.0-cp36-cp36m-linux_x86_64.whl size=144674 sha256=9b10498c5e5691d7dfaa28b37232fbb5773ff453238b9cfc89c7d7a443819450\n",
            "  Stored in directory: /root/.cache/pip/wheels/de/c2/93/660fd5f7559049268ad2dc6d81c4e39e9e36518766eaf7e342\n",
            "Successfully built python-levenshtein\n",
            "Installing collected packages: python-levenshtein, fuzzywuzzy\n",
            "Successfully installed fuzzywuzzy-0.17.0 python-levenshtein-0.12.0\n"
          ],
          "name": "stdout"
        },
        {
          "output_type": "execute_result",
          "data": {
            "text/html": [
              "<div>\n",
              "<style scoped>\n",
              "    .dataframe tbody tr th:only-of-type {\n",
              "        vertical-align: middle;\n",
              "    }\n",
              "\n",
              "    .dataframe tbody tr th {\n",
              "        vertical-align: top;\n",
              "    }\n",
              "\n",
              "    .dataframe thead th {\n",
              "        text-align: right;\n",
              "    }\n",
              "</style>\n",
              "<table border=\"1\" class=\"dataframe\">\n",
              "  <thead>\n",
              "    <tr style=\"text-align: right;\">\n",
              "      <th></th>\n",
              "      <th>chq</th>\n",
              "      <th>faq</th>\n",
              "      <th>fuzzy_ratio</th>\n",
              "    </tr>\n",
              "  </thead>\n",
              "  <tbody>\n",
              "    <tr>\n",
              "      <th>0</th>\n",
              "      <td>should treat polymenorrhea a year old girl</td>\n",
              "      <td>should treat polymenorrhea a year old girl</td>\n",
              "      <td>100</td>\n",
              "    </tr>\n",
              "    <tr>\n",
              "      <th>1</th>\n",
              "      <td>there ani studi low molecular weight heparin p...</td>\n",
              "      <td>i use low molecular weight heparin pregnanc pa...</td>\n",
              "      <td>100</td>\n",
              "    </tr>\n",
              "    <tr>\n",
              "      <th>2</th>\n",
              "      <td>there ani studi low molecular weight heparin p...</td>\n",
              "      <td>are side effect florinef could caus headach</td>\n",
              "      <td>32</td>\n",
              "    </tr>\n",
              "    <tr>\n",
              "      <th>3</th>\n",
              "      <td>let give immun s right t</td>\n",
              "      <td>let give immun s right t</td>\n",
              "      <td>100</td>\n",
              "    </tr>\n",
              "    <tr>\n",
              "      <th>4</th>\n",
              "      <td>let give immun s right t</td>\n",
              "      <td>there support can provid patient macular degener</td>\n",
              "      <td>42</td>\n",
              "    </tr>\n",
              "  </tbody>\n",
              "</table>\n",
              "</div>"
            ],
            "text/plain": [
              "                                                 chq  ... fuzzy_ratio\n",
              "0         should treat polymenorrhea a year old girl  ...         100\n",
              "1  there ani studi low molecular weight heparin p...  ...         100\n",
              "2  there ani studi low molecular weight heparin p...  ...          32\n",
              "3                           let give immun s right t  ...         100\n",
              "4                           let give immun s right t  ...          42\n",
              "\n",
              "[5 rows x 3 columns]"
            ]
          },
          "metadata": {
            "tags": []
          },
          "execution_count": 39
        }
      ]
    },
    {
      "cell_type": "code",
      "metadata": {
        "colab_type": "code",
        "id": "b2oP2OOYkGlN",
        "colab": {}
      },
      "source": [
        "X_test_fuzzy['fuzzy_ratio'] = X_test_fuzzy.apply(get_ratio, axis=1)"
      ],
      "execution_count": 0,
      "outputs": []
    },
    {
      "cell_type": "code",
      "metadata": {
        "id": "gWQMu0gwfDq9",
        "colab_type": "code",
        "colab": {}
      },
      "source": [
        "# just use fuzzy ratio as predictor\n",
        "X_train_fuzzy = np.array(X_train_fuzzy.fuzzy_ratio).reshape(-1, 1)\n",
        "X_test_fuzzy = np.array(X_test_fuzzy.fuzzy_ratio).reshape(-1, 1)"
      ],
      "execution_count": 0,
      "outputs": []
    },
    {
      "cell_type": "code",
      "metadata": {
        "id": "iIwtUKoef0Bu",
        "colab_type": "code",
        "outputId": "4bd7209b-916d-4725-d461-cc1f1f4f6360",
        "colab": {
          "base_uri": "https://localhost:8080/",
          "height": 85
        }
      },
      "source": [
        "print(X_train_fuzzy.shape)\n",
        "print(X_test_fuzzy.shape)\n",
        "print(y_train.shape)\n",
        "print(y_test.shape)"
      ],
      "execution_count": 42,
      "outputs": [
        {
          "output_type": "stream",
          "text": [
            "(8588, 1)\n",
            "(302, 1)\n",
            "(8588,)\n",
            "(302,)\n"
          ],
          "name": "stdout"
        }
      ]
    },
    {
      "cell_type": "code",
      "metadata": {
        "id": "WnH4d4VbfYQ4",
        "colab_type": "code",
        "outputId": "93395d14-6260-479f-9150-c047b7953095",
        "colab": {
          "base_uri": "https://localhost:8080/",
          "height": 34
        }
      },
      "source": [
        "#Import Gaussian Naive Bayes model\n",
        "from sklearn.naive_bayes import GaussianNB\n",
        "\n",
        "#Create a Gaussian Classifier\n",
        "gnb = GaussianNB()\n",
        "\n",
        "#Train the model using the training sets\n",
        "gnb.fit(X_train_fuzzy, y_train)\n",
        "\n",
        "#Predict the response for test dataset\n",
        "y_pred = gnb.predict(X_test_fuzzy)\n",
        "\n",
        "#Import scikit-learn metrics module for accuracy calculation\n",
        "from sklearn import metrics\n",
        "\n",
        "# Model Accuracy, how often is the classifier correct?\n",
        "print(\"Accuracy:\",metrics.accuracy_score(y_test, y_pred))"
      ],
      "execution_count": 43,
      "outputs": [
        {
          "output_type": "stream",
          "text": [
            "Accuracy: 0.6920529801324503\n"
          ],
          "name": "stdout"
        }
      ]
    },
    {
      "cell_type": "code",
      "metadata": {
        "id": "_SNhwneR1Q2o",
        "colab_type": "code",
        "outputId": "3a019bc8-3fe8-481f-ae7e-c012473afda8",
        "colab": {
          "base_uri": "https://localhost:8080/",
          "height": 34
        }
      },
      "source": [
        "unique, counts = np.unique(y_pred, return_counts=True)\n",
        "dict(zip(unique, counts))"
      ],
      "execution_count": 44,
      "outputs": [
        {
          "output_type": "execute_result",
          "data": {
            "text/plain": [
              "{0: 192, 1: 110}"
            ]
          },
          "metadata": {
            "tags": []
          },
          "execution_count": 44
        }
      ]
    },
    {
      "cell_type": "markdown",
      "metadata": {
        "id": "iOFQx9omlOWZ",
        "colab_type": "text"
      },
      "source": [
        "### Accuracy Metrics\n",
        "Ratio: 0.583\n",
        "\n",
        "Partial Ratio: 0.656\n",
        "\n",
        "Token Sort Ratio (ignores word order): 0.589\n",
        "\n",
        "Token Set Ratio (ignores duplicate words): 0.692\n"
      ]
    },
    {
      "cell_type": "markdown",
      "metadata": {
        "id": "wlIWWpXykjfM",
        "colab_type": "text"
      },
      "source": [
        "## Rules Based Hypothesis Testing"
      ]
    },
    {
      "cell_type": "markdown",
      "metadata": {
        "id": "nKs5r_I8A6PH",
        "colab_type": "text"
      },
      "source": [
        "•\tTake the RQE data: https://raw.githubusercontent.com/abachaa/RQE_Data_AMIA2016/master/RQE_Train_8588_AMIA2016.xml \n",
        "\n",
        "•\tDivide randomly  this data into training and testing (test data set should have at least 1500 data points). Do not use the original test data.\n",
        "\n",
        "•\tUsing only regular expressions, counting, fraction and other simple arithmetic, create a collection of  if-then-else clauses to build a classifier that significantly improves on the majority classifier.\n",
        "\n",
        "\n",
        "•\tI suggest each person independently should come with such rules, and note the reason for them, and then the group combines it intelligently into a tree of rules. \n",
        "\n",
        "•\tOnly use your test data to get accuracy numbers; do not look at them to modify your rules. \n"
      ]
    },
    {
      "cell_type": "code",
      "metadata": {
        "id": "qRXpv_emBDqw",
        "colab_type": "code",
        "outputId": "68a118c0-06fe-4d90-b6ae-bfcef6b90067",
        "colab": {
          "base_uri": "https://localhost:8080/",
          "height": 204
        }
      },
      "source": [
        "new_data = parse_XML('/content/RQE_Train_8588_AMIA2016.xml', ['pid', 'type', 'value', 'chq', 'faq'])\n",
        "new_data.head()"
      ],
      "execution_count": 45,
      "outputs": [
        {
          "output_type": "execute_result",
          "data": {
            "text/html": [
              "<div>\n",
              "<style scoped>\n",
              "    .dataframe tbody tr th:only-of-type {\n",
              "        vertical-align: middle;\n",
              "    }\n",
              "\n",
              "    .dataframe tbody tr th {\n",
              "        vertical-align: top;\n",
              "    }\n",
              "\n",
              "    .dataframe thead th {\n",
              "        text-align: right;\n",
              "    }\n",
              "</style>\n",
              "<table border=\"1\" class=\"dataframe\">\n",
              "  <thead>\n",
              "    <tr style=\"text-align: right;\">\n",
              "      <th></th>\n",
              "      <th>pid</th>\n",
              "      <th>type</th>\n",
              "      <th>value</th>\n",
              "      <th>chq</th>\n",
              "      <th>faq</th>\n",
              "    </tr>\n",
              "  </thead>\n",
              "  <tbody>\n",
              "    <tr>\n",
              "      <th>0</th>\n",
              "      <td>1</td>\n",
              "      <td>originalQ-shortQ</td>\n",
              "      <td>true</td>\n",
              "      <td>\\n   How should I treat polymenorrhea in a 14-...</td>\n",
              "      <td>\\n   How should I treat polymenorrhea in a 14-...</td>\n",
              "    </tr>\n",
              "    <tr>\n",
              "      <th>1</th>\n",
              "      <td>2</td>\n",
              "      <td>originalQ-shortQ</td>\n",
              "      <td>true</td>\n",
              "      <td>\\n   Have there been any studies with low mole...</td>\n",
              "      <td>\\n   Can I use low molecular weight heparin in...</td>\n",
              "    </tr>\n",
              "    <tr>\n",
              "      <th>2</th>\n",
              "      <td>3</td>\n",
              "      <td>originalQ-shortRandQ</td>\n",
              "      <td>false</td>\n",
              "      <td>\\n   Have there been any studies with low mole...</td>\n",
              "      <td>\\n   What are the side effects of Florinef?  C...</td>\n",
              "    </tr>\n",
              "    <tr>\n",
              "      <th>3</th>\n",
              "      <td>4</td>\n",
              "      <td>originalQ-shortQ</td>\n",
              "      <td>true</td>\n",
              "      <td>\\n   Let's give these immunizations.  That's r...</td>\n",
              "      <td>\\n   Let's give these immunizations.  That's r...</td>\n",
              "    </tr>\n",
              "    <tr>\n",
              "      <th>4</th>\n",
              "      <td>5</td>\n",
              "      <td>originalQ-shortRandQ</td>\n",
              "      <td>false</td>\n",
              "      <td>\\n   Let's give these immunizations.  That's r...</td>\n",
              "      <td>\\n   Is there more support we can provide pati...</td>\n",
              "    </tr>\n",
              "  </tbody>\n",
              "</table>\n",
              "</div>"
            ],
            "text/plain": [
              "  pid  ...                                                faq\n",
              "0   1  ...  \\n   How should I treat polymenorrhea in a 14-...\n",
              "1   2  ...  \\n   Can I use low molecular weight heparin in...\n",
              "2   3  ...  \\n   What are the side effects of Florinef?  C...\n",
              "3   4  ...  \\n   Let's give these immunizations.  That's r...\n",
              "4   5  ...  \\n   Is there more support we can provide pati...\n",
              "\n",
              "[5 rows x 5 columns]"
            ]
          },
          "metadata": {
            "tags": []
          },
          "execution_count": 45
        }
      ]
    },
    {
      "cell_type": "code",
      "metadata": {
        "id": "a2RiNhMSwceZ",
        "colab_type": "code",
        "outputId": "b40e2026-7b75-4d3a-beac-6a28ca71d001",
        "colab": {
          "base_uri": "https://localhost:8080/",
          "height": 34
        }
      },
      "source": [
        "print(new_data.shape)"
      ],
      "execution_count": 46,
      "outputs": [
        {
          "output_type": "stream",
          "text": [
            "(8588, 5)\n"
          ],
          "name": "stdout"
        }
      ]
    },
    {
      "cell_type": "code",
      "metadata": {
        "id": "LiKwtwTNwfgM",
        "colab_type": "code",
        "outputId": "42d583fb-2b2c-4aa0-ab25-7c3ce67bd9bc",
        "colab": {
          "base_uri": "https://localhost:8080/",
          "height": 34
        }
      },
      "source": [
        "1500/8588"
      ],
      "execution_count": 47,
      "outputs": [
        {
          "output_type": "execute_result",
          "data": {
            "text/plain": [
              "0.17466231951560315"
            ]
          },
          "metadata": {
            "tags": []
          },
          "execution_count": 47
        }
      ]
    },
    {
      "cell_type": "code",
      "metadata": {
        "id": "tEfEPP9K9jIH",
        "colab_type": "code",
        "outputId": "8ccc73f8-7304-46d8-af50-39db0fd2547f",
        "colab": {
          "base_uri": "https://localhost:8080/",
          "height": 204
        }
      },
      "source": [
        "# clean up text\n",
        "\n",
        "def preprocess_text(text):\n",
        "  text = re.sub('[^A-Za-z]', ' ', text)\n",
        "\n",
        "  # Convert all to lowercase\n",
        "  text = text.lower()\n",
        "\n",
        "  return text\n",
        "\n",
        "\n",
        "new_data['chq'] = new_data.apply(lambda x: preprocess_text(x['chq']), axis=1)\n",
        "new_data['faq'] = new_data.apply(lambda x: preprocess_text(x['faq']), axis=1)\n",
        "\n",
        "new_data.head()"
      ],
      "execution_count": 48,
      "outputs": [
        {
          "output_type": "execute_result",
          "data": {
            "text/html": [
              "<div>\n",
              "<style scoped>\n",
              "    .dataframe tbody tr th:only-of-type {\n",
              "        vertical-align: middle;\n",
              "    }\n",
              "\n",
              "    .dataframe tbody tr th {\n",
              "        vertical-align: top;\n",
              "    }\n",
              "\n",
              "    .dataframe thead th {\n",
              "        text-align: right;\n",
              "    }\n",
              "</style>\n",
              "<table border=\"1\" class=\"dataframe\">\n",
              "  <thead>\n",
              "    <tr style=\"text-align: right;\">\n",
              "      <th></th>\n",
              "      <th>pid</th>\n",
              "      <th>type</th>\n",
              "      <th>value</th>\n",
              "      <th>chq</th>\n",
              "      <th>faq</th>\n",
              "    </tr>\n",
              "  </thead>\n",
              "  <tbody>\n",
              "    <tr>\n",
              "      <th>0</th>\n",
              "      <td>1</td>\n",
              "      <td>originalQ-shortQ</td>\n",
              "      <td>true</td>\n",
              "      <td>how should i treat polymenorrhea in a    y...</td>\n",
              "      <td>how should i treat polymenorrhea in a    y...</td>\n",
              "    </tr>\n",
              "    <tr>\n",
              "      <th>1</th>\n",
              "      <td>2</td>\n",
              "      <td>originalQ-shortQ</td>\n",
              "      <td>true</td>\n",
              "      <td>have there been any studies with low molec...</td>\n",
              "      <td>can i use low molecular weight heparin in ...</td>\n",
              "    </tr>\n",
              "    <tr>\n",
              "      <th>2</th>\n",
              "      <td>3</td>\n",
              "      <td>originalQ-shortRandQ</td>\n",
              "      <td>false</td>\n",
              "      <td>have there been any studies with low molec...</td>\n",
              "      <td>what are the side effects of florinef   co...</td>\n",
              "    </tr>\n",
              "    <tr>\n",
              "      <th>3</th>\n",
              "      <td>4</td>\n",
              "      <td>originalQ-shortQ</td>\n",
              "      <td>true</td>\n",
              "      <td>let s give these immunizations   that s ri...</td>\n",
              "      <td>let s give these immunizations   that s ri...</td>\n",
              "    </tr>\n",
              "    <tr>\n",
              "      <th>4</th>\n",
              "      <td>5</td>\n",
              "      <td>originalQ-shortRandQ</td>\n",
              "      <td>false</td>\n",
              "      <td>let s give these immunizations   that s ri...</td>\n",
              "      <td>is there more support we can provide patie...</td>\n",
              "    </tr>\n",
              "  </tbody>\n",
              "</table>\n",
              "</div>"
            ],
            "text/plain": [
              "  pid  ...                                                faq\n",
              "0   1  ...      how should i treat polymenorrhea in a    y...\n",
              "1   2  ...      can i use low molecular weight heparin in ...\n",
              "2   3  ...      what are the side effects of florinef   co...\n",
              "3   4  ...      let s give these immunizations   that s ri...\n",
              "4   5  ...      is there more support we can provide patie...\n",
              "\n",
              "[5 rows x 5 columns]"
            ]
          },
          "metadata": {
            "tags": []
          },
          "execution_count": 48
        }
      ]
    },
    {
      "cell_type": "code",
      "metadata": {
        "id": "uGaCrXpKw74J",
        "colab_type": "code",
        "outputId": "255e3658-ec1c-4082-d36c-0e6cc0b0c024",
        "colab": {
          "base_uri": "https://localhost:8080/",
          "height": 204
        }
      },
      "source": [
        "# Binarize outcome variable\n",
        "y = pd.DataFrame()\n",
        "y['outcome'] = np.where(new_data['value'] == 'true', 1, 0)\n",
        "y.head()"
      ],
      "execution_count": 49,
      "outputs": [
        {
          "output_type": "execute_result",
          "data": {
            "text/html": [
              "<div>\n",
              "<style scoped>\n",
              "    .dataframe tbody tr th:only-of-type {\n",
              "        vertical-align: middle;\n",
              "    }\n",
              "\n",
              "    .dataframe tbody tr th {\n",
              "        vertical-align: top;\n",
              "    }\n",
              "\n",
              "    .dataframe thead th {\n",
              "        text-align: right;\n",
              "    }\n",
              "</style>\n",
              "<table border=\"1\" class=\"dataframe\">\n",
              "  <thead>\n",
              "    <tr style=\"text-align: right;\">\n",
              "      <th></th>\n",
              "      <th>outcome</th>\n",
              "    </tr>\n",
              "  </thead>\n",
              "  <tbody>\n",
              "    <tr>\n",
              "      <th>0</th>\n",
              "      <td>1</td>\n",
              "    </tr>\n",
              "    <tr>\n",
              "      <th>1</th>\n",
              "      <td>1</td>\n",
              "    </tr>\n",
              "    <tr>\n",
              "      <th>2</th>\n",
              "      <td>0</td>\n",
              "    </tr>\n",
              "    <tr>\n",
              "      <th>3</th>\n",
              "      <td>1</td>\n",
              "    </tr>\n",
              "    <tr>\n",
              "      <th>4</th>\n",
              "      <td>0</td>\n",
              "    </tr>\n",
              "  </tbody>\n",
              "</table>\n",
              "</div>"
            ],
            "text/plain": [
              "   outcome\n",
              "0        1\n",
              "1        1\n",
              "2        0\n",
              "3        1\n",
              "4        0"
            ]
          },
          "metadata": {
            "tags": []
          },
          "execution_count": 49
        }
      ]
    },
    {
      "cell_type": "code",
      "metadata": {
        "id": "1CUvBjHfvrYa",
        "colab_type": "code",
        "colab": {}
      },
      "source": [
        "# Divide train data into train and test (validation)\n",
        "# 80-20 split\n",
        "from sklearn.model_selection import train_test_split\n",
        "x_train,x_test, y_train, y_test = train_test_split(new_data, y, test_size=0.2, random_state=42)"
      ],
      "execution_count": 0,
      "outputs": []
    },
    {
      "cell_type": "code",
      "metadata": {
        "id": "5LBrohGAxphw",
        "colab_type": "code",
        "outputId": "11194f1d-0926-47cd-a366-def9aa3616d0",
        "colab": {
          "base_uri": "https://localhost:8080/",
          "height": 34
        }
      },
      "source": [
        "x_train.shape"
      ],
      "execution_count": 0,
      "outputs": [
        {
          "output_type": "execute_result",
          "data": {
            "text/plain": [
              "(6870, 5)"
            ]
          },
          "metadata": {
            "tags": []
          },
          "execution_count": 28
        }
      ]
    },
    {
      "cell_type": "code",
      "metadata": {
        "id": "RO5BSyqn5ujS",
        "colab_type": "code",
        "outputId": "45fe7852-89b5-4515-8d9d-f5c3d725a26e",
        "colab": {
          "base_uri": "https://localhost:8080/",
          "height": 408
        }
      },
      "source": [
        "x_train['outcome'] = np.where(x_train['value'] == 'true', 1, 0)\n",
        "x_test['outcome'] = np.where(x_test['value'] == 'true', 1, 0)\n",
        "x_train.head()"
      ],
      "execution_count": 51,
      "outputs": [
        {
          "output_type": "stream",
          "text": [
            "/usr/local/lib/python3.6/dist-packages/ipykernel_launcher.py:1: SettingWithCopyWarning: \n",
            "A value is trying to be set on a copy of a slice from a DataFrame.\n",
            "Try using .loc[row_indexer,col_indexer] = value instead\n",
            "\n",
            "See the caveats in the documentation: http://pandas.pydata.org/pandas-docs/stable/indexing.html#indexing-view-versus-copy\n",
            "  \"\"\"Entry point for launching an IPython kernel.\n",
            "/usr/local/lib/python3.6/dist-packages/ipykernel_launcher.py:2: SettingWithCopyWarning: \n",
            "A value is trying to be set on a copy of a slice from a DataFrame.\n",
            "Try using .loc[row_indexer,col_indexer] = value instead\n",
            "\n",
            "See the caveats in the documentation: http://pandas.pydata.org/pandas-docs/stable/indexing.html#indexing-view-versus-copy\n",
            "  \n"
          ],
          "name": "stderr"
        },
        {
          "output_type": "execute_result",
          "data": {
            "text/html": [
              "<div>\n",
              "<style scoped>\n",
              "    .dataframe tbody tr th:only-of-type {\n",
              "        vertical-align: middle;\n",
              "    }\n",
              "\n",
              "    .dataframe tbody tr th {\n",
              "        vertical-align: top;\n",
              "    }\n",
              "\n",
              "    .dataframe thead th {\n",
              "        text-align: right;\n",
              "    }\n",
              "</style>\n",
              "<table border=\"1\" class=\"dataframe\">\n",
              "  <thead>\n",
              "    <tr style=\"text-align: right;\">\n",
              "      <th></th>\n",
              "      <th>pid</th>\n",
              "      <th>type</th>\n",
              "      <th>value</th>\n",
              "      <th>chq</th>\n",
              "      <th>faq</th>\n",
              "      <th>outcome</th>\n",
              "    </tr>\n",
              "  </thead>\n",
              "  <tbody>\n",
              "    <tr>\n",
              "      <th>6569</th>\n",
              "      <td>6570</td>\n",
              "      <td>originalQ-shortQ</td>\n",
              "      <td>true</td>\n",
              "      <td>year old woman presented yesterday with...</td>\n",
              "      <td>should a patient with influenza symptoms b...</td>\n",
              "      <td>1</td>\n",
              "    </tr>\n",
              "    <tr>\n",
              "      <th>4205</th>\n",
              "      <td>4206</td>\n",
              "      <td>originalQ-shortRandQ</td>\n",
              "      <td>false</td>\n",
              "      <td>is a history of pulmonary embolus a contra...</td>\n",
              "      <td>should we switch to ancef for this diabeti...</td>\n",
              "      <td>0</td>\n",
              "    </tr>\n",
              "    <tr>\n",
              "      <th>3889</th>\n",
              "      <td>3890</td>\n",
              "      <td>originalQ-shortQ</td>\n",
              "      <td>true</td>\n",
              "      <td>should you treat a    year old with a posi...</td>\n",
              "      <td>should you treat a    year old with a posi...</td>\n",
              "      <td>1</td>\n",
              "    </tr>\n",
              "    <tr>\n",
              "      <th>2357</th>\n",
              "      <td>2358</td>\n",
              "      <td>originalQ-shortRandQ</td>\n",
              "      <td>false</td>\n",
              "      <td>do we need to worry about thrombocytopenia...</td>\n",
              "      <td>how do you inject the bicipital tendon</td>\n",
              "      <td>0</td>\n",
              "    </tr>\n",
              "    <tr>\n",
              "      <th>58</th>\n",
              "      <td>59</td>\n",
              "      <td>originalQ-shortQ</td>\n",
              "      <td>true</td>\n",
              "      <td>in this patient with tias  transient ische...</td>\n",
              "      <td>in this patient with transient ischemic at...</td>\n",
              "      <td>1</td>\n",
              "    </tr>\n",
              "  </tbody>\n",
              "</table>\n",
              "</div>"
            ],
            "text/plain": [
              "       pid  ... outcome\n",
              "6569  6570  ...       1\n",
              "4205  4206  ...       0\n",
              "3889  3890  ...       1\n",
              "2357  2358  ...       0\n",
              "58      59  ...       1\n",
              "\n",
              "[5 rows x 6 columns]"
            ]
          },
          "metadata": {
            "tags": []
          },
          "execution_count": 51
        }
      ]
    },
    {
      "cell_type": "code",
      "metadata": {
        "id": "8OMvTkqR5xQG",
        "colab_type": "code",
        "outputId": "bf043c0c-0b3f-4e17-f121-ddda26bd9571",
        "colab": {
          "base_uri": "https://localhost:8080/",
          "height": 68
        }
      },
      "source": [
        "# majority classifier - training\n",
        "x_train['outcome'].value_counts()"
      ],
      "execution_count": 52,
      "outputs": [
        {
          "output_type": "execute_result",
          "data": {
            "text/plain": [
              "1    3739\n",
              "0    3131\n",
              "Name: outcome, dtype: int64"
            ]
          },
          "metadata": {
            "tags": []
          },
          "execution_count": 52
        }
      ]
    },
    {
      "cell_type": "code",
      "metadata": {
        "id": "a-0iArVX52z7",
        "colab_type": "code",
        "outputId": "499bc62a-1ddb-444a-de28-b2653d3155af",
        "colab": {
          "base_uri": "https://localhost:8080/",
          "height": 34
        }
      },
      "source": [
        "print('Majority Classifier train accuracy:', 3739/(3739+3131))"
      ],
      "execution_count": 53,
      "outputs": [
        {
          "output_type": "stream",
          "text": [
            "Majority Classifier train accuracy: 0.5442503639010189\n"
          ],
          "name": "stdout"
        }
      ]
    },
    {
      "cell_type": "code",
      "metadata": {
        "id": "XrOi2Xz1xqQo",
        "colab_type": "code",
        "outputId": "f971c56c-a2cf-4382-cf59-1b169a59fb7c",
        "colab": {
          "base_uri": "https://localhost:8080/",
          "height": 34
        }
      },
      "source": [
        "x_test.shape"
      ],
      "execution_count": 55,
      "outputs": [
        {
          "output_type": "execute_result",
          "data": {
            "text/plain": [
              "(1718, 6)"
            ]
          },
          "metadata": {
            "tags": []
          },
          "execution_count": 55
        }
      ]
    },
    {
      "cell_type": "code",
      "metadata": {
        "id": "FmWNA1LwxtCU",
        "colab_type": "code",
        "outputId": "d246c2e2-d413-40a8-dbe0-868b59603412",
        "colab": {
          "base_uri": "https://localhost:8080/",
          "height": 68
        }
      },
      "source": [
        "# majority classifier\n",
        "y_test['outcome'].value_counts()"
      ],
      "execution_count": 56,
      "outputs": [
        {
          "output_type": "execute_result",
          "data": {
            "text/plain": [
              "1    916\n",
              "0    802\n",
              "Name: outcome, dtype: int64"
            ]
          },
          "metadata": {
            "tags": []
          },
          "execution_count": 56
        }
      ]
    },
    {
      "cell_type": "code",
      "metadata": {
        "id": "Fftps8Ckx_nL",
        "colab_type": "code",
        "outputId": "d4552a33-d88c-4aab-8c4d-fc4e205ecad7",
        "colab": {
          "base_uri": "https://localhost:8080/",
          "height": 34
        }
      },
      "source": [
        "print('Majority Classifier test accuracy:', 916/(916+802))"
      ],
      "execution_count": 57,
      "outputs": [
        {
          "output_type": "stream",
          "text": [
            "Majority Classifier test accuracy: 0.5331781140861467\n"
          ],
          "name": "stdout"
        }
      ]
    },
    {
      "cell_type": "markdown",
      "metadata": {
        "id": "x6sb9Ra7EBP6",
        "colab_type": "text"
      },
      "source": [
        "# Rule 1"
      ]
    },
    {
      "cell_type": "markdown",
      "metadata": {
        "id": "aeoJSybayp63",
        "colab_type": "text"
      },
      "source": [
        "Rule #1: Find words that exist in both the chq and faq. If this number is greater than certain threshold, then predict 1. Else, predict 0."
      ]
    },
    {
      "cell_type": "code",
      "metadata": {
        "id": "lGzJmcGz9O4m",
        "colab_type": "code",
        "outputId": "f7282c94-d0be-4fe0-b372-b05cc2fb255f",
        "colab": {
          "base_uri": "https://localhost:8080/",
          "height": 204
        }
      },
      "source": [
        "x_train.head()"
      ],
      "execution_count": 58,
      "outputs": [
        {
          "output_type": "execute_result",
          "data": {
            "text/html": [
              "<div>\n",
              "<style scoped>\n",
              "    .dataframe tbody tr th:only-of-type {\n",
              "        vertical-align: middle;\n",
              "    }\n",
              "\n",
              "    .dataframe tbody tr th {\n",
              "        vertical-align: top;\n",
              "    }\n",
              "\n",
              "    .dataframe thead th {\n",
              "        text-align: right;\n",
              "    }\n",
              "</style>\n",
              "<table border=\"1\" class=\"dataframe\">\n",
              "  <thead>\n",
              "    <tr style=\"text-align: right;\">\n",
              "      <th></th>\n",
              "      <th>pid</th>\n",
              "      <th>type</th>\n",
              "      <th>value</th>\n",
              "      <th>chq</th>\n",
              "      <th>faq</th>\n",
              "      <th>outcome</th>\n",
              "    </tr>\n",
              "  </thead>\n",
              "  <tbody>\n",
              "    <tr>\n",
              "      <th>6569</th>\n",
              "      <td>6570</td>\n",
              "      <td>originalQ-shortQ</td>\n",
              "      <td>true</td>\n",
              "      <td>year old woman presented yesterday with...</td>\n",
              "      <td>should a patient with influenza symptoms b...</td>\n",
              "      <td>1</td>\n",
              "    </tr>\n",
              "    <tr>\n",
              "      <th>4205</th>\n",
              "      <td>4206</td>\n",
              "      <td>originalQ-shortRandQ</td>\n",
              "      <td>false</td>\n",
              "      <td>is a history of pulmonary embolus a contra...</td>\n",
              "      <td>should we switch to ancef for this diabeti...</td>\n",
              "      <td>0</td>\n",
              "    </tr>\n",
              "    <tr>\n",
              "      <th>3889</th>\n",
              "      <td>3890</td>\n",
              "      <td>originalQ-shortQ</td>\n",
              "      <td>true</td>\n",
              "      <td>should you treat a    year old with a posi...</td>\n",
              "      <td>should you treat a    year old with a posi...</td>\n",
              "      <td>1</td>\n",
              "    </tr>\n",
              "    <tr>\n",
              "      <th>2357</th>\n",
              "      <td>2358</td>\n",
              "      <td>originalQ-shortRandQ</td>\n",
              "      <td>false</td>\n",
              "      <td>do we need to worry about thrombocytopenia...</td>\n",
              "      <td>how do you inject the bicipital tendon</td>\n",
              "      <td>0</td>\n",
              "    </tr>\n",
              "    <tr>\n",
              "      <th>58</th>\n",
              "      <td>59</td>\n",
              "      <td>originalQ-shortQ</td>\n",
              "      <td>true</td>\n",
              "      <td>in this patient with tias  transient ische...</td>\n",
              "      <td>in this patient with transient ischemic at...</td>\n",
              "      <td>1</td>\n",
              "    </tr>\n",
              "  </tbody>\n",
              "</table>\n",
              "</div>"
            ],
            "text/plain": [
              "       pid  ... outcome\n",
              "6569  6570  ...       1\n",
              "4205  4206  ...       0\n",
              "3889  3890  ...       1\n",
              "2357  2358  ...       0\n",
              "58      59  ...       1\n",
              "\n",
              "[5 rows x 6 columns]"
            ]
          },
          "metadata": {
            "tags": []
          },
          "execution_count": 58
        }
      ]
    },
    {
      "cell_type": "code",
      "metadata": {
        "id": "JlENk5DbyvHQ",
        "colab_type": "code",
        "outputId": "0ee7ed49-396c-4405-bc4a-b675bc14181f",
        "colab": {
          "base_uri": "https://localhost:8080/",
          "height": 306
        }
      },
      "source": [
        "x_train['exists_both'] = [set(x[3].split()) & set(x[4].split()) for x in x_train.values]\n",
        "x_train.head()"
      ],
      "execution_count": 59,
      "outputs": [
        {
          "output_type": "stream",
          "text": [
            "/usr/local/lib/python3.6/dist-packages/ipykernel_launcher.py:1: SettingWithCopyWarning: \n",
            "A value is trying to be set on a copy of a slice from a DataFrame.\n",
            "Try using .loc[row_indexer,col_indexer] = value instead\n",
            "\n",
            "See the caveats in the documentation: http://pandas.pydata.org/pandas-docs/stable/indexing.html#indexing-view-versus-copy\n",
            "  \"\"\"Entry point for launching an IPython kernel.\n"
          ],
          "name": "stderr"
        },
        {
          "output_type": "execute_result",
          "data": {
            "text/html": [
              "<div>\n",
              "<style scoped>\n",
              "    .dataframe tbody tr th:only-of-type {\n",
              "        vertical-align: middle;\n",
              "    }\n",
              "\n",
              "    .dataframe tbody tr th {\n",
              "        vertical-align: top;\n",
              "    }\n",
              "\n",
              "    .dataframe thead th {\n",
              "        text-align: right;\n",
              "    }\n",
              "</style>\n",
              "<table border=\"1\" class=\"dataframe\">\n",
              "  <thead>\n",
              "    <tr style=\"text-align: right;\">\n",
              "      <th></th>\n",
              "      <th>pid</th>\n",
              "      <th>type</th>\n",
              "      <th>value</th>\n",
              "      <th>chq</th>\n",
              "      <th>faq</th>\n",
              "      <th>outcome</th>\n",
              "      <th>exists_both</th>\n",
              "    </tr>\n",
              "  </thead>\n",
              "  <tbody>\n",
              "    <tr>\n",
              "      <th>6569</th>\n",
              "      <td>6570</td>\n",
              "      <td>originalQ-shortQ</td>\n",
              "      <td>true</td>\n",
              "      <td>year old woman presented yesterday with...</td>\n",
              "      <td>should a patient with influenza symptoms b...</td>\n",
              "      <td>1</td>\n",
              "      <td>{influenza, a, with}</td>\n",
              "    </tr>\n",
              "    <tr>\n",
              "      <th>4205</th>\n",
              "      <td>4206</td>\n",
              "      <td>originalQ-shortRandQ</td>\n",
              "      <td>false</td>\n",
              "      <td>is a history of pulmonary embolus a contra...</td>\n",
              "      <td>should we switch to ancef for this diabeti...</td>\n",
              "      <td>0</td>\n",
              "      <td>{to}</td>\n",
              "    </tr>\n",
              "    <tr>\n",
              "      <th>3889</th>\n",
              "      <td>3890</td>\n",
              "      <td>originalQ-shortQ</td>\n",
              "      <td>true</td>\n",
              "      <td>should you treat a    year old with a posi...</td>\n",
              "      <td>should you treat a    year old with a posi...</td>\n",
              "      <td>1</td>\n",
              "      <td>{year, negative, purified, old, of, protein, c...</td>\n",
              "    </tr>\n",
              "    <tr>\n",
              "      <th>2357</th>\n",
              "      <td>2358</td>\n",
              "      <td>originalQ-shortRandQ</td>\n",
              "      <td>false</td>\n",
              "      <td>do we need to worry about thrombocytopenia...</td>\n",
              "      <td>how do you inject the bicipital tendon</td>\n",
              "      <td>0</td>\n",
              "      <td>{do}</td>\n",
              "    </tr>\n",
              "    <tr>\n",
              "      <th>58</th>\n",
              "      <td>59</td>\n",
              "      <td>originalQ-shortQ</td>\n",
              "      <td>true</td>\n",
              "      <td>in this patient with tias  transient ische...</td>\n",
              "      <td>in this patient with transient ischemic at...</td>\n",
              "      <td>1</td>\n",
              "      <td>{this, echocardiogram, patient, attacks, trans...</td>\n",
              "    </tr>\n",
              "  </tbody>\n",
              "</table>\n",
              "</div>"
            ],
            "text/plain": [
              "       pid  ...                                        exists_both\n",
              "6569  6570  ...                               {influenza, a, with}\n",
              "4205  4206  ...                                               {to}\n",
              "3889  3890  ...  {year, negative, purified, old, of, protein, c...\n",
              "2357  2358  ...                                               {do}\n",
              "58      59  ...  {this, echocardiogram, patient, attacks, trans...\n",
              "\n",
              "[5 rows x 7 columns]"
            ]
          },
          "metadata": {
            "tags": []
          },
          "execution_count": 59
        }
      ]
    },
    {
      "cell_type": "code",
      "metadata": {
        "id": "8OOcSSR01WeZ",
        "colab_type": "code",
        "outputId": "dac51899-8e77-478f-af23-bd574a0efca4",
        "colab": {
          "base_uri": "https://localhost:8080/",
          "height": 391
        }
      },
      "source": [
        "x_train['exists_both_len'] = x_train['exists_both'].apply(len)\n",
        "x_train.head()"
      ],
      "execution_count": 60,
      "outputs": [
        {
          "output_type": "stream",
          "text": [
            "/usr/local/lib/python3.6/dist-packages/ipykernel_launcher.py:1: SettingWithCopyWarning: \n",
            "A value is trying to be set on a copy of a slice from a DataFrame.\n",
            "Try using .loc[row_indexer,col_indexer] = value instead\n",
            "\n",
            "See the caveats in the documentation: http://pandas.pydata.org/pandas-docs/stable/indexing.html#indexing-view-versus-copy\n",
            "  \"\"\"Entry point for launching an IPython kernel.\n"
          ],
          "name": "stderr"
        },
        {
          "output_type": "execute_result",
          "data": {
            "text/html": [
              "<div>\n",
              "<style scoped>\n",
              "    .dataframe tbody tr th:only-of-type {\n",
              "        vertical-align: middle;\n",
              "    }\n",
              "\n",
              "    .dataframe tbody tr th {\n",
              "        vertical-align: top;\n",
              "    }\n",
              "\n",
              "    .dataframe thead th {\n",
              "        text-align: right;\n",
              "    }\n",
              "</style>\n",
              "<table border=\"1\" class=\"dataframe\">\n",
              "  <thead>\n",
              "    <tr style=\"text-align: right;\">\n",
              "      <th></th>\n",
              "      <th>pid</th>\n",
              "      <th>type</th>\n",
              "      <th>value</th>\n",
              "      <th>chq</th>\n",
              "      <th>faq</th>\n",
              "      <th>outcome</th>\n",
              "      <th>exists_both</th>\n",
              "      <th>exists_both_len</th>\n",
              "    </tr>\n",
              "  </thead>\n",
              "  <tbody>\n",
              "    <tr>\n",
              "      <th>6569</th>\n",
              "      <td>6570</td>\n",
              "      <td>originalQ-shortQ</td>\n",
              "      <td>true</td>\n",
              "      <td>year old woman presented yesterday with...</td>\n",
              "      <td>should a patient with influenza symptoms b...</td>\n",
              "      <td>1</td>\n",
              "      <td>{influenza, a, with}</td>\n",
              "      <td>3</td>\n",
              "    </tr>\n",
              "    <tr>\n",
              "      <th>4205</th>\n",
              "      <td>4206</td>\n",
              "      <td>originalQ-shortRandQ</td>\n",
              "      <td>false</td>\n",
              "      <td>is a history of pulmonary embolus a contra...</td>\n",
              "      <td>should we switch to ancef for this diabeti...</td>\n",
              "      <td>0</td>\n",
              "      <td>{to}</td>\n",
              "      <td>1</td>\n",
              "    </tr>\n",
              "    <tr>\n",
              "      <th>3889</th>\n",
              "      <td>3890</td>\n",
              "      <td>originalQ-shortQ</td>\n",
              "      <td>true</td>\n",
              "      <td>should you treat a    year old with a posi...</td>\n",
              "      <td>should you treat a    year old with a posi...</td>\n",
              "      <td>1</td>\n",
              "      <td>{year, negative, purified, old, of, protein, c...</td>\n",
              "      <td>20</td>\n",
              "    </tr>\n",
              "    <tr>\n",
              "      <th>2357</th>\n",
              "      <td>2358</td>\n",
              "      <td>originalQ-shortRandQ</td>\n",
              "      <td>false</td>\n",
              "      <td>do we need to worry about thrombocytopenia...</td>\n",
              "      <td>how do you inject the bicipital tendon</td>\n",
              "      <td>0</td>\n",
              "      <td>{do}</td>\n",
              "      <td>1</td>\n",
              "    </tr>\n",
              "    <tr>\n",
              "      <th>58</th>\n",
              "      <td>59</td>\n",
              "      <td>originalQ-shortQ</td>\n",
              "      <td>true</td>\n",
              "      <td>in this patient with tias  transient ische...</td>\n",
              "      <td>in this patient with transient ischemic at...</td>\n",
              "      <td>1</td>\n",
              "      <td>{this, echocardiogram, patient, attacks, trans...</td>\n",
              "      <td>16</td>\n",
              "    </tr>\n",
              "  </tbody>\n",
              "</table>\n",
              "</div>"
            ],
            "text/plain": [
              "       pid  ... exists_both_len\n",
              "6569  6570  ...               3\n",
              "4205  4206  ...               1\n",
              "3889  3890  ...              20\n",
              "2357  2358  ...               1\n",
              "58      59  ...              16\n",
              "\n",
              "[5 rows x 8 columns]"
            ]
          },
          "metadata": {
            "tags": []
          },
          "execution_count": 60
        }
      ]
    },
    {
      "cell_type": "code",
      "metadata": {
        "id": "AskFLWXL2WtA",
        "colab_type": "code",
        "outputId": "aad45b2f-10ff-49f2-a1d5-f1c8e16171af",
        "colab": {
          "base_uri": "https://localhost:8080/",
          "height": 170
        }
      },
      "source": [
        "x_train['exists_both_len'].describe()"
      ],
      "execution_count": 61,
      "outputs": [
        {
          "output_type": "execute_result",
          "data": {
            "text/plain": [
              "count    6870.000000\n",
              "mean        5.736827\n",
              "std         5.117859\n",
              "min         0.000000\n",
              "25%         1.000000\n",
              "50%         4.500000\n",
              "75%        10.000000\n",
              "max        30.000000\n",
              "Name: exists_both_len, dtype: float64"
            ]
          },
          "metadata": {
            "tags": []
          },
          "execution_count": 61
        }
      ]
    },
    {
      "cell_type": "code",
      "metadata": {
        "id": "PJGszTPm_JKv",
        "colab_type": "code",
        "outputId": "d0981d9e-cbc5-4d16-acc1-8e29cd850d40",
        "colab": {
          "base_uri": "https://localhost:8080/",
          "height": 170
        }
      },
      "source": [
        "x_train['exist_feature'] = np.where(x_train['exists_both_len'] > 3, 1, 0)\n",
        "x_train['exist_feature'].value_counts()"
      ],
      "execution_count": 62,
      "outputs": [
        {
          "output_type": "stream",
          "text": [
            "/usr/local/lib/python3.6/dist-packages/ipykernel_launcher.py:1: SettingWithCopyWarning: \n",
            "A value is trying to be set on a copy of a slice from a DataFrame.\n",
            "Try using .loc[row_indexer,col_indexer] = value instead\n",
            "\n",
            "See the caveats in the documentation: http://pandas.pydata.org/pandas-docs/stable/indexing.html#indexing-view-versus-copy\n",
            "  \"\"\"Entry point for launching an IPython kernel.\n"
          ],
          "name": "stderr"
        },
        {
          "output_type": "execute_result",
          "data": {
            "text/plain": [
              "1    3738\n",
              "0    3132\n",
              "Name: exist_feature, dtype: int64"
            ]
          },
          "metadata": {
            "tags": []
          },
          "execution_count": 62
        }
      ]
    },
    {
      "cell_type": "code",
      "metadata": {
        "id": "aVBY4E6IAT9Q",
        "colab_type": "code",
        "outputId": "1ee5748b-4624-4b17-f659-cf7f92c2e5a5",
        "colab": {
          "base_uri": "https://localhost:8080/",
          "height": 34
        }
      },
      "source": [
        "train_pred = x_train[x_train['exist_feature'] == x_train['outcome']]\n",
        "train_pred.shape"
      ],
      "execution_count": 63,
      "outputs": [
        {
          "output_type": "execute_result",
          "data": {
            "text/plain": [
              "(6451, 9)"
            ]
          },
          "metadata": {
            "tags": []
          },
          "execution_count": 63
        }
      ]
    },
    {
      "cell_type": "code",
      "metadata": {
        "id": "gAsQ4Mu8AeeR",
        "colab_type": "code",
        "outputId": "18b16361-10a1-4f56-f8f9-33a7026f5199",
        "colab": {
          "base_uri": "https://localhost:8080/",
          "height": 289
        }
      },
      "source": [
        "train_pred.head()"
      ],
      "execution_count": 65,
      "outputs": [
        {
          "output_type": "execute_result",
          "data": {
            "text/html": [
              "<div>\n",
              "<style scoped>\n",
              "    .dataframe tbody tr th:only-of-type {\n",
              "        vertical-align: middle;\n",
              "    }\n",
              "\n",
              "    .dataframe tbody tr th {\n",
              "        vertical-align: top;\n",
              "    }\n",
              "\n",
              "    .dataframe thead th {\n",
              "        text-align: right;\n",
              "    }\n",
              "</style>\n",
              "<table border=\"1\" class=\"dataframe\">\n",
              "  <thead>\n",
              "    <tr style=\"text-align: right;\">\n",
              "      <th></th>\n",
              "      <th>pid</th>\n",
              "      <th>type</th>\n",
              "      <th>value</th>\n",
              "      <th>chq</th>\n",
              "      <th>faq</th>\n",
              "      <th>outcome</th>\n",
              "      <th>exists_both</th>\n",
              "      <th>exists_both_len</th>\n",
              "      <th>exist_feature</th>\n",
              "    </tr>\n",
              "  </thead>\n",
              "  <tbody>\n",
              "    <tr>\n",
              "      <th>4205</th>\n",
              "      <td>4206</td>\n",
              "      <td>originalQ-shortRandQ</td>\n",
              "      <td>false</td>\n",
              "      <td>is a history of pulmonary embolus a contra...</td>\n",
              "      <td>should we switch to ancef for this diabeti...</td>\n",
              "      <td>0</td>\n",
              "      <td>{to}</td>\n",
              "      <td>1</td>\n",
              "      <td>0</td>\n",
              "    </tr>\n",
              "    <tr>\n",
              "      <th>3889</th>\n",
              "      <td>3890</td>\n",
              "      <td>originalQ-shortQ</td>\n",
              "      <td>true</td>\n",
              "      <td>should you treat a    year old with a posi...</td>\n",
              "      <td>should you treat a    year old with a posi...</td>\n",
              "      <td>1</td>\n",
              "      <td>{year, negative, purified, old, of, protein, c...</td>\n",
              "      <td>20</td>\n",
              "      <td>1</td>\n",
              "    </tr>\n",
              "    <tr>\n",
              "      <th>2357</th>\n",
              "      <td>2358</td>\n",
              "      <td>originalQ-shortRandQ</td>\n",
              "      <td>false</td>\n",
              "      <td>do we need to worry about thrombocytopenia...</td>\n",
              "      <td>how do you inject the bicipital tendon</td>\n",
              "      <td>0</td>\n",
              "      <td>{do}</td>\n",
              "      <td>1</td>\n",
              "      <td>0</td>\n",
              "    </tr>\n",
              "    <tr>\n",
              "      <th>58</th>\n",
              "      <td>59</td>\n",
              "      <td>originalQ-shortQ</td>\n",
              "      <td>true</td>\n",
              "      <td>in this patient with tias  transient ische...</td>\n",
              "      <td>in this patient with transient ischemic at...</td>\n",
              "      <td>1</td>\n",
              "      <td>{this, echocardiogram, patient, attacks, trans...</td>\n",
              "      <td>16</td>\n",
              "      <td>1</td>\n",
              "    </tr>\n",
              "    <tr>\n",
              "      <th>2303</th>\n",
              "      <td>2304</td>\n",
              "      <td>originalQ-shortQ</td>\n",
              "      <td>true</td>\n",
              "      <td>what is the reference for the article on a...</td>\n",
              "      <td>what is the reference to the article on ar...</td>\n",
              "      <td>1</td>\n",
              "      <td>{article, arthrocentesis, on, technique, refer...</td>\n",
              "      <td>8</td>\n",
              "      <td>1</td>\n",
              "    </tr>\n",
              "  </tbody>\n",
              "</table>\n",
              "</div>"
            ],
            "text/plain": [
              "       pid                  type  ... exists_both_len exist_feature\n",
              "4205  4206  originalQ-shortRandQ  ...               1             0\n",
              "3889  3890      originalQ-shortQ  ...              20             1\n",
              "2357  2358  originalQ-shortRandQ  ...               1             0\n",
              "58      59      originalQ-shortQ  ...              16             1\n",
              "2303  2304      originalQ-shortQ  ...               8             1\n",
              "\n",
              "[5 rows x 9 columns]"
            ]
          },
          "metadata": {
            "tags": []
          },
          "execution_count": 65
        }
      ]
    },
    {
      "cell_type": "code",
      "metadata": {
        "id": "Ixr647xiAHRI",
        "colab_type": "code",
        "outputId": "c61f9a0a-cddf-43f5-f6ba-5d49882569f2",
        "colab": {
          "base_uri": "https://localhost:8080/",
          "height": 34
        }
      },
      "source": [
        "incorrect_train_pred = x_train[x_train['exist_feature'] != x_train['outcome']]\n",
        "incorrect_train_pred.shape"
      ],
      "execution_count": 66,
      "outputs": [
        {
          "output_type": "execute_result",
          "data": {
            "text/plain": [
              "(419, 9)"
            ]
          },
          "metadata": {
            "tags": []
          },
          "execution_count": 66
        }
      ]
    },
    {
      "cell_type": "code",
      "metadata": {
        "id": "Sb4TLb-5-tXm",
        "colab_type": "code",
        "outputId": "f64446f1-a5cc-4918-ac9a-e187d4c18f83",
        "colab": {
          "base_uri": "https://localhost:8080/",
          "height": 289
        }
      },
      "source": [
        "incorrect_train_pred.head()"
      ],
      "execution_count": 67,
      "outputs": [
        {
          "output_type": "execute_result",
          "data": {
            "text/html": [
              "<div>\n",
              "<style scoped>\n",
              "    .dataframe tbody tr th:only-of-type {\n",
              "        vertical-align: middle;\n",
              "    }\n",
              "\n",
              "    .dataframe tbody tr th {\n",
              "        vertical-align: top;\n",
              "    }\n",
              "\n",
              "    .dataframe thead th {\n",
              "        text-align: right;\n",
              "    }\n",
              "</style>\n",
              "<table border=\"1\" class=\"dataframe\">\n",
              "  <thead>\n",
              "    <tr style=\"text-align: right;\">\n",
              "      <th></th>\n",
              "      <th>pid</th>\n",
              "      <th>type</th>\n",
              "      <th>value</th>\n",
              "      <th>chq</th>\n",
              "      <th>faq</th>\n",
              "      <th>outcome</th>\n",
              "      <th>exists_both</th>\n",
              "      <th>exists_both_len</th>\n",
              "      <th>exist_feature</th>\n",
              "    </tr>\n",
              "  </thead>\n",
              "  <tbody>\n",
              "    <tr>\n",
              "      <th>6569</th>\n",
              "      <td>6570</td>\n",
              "      <td>originalQ-shortQ</td>\n",
              "      <td>true</td>\n",
              "      <td>year old woman presented yesterday with...</td>\n",
              "      <td>should a patient with influenza symptoms b...</td>\n",
              "      <td>1</td>\n",
              "      <td>{influenza, a, with}</td>\n",
              "      <td>3</td>\n",
              "      <td>0</td>\n",
              "    </tr>\n",
              "    <tr>\n",
              "      <th>156</th>\n",
              "      <td>157</td>\n",
              "      <td>originalQ-shortRandQ</td>\n",
              "      <td>false</td>\n",
              "      <td>how soon should you ambulate a patient wit...</td>\n",
              "      <td>can i use low molecular weight heparin in ...</td>\n",
              "      <td>0</td>\n",
              "      <td>{thrombosis, vein, patient, deep, with}</td>\n",
              "      <td>5</td>\n",
              "      <td>1</td>\n",
              "    </tr>\n",
              "    <tr>\n",
              "      <th>2057</th>\n",
              "      <td>2058</td>\n",
              "      <td>originalQ-shortRandQ</td>\n",
              "      <td>false</td>\n",
              "      <td>what are the causes of and how do you work...</td>\n",
              "      <td>what is the incubation period of influenza...</td>\n",
              "      <td>0</td>\n",
              "      <td>{a, of, the, what}</td>\n",
              "      <td>4</td>\n",
              "      <td>1</td>\n",
              "    </tr>\n",
              "    <tr>\n",
              "      <th>6885</th>\n",
              "      <td>6886</td>\n",
              "      <td>originalQ-shortRandQ</td>\n",
              "      <td>false</td>\n",
              "      <td>year old woman complains that her heart...</td>\n",
              "      <td>how should i treat polymenorrhea in a    y...</td>\n",
              "      <td>0</td>\n",
              "      <td>{year, old, a, i, in}</td>\n",
              "      <td>5</td>\n",
              "      <td>1</td>\n",
              "    </tr>\n",
              "    <tr>\n",
              "      <th>6400</th>\n",
              "      <td>6401</td>\n",
              "      <td>originalQ-shortRandQ</td>\n",
              "      <td>false</td>\n",
              "      <td>i had a guy     year old man  with subclav...</td>\n",
              "      <td>what is the cause and treatment of this ol...</td>\n",
              "      <td>0</td>\n",
              "      <td>{man, old, the, and}</td>\n",
              "      <td>4</td>\n",
              "      <td>1</td>\n",
              "    </tr>\n",
              "  </tbody>\n",
              "</table>\n",
              "</div>"
            ],
            "text/plain": [
              "       pid                  type  ... exists_both_len exist_feature\n",
              "6569  6570      originalQ-shortQ  ...               3             0\n",
              "156    157  originalQ-shortRandQ  ...               5             1\n",
              "2057  2058  originalQ-shortRandQ  ...               4             1\n",
              "6885  6886  originalQ-shortRandQ  ...               5             1\n",
              "6400  6401  originalQ-shortRandQ  ...               4             1\n",
              "\n",
              "[5 rows x 9 columns]"
            ]
          },
          "metadata": {
            "tags": []
          },
          "execution_count": 67
        }
      ]
    },
    {
      "cell_type": "code",
      "metadata": {
        "id": "Wn0uXpmCCI4p",
        "colab_type": "code",
        "outputId": "78987c12-18ba-4768-fb20-58ad98d9ba8b",
        "colab": {
          "base_uri": "https://localhost:8080/",
          "height": 51
        }
      },
      "source": [
        "print('Majority Classifier Train Accuracy:',3739/(3739+3131))\n",
        "print('Exact Match > 0 Classifier Train Accuracy:',6451/(3739+3131))"
      ],
      "execution_count": 68,
      "outputs": [
        {
          "output_type": "stream",
          "text": [
            "Majority Classifier Train Accuracy: 0.5442503639010189\n",
            "Exact Match > 0 Classifier Train Accuracy: 0.9390101892285299\n"
          ],
          "name": "stdout"
        }
      ]
    },
    {
      "cell_type": "code",
      "metadata": {
        "id": "zpV6zweN2cwB",
        "colab_type": "code",
        "outputId": "2dd13501-5ae9-49a2-c8a0-d57a247637b4",
        "colab": {
          "base_uri": "https://localhost:8080/",
          "height": 340
        }
      },
      "source": [
        "# Test classifier\n",
        "x_test['exists_both'] = [set(x[3].split()) & set(x[4].split()) for x in x_test.values]\n",
        "x_test['exists_both_len'] = x_test['exists_both'].apply(len)\n",
        "x_test['exist_feature'] = np.where(x_test['exists_both_len'] > 3, 1, 0)\n",
        "pred = x_test[x_test['exist_feature'] == x_test['outcome']]\n",
        "pred.shape"
      ],
      "execution_count": 69,
      "outputs": [
        {
          "output_type": "stream",
          "text": [
            "/usr/local/lib/python3.6/dist-packages/ipykernel_launcher.py:1: SettingWithCopyWarning: \n",
            "A value is trying to be set on a copy of a slice from a DataFrame.\n",
            "Try using .loc[row_indexer,col_indexer] = value instead\n",
            "\n",
            "See the caveats in the documentation: http://pandas.pydata.org/pandas-docs/stable/indexing.html#indexing-view-versus-copy\n",
            "  \"\"\"Entry point for launching an IPython kernel.\n",
            "/usr/local/lib/python3.6/dist-packages/ipykernel_launcher.py:2: SettingWithCopyWarning: \n",
            "A value is trying to be set on a copy of a slice from a DataFrame.\n",
            "Try using .loc[row_indexer,col_indexer] = value instead\n",
            "\n",
            "See the caveats in the documentation: http://pandas.pydata.org/pandas-docs/stable/indexing.html#indexing-view-versus-copy\n",
            "  \n",
            "/usr/local/lib/python3.6/dist-packages/ipykernel_launcher.py:3: SettingWithCopyWarning: \n",
            "A value is trying to be set on a copy of a slice from a DataFrame.\n",
            "Try using .loc[row_indexer,col_indexer] = value instead\n",
            "\n",
            "See the caveats in the documentation: http://pandas.pydata.org/pandas-docs/stable/indexing.html#indexing-view-versus-copy\n",
            "  This is separate from the ipykernel package so we can avoid doing imports until\n"
          ],
          "name": "stderr"
        },
        {
          "output_type": "execute_result",
          "data": {
            "text/plain": [
              "(1609, 9)"
            ]
          },
          "metadata": {
            "tags": []
          },
          "execution_count": 69
        }
      ]
    },
    {
      "cell_type": "code",
      "metadata": {
        "id": "JPjsTQi1AvEy",
        "colab_type": "code",
        "outputId": "f65dcc03-11a8-4559-cce4-3592e386ff66",
        "colab": {
          "base_uri": "https://localhost:8080/",
          "height": 34
        }
      },
      "source": [
        "incorrect_pred = x_test[x_test['exist_feature'] != x_test['outcome']]\n",
        "incorrect_pred.shape"
      ],
      "execution_count": 70,
      "outputs": [
        {
          "output_type": "execute_result",
          "data": {
            "text/plain": [
              "(109, 9)"
            ]
          },
          "metadata": {
            "tags": []
          },
          "execution_count": 70
        }
      ]
    },
    {
      "cell_type": "code",
      "metadata": {
        "id": "JCDAvh507wDu",
        "colab_type": "code",
        "outputId": "d35f335f-a230-4a06-9d84-a0481f27bb88",
        "colab": {
          "base_uri": "https://localhost:8080/",
          "height": 68
        }
      },
      "source": [
        "x_test['outcome'].value_counts()"
      ],
      "execution_count": 71,
      "outputs": [
        {
          "output_type": "execute_result",
          "data": {
            "text/plain": [
              "1    916\n",
              "0    802\n",
              "Name: outcome, dtype: int64"
            ]
          },
          "metadata": {
            "tags": []
          },
          "execution_count": 71
        }
      ]
    },
    {
      "cell_type": "code",
      "metadata": {
        "id": "_HZz1Jor7yvk",
        "colab_type": "code",
        "outputId": "313148af-c44c-4afd-839b-9045792e3052",
        "colab": {
          "base_uri": "https://localhost:8080/",
          "height": 51
        }
      },
      "source": [
        "print('Majority Classifier Test Accuracy:',916/(916+802))\n",
        "print('Exact Match > 0 Classifier Test Accuracy:',1609/(916+802))"
      ],
      "execution_count": 72,
      "outputs": [
        {
          "output_type": "stream",
          "text": [
            "Majority Classifier Test Accuracy: 0.5331781140861467\n",
            "Exact Match > 0 Classifier Test Accuracy: 0.9365541327124564\n"
          ],
          "name": "stdout"
        }
      ]
    },
    {
      "cell_type": "markdown",
      "metadata": {
        "id": "FupSd-jU8cXo",
        "colab_type": "text"
      },
      "source": [
        "Accuracy improved from ~53% -> ~93% by applying the rule:\n",
        "\n",
        "(number of exact words matching > 3) == 1, else 0"
      ]
    },
    {
      "cell_type": "markdown",
      "metadata": {
        "id": "AjHsz0rdD7z5",
        "colab_type": "text"
      },
      "source": [
        "# Rule 2"
      ]
    },
    {
      "cell_type": "markdown",
      "metadata": {
        "id": "D40nopNL8hih",
        "colab_type": "text"
      },
      "source": [
        "Let's look at our incorrect predictions to then improve our classifier with our next rule."
      ]
    },
    {
      "cell_type": "code",
      "metadata": {
        "id": "KfHT9x5W8GCg",
        "colab_type": "code",
        "outputId": "1e87d177-fba8-4245-ffc7-8dc5cc518742",
        "colab": {
          "base_uri": "https://localhost:8080/",
          "height": 1000
        }
      },
      "source": [
        "incorrect_train_pred.head(20)"
      ],
      "execution_count": 0,
      "outputs": [
        {
          "output_type": "execute_result",
          "data": {
            "text/html": [
              "<div>\n",
              "<style scoped>\n",
              "    .dataframe tbody tr th:only-of-type {\n",
              "        vertical-align: middle;\n",
              "    }\n",
              "\n",
              "    .dataframe tbody tr th {\n",
              "        vertical-align: top;\n",
              "    }\n",
              "\n",
              "    .dataframe thead th {\n",
              "        text-align: right;\n",
              "    }\n",
              "</style>\n",
              "<table border=\"1\" class=\"dataframe\">\n",
              "  <thead>\n",
              "    <tr style=\"text-align: right;\">\n",
              "      <th></th>\n",
              "      <th>pid</th>\n",
              "      <th>type</th>\n",
              "      <th>value</th>\n",
              "      <th>chq</th>\n",
              "      <th>faq</th>\n",
              "      <th>outcome</th>\n",
              "      <th>exists_both</th>\n",
              "      <th>exists_both_len</th>\n",
              "      <th>exist_feature</th>\n",
              "    </tr>\n",
              "  </thead>\n",
              "  <tbody>\n",
              "    <tr>\n",
              "      <th>6569</th>\n",
              "      <td>6570</td>\n",
              "      <td>originalQ-shortQ</td>\n",
              "      <td>true</td>\n",
              "      <td>year old woman presented yesterday with...</td>\n",
              "      <td>should a patient with influenza symptoms b...</td>\n",
              "      <td>1</td>\n",
              "      <td>{influenza, a, with}</td>\n",
              "      <td>3</td>\n",
              "      <td>0</td>\n",
              "    </tr>\n",
              "    <tr>\n",
              "      <th>156</th>\n",
              "      <td>157</td>\n",
              "      <td>originalQ-shortRandQ</td>\n",
              "      <td>false</td>\n",
              "      <td>how soon should you ambulate a patient wit...</td>\n",
              "      <td>can i use low molecular weight heparin in ...</td>\n",
              "      <td>0</td>\n",
              "      <td>{deep, thrombosis, vein, with, patient}</td>\n",
              "      <td>5</td>\n",
              "      <td>1</td>\n",
              "    </tr>\n",
              "    <tr>\n",
              "      <th>2057</th>\n",
              "      <td>2058</td>\n",
              "      <td>originalQ-shortRandQ</td>\n",
              "      <td>false</td>\n",
              "      <td>what are the causes of and how do you work...</td>\n",
              "      <td>what is the incubation period of influenza...</td>\n",
              "      <td>0</td>\n",
              "      <td>{a, what, the, of}</td>\n",
              "      <td>4</td>\n",
              "      <td>1</td>\n",
              "    </tr>\n",
              "    <tr>\n",
              "      <th>6885</th>\n",
              "      <td>6886</td>\n",
              "      <td>originalQ-shortRandQ</td>\n",
              "      <td>false</td>\n",
              "      <td>year old woman complains that her heart...</td>\n",
              "      <td>how should i treat polymenorrhea in a    y...</td>\n",
              "      <td>0</td>\n",
              "      <td>{i, year, in, old, a}</td>\n",
              "      <td>5</td>\n",
              "      <td>1</td>\n",
              "    </tr>\n",
              "    <tr>\n",
              "      <th>6400</th>\n",
              "      <td>6401</td>\n",
              "      <td>originalQ-shortRandQ</td>\n",
              "      <td>false</td>\n",
              "      <td>i had a guy     year old man  with subclav...</td>\n",
              "      <td>what is the cause and treatment of this ol...</td>\n",
              "      <td>0</td>\n",
              "      <td>{the, and, man, old}</td>\n",
              "      <td>4</td>\n",
              "      <td>1</td>\n",
              "    </tr>\n",
              "    <tr>\n",
              "      <th>333</th>\n",
              "      <td>334</td>\n",
              "      <td>originalQ-shortRandQ</td>\n",
              "      <td>false</td>\n",
              "      <td>it s not crystal clear what s going on wit...</td>\n",
              "      <td>how should i treat polymenorrhea in a    y...</td>\n",
              "      <td>0</td>\n",
              "      <td>{a, i, in, old, treat, year}</td>\n",
              "      <td>6</td>\n",
              "      <td>1</td>\n",
              "    </tr>\n",
              "    <tr>\n",
              "      <th>752</th>\n",
              "      <td>753</td>\n",
              "      <td>originalQ-shortRandQ</td>\n",
              "      <td>false</td>\n",
              "      <td>what is the significance of haemophilus ae...</td>\n",
              "      <td>what is the dose of sporanox</td>\n",
              "      <td>0</td>\n",
              "      <td>{is, what, the, of}</td>\n",
              "      <td>4</td>\n",
              "      <td>1</td>\n",
              "    </tr>\n",
              "    <tr>\n",
              "      <th>351</th>\n",
              "      <td>352</td>\n",
              "      <td>originalQ-shortQ</td>\n",
              "      <td>true</td>\n",
              "      <td>what is legatrin</td>\n",
              "      <td>what is legatrin</td>\n",
              "      <td>1</td>\n",
              "      <td>{is, legatrin, what}</td>\n",
              "      <td>3</td>\n",
              "      <td>0</td>\n",
              "    </tr>\n",
              "    <tr>\n",
              "      <th>2996</th>\n",
              "      <td>2997</td>\n",
              "      <td>originalQ-shortRandQ</td>\n",
              "      <td>false</td>\n",
              "      <td>what is the upper limit of normal of small...</td>\n",
              "      <td>what is that new drug like prilosec   it h...</td>\n",
              "      <td>0</td>\n",
              "      <td>{is, what, the, of}</td>\n",
              "      <td>4</td>\n",
              "      <td>1</td>\n",
              "    </tr>\n",
              "    <tr>\n",
              "      <th>1412</th>\n",
              "      <td>1413</td>\n",
              "      <td>originalQ-shortRandQ</td>\n",
              "      <td>false</td>\n",
              "      <td>is keflex the drug of choice for this pati...</td>\n",
              "      <td>is serzone okay to give to with a partial ...</td>\n",
              "      <td>0</td>\n",
              "      <td>{is, to, a, with}</td>\n",
              "      <td>4</td>\n",
              "      <td>1</td>\n",
              "    </tr>\n",
              "    <tr>\n",
              "      <th>4228</th>\n",
              "      <td>4229</td>\n",
              "      <td>originalQ-shortQ</td>\n",
              "      <td>true</td>\n",
              "      <td>what causes hypercalcemia  elevated serum ...</td>\n",
              "      <td>what causes hypercalcemia</td>\n",
              "      <td>1</td>\n",
              "      <td>{hypercalcemia, what, causes}</td>\n",
              "      <td>3</td>\n",
              "      <td>0</td>\n",
              "    </tr>\n",
              "    <tr>\n",
              "      <th>3309</th>\n",
              "      <td>3310</td>\n",
              "      <td>originalQ-shortRandQ</td>\n",
              "      <td>false</td>\n",
              "      <td>what is the difference between the glycohe...</td>\n",
              "      <td>what is the cause and treatment of this ol...</td>\n",
              "      <td>0</td>\n",
              "      <td>{is, and, what, the}</td>\n",
              "      <td>4</td>\n",
              "      <td>1</td>\n",
              "    </tr>\n",
              "    <tr>\n",
              "      <th>2319</th>\n",
              "      <td>2320</td>\n",
              "      <td>originalQ-shortRandQ</td>\n",
              "      <td>false</td>\n",
              "      <td>what is a good protocol for diagnosis and ...</td>\n",
              "      <td>what is the dose of bactrim for a   year o...</td>\n",
              "      <td>0</td>\n",
              "      <td>{what, for, is, a, of}</td>\n",
              "      <td>5</td>\n",
              "      <td>1</td>\n",
              "    </tr>\n",
              "    <tr>\n",
              "      <th>6181</th>\n",
              "      <td>6182</td>\n",
              "      <td>originalQ-shortQ</td>\n",
              "      <td>true</td>\n",
              "      <td>year old woman with bladder symptoms   ...</td>\n",
              "      <td>what are glitter cells</td>\n",
              "      <td>1</td>\n",
              "      <td>{glitter, what, cells}</td>\n",
              "      <td>3</td>\n",
              "      <td>0</td>\n",
              "    </tr>\n",
              "    <tr>\n",
              "      <th>5614</th>\n",
              "      <td>5615</td>\n",
              "      <td>originalQ-shortQ</td>\n",
              "      <td>true</td>\n",
              "      <td>i have a   month old with a varicocele and...</td>\n",
              "      <td>when should an infant with a hydrocele be ...</td>\n",
              "      <td>1</td>\n",
              "      <td>{with, a}</td>\n",
              "      <td>2</td>\n",
              "      <td>0</td>\n",
              "    </tr>\n",
              "    <tr>\n",
              "      <th>5931</th>\n",
              "      <td>5932</td>\n",
              "      <td>originalQ-shortQ</td>\n",
              "      <td>true</td>\n",
              "      <td>a question the study physician wrote on th...</td>\n",
              "      <td>which oral contraceptive should be used fo...</td>\n",
              "      <td>1</td>\n",
              "      <td>{acne}</td>\n",
              "      <td>1</td>\n",
              "      <td>0</td>\n",
              "    </tr>\n",
              "    <tr>\n",
              "      <th>7187</th>\n",
              "      <td>7188</td>\n",
              "      <td>originalQ-shortRandQ</td>\n",
              "      <td>false</td>\n",
              "      <td>twenty six month old boy   serum sickness ...</td>\n",
              "      <td>what is the cause and treatment of this ol...</td>\n",
              "      <td>0</td>\n",
              "      <td>{what, this, and, old, the}</td>\n",
              "      <td>5</td>\n",
              "      <td>1</td>\n",
              "    </tr>\n",
              "    <tr>\n",
              "      <th>88</th>\n",
              "      <td>89</td>\n",
              "      <td>originalQ-shortRandQ</td>\n",
              "      <td>false</td>\n",
              "      <td>at age   has had two simple bladder infect...</td>\n",
              "      <td>maneuver mentioned at continuing medical e...</td>\n",
              "      <td>0</td>\n",
              "      <td>{do, at, or, of}</td>\n",
              "      <td>4</td>\n",
              "      <td>1</td>\n",
              "    </tr>\n",
              "    <tr>\n",
              "      <th>5875</th>\n",
              "      <td>5876</td>\n",
              "      <td>originalQ-shortRandQ</td>\n",
              "      <td>false</td>\n",
              "      <td>year old volleyball player with leg cra...</td>\n",
              "      <td>how should i treat polymenorrhea in a    y...</td>\n",
              "      <td>0</td>\n",
              "      <td>{i, year, in, old}</td>\n",
              "      <td>4</td>\n",
              "      <td>1</td>\n",
              "    </tr>\n",
              "    <tr>\n",
              "      <th>548</th>\n",
              "      <td>549</td>\n",
              "      <td>originalQ-shortRandQ</td>\n",
              "      <td>false</td>\n",
              "      <td>this morning i saw a    year old man with ...</td>\n",
              "      <td>in this patient with transient ischemic at...</td>\n",
              "      <td>0</td>\n",
              "      <td>{i, this, and, with, no}</td>\n",
              "      <td>5</td>\n",
              "      <td>1</td>\n",
              "    </tr>\n",
              "  </tbody>\n",
              "</table>\n",
              "</div>"
            ],
            "text/plain": [
              "       pid                  type  ... exists_both_len exist_feature\n",
              "6569  6570      originalQ-shortQ  ...               3             0\n",
              "156    157  originalQ-shortRandQ  ...               5             1\n",
              "2057  2058  originalQ-shortRandQ  ...               4             1\n",
              "6885  6886  originalQ-shortRandQ  ...               5             1\n",
              "6400  6401  originalQ-shortRandQ  ...               4             1\n",
              "333    334  originalQ-shortRandQ  ...               6             1\n",
              "752    753  originalQ-shortRandQ  ...               4             1\n",
              "351    352      originalQ-shortQ  ...               3             0\n",
              "2996  2997  originalQ-shortRandQ  ...               4             1\n",
              "1412  1413  originalQ-shortRandQ  ...               4             1\n",
              "4228  4229      originalQ-shortQ  ...               3             0\n",
              "3309  3310  originalQ-shortRandQ  ...               4             1\n",
              "2319  2320  originalQ-shortRandQ  ...               5             1\n",
              "6181  6182      originalQ-shortQ  ...               3             0\n",
              "5614  5615      originalQ-shortQ  ...               2             0\n",
              "5931  5932      originalQ-shortQ  ...               1             0\n",
              "7187  7188  originalQ-shortRandQ  ...               5             1\n",
              "88      89  originalQ-shortRandQ  ...               4             1\n",
              "5875  5876  originalQ-shortRandQ  ...               4             1\n",
              "548    549  originalQ-shortRandQ  ...               5             1\n",
              "\n",
              "[20 rows x 9 columns]"
            ]
          },
          "metadata": {
            "tags": []
          },
          "execution_count": 49
        }
      ]
    },
    {
      "cell_type": "code",
      "metadata": {
        "id": "YEufX53OCfqi",
        "colab_type": "code",
        "outputId": "b89499e3-8b7b-40a7-c6f8-dc4aa15f26e4",
        "colab": {
          "base_uri": "https://localhost:8080/",
          "height": 69
        }
      },
      "source": [
        "incorrect_train_pred['outcome'].value_counts()"
      ],
      "execution_count": 0,
      "outputs": [
        {
          "output_type": "execute_result",
          "data": {
            "text/plain": [
              "1    210\n",
              "0    209\n",
              "Name: outcome, dtype: int64"
            ]
          },
          "metadata": {
            "tags": []
          },
          "execution_count": 50
        }
      ]
    },
    {
      "cell_type": "markdown",
      "metadata": {
        "id": "E5uJUPGQEOj9",
        "colab_type": "text"
      },
      "source": [
        "It seems that a lot of our incorrect predictions are due to the fact that non-relevant words are being matched. We can try to improve this by removing stopwords."
      ]
    },
    {
      "cell_type": "code",
      "metadata": {
        "id": "FEWKCWU2C09i",
        "colab_type": "code",
        "outputId": "084ef1f6-3f87-418c-8cbe-baeaebfbebcc",
        "colab": {
          "base_uri": "https://localhost:8080/",
          "height": 527
        }
      },
      "source": [
        "import nltk\n",
        "nltk.download('stopwords')\n",
        "nltk.download('punkt')\n",
        "from nltk.corpus import stopwords \n",
        "from nltk.tokenize import word_tokenize\n",
        "\n",
        "\n",
        "def tokenize_and_remove_stopwords(text):\n",
        "  # Tokenize\n",
        "  tokenized_text = word_tokenize(text)\n",
        "\n",
        "  # Remove stopwords\n",
        "  for word in tokenized_text:\n",
        "      if word in stopwords.words('english'):\n",
        "          tokenized_text.remove(word)\n",
        "  return tokenized_text\n",
        "\n",
        "x_train['chq'] = x_train.apply(lambda x: tokenize_and_remove_stopwords(x['chq']), axis=1)\n",
        "x_train['faq'] = x_train.apply(lambda x: tokenize_and_remove_stopwords(x['faq']), axis=1)\n",
        "\n",
        "x_train.head()"
      ],
      "execution_count": 73,
      "outputs": [
        {
          "output_type": "stream",
          "text": [
            "[nltk_data] Downloading package stopwords to /root/nltk_data...\n",
            "[nltk_data]   Package stopwords is already up-to-date!\n",
            "[nltk_data] Downloading package punkt to /root/nltk_data...\n",
            "[nltk_data]   Package punkt is already up-to-date!\n"
          ],
          "name": "stdout"
        },
        {
          "output_type": "stream",
          "text": [
            "/usr/local/lib/python3.6/dist-packages/ipykernel_launcher.py:18: SettingWithCopyWarning: \n",
            "A value is trying to be set on a copy of a slice from a DataFrame.\n",
            "Try using .loc[row_indexer,col_indexer] = value instead\n",
            "\n",
            "See the caveats in the documentation: http://pandas.pydata.org/pandas-docs/stable/indexing.html#indexing-view-versus-copy\n",
            "/usr/local/lib/python3.6/dist-packages/ipykernel_launcher.py:19: SettingWithCopyWarning: \n",
            "A value is trying to be set on a copy of a slice from a DataFrame.\n",
            "Try using .loc[row_indexer,col_indexer] = value instead\n",
            "\n",
            "See the caveats in the documentation: http://pandas.pydata.org/pandas-docs/stable/indexing.html#indexing-view-versus-copy\n"
          ],
          "name": "stderr"
        },
        {
          "output_type": "execute_result",
          "data": {
            "text/html": [
              "<div>\n",
              "<style scoped>\n",
              "    .dataframe tbody tr th:only-of-type {\n",
              "        vertical-align: middle;\n",
              "    }\n",
              "\n",
              "    .dataframe tbody tr th {\n",
              "        vertical-align: top;\n",
              "    }\n",
              "\n",
              "    .dataframe thead th {\n",
              "        text-align: right;\n",
              "    }\n",
              "</style>\n",
              "<table border=\"1\" class=\"dataframe\">\n",
              "  <thead>\n",
              "    <tr style=\"text-align: right;\">\n",
              "      <th></th>\n",
              "      <th>pid</th>\n",
              "      <th>type</th>\n",
              "      <th>value</th>\n",
              "      <th>chq</th>\n",
              "      <th>faq</th>\n",
              "      <th>outcome</th>\n",
              "      <th>exists_both</th>\n",
              "      <th>exists_both_len</th>\n",
              "      <th>exist_feature</th>\n",
              "    </tr>\n",
              "  </thead>\n",
              "  <tbody>\n",
              "    <tr>\n",
              "      <th>6569</th>\n",
              "      <td>6570</td>\n",
              "      <td>originalQ-shortQ</td>\n",
              "      <td>true</td>\n",
              "      <td>[year, old, woman, presented, yesterday, a, pe...</td>\n",
              "      <td>[a, patient, influenza, symptoms, treated, the...</td>\n",
              "      <td>1</td>\n",
              "      <td>{influenza, a, with}</td>\n",
              "      <td>3</td>\n",
              "      <td>0</td>\n",
              "    </tr>\n",
              "    <tr>\n",
              "      <th>4205</th>\n",
              "      <td>4206</td>\n",
              "      <td>originalQ-shortRandQ</td>\n",
              "      <td>false</td>\n",
              "      <td>[history, pulmonary, embolus, a, contraindicat...</td>\n",
              "      <td>[we, switch, ancef, this, diabetic, foot, ulce...</td>\n",
              "      <td>0</td>\n",
              "      <td>{to}</td>\n",
              "      <td>1</td>\n",
              "      <td>0</td>\n",
              "    </tr>\n",
              "    <tr>\n",
              "      <th>3889</th>\n",
              "      <td>3890</td>\n",
              "      <td>originalQ-shortQ</td>\n",
              "      <td>true</td>\n",
              "      <td>[you, treat, year, old, a, positive, ppd, puri...</td>\n",
              "      <td>[you, treat, year, old, a, positive, ppd, puri...</td>\n",
              "      <td>1</td>\n",
              "      <td>{year, negative, purified, old, of, protein, c...</td>\n",
              "      <td>20</td>\n",
              "      <td>1</td>\n",
              "    </tr>\n",
              "    <tr>\n",
              "      <th>2357</th>\n",
              "      <td>2358</td>\n",
              "      <td>originalQ-shortRandQ</td>\n",
              "      <td>false</td>\n",
              "      <td>[we, need, worry, thrombocytopenia, other, sid...</td>\n",
              "      <td>[do, inject, bicipital, tendon]</td>\n",
              "      <td>0</td>\n",
              "      <td>{do}</td>\n",
              "      <td>1</td>\n",
              "      <td>0</td>\n",
              "    </tr>\n",
              "    <tr>\n",
              "      <th>58</th>\n",
              "      <td>59</td>\n",
              "      <td>originalQ-shortQ</td>\n",
              "      <td>true</td>\n",
              "      <td>[this, patient, tias, transient, ischemic, att...</td>\n",
              "      <td>[this, patient, transient, ischemic, attacks, ...</td>\n",
              "      <td>1</td>\n",
              "      <td>{this, echocardiogram, patient, attacks, trans...</td>\n",
              "      <td>16</td>\n",
              "      <td>1</td>\n",
              "    </tr>\n",
              "  </tbody>\n",
              "</table>\n",
              "</div>"
            ],
            "text/plain": [
              "       pid                  type  ... exists_both_len exist_feature\n",
              "6569  6570      originalQ-shortQ  ...               3             0\n",
              "4205  4206  originalQ-shortRandQ  ...               1             0\n",
              "3889  3890      originalQ-shortQ  ...              20             1\n",
              "2357  2358  originalQ-shortRandQ  ...               1             0\n",
              "58      59      originalQ-shortQ  ...              16             1\n",
              "\n",
              "[5 rows x 9 columns]"
            ]
          },
          "metadata": {
            "tags": []
          },
          "execution_count": 73
        }
      ]
    },
    {
      "cell_type": "code",
      "metadata": {
        "id": "pXsqd65RE9gt",
        "colab_type": "code",
        "outputId": "2eafae42-910d-4386-8cdb-e760e007b762",
        "colab": {
          "base_uri": "https://localhost:8080/",
          "height": 340
        }
      },
      "source": [
        "# Re-calculate common text feature\n",
        "x_train['exists_both'] = [set(x[3]) & set(x[4]) for x in x_train.values]\n",
        "x_train['exists_both_len'] = x_train['exists_both'].apply(len)\n",
        "x_train['exist_feature'] = np.where(x_train['exists_both_len'] > 1, 1, 0)\n",
        "\n",
        "train_pred_2 = x_train[x_train['exist_feature'] == x_train['outcome']]\n",
        "train_pred_2.shape"
      ],
      "execution_count": 74,
      "outputs": [
        {
          "output_type": "stream",
          "text": [
            "/usr/local/lib/python3.6/dist-packages/ipykernel_launcher.py:1: SettingWithCopyWarning: \n",
            "A value is trying to be set on a copy of a slice from a DataFrame.\n",
            "Try using .loc[row_indexer,col_indexer] = value instead\n",
            "\n",
            "See the caveats in the documentation: http://pandas.pydata.org/pandas-docs/stable/indexing.html#indexing-view-versus-copy\n",
            "  \"\"\"Entry point for launching an IPython kernel.\n",
            "/usr/local/lib/python3.6/dist-packages/ipykernel_launcher.py:2: SettingWithCopyWarning: \n",
            "A value is trying to be set on a copy of a slice from a DataFrame.\n",
            "Try using .loc[row_indexer,col_indexer] = value instead\n",
            "\n",
            "See the caveats in the documentation: http://pandas.pydata.org/pandas-docs/stable/indexing.html#indexing-view-versus-copy\n",
            "  \n",
            "/usr/local/lib/python3.6/dist-packages/ipykernel_launcher.py:3: SettingWithCopyWarning: \n",
            "A value is trying to be set on a copy of a slice from a DataFrame.\n",
            "Try using .loc[row_indexer,col_indexer] = value instead\n",
            "\n",
            "See the caveats in the documentation: http://pandas.pydata.org/pandas-docs/stable/indexing.html#indexing-view-versus-copy\n",
            "  This is separate from the ipykernel package so we can avoid doing imports until\n"
          ],
          "name": "stderr"
        },
        {
          "output_type": "execute_result",
          "data": {
            "text/plain": [
              "(6582, 9)"
            ]
          },
          "metadata": {
            "tags": []
          },
          "execution_count": 74
        }
      ]
    },
    {
      "cell_type": "code",
      "metadata": {
        "id": "Z5-qxuR4GHQ6",
        "colab_type": "code",
        "outputId": "6fc86326-3143-4272-886f-292149ed33f7",
        "colab": {
          "base_uri": "https://localhost:8080/",
          "height": 34
        }
      },
      "source": [
        "incorrect_train_pred_2 = x_train[x_train['exist_feature'] != x_train['outcome']]\n",
        "incorrect_train_pred_2.shape"
      ],
      "execution_count": 75,
      "outputs": [
        {
          "output_type": "execute_result",
          "data": {
            "text/plain": [
              "(288, 9)"
            ]
          },
          "metadata": {
            "tags": []
          },
          "execution_count": 75
        }
      ]
    },
    {
      "cell_type": "code",
      "metadata": {
        "id": "Yv_PKJxrHNFx",
        "colab_type": "code",
        "outputId": "0bab1c0f-84f5-4f43-dd52-2baf78cb4074",
        "colab": {
          "base_uri": "https://localhost:8080/",
          "height": 51
        }
      },
      "source": [
        "print('Majority Classifier Train Accuracy:',3739/(3739+3131))\n",
        "print('Exact Match w/no stopwords > 1 Classifier Train Accuracy:',6582/(3739+3131))"
      ],
      "execution_count": 76,
      "outputs": [
        {
          "output_type": "stream",
          "text": [
            "Majority Classifier Train Accuracy: 0.5442503639010189\n",
            "Exact Match w/no stopwords > 1 Classifier Train Accuracy: 0.9580786026200874\n"
          ],
          "name": "stdout"
        }
      ]
    },
    {
      "cell_type": "code",
      "metadata": {
        "id": "P7zTy4EbGVs2",
        "colab_type": "code",
        "outputId": "8b5a258b-8267-4fb5-e330-8f7f7b6370f7",
        "colab": {
          "base_uri": "https://localhost:8080/",
          "height": 544
        }
      },
      "source": [
        "# clean test data\n",
        "x_test['chq'] = x_test.apply(lambda x: tokenize_and_remove_stopwords(x['chq']), axis=1)\n",
        "x_test['faq'] = x_test.apply(lambda x: tokenize_and_remove_stopwords(x['faq']), axis=1)\n",
        "\n",
        "# Test classifier\n",
        "x_test['exists_both'] = [set(x[3]) & set(x[4]) for x in x_test.values]\n",
        "x_test['exists_both_len'] = x_test['exists_both'].apply(len)\n",
        "x_test['exist_feature'] = np.where(x_test['exists_both_len'] > 1, 1, 0)\n",
        "pred_2 = x_test[x_test['exist_feature'] == x_test['outcome']]\n",
        "pred_2.shape"
      ],
      "execution_count": 77,
      "outputs": [
        {
          "output_type": "stream",
          "text": [
            "/usr/local/lib/python3.6/dist-packages/ipykernel_launcher.py:1: SettingWithCopyWarning: \n",
            "A value is trying to be set on a copy of a slice from a DataFrame.\n",
            "Try using .loc[row_indexer,col_indexer] = value instead\n",
            "\n",
            "See the caveats in the documentation: http://pandas.pydata.org/pandas-docs/stable/indexing.html#indexing-view-versus-copy\n",
            "  \"\"\"Entry point for launching an IPython kernel.\n",
            "/usr/local/lib/python3.6/dist-packages/ipykernel_launcher.py:2: SettingWithCopyWarning: \n",
            "A value is trying to be set on a copy of a slice from a DataFrame.\n",
            "Try using .loc[row_indexer,col_indexer] = value instead\n",
            "\n",
            "See the caveats in the documentation: http://pandas.pydata.org/pandas-docs/stable/indexing.html#indexing-view-versus-copy\n",
            "  \n",
            "/usr/local/lib/python3.6/dist-packages/ipykernel_launcher.py:5: SettingWithCopyWarning: \n",
            "A value is trying to be set on a copy of a slice from a DataFrame.\n",
            "Try using .loc[row_indexer,col_indexer] = value instead\n",
            "\n",
            "See the caveats in the documentation: http://pandas.pydata.org/pandas-docs/stable/indexing.html#indexing-view-versus-copy\n",
            "  \"\"\"\n",
            "/usr/local/lib/python3.6/dist-packages/ipykernel_launcher.py:6: SettingWithCopyWarning: \n",
            "A value is trying to be set on a copy of a slice from a DataFrame.\n",
            "Try using .loc[row_indexer,col_indexer] = value instead\n",
            "\n",
            "See the caveats in the documentation: http://pandas.pydata.org/pandas-docs/stable/indexing.html#indexing-view-versus-copy\n",
            "  \n",
            "/usr/local/lib/python3.6/dist-packages/ipykernel_launcher.py:7: SettingWithCopyWarning: \n",
            "A value is trying to be set on a copy of a slice from a DataFrame.\n",
            "Try using .loc[row_indexer,col_indexer] = value instead\n",
            "\n",
            "See the caveats in the documentation: http://pandas.pydata.org/pandas-docs/stable/indexing.html#indexing-view-versus-copy\n",
            "  import sys\n"
          ],
          "name": "stderr"
        },
        {
          "output_type": "execute_result",
          "data": {
            "text/plain": [
              "(1648, 9)"
            ]
          },
          "metadata": {
            "tags": []
          },
          "execution_count": 77
        }
      ]
    },
    {
      "cell_type": "code",
      "metadata": {
        "id": "alC1Kd2MGsGw",
        "colab_type": "code",
        "outputId": "daded472-5267-4a2b-db70-8a990219a537",
        "colab": {
          "base_uri": "https://localhost:8080/",
          "height": 34
        }
      },
      "source": [
        "incorrect_pred_2 = x_test[x_test['exist_feature'] != x_test['outcome']]\n",
        "incorrect_pred_2.shape"
      ],
      "execution_count": 78,
      "outputs": [
        {
          "output_type": "execute_result",
          "data": {
            "text/plain": [
              "(70, 9)"
            ]
          },
          "metadata": {
            "tags": []
          },
          "execution_count": 78
        }
      ]
    },
    {
      "cell_type": "code",
      "metadata": {
        "id": "RjJrcBO6HI7Q",
        "colab_type": "code",
        "outputId": "87e5055e-8fe5-4dda-c046-136733345559",
        "colab": {
          "base_uri": "https://localhost:8080/",
          "height": 51
        }
      },
      "source": [
        "print('Majority Classifier Test Accuracy:',916/(916+802))\n",
        "print('Exact Match w/no stopwords > 1 Classifier Test Accuracy:',1648/(916+802))"
      ],
      "execution_count": 79,
      "outputs": [
        {
          "output_type": "stream",
          "text": [
            "Majority Classifier Test Accuracy: 0.5331781140861467\n",
            "Exact Match w/no stopwords > 1 Classifier Test Accuracy: 0.959254947613504\n"
          ],
          "name": "stdout"
        }
      ]
    },
    {
      "cell_type": "markdown",
      "metadata": {
        "id": "yoU1wyZ3HelX",
        "colab_type": "text"
      },
      "source": [
        "Rule #2 (removing stopwords and tokenizing) further improved our test accuracy from ~93% -> ~95%"
      ]
    },
    {
      "cell_type": "markdown",
      "metadata": {
        "id": "owPzcR5eH-Nn",
        "colab_type": "text"
      },
      "source": [
        "Look at incorrect predictions to further improve rules"
      ]
    },
    {
      "cell_type": "code",
      "metadata": {
        "id": "MUoBQaDXHdoh",
        "colab_type": "code",
        "outputId": "7cca7e67-9346-4d60-f42a-6859e7b839ae",
        "colab": {
          "base_uri": "https://localhost:8080/",
          "height": 1000
        }
      },
      "source": [
        "incorrect_train_pred_2.head(20)"
      ],
      "execution_count": 80,
      "outputs": [
        {
          "output_type": "execute_result",
          "data": {
            "text/html": [
              "<div>\n",
              "<style scoped>\n",
              "    .dataframe tbody tr th:only-of-type {\n",
              "        vertical-align: middle;\n",
              "    }\n",
              "\n",
              "    .dataframe tbody tr th {\n",
              "        vertical-align: top;\n",
              "    }\n",
              "\n",
              "    .dataframe thead th {\n",
              "        text-align: right;\n",
              "    }\n",
              "</style>\n",
              "<table border=\"1\" class=\"dataframe\">\n",
              "  <thead>\n",
              "    <tr style=\"text-align: right;\">\n",
              "      <th></th>\n",
              "      <th>pid</th>\n",
              "      <th>type</th>\n",
              "      <th>value</th>\n",
              "      <th>chq</th>\n",
              "      <th>faq</th>\n",
              "      <th>outcome</th>\n",
              "      <th>exists_both</th>\n",
              "      <th>exists_both_len</th>\n",
              "      <th>exist_feature</th>\n",
              "    </tr>\n",
              "  </thead>\n",
              "  <tbody>\n",
              "    <tr>\n",
              "      <th>96</th>\n",
              "      <td>97</td>\n",
              "      <td>originalQ-shortRandQ</td>\n",
              "      <td>false</td>\n",
              "      <td>[do, do, a, lead, level, in, month, old, is, b...</td>\n",
              "      <td>[should, treat, polymenorrhea, a, year, old, g...</td>\n",
              "      <td>0</td>\n",
              "      <td>{a, old}</td>\n",
              "      <td>2</td>\n",
              "      <td>1</td>\n",
              "    </tr>\n",
              "    <tr>\n",
              "      <th>156</th>\n",
              "      <td>157</td>\n",
              "      <td>originalQ-shortRandQ</td>\n",
              "      <td>false</td>\n",
              "      <td>[soon, you, ambulate, patient, a, deep, vein, ...</td>\n",
              "      <td>[i, use, low, molecular, weight, heparin, preg...</td>\n",
              "      <td>0</td>\n",
              "      <td>{thrombosis, deep, vein, patient}</td>\n",
              "      <td>4</td>\n",
              "      <td>1</td>\n",
              "    </tr>\n",
              "    <tr>\n",
              "      <th>6885</th>\n",
              "      <td>6886</td>\n",
              "      <td>originalQ-shortRandQ</td>\n",
              "      <td>false</td>\n",
              "      <td>[year, old, woman, complains, heart, feels, li...</td>\n",
              "      <td>[should, treat, polymenorrhea, a, year, old, g...</td>\n",
              "      <td>0</td>\n",
              "      <td>{year, old}</td>\n",
              "      <td>2</td>\n",
              "      <td>1</td>\n",
              "    </tr>\n",
              "    <tr>\n",
              "      <th>6400</th>\n",
              "      <td>6401</td>\n",
              "      <td>originalQ-shortRandQ</td>\n",
              "      <td>false</td>\n",
              "      <td>[guy, year, old, man, subclavian, steal, syndr...</td>\n",
              "      <td>[is, cause, treatment, this, old, man, stomati...</td>\n",
              "      <td>0</td>\n",
              "      <td>{man, old}</td>\n",
              "      <td>2</td>\n",
              "      <td>1</td>\n",
              "    </tr>\n",
              "    <tr>\n",
              "      <th>8230</th>\n",
              "      <td>8231</td>\n",
              "      <td>originalQ-shortRandQ</td>\n",
              "      <td>false</td>\n",
              "      <td>[is, differential, diagnosis, a, patient, cons...</td>\n",
              "      <td>[wonder, this, patient, could, a, rotator, cuf...</td>\n",
              "      <td>0</td>\n",
              "      <td>{a, patient}</td>\n",
              "      <td>2</td>\n",
              "      <td>1</td>\n",
              "    </tr>\n",
              "    <tr>\n",
              "      <th>6395</th>\n",
              "      <td>6396</td>\n",
              "      <td>originalQ-shortQ</td>\n",
              "      <td>true</td>\n",
              "      <td>[have, home, problem, children, one, the, kids...</td>\n",
              "      <td>[is, treatment, a, human, bite]</td>\n",
              "      <td>1</td>\n",
              "      <td>{human}</td>\n",
              "      <td>1</td>\n",
              "      <td>0</td>\n",
              "    </tr>\n",
              "    <tr>\n",
              "      <th>333</th>\n",
              "      <td>334</td>\n",
              "      <td>originalQ-shortRandQ</td>\n",
              "      <td>false</td>\n",
              "      <td>[s, crystal, clear, s, going, with, may, treat...</td>\n",
              "      <td>[should, treat, polymenorrhea, a, year, old, g...</td>\n",
              "      <td>0</td>\n",
              "      <td>{year, a, old, treat}</td>\n",
              "      <td>4</td>\n",
              "      <td>1</td>\n",
              "    </tr>\n",
              "    <tr>\n",
              "      <th>7288</th>\n",
              "      <td>7289</td>\n",
              "      <td>originalQ-shortQ</td>\n",
              "      <td>true</td>\n",
              "      <td>[month, old, intoeing, had, look, intoeing, we...</td>\n",
              "      <td>[is, approach, intoeing, children]</td>\n",
              "      <td>1</td>\n",
              "      <td>{intoeing}</td>\n",
              "      <td>1</td>\n",
              "      <td>0</td>\n",
              "    </tr>\n",
              "    <tr>\n",
              "      <th>378</th>\n",
              "      <td>379</td>\n",
              "      <td>originalQ-shortRandQ</td>\n",
              "      <td>false</td>\n",
              "      <td>[is, dose, imipramine, a, year, old, boy]</td>\n",
              "      <td>[should, treat, polymenorrhea, a, year, old, g...</td>\n",
              "      <td>0</td>\n",
              "      <td>{year, a, old}</td>\n",
              "      <td>3</td>\n",
              "      <td>1</td>\n",
              "    </tr>\n",
              "    <tr>\n",
              "      <th>6715</th>\n",
              "      <td>6716</td>\n",
              "      <td>originalQ-shortQ</td>\n",
              "      <td>true</td>\n",
              "      <td>[year, old, woman, complaining, excess, sweati...</td>\n",
              "      <td>[is, sweating]</td>\n",
              "      <td>1</td>\n",
              "      <td>{sweating}</td>\n",
              "      <td>1</td>\n",
              "      <td>0</td>\n",
              "    </tr>\n",
              "    <tr>\n",
              "      <th>5614</th>\n",
              "      <td>5615</td>\n",
              "      <td>originalQ-shortQ</td>\n",
              "      <td>true</td>\n",
              "      <td>[have, month, old, a, varicocele, the, questio...</td>\n",
              "      <td>[should, infant, a, hydrocele, referred, a, su...</td>\n",
              "      <td>1</td>\n",
              "      <td>{a}</td>\n",
              "      <td>1</td>\n",
              "      <td>0</td>\n",
              "    </tr>\n",
              "    <tr>\n",
              "      <th>5931</th>\n",
              "      <td>5932</td>\n",
              "      <td>originalQ-shortQ</td>\n",
              "      <td>true</td>\n",
              "      <td>[question, study, physician, wrote, the, data,...</td>\n",
              "      <td>[oral, contraceptive, be, used, acne]</td>\n",
              "      <td>1</td>\n",
              "      <td>{acne}</td>\n",
              "      <td>1</td>\n",
              "      <td>0</td>\n",
              "    </tr>\n",
              "    <tr>\n",
              "      <th>7954</th>\n",
              "      <td>7955</td>\n",
              "      <td>originalQ-shortRandQ</td>\n",
              "      <td>false</td>\n",
              "      <td>[dose, acyclovir, this, patient, need]</td>\n",
              "      <td>[wonder, this, patient, could, a, rotator, cuf...</td>\n",
              "      <td>0</td>\n",
              "      <td>{this, patient}</td>\n",
              "      <td>2</td>\n",
              "      <td>1</td>\n",
              "    </tr>\n",
              "    <tr>\n",
              "      <th>5875</th>\n",
              "      <td>5876</td>\n",
              "      <td>originalQ-shortRandQ</td>\n",
              "      <td>false</td>\n",
              "      <td>[year, old, volleyball, player, leg, cramps, c...</td>\n",
              "      <td>[should, treat, polymenorrhea, a, year, old, g...</td>\n",
              "      <td>0</td>\n",
              "      <td>{year, old}</td>\n",
              "      <td>2</td>\n",
              "      <td>1</td>\n",
              "    </tr>\n",
              "    <tr>\n",
              "      <th>6995</th>\n",
              "      <td>6996</td>\n",
              "      <td>originalQ-shortRandQ</td>\n",
              "      <td>false</td>\n",
              "      <td>[year, old, woman, swallowed, tongue, piercing...</td>\n",
              "      <td>[should, treat, polymenorrhea, a, year, old, g...</td>\n",
              "      <td>0</td>\n",
              "      <td>{year, old}</td>\n",
              "      <td>2</td>\n",
              "      <td>1</td>\n",
              "    </tr>\n",
              "    <tr>\n",
              "      <th>1181</th>\n",
              "      <td>1182</td>\n",
              "      <td>originalQ-shortRandQ</td>\n",
              "      <td>false</td>\n",
              "      <td>[year, old, man, total, cholesterol, low, dens...</td>\n",
              "      <td>[year, old, reserve, officers, training, corps...</td>\n",
              "      <td>0</td>\n",
              "      <td>{year, old}</td>\n",
              "      <td>2</td>\n",
              "      <td>1</td>\n",
              "    </tr>\n",
              "    <tr>\n",
              "      <th>6426</th>\n",
              "      <td>6427</td>\n",
              "      <td>originalQ-shortRandQ</td>\n",
              "      <td>false</td>\n",
              "      <td>[is, best, radiologic, test, order, rule, brai...</td>\n",
              "      <td>[what, ages, you, a, denver, developmental, sc...</td>\n",
              "      <td>0</td>\n",
              "      <td>{you, test}</td>\n",
              "      <td>2</td>\n",
              "      <td>1</td>\n",
              "    </tr>\n",
              "    <tr>\n",
              "      <th>6626</th>\n",
              "      <td>6627</td>\n",
              "      <td>originalQ-shortQ</td>\n",
              "      <td>true</td>\n",
              "      <td>[year, old, woman, bladder, cancer, last, neoa...</td>\n",
              "      <td>[is, rash]</td>\n",
              "      <td>1</td>\n",
              "      <td>{rash}</td>\n",
              "      <td>1</td>\n",
              "      <td>0</td>\n",
              "    </tr>\n",
              "    <tr>\n",
              "      <th>1164</th>\n",
              "      <td>1165</td>\n",
              "      <td>originalQ-shortRandQ</td>\n",
              "      <td>false</td>\n",
              "      <td>[patient, from, foreign, country, a, high, pre...</td>\n",
              "      <td>[what, ages, you, a, denver, developmental, sc...</td>\n",
              "      <td>0</td>\n",
              "      <td>{a, test}</td>\n",
              "      <td>2</td>\n",
              "      <td>1</td>\n",
              "    </tr>\n",
              "    <tr>\n",
              "      <th>4013</th>\n",
              "      <td>4014</td>\n",
              "      <td>originalQ-shortRandQ</td>\n",
              "      <td>false</td>\n",
              "      <td>[a, magnesium, level, normal, low, enough, treat]</td>\n",
              "      <td>[should, treat, polymenorrhea, a, year, old, g...</td>\n",
              "      <td>0</td>\n",
              "      <td>{a, treat}</td>\n",
              "      <td>2</td>\n",
              "      <td>1</td>\n",
              "    </tr>\n",
              "  </tbody>\n",
              "</table>\n",
              "</div>"
            ],
            "text/plain": [
              "       pid                  type  ... exists_both_len exist_feature\n",
              "96      97  originalQ-shortRandQ  ...               2             1\n",
              "156    157  originalQ-shortRandQ  ...               4             1\n",
              "6885  6886  originalQ-shortRandQ  ...               2             1\n",
              "6400  6401  originalQ-shortRandQ  ...               2             1\n",
              "8230  8231  originalQ-shortRandQ  ...               2             1\n",
              "6395  6396      originalQ-shortQ  ...               1             0\n",
              "333    334  originalQ-shortRandQ  ...               4             1\n",
              "7288  7289      originalQ-shortQ  ...               1             0\n",
              "378    379  originalQ-shortRandQ  ...               3             1\n",
              "6715  6716      originalQ-shortQ  ...               1             0\n",
              "5614  5615      originalQ-shortQ  ...               1             0\n",
              "5931  5932      originalQ-shortQ  ...               1             0\n",
              "7954  7955  originalQ-shortRandQ  ...               2             1\n",
              "5875  5876  originalQ-shortRandQ  ...               2             1\n",
              "6995  6996  originalQ-shortRandQ  ...               2             1\n",
              "1181  1182  originalQ-shortRandQ  ...               2             1\n",
              "6426  6427  originalQ-shortRandQ  ...               2             1\n",
              "6626  6627      originalQ-shortQ  ...               1             0\n",
              "1164  1165  originalQ-shortRandQ  ...               2             1\n",
              "4013  4014  originalQ-shortRandQ  ...               2             1\n",
              "\n",
              "[20 rows x 9 columns]"
            ]
          },
          "metadata": {
            "tags": []
          },
          "execution_count": 80
        }
      ]
    },
    {
      "cell_type": "code",
      "metadata": {
        "id": "lL4IK3HnICmk",
        "colab_type": "code",
        "outputId": "1228775c-55c5-432b-df8d-260e5d8a35a9",
        "colab": {
          "base_uri": "https://localhost:8080/",
          "height": 68
        }
      },
      "source": [
        "incorrect_train_pred_2['outcome'].value_counts()"
      ],
      "execution_count": 81,
      "outputs": [
        {
          "output_type": "execute_result",
          "data": {
            "text/plain": [
              "0    183\n",
              "1    105\n",
              "Name: outcome, dtype: int64"
            ]
          },
          "metadata": {
            "tags": []
          },
          "execution_count": 81
        }
      ]
    },
    {
      "cell_type": "code",
      "metadata": {
        "id": "Zw-c13Fr1gia",
        "colab_type": "code",
        "outputId": "7bc3ef8c-1e44-41c9-a529-3a5b80c2ac12",
        "colab": {
          "base_uri": "https://localhost:8080/",
          "height": 391
        }
      },
      "source": [
        "incorrect_train_pred_2.exists_both = incorrect_train_pred_2.exists_both.apply(list)\n",
        "incorrect_train_pred_2.exists_both = incorrect_train_pred_2.exists_both.apply(', '.join)\n",
        "incorrect_train_pred_2.head()"
      ],
      "execution_count": 82,
      "outputs": [
        {
          "output_type": "stream",
          "text": [
            "/usr/local/lib/python3.6/dist-packages/pandas/core/generic.py:5096: SettingWithCopyWarning: \n",
            "A value is trying to be set on a copy of a slice from a DataFrame.\n",
            "Try using .loc[row_indexer,col_indexer] = value instead\n",
            "\n",
            "See the caveats in the documentation: http://pandas.pydata.org/pandas-docs/stable/indexing.html#indexing-view-versus-copy\n",
            "  self[name] = value\n"
          ],
          "name": "stderr"
        },
        {
          "output_type": "execute_result",
          "data": {
            "text/html": [
              "<div>\n",
              "<style scoped>\n",
              "    .dataframe tbody tr th:only-of-type {\n",
              "        vertical-align: middle;\n",
              "    }\n",
              "\n",
              "    .dataframe tbody tr th {\n",
              "        vertical-align: top;\n",
              "    }\n",
              "\n",
              "    .dataframe thead th {\n",
              "        text-align: right;\n",
              "    }\n",
              "</style>\n",
              "<table border=\"1\" class=\"dataframe\">\n",
              "  <thead>\n",
              "    <tr style=\"text-align: right;\">\n",
              "      <th></th>\n",
              "      <th>pid</th>\n",
              "      <th>type</th>\n",
              "      <th>value</th>\n",
              "      <th>chq</th>\n",
              "      <th>faq</th>\n",
              "      <th>outcome</th>\n",
              "      <th>exists_both</th>\n",
              "      <th>exists_both_len</th>\n",
              "      <th>exist_feature</th>\n",
              "    </tr>\n",
              "  </thead>\n",
              "  <tbody>\n",
              "    <tr>\n",
              "      <th>96</th>\n",
              "      <td>97</td>\n",
              "      <td>originalQ-shortRandQ</td>\n",
              "      <td>false</td>\n",
              "      <td>[do, do, a, lead, level, in, month, old, is, b...</td>\n",
              "      <td>[should, treat, polymenorrhea, a, year, old, g...</td>\n",
              "      <td>0</td>\n",
              "      <td>a, old</td>\n",
              "      <td>2</td>\n",
              "      <td>1</td>\n",
              "    </tr>\n",
              "    <tr>\n",
              "      <th>156</th>\n",
              "      <td>157</td>\n",
              "      <td>originalQ-shortRandQ</td>\n",
              "      <td>false</td>\n",
              "      <td>[soon, you, ambulate, patient, a, deep, vein, ...</td>\n",
              "      <td>[i, use, low, molecular, weight, heparin, preg...</td>\n",
              "      <td>0</td>\n",
              "      <td>thrombosis, deep, vein, patient</td>\n",
              "      <td>4</td>\n",
              "      <td>1</td>\n",
              "    </tr>\n",
              "    <tr>\n",
              "      <th>6885</th>\n",
              "      <td>6886</td>\n",
              "      <td>originalQ-shortRandQ</td>\n",
              "      <td>false</td>\n",
              "      <td>[year, old, woman, complains, heart, feels, li...</td>\n",
              "      <td>[should, treat, polymenorrhea, a, year, old, g...</td>\n",
              "      <td>0</td>\n",
              "      <td>year, old</td>\n",
              "      <td>2</td>\n",
              "      <td>1</td>\n",
              "    </tr>\n",
              "    <tr>\n",
              "      <th>6400</th>\n",
              "      <td>6401</td>\n",
              "      <td>originalQ-shortRandQ</td>\n",
              "      <td>false</td>\n",
              "      <td>[guy, year, old, man, subclavian, steal, syndr...</td>\n",
              "      <td>[is, cause, treatment, this, old, man, stomati...</td>\n",
              "      <td>0</td>\n",
              "      <td>man, old</td>\n",
              "      <td>2</td>\n",
              "      <td>1</td>\n",
              "    </tr>\n",
              "    <tr>\n",
              "      <th>8230</th>\n",
              "      <td>8231</td>\n",
              "      <td>originalQ-shortRandQ</td>\n",
              "      <td>false</td>\n",
              "      <td>[is, differential, diagnosis, a, patient, cons...</td>\n",
              "      <td>[wonder, this, patient, could, a, rotator, cuf...</td>\n",
              "      <td>0</td>\n",
              "      <td>a, patient</td>\n",
              "      <td>2</td>\n",
              "      <td>1</td>\n",
              "    </tr>\n",
              "  </tbody>\n",
              "</table>\n",
              "</div>"
            ],
            "text/plain": [
              "       pid                  type  ... exists_both_len exist_feature\n",
              "96      97  originalQ-shortRandQ  ...               2             1\n",
              "156    157  originalQ-shortRandQ  ...               4             1\n",
              "6885  6886  originalQ-shortRandQ  ...               2             1\n",
              "6400  6401  originalQ-shortRandQ  ...               2             1\n",
              "8230  8231  originalQ-shortRandQ  ...               2             1\n",
              "\n",
              "[5 rows x 9 columns]"
            ]
          },
          "metadata": {
            "tags": []
          },
          "execution_count": 82
        }
      ]
    },
    {
      "cell_type": "markdown",
      "metadata": {
        "id": "jlCDU06jIHmN",
        "colab_type": "text"
      },
      "source": [
        "Now it seems we are hitting a point where the sentences are extremely similar, so we need to develop a more nuanced rule.\n",
        "\n",
        "Most of our incorrect predictions for this classifier were false positives (predicted 1 but is actually 0), so we'll build our next rule to guard against that.\n",
        "\n",
        "There seems to be words that are frequently found in both chq and faq, but don't have anything to do with the meaning (ex. a, old). Let's build a brief dictionary of these terms and see if we can exclude that in our classifier.\n"
      ]
    },
    {
      "cell_type": "code",
      "metadata": {
        "id": "RRq2bVMEIHBE",
        "colab_type": "code",
        "outputId": "6dd424ae-f7b8-4d68-c4e2-781d732a9718",
        "colab": {
          "base_uri": "https://localhost:8080/",
          "height": 164
        }
      },
      "source": [
        "Counter(incorrect_train_pred_2.exists_both).most_common(100)"
      ],
      "execution_count": 83,
      "outputs": [
        {
          "output_type": "error",
          "ename": "NameError",
          "evalue": "ignored",
          "traceback": [
            "\u001b[0;31m---------------------------------------------------------------------------\u001b[0m",
            "\u001b[0;31mNameError\u001b[0m                                 Traceback (most recent call last)",
            "\u001b[0;32m<ipython-input-83-5cf2933feb77>\u001b[0m in \u001b[0;36m<module>\u001b[0;34m()\u001b[0m\n\u001b[0;32m----> 1\u001b[0;31m \u001b[0mCounter\u001b[0m\u001b[0;34m(\u001b[0m\u001b[0mincorrect_train_pred_2\u001b[0m\u001b[0;34m.\u001b[0m\u001b[0mexists_both\u001b[0m\u001b[0;34m)\u001b[0m\u001b[0;34m.\u001b[0m\u001b[0mmost_common\u001b[0m\u001b[0;34m(\u001b[0m\u001b[0;36m100\u001b[0m\u001b[0;34m)\u001b[0m\u001b[0;34m\u001b[0m\u001b[0;34m\u001b[0m\u001b[0m\n\u001b[0m",
            "\u001b[0;31mNameError\u001b[0m: name 'Counter' is not defined"
          ]
        }
      ]
    },
    {
      "cell_type": "code",
      "metadata": {
        "id": "Srh_E3Pu2EvR",
        "colab_type": "code",
        "colab": {}
      },
      "source": [
        "nonrel_words = ['year', 'old', 'a', 'years', 'patient', 'girl', 'i']"
      ],
      "execution_count": 0,
      "outputs": []
    },
    {
      "cell_type": "code",
      "metadata": {
        "id": "tM35I7432VY0",
        "colab_type": "code",
        "outputId": "ea856f50-af5b-4789-cb65-cf65d652ecb0",
        "colab": {
          "base_uri": "https://localhost:8080/",
          "height": 347
        }
      },
      "source": [
        "# Re-calculate common text feature\n",
        "x_train['exists_both'] = [set(x[3]) & set(x[4]) for x in x_train.values]\n",
        "# iterate over the dataframe row by row\n",
        "for index_label, row_series in x_train.iterrows():\n",
        "   # For each row update the exists_both variable\n",
        "   for word in nonrel_words:\n",
        "    if word in x_train.at[index_label, 'exists_both']:\n",
        "      x_train.at[index_label , 'exists_both'].remove(word)\n",
        "x_train['exists_both_len'] = x_train['exists_both'].apply(len)\n",
        "x_train['exist_feature'] = np.where(x_train['exists_both_len'] > 1, 1, 0)\n",
        "\n",
        "train_pred_3 = x_train[x_train['exist_feature'] == x_train['outcome']]\n",
        "train_pred_3.shape"
      ],
      "execution_count": 0,
      "outputs": [
        {
          "output_type": "stream",
          "text": [
            "/usr/local/lib/python3.6/dist-packages/ipykernel_launcher.py:1: SettingWithCopyWarning: \n",
            "A value is trying to be set on a copy of a slice from a DataFrame.\n",
            "Try using .loc[row_indexer,col_indexer] = value instead\n",
            "\n",
            "See the caveats in the documentation: http://pandas.pydata.org/pandas-docs/stable/indexing.html#indexing-view-versus-copy\n",
            "  \"\"\"Entry point for launching an IPython kernel.\n",
            "/usr/local/lib/python3.6/dist-packages/ipykernel_launcher.py:8: SettingWithCopyWarning: \n",
            "A value is trying to be set on a copy of a slice from a DataFrame.\n",
            "Try using .loc[row_indexer,col_indexer] = value instead\n",
            "\n",
            "See the caveats in the documentation: http://pandas.pydata.org/pandas-docs/stable/indexing.html#indexing-view-versus-copy\n",
            "  \n",
            "/usr/local/lib/python3.6/dist-packages/ipykernel_launcher.py:9: SettingWithCopyWarning: \n",
            "A value is trying to be set on a copy of a slice from a DataFrame.\n",
            "Try using .loc[row_indexer,col_indexer] = value instead\n",
            "\n",
            "See the caveats in the documentation: http://pandas.pydata.org/pandas-docs/stable/indexing.html#indexing-view-versus-copy\n",
            "  if __name__ == '__main__':\n"
          ],
          "name": "stderr"
        },
        {
          "output_type": "execute_result",
          "data": {
            "text/plain": [
              "(6703, 9)"
            ]
          },
          "metadata": {
            "tags": []
          },
          "execution_count": 96
        }
      ]
    },
    {
      "cell_type": "code",
      "metadata": {
        "id": "pJFbb-ro4AuU",
        "colab_type": "code",
        "outputId": "14ea3f83-1911-4b64-ae0d-8c0a5bf85e29",
        "colab": {
          "base_uri": "https://localhost:8080/",
          "height": 34
        }
      },
      "source": [
        "incorrect_train_pred_3 = x_train[x_train['exist_feature'] != x_train['outcome']]\n",
        "incorrect_train_pred_3.shape"
      ],
      "execution_count": 0,
      "outputs": [
        {
          "output_type": "execute_result",
          "data": {
            "text/plain": [
              "(167, 9)"
            ]
          },
          "metadata": {
            "tags": []
          },
          "execution_count": 97
        }
      ]
    },
    {
      "cell_type": "code",
      "metadata": {
        "id": "GpPOg5V84WMB",
        "colab_type": "code",
        "outputId": "924b5313-7b23-4cc7-c347-b69218ab398a",
        "colab": {
          "base_uri": "https://localhost:8080/",
          "height": 52
        }
      },
      "source": [
        "print('Majority Classifier Train Accuracy:',3739/(3739+3131))\n",
        "print('Exact Match w/no stopwords or nonrelevant words > 1 Classifier Train Accuracy:',6703/(3739+3131))"
      ],
      "execution_count": 0,
      "outputs": [
        {
          "output_type": "stream",
          "text": [
            "Majority Classifier Train Accuracy: 0.5442503639010189\n",
            "Exact Match w/no stopwords or nonrelevant words > 1 Classifier Train Accuracy: 0.9756914119359534\n"
          ],
          "name": "stdout"
        }
      ]
    },
    {
      "cell_type": "code",
      "metadata": {
        "id": "n5IbHMDx4f5F",
        "colab_type": "code",
        "outputId": "260d1d8a-5151-4681-9cd8-eef8bd939120",
        "colab": {
          "base_uri": "https://localhost:8080/",
          "height": 451
        }
      },
      "source": [
        "# Test classifier\n",
        "# Re-calculate common text feature\n",
        "x_test['exists_both'] = [set(x[3]) & set(x[4]) for x in x_test.values]\n",
        "# iterate over the dataframe row by row\n",
        "for index_label, row_series in x_test.iterrows():\n",
        "   # For each row update the exists_both variable\n",
        "   for word in nonrel_words:\n",
        "    if word in x_test.at[index_label, 'exists_both']:\n",
        "      x_test.at[index_label , 'exists_both'].remove(word)\n",
        "x_test['exists_both'] = [set(x[3]) & set(x[4]) for x in x_test.values]\n",
        "x_test['exists_both_len'] = x_test['exists_both'].apply(len)\n",
        "x_test['exist_feature'] = np.where(x_test['exists_both_len'] > 1, 1, 0)\n",
        "pred_3 = x_test[x_test['exist_feature'] == x_test['outcome']]\n",
        "pred_3.shape"
      ],
      "execution_count": 0,
      "outputs": [
        {
          "output_type": "stream",
          "text": [
            "/usr/local/lib/python3.6/dist-packages/ipykernel_launcher.py:1: SettingWithCopyWarning: \n",
            "A value is trying to be set on a copy of a slice from a DataFrame.\n",
            "Try using .loc[row_indexer,col_indexer] = value instead\n",
            "\n",
            "See the caveats in the documentation: http://pandas.pydata.org/pandas-docs/stable/indexing.html#indexing-view-versus-copy\n",
            "  \"\"\"Entry point for launching an IPython kernel.\n",
            "/usr/local/lib/python3.6/dist-packages/ipykernel_launcher.py:8: SettingWithCopyWarning: \n",
            "A value is trying to be set on a copy of a slice from a DataFrame.\n",
            "Try using .loc[row_indexer,col_indexer] = value instead\n",
            "\n",
            "See the caveats in the documentation: http://pandas.pydata.org/pandas-docs/stable/indexing.html#indexing-view-versus-copy\n",
            "  \n",
            "/usr/local/lib/python3.6/dist-packages/ipykernel_launcher.py:9: SettingWithCopyWarning: \n",
            "A value is trying to be set on a copy of a slice from a DataFrame.\n",
            "Try using .loc[row_indexer,col_indexer] = value instead\n",
            "\n",
            "See the caveats in the documentation: http://pandas.pydata.org/pandas-docs/stable/indexing.html#indexing-view-versus-copy\n",
            "  if __name__ == '__main__':\n",
            "/usr/local/lib/python3.6/dist-packages/ipykernel_launcher.py:10: SettingWithCopyWarning: \n",
            "A value is trying to be set on a copy of a slice from a DataFrame.\n",
            "Try using .loc[row_indexer,col_indexer] = value instead\n",
            "\n",
            "See the caveats in the documentation: http://pandas.pydata.org/pandas-docs/stable/indexing.html#indexing-view-versus-copy\n",
            "  # Remove the CWD from sys.path while we load stuff.\n"
          ],
          "name": "stderr"
        },
        {
          "output_type": "execute_result",
          "data": {
            "text/plain": [
              "(1648, 9)"
            ]
          },
          "metadata": {
            "tags": []
          },
          "execution_count": 99
        }
      ]
    },
    {
      "cell_type": "code",
      "metadata": {
        "id": "c2i5kFX34x-l",
        "colab_type": "code",
        "outputId": "96161054-d01b-478e-8033-4299a77e1244",
        "colab": {
          "base_uri": "https://localhost:8080/",
          "height": 34
        }
      },
      "source": [
        "incorrect_pred_3 = x_test[x_test['exist_feature'] != x_test['outcome']]\n",
        "incorrect_pred_3.shape"
      ],
      "execution_count": 0,
      "outputs": [
        {
          "output_type": "execute_result",
          "data": {
            "text/plain": [
              "(70, 9)"
            ]
          },
          "metadata": {
            "tags": []
          },
          "execution_count": 100
        }
      ]
    },
    {
      "cell_type": "code",
      "metadata": {
        "id": "9ifkrTbk43UC",
        "colab_type": "code",
        "outputId": "440135cb-24a9-4596-ffaa-99c671f577dc",
        "colab": {
          "base_uri": "https://localhost:8080/",
          "height": 52
        }
      },
      "source": [
        "print('Majority Classifier Test Accuracy:',916/(916+802))\n",
        "print('Exact Match w/no stopwords or nonrelevant words > 1 Classifier Test Accuracy:',1648/(916+802))"
      ],
      "execution_count": 0,
      "outputs": [
        {
          "output_type": "stream",
          "text": [
            "Majority Classifier Test Accuracy: 0.5331781140861467\n",
            "Exact Match w/no stopwords or nonrelevant words > 1 Classifier Test Accuracy: 0.959254947613504\n"
          ],
          "name": "stdout"
        }
      ]
    },
    {
      "cell_type": "markdown",
      "metadata": {
        "id": "d0iC6_024_YY",
        "colab_type": "text"
      },
      "source": [
        "Train accuracy improved from ~95% -> ~97%, but test accuracy was exact same. "
      ]
    },
    {
      "cell_type": "markdown",
      "metadata": {
        "id": "MN-OhtlDGyl9",
        "colab_type": "text"
      },
      "source": [
        "# Danny Witt Rule:"
      ]
    },
    {
      "cell_type": "code",
      "metadata": {
        "id": "in8IeSBw4-gg",
        "colab_type": "code",
        "colab": {
          "base_uri": "https://localhost:8080/",
          "height": 289
        },
        "outputId": "94193e45-25be-4721-ea51-35bdae625073"
      },
      "source": [
        "x_train.head()"
      ],
      "execution_count": 97,
      "outputs": [
        {
          "output_type": "execute_result",
          "data": {
            "text/html": [
              "<div>\n",
              "<style scoped>\n",
              "    .dataframe tbody tr th:only-of-type {\n",
              "        vertical-align: middle;\n",
              "    }\n",
              "\n",
              "    .dataframe tbody tr th {\n",
              "        vertical-align: top;\n",
              "    }\n",
              "\n",
              "    .dataframe thead th {\n",
              "        text-align: right;\n",
              "    }\n",
              "</style>\n",
              "<table border=\"1\" class=\"dataframe\">\n",
              "  <thead>\n",
              "    <tr style=\"text-align: right;\">\n",
              "      <th></th>\n",
              "      <th>pid</th>\n",
              "      <th>type</th>\n",
              "      <th>value</th>\n",
              "      <th>chq</th>\n",
              "      <th>faq</th>\n",
              "      <th>outcome</th>\n",
              "      <th>exists_both</th>\n",
              "      <th>exists_both_len</th>\n",
              "      <th>exist_feature</th>\n",
              "    </tr>\n",
              "  </thead>\n",
              "  <tbody>\n",
              "    <tr>\n",
              "      <th>6569</th>\n",
              "      <td>6570</td>\n",
              "      <td>originalQ-shortQ</td>\n",
              "      <td>true</td>\n",
              "      <td>[year, old, woman, presented, yesterday, a, pe...</td>\n",
              "      <td>[a, patient, influenza, symptoms, treated, the...</td>\n",
              "      <td>1</td>\n",
              "      <td>{influenza, a}</td>\n",
              "      <td>2</td>\n",
              "      <td>1</td>\n",
              "    </tr>\n",
              "    <tr>\n",
              "      <th>4205</th>\n",
              "      <td>4206</td>\n",
              "      <td>originalQ-shortRandQ</td>\n",
              "      <td>false</td>\n",
              "      <td>[history, pulmonary, embolus, a, contraindicat...</td>\n",
              "      <td>[we, switch, ancef, this, diabetic, foot, ulce...</td>\n",
              "      <td>0</td>\n",
              "      <td>{}</td>\n",
              "      <td>0</td>\n",
              "      <td>0</td>\n",
              "    </tr>\n",
              "    <tr>\n",
              "      <th>3889</th>\n",
              "      <td>3890</td>\n",
              "      <td>originalQ-shortQ</td>\n",
              "      <td>true</td>\n",
              "      <td>[you, treat, year, old, a, positive, ppd, puri...</td>\n",
              "      <td>[you, treat, year, old, a, positive, ppd, puri...</td>\n",
              "      <td>1</td>\n",
              "      <td>{year, negative, purified, old, protein, chest...</td>\n",
              "      <td>16</td>\n",
              "      <td>1</td>\n",
              "    </tr>\n",
              "    <tr>\n",
              "      <th>2357</th>\n",
              "      <td>2358</td>\n",
              "      <td>originalQ-shortRandQ</td>\n",
              "      <td>false</td>\n",
              "      <td>[we, need, worry, thrombocytopenia, other, sid...</td>\n",
              "      <td>[do, inject, bicipital, tendon]</td>\n",
              "      <td>0</td>\n",
              "      <td>{}</td>\n",
              "      <td>0</td>\n",
              "      <td>0</td>\n",
              "    </tr>\n",
              "    <tr>\n",
              "      <th>58</th>\n",
              "      <td>59</td>\n",
              "      <td>originalQ-shortQ</td>\n",
              "      <td>true</td>\n",
              "      <td>[this, patient, tias, transient, ischemic, att...</td>\n",
              "      <td>[this, patient, transient, ischemic, attacks, ...</td>\n",
              "      <td>1</td>\n",
              "      <td>{this, echocardiogram, patient, attacks, trans...</td>\n",
              "      <td>11</td>\n",
              "      <td>1</td>\n",
              "    </tr>\n",
              "  </tbody>\n",
              "</table>\n",
              "</div>"
            ],
            "text/plain": [
              "       pid                  type  ... exists_both_len exist_feature\n",
              "6569  6570      originalQ-shortQ  ...               2             1\n",
              "4205  4206  originalQ-shortRandQ  ...               0             0\n",
              "3889  3890      originalQ-shortQ  ...              16             1\n",
              "2357  2358  originalQ-shortRandQ  ...               0             0\n",
              "58      59      originalQ-shortQ  ...              11             1\n",
              "\n",
              "[5 rows x 9 columns]"
            ]
          },
          "metadata": {
            "tags": []
          },
          "execution_count": 97
        }
      ]
    },
    {
      "cell_type": "code",
      "metadata": {
        "id": "dcs7C0BjG-oc",
        "colab_type": "code",
        "colab": {
          "base_uri": "https://localhost:8080/",
          "height": 34
        },
        "outputId": "034974b4-488d-4787-cb1c-030480f72071"
      },
      "source": [
        "x_train.shape"
      ],
      "execution_count": 86,
      "outputs": [
        {
          "output_type": "execute_result",
          "data": {
            "text/plain": [
              "(6870, 9)"
            ]
          },
          "metadata": {
            "tags": []
          },
          "execution_count": 86
        }
      ]
    },
    {
      "cell_type": "code",
      "metadata": {
        "id": "w2ovZJQ0HBze",
        "colab_type": "code",
        "colab": {
          "base_uri": "https://localhost:8080/",
          "height": 272
        },
        "outputId": "8c197272-f34b-4a4c-c247-080602327238"
      },
      "source": [
        "x_test.head()"
      ],
      "execution_count": 87,
      "outputs": [
        {
          "output_type": "execute_result",
          "data": {
            "text/html": [
              "<div>\n",
              "<style scoped>\n",
              "    .dataframe tbody tr th:only-of-type {\n",
              "        vertical-align: middle;\n",
              "    }\n",
              "\n",
              "    .dataframe tbody tr th {\n",
              "        vertical-align: top;\n",
              "    }\n",
              "\n",
              "    .dataframe thead th {\n",
              "        text-align: right;\n",
              "    }\n",
              "</style>\n",
              "<table border=\"1\" class=\"dataframe\">\n",
              "  <thead>\n",
              "    <tr style=\"text-align: right;\">\n",
              "      <th></th>\n",
              "      <th>pid</th>\n",
              "      <th>type</th>\n",
              "      <th>value</th>\n",
              "      <th>chq</th>\n",
              "      <th>faq</th>\n",
              "      <th>outcome</th>\n",
              "      <th>exists_both</th>\n",
              "      <th>exists_both_len</th>\n",
              "      <th>exist_feature</th>\n",
              "    </tr>\n",
              "  </thead>\n",
              "  <tbody>\n",
              "    <tr>\n",
              "      <th>4956</th>\n",
              "      <td>4957</td>\n",
              "      <td>originalQ-shortRandQ</td>\n",
              "      <td>false</td>\n",
              "      <td>[tinea, pedis, tinea, manus, fungal, skin, inf...</td>\n",
              "      <td>[should, treat, polymenorrhea, a, year, old, g...</td>\n",
              "      <td>0</td>\n",
              "      <td>{}</td>\n",
              "      <td>0</td>\n",
              "      <td>0</td>\n",
              "    </tr>\n",
              "    <tr>\n",
              "      <th>1061</th>\n",
              "      <td>1062</td>\n",
              "      <td>originalQ-shortQ</td>\n",
              "      <td>true</td>\n",
              "      <td>[test, culdocentesis, pelvic, ultrasound, woul...</td>\n",
              "      <td>[test, culdocentesis, pelvic, ultrasound, best...</td>\n",
              "      <td>1</td>\n",
              "      <td>{culdocentesis, ultrasound, ovarian, test, cys...</td>\n",
              "      <td>7</td>\n",
              "      <td>1</td>\n",
              "    </tr>\n",
              "    <tr>\n",
              "      <th>5057</th>\n",
              "      <td>5058</td>\n",
              "      <td>originalQ-shortRandQ</td>\n",
              "      <td>false</td>\n",
              "      <td>[nonsteroidal, anti, inflammatory, drugs, nsai...</td>\n",
              "      <td>[do, inject, bicipital, tendon]</td>\n",
              "      <td>0</td>\n",
              "      <td>{}</td>\n",
              "      <td>0</td>\n",
              "      <td>0</td>\n",
              "    </tr>\n",
              "    <tr>\n",
              "      <th>222</th>\n",
              "      <td>223</td>\n",
              "      <td>originalQ-shortQ</td>\n",
              "      <td>true</td>\n",
              "      <td>[patient, dr, x, saw, day, said, friend, told,...</td>\n",
              "      <td>[plendil, cause, adverse, reaction, sun, expos...</td>\n",
              "      <td>1</td>\n",
              "      <td>{plendil, sun}</td>\n",
              "      <td>2</td>\n",
              "      <td>1</td>\n",
              "    </tr>\n",
              "    <tr>\n",
              "      <th>7519</th>\n",
              "      <td>7520</td>\n",
              "      <td>originalQ-shortQ</td>\n",
              "      <td>true</td>\n",
              "      <td>[is, maximum, dose, zoloft]</td>\n",
              "      <td>[is, maximum, dose, zoloft]</td>\n",
              "      <td>1</td>\n",
              "      <td>{maximum, is, zoloft, dose}</td>\n",
              "      <td>4</td>\n",
              "      <td>1</td>\n",
              "    </tr>\n",
              "  </tbody>\n",
              "</table>\n",
              "</div>"
            ],
            "text/plain": [
              "       pid                  type  ... exists_both_len exist_feature\n",
              "4956  4957  originalQ-shortRandQ  ...               0             0\n",
              "1061  1062      originalQ-shortQ  ...               7             1\n",
              "5057  5058  originalQ-shortRandQ  ...               0             0\n",
              "222    223      originalQ-shortQ  ...               2             1\n",
              "7519  7520      originalQ-shortQ  ...               4             1\n",
              "\n",
              "[5 rows x 9 columns]"
            ]
          },
          "metadata": {
            "tags": []
          },
          "execution_count": 87
        }
      ]
    },
    {
      "cell_type": "code",
      "metadata": {
        "id": "nmhiTYXRHFLE",
        "colab_type": "code",
        "colab": {
          "base_uri": "https://localhost:8080/",
          "height": 34
        },
        "outputId": "8400af5b-4b43-4ed9-f26e-f46d9ac2e3af"
      },
      "source": [
        "x_test.shape"
      ],
      "execution_count": 88,
      "outputs": [
        {
          "output_type": "execute_result",
          "data": {
            "text/plain": [
              "(1718, 9)"
            ]
          },
          "metadata": {
            "tags": []
          },
          "execution_count": 88
        }
      ]
    },
    {
      "cell_type": "code",
      "metadata": {
        "id": "UAul_db9HIOH",
        "colab_type": "code",
        "colab": {
          "base_uri": "https://localhost:8080/",
          "height": 204
        },
        "outputId": "42d00228-143b-4765-dc4b-b939a3838071"
      },
      "source": [
        "y_train.head()"
      ],
      "execution_count": 89,
      "outputs": [
        {
          "output_type": "execute_result",
          "data": {
            "text/html": [
              "<div>\n",
              "<style scoped>\n",
              "    .dataframe tbody tr th:only-of-type {\n",
              "        vertical-align: middle;\n",
              "    }\n",
              "\n",
              "    .dataframe tbody tr th {\n",
              "        vertical-align: top;\n",
              "    }\n",
              "\n",
              "    .dataframe thead th {\n",
              "        text-align: right;\n",
              "    }\n",
              "</style>\n",
              "<table border=\"1\" class=\"dataframe\">\n",
              "  <thead>\n",
              "    <tr style=\"text-align: right;\">\n",
              "      <th></th>\n",
              "      <th>outcome</th>\n",
              "    </tr>\n",
              "  </thead>\n",
              "  <tbody>\n",
              "    <tr>\n",
              "      <th>6569</th>\n",
              "      <td>1</td>\n",
              "    </tr>\n",
              "    <tr>\n",
              "      <th>4205</th>\n",
              "      <td>0</td>\n",
              "    </tr>\n",
              "    <tr>\n",
              "      <th>3889</th>\n",
              "      <td>1</td>\n",
              "    </tr>\n",
              "    <tr>\n",
              "      <th>2357</th>\n",
              "      <td>0</td>\n",
              "    </tr>\n",
              "    <tr>\n",
              "      <th>58</th>\n",
              "      <td>1</td>\n",
              "    </tr>\n",
              "  </tbody>\n",
              "</table>\n",
              "</div>"
            ],
            "text/plain": [
              "      outcome\n",
              "6569        1\n",
              "4205        0\n",
              "3889        1\n",
              "2357        0\n",
              "58          1"
            ]
          },
          "metadata": {
            "tags": []
          },
          "execution_count": 89
        }
      ]
    },
    {
      "cell_type": "code",
      "metadata": {
        "id": "c1wUrvvQHM1c",
        "colab_type": "code",
        "colab": {
          "base_uri": "https://localhost:8080/",
          "height": 34
        },
        "outputId": "6ba90bac-c217-4f75-940b-3cb9e576a28c"
      },
      "source": [
        "y_train.shape"
      ],
      "execution_count": 92,
      "outputs": [
        {
          "output_type": "execute_result",
          "data": {
            "text/plain": [
              "(6870, 1)"
            ]
          },
          "metadata": {
            "tags": []
          },
          "execution_count": 92
        }
      ]
    },
    {
      "cell_type": "code",
      "metadata": {
        "id": "hQobZ7IEHISs",
        "colab_type": "code",
        "colab": {
          "base_uri": "https://localhost:8080/",
          "height": 204
        },
        "outputId": "d094c458-1809-4462-8564-0994b101cfc3"
      },
      "source": [
        "y_test.head()"
      ],
      "execution_count": 93,
      "outputs": [
        {
          "output_type": "execute_result",
          "data": {
            "text/html": [
              "<div>\n",
              "<style scoped>\n",
              "    .dataframe tbody tr th:only-of-type {\n",
              "        vertical-align: middle;\n",
              "    }\n",
              "\n",
              "    .dataframe tbody tr th {\n",
              "        vertical-align: top;\n",
              "    }\n",
              "\n",
              "    .dataframe thead th {\n",
              "        text-align: right;\n",
              "    }\n",
              "</style>\n",
              "<table border=\"1\" class=\"dataframe\">\n",
              "  <thead>\n",
              "    <tr style=\"text-align: right;\">\n",
              "      <th></th>\n",
              "      <th>outcome</th>\n",
              "    </tr>\n",
              "  </thead>\n",
              "  <tbody>\n",
              "    <tr>\n",
              "      <th>4956</th>\n",
              "      <td>0</td>\n",
              "    </tr>\n",
              "    <tr>\n",
              "      <th>1061</th>\n",
              "      <td>1</td>\n",
              "    </tr>\n",
              "    <tr>\n",
              "      <th>5057</th>\n",
              "      <td>0</td>\n",
              "    </tr>\n",
              "    <tr>\n",
              "      <th>222</th>\n",
              "      <td>1</td>\n",
              "    </tr>\n",
              "    <tr>\n",
              "      <th>7519</th>\n",
              "      <td>1</td>\n",
              "    </tr>\n",
              "  </tbody>\n",
              "</table>\n",
              "</div>"
            ],
            "text/plain": [
              "      outcome\n",
              "4956        0\n",
              "1061        1\n",
              "5057        0\n",
              "222         1\n",
              "7519        1"
            ]
          },
          "metadata": {
            "tags": []
          },
          "execution_count": 93
        }
      ]
    },
    {
      "cell_type": "code",
      "metadata": {
        "id": "XKvBHq1CHPYm",
        "colab_type": "code",
        "colab": {
          "base_uri": "https://localhost:8080/",
          "height": 34
        },
        "outputId": "78d7fe8c-4aee-4f09-af8c-cf74024e9e16"
      },
      "source": [
        "y_test.shape"
      ],
      "execution_count": 94,
      "outputs": [
        {
          "output_type": "execute_result",
          "data": {
            "text/plain": [
              "(1718, 1)"
            ]
          },
          "metadata": {
            "tags": []
          },
          "execution_count": 94
        }
      ]
    },
    {
      "cell_type": "code",
      "metadata": {
        "id": "_UJCWnKq1MT2",
        "colab_type": "code",
        "colab": {
          "base_uri": "https://localhost:8080/",
          "height": 68
        },
        "outputId": "2501ba35-b83c-433f-de0e-cf71c57ec7fa"
      },
      "source": [
        ""
      ],
      "execution_count": 144,
      "outputs": [
        {
          "output_type": "stream",
          "text": [
            "Collecting SmoothingFunction\n",
            "\u001b[31m  ERROR: Could not find a version that satisfies the requirement SmoothingFunction (from versions: none)\u001b[0m\n",
            "\u001b[31mERROR: No matching distribution found for SmoothingFunction\u001b[0m\n"
          ],
          "name": "stdout"
        }
      ]
    },
    {
      "cell_type": "code",
      "metadata": {
        "id": "mw0dQT_-HVVB",
        "colab_type": "code",
        "colab": {
          "base_uri": "https://localhost:8080/",
          "height": 511
        },
        "outputId": "18b600eb-7224-4c74-a723-f59cb60b1c72"
      },
      "source": [
        "# Calculate new feature: BLEU score\n",
        "\n",
        "def bleu(reference, predict):\n",
        "    \"\"\"Compute sentence-level bleu score.\n",
        "\n",
        "    Args:\n",
        "        reference (list[str])\n",
        "        predict (list[str])\n",
        "    \"\"\"\n",
        "    from nltk.translate import bleu_score, SmoothingFunction\n",
        "\n",
        "    if len(predict) == 0:\n",
        "        if len(reference) == 0:\n",
        "            return 1.0\n",
        "        else:\n",
        "            return 0.0\n",
        "          \n",
        "    # use a maximum of 4-grams. If 4-grams aren't present, use only lower n-grams.\n",
        "    n = min(4, len(reference), len(predict))\n",
        "    weights = tuple([1. / n] * n)  # uniform weight on n-gram precisions\n",
        "    smoothing_function = SmoothingFunction\n",
        "    return bleu_score.sentence_bleu([reference], predict, weights, SmoothingFunction) \n",
        "  \n",
        "\n",
        "x_train['bleu_score'] = x_train.apply(lambda x: bleu(x.chq, x.faq), axis=1)\n",
        "\n",
        "x_train['bleu_feature'] = np.where(x_train['bleu_score'] > 0.05, 1, 0)\n",
        "\n",
        "train_pred_new = x_train[x_train['bleu_feature'] == x_train['outcome']]\n",
        "\n",
        "train_pred_new.shape\n",
        "\n",
        "x_train.head(100)"
      ],
      "execution_count": 143,
      "outputs": [
        {
          "output_type": "error",
          "ename": "ImportError",
          "evalue": "ignored",
          "traceback": [
            "\u001b[0;31m---------------------------------------------------------------------------\u001b[0m",
            "\u001b[0;31mImportError\u001b[0m                               Traceback (most recent call last)",
            "\u001b[0;32m<ipython-input-143-adbb559e7f4c>\u001b[0m in \u001b[0;36m<module>\u001b[0;34m()\u001b[0m\n\u001b[1;32m     22\u001b[0m \u001b[0;34m\u001b[0m\u001b[0m\n\u001b[1;32m     23\u001b[0m \u001b[0;34m\u001b[0m\u001b[0m\n\u001b[0;32m---> 24\u001b[0;31m \u001b[0mx_train\u001b[0m\u001b[0;34m[\u001b[0m\u001b[0;34m'bleu_score'\u001b[0m\u001b[0;34m]\u001b[0m \u001b[0;34m=\u001b[0m \u001b[0mx_train\u001b[0m\u001b[0;34m.\u001b[0m\u001b[0mapply\u001b[0m\u001b[0;34m(\u001b[0m\u001b[0;32mlambda\u001b[0m \u001b[0mx\u001b[0m\u001b[0;34m:\u001b[0m \u001b[0mbleu\u001b[0m\u001b[0;34m(\u001b[0m\u001b[0mx\u001b[0m\u001b[0;34m.\u001b[0m\u001b[0mchq\u001b[0m\u001b[0;34m,\u001b[0m \u001b[0mx\u001b[0m\u001b[0;34m.\u001b[0m\u001b[0mfaq\u001b[0m\u001b[0;34m)\u001b[0m\u001b[0;34m,\u001b[0m \u001b[0maxis\u001b[0m\u001b[0;34m=\u001b[0m\u001b[0;36m1\u001b[0m\u001b[0;34m)\u001b[0m\u001b[0;34m\u001b[0m\u001b[0;34m\u001b[0m\u001b[0m\n\u001b[0m\u001b[1;32m     25\u001b[0m \u001b[0;34m\u001b[0m\u001b[0m\n\u001b[1;32m     26\u001b[0m \u001b[0mx_train\u001b[0m\u001b[0;34m[\u001b[0m\u001b[0;34m'bleu_feature'\u001b[0m\u001b[0;34m]\u001b[0m \u001b[0;34m=\u001b[0m \u001b[0mnp\u001b[0m\u001b[0;34m.\u001b[0m\u001b[0mwhere\u001b[0m\u001b[0;34m(\u001b[0m\u001b[0mx_train\u001b[0m\u001b[0;34m[\u001b[0m\u001b[0;34m'bleu_score'\u001b[0m\u001b[0;34m]\u001b[0m \u001b[0;34m>\u001b[0m \u001b[0;36m0.05\u001b[0m\u001b[0;34m,\u001b[0m \u001b[0;36m1\u001b[0m\u001b[0;34m,\u001b[0m \u001b[0;36m0\u001b[0m\u001b[0;34m)\u001b[0m\u001b[0;34m\u001b[0m\u001b[0;34m\u001b[0m\u001b[0m\n",
            "\u001b[0;32m/usr/local/lib/python3.6/dist-packages/pandas/core/frame.py\u001b[0m in \u001b[0;36mapply\u001b[0;34m(self, func, axis, broadcast, raw, reduce, result_type, args, **kwds)\u001b[0m\n\u001b[1;32m   6485\u001b[0m                          \u001b[0margs\u001b[0m\u001b[0;34m=\u001b[0m\u001b[0margs\u001b[0m\u001b[0;34m,\u001b[0m\u001b[0;34m\u001b[0m\u001b[0;34m\u001b[0m\u001b[0m\n\u001b[1;32m   6486\u001b[0m                          kwds=kwds)\n\u001b[0;32m-> 6487\u001b[0;31m         \u001b[0;32mreturn\u001b[0m \u001b[0mop\u001b[0m\u001b[0;34m.\u001b[0m\u001b[0mget_result\u001b[0m\u001b[0;34m(\u001b[0m\u001b[0;34m)\u001b[0m\u001b[0;34m\u001b[0m\u001b[0;34m\u001b[0m\u001b[0m\n\u001b[0m\u001b[1;32m   6488\u001b[0m \u001b[0;34m\u001b[0m\u001b[0m\n\u001b[1;32m   6489\u001b[0m     \u001b[0;32mdef\u001b[0m \u001b[0mapplymap\u001b[0m\u001b[0;34m(\u001b[0m\u001b[0mself\u001b[0m\u001b[0;34m,\u001b[0m \u001b[0mfunc\u001b[0m\u001b[0;34m)\u001b[0m\u001b[0;34m:\u001b[0m\u001b[0;34m\u001b[0m\u001b[0;34m\u001b[0m\u001b[0m\n",
            "\u001b[0;32m/usr/local/lib/python3.6/dist-packages/pandas/core/apply.py\u001b[0m in \u001b[0;36mget_result\u001b[0;34m(self)\u001b[0m\n\u001b[1;32m    149\u001b[0m             \u001b[0;32mreturn\u001b[0m \u001b[0mself\u001b[0m\u001b[0;34m.\u001b[0m\u001b[0mapply_raw\u001b[0m\u001b[0;34m(\u001b[0m\u001b[0;34m)\u001b[0m\u001b[0;34m\u001b[0m\u001b[0;34m\u001b[0m\u001b[0m\n\u001b[1;32m    150\u001b[0m \u001b[0;34m\u001b[0m\u001b[0m\n\u001b[0;32m--> 151\u001b[0;31m         \u001b[0;32mreturn\u001b[0m \u001b[0mself\u001b[0m\u001b[0;34m.\u001b[0m\u001b[0mapply_standard\u001b[0m\u001b[0;34m(\u001b[0m\u001b[0;34m)\u001b[0m\u001b[0;34m\u001b[0m\u001b[0;34m\u001b[0m\u001b[0m\n\u001b[0m\u001b[1;32m    152\u001b[0m \u001b[0;34m\u001b[0m\u001b[0m\n\u001b[1;32m    153\u001b[0m     \u001b[0;32mdef\u001b[0m \u001b[0mapply_empty_result\u001b[0m\u001b[0;34m(\u001b[0m\u001b[0mself\u001b[0m\u001b[0;34m)\u001b[0m\u001b[0;34m:\u001b[0m\u001b[0;34m\u001b[0m\u001b[0;34m\u001b[0m\u001b[0m\n",
            "\u001b[0;32m/usr/local/lib/python3.6/dist-packages/pandas/core/apply.py\u001b[0m in \u001b[0;36mapply_standard\u001b[0;34m(self)\u001b[0m\n\u001b[1;32m    255\u001b[0m \u001b[0;34m\u001b[0m\u001b[0m\n\u001b[1;32m    256\u001b[0m         \u001b[0;31m# compute the result using the series generator\u001b[0m\u001b[0;34m\u001b[0m\u001b[0;34m\u001b[0m\u001b[0;34m\u001b[0m\u001b[0m\n\u001b[0;32m--> 257\u001b[0;31m         \u001b[0mself\u001b[0m\u001b[0;34m.\u001b[0m\u001b[0mapply_series_generator\u001b[0m\u001b[0;34m(\u001b[0m\u001b[0;34m)\u001b[0m\u001b[0;34m\u001b[0m\u001b[0;34m\u001b[0m\u001b[0m\n\u001b[0m\u001b[1;32m    258\u001b[0m \u001b[0;34m\u001b[0m\u001b[0m\n\u001b[1;32m    259\u001b[0m         \u001b[0;31m# wrap results\u001b[0m\u001b[0;34m\u001b[0m\u001b[0;34m\u001b[0m\u001b[0;34m\u001b[0m\u001b[0m\n",
            "\u001b[0;32m/usr/local/lib/python3.6/dist-packages/pandas/core/apply.py\u001b[0m in \u001b[0;36mapply_series_generator\u001b[0;34m(self)\u001b[0m\n\u001b[1;32m    284\u001b[0m             \u001b[0;32mtry\u001b[0m\u001b[0;34m:\u001b[0m\u001b[0;34m\u001b[0m\u001b[0;34m\u001b[0m\u001b[0m\n\u001b[1;32m    285\u001b[0m                 \u001b[0;32mfor\u001b[0m \u001b[0mi\u001b[0m\u001b[0;34m,\u001b[0m \u001b[0mv\u001b[0m \u001b[0;32min\u001b[0m \u001b[0menumerate\u001b[0m\u001b[0;34m(\u001b[0m\u001b[0mseries_gen\u001b[0m\u001b[0;34m)\u001b[0m\u001b[0;34m:\u001b[0m\u001b[0;34m\u001b[0m\u001b[0;34m\u001b[0m\u001b[0m\n\u001b[0;32m--> 286\u001b[0;31m                     \u001b[0mresults\u001b[0m\u001b[0;34m[\u001b[0m\u001b[0mi\u001b[0m\u001b[0;34m]\u001b[0m \u001b[0;34m=\u001b[0m \u001b[0mself\u001b[0m\u001b[0;34m.\u001b[0m\u001b[0mf\u001b[0m\u001b[0;34m(\u001b[0m\u001b[0mv\u001b[0m\u001b[0;34m)\u001b[0m\u001b[0;34m\u001b[0m\u001b[0;34m\u001b[0m\u001b[0m\n\u001b[0m\u001b[1;32m    287\u001b[0m                     \u001b[0mkeys\u001b[0m\u001b[0;34m.\u001b[0m\u001b[0mappend\u001b[0m\u001b[0;34m(\u001b[0m\u001b[0mv\u001b[0m\u001b[0;34m.\u001b[0m\u001b[0mname\u001b[0m\u001b[0;34m)\u001b[0m\u001b[0;34m\u001b[0m\u001b[0;34m\u001b[0m\u001b[0m\n\u001b[1;32m    288\u001b[0m             \u001b[0;32mexcept\u001b[0m \u001b[0mException\u001b[0m \u001b[0;32mas\u001b[0m \u001b[0me\u001b[0m\u001b[0;34m:\u001b[0m\u001b[0;34m\u001b[0m\u001b[0;34m\u001b[0m\u001b[0m\n",
            "\u001b[0;32m<ipython-input-143-adbb559e7f4c>\u001b[0m in \u001b[0;36m<lambda>\u001b[0;34m(x)\u001b[0m\n\u001b[1;32m     22\u001b[0m \u001b[0;34m\u001b[0m\u001b[0m\n\u001b[1;32m     23\u001b[0m \u001b[0;34m\u001b[0m\u001b[0m\n\u001b[0;32m---> 24\u001b[0;31m \u001b[0mx_train\u001b[0m\u001b[0;34m[\u001b[0m\u001b[0;34m'bleu_score'\u001b[0m\u001b[0;34m]\u001b[0m \u001b[0;34m=\u001b[0m \u001b[0mx_train\u001b[0m\u001b[0;34m.\u001b[0m\u001b[0mapply\u001b[0m\u001b[0;34m(\u001b[0m\u001b[0;32mlambda\u001b[0m \u001b[0mx\u001b[0m\u001b[0;34m:\u001b[0m \u001b[0mbleu\u001b[0m\u001b[0;34m(\u001b[0m\u001b[0mx\u001b[0m\u001b[0;34m.\u001b[0m\u001b[0mchq\u001b[0m\u001b[0;34m,\u001b[0m \u001b[0mx\u001b[0m\u001b[0;34m.\u001b[0m\u001b[0mfaq\u001b[0m\u001b[0;34m)\u001b[0m\u001b[0;34m,\u001b[0m \u001b[0maxis\u001b[0m\u001b[0;34m=\u001b[0m\u001b[0;36m1\u001b[0m\u001b[0;34m)\u001b[0m\u001b[0;34m\u001b[0m\u001b[0;34m\u001b[0m\u001b[0m\n\u001b[0m\u001b[1;32m     25\u001b[0m \u001b[0;34m\u001b[0m\u001b[0m\n\u001b[1;32m     26\u001b[0m \u001b[0mx_train\u001b[0m\u001b[0;34m[\u001b[0m\u001b[0;34m'bleu_feature'\u001b[0m\u001b[0;34m]\u001b[0m \u001b[0;34m=\u001b[0m \u001b[0mnp\u001b[0m\u001b[0;34m.\u001b[0m\u001b[0mwhere\u001b[0m\u001b[0;34m(\u001b[0m\u001b[0mx_train\u001b[0m\u001b[0;34m[\u001b[0m\u001b[0;34m'bleu_score'\u001b[0m\u001b[0;34m]\u001b[0m \u001b[0;34m>\u001b[0m \u001b[0;36m0.05\u001b[0m\u001b[0;34m,\u001b[0m \u001b[0;36m1\u001b[0m\u001b[0;34m,\u001b[0m \u001b[0;36m0\u001b[0m\u001b[0;34m)\u001b[0m\u001b[0;34m\u001b[0m\u001b[0;34m\u001b[0m\u001b[0m\n",
            "\u001b[0;32m<ipython-input-143-adbb559e7f4c>\u001b[0m in \u001b[0;36mbleu\u001b[0;34m(reference, predict)\u001b[0m\n\u001b[1;32m      7\u001b[0m         \u001b[0mpredict\u001b[0m \u001b[0;34m(\u001b[0m\u001b[0mlist\u001b[0m\u001b[0;34m[\u001b[0m\u001b[0mstr\u001b[0m\u001b[0;34m]\u001b[0m\u001b[0;34m)\u001b[0m\u001b[0;34m\u001b[0m\u001b[0;34m\u001b[0m\u001b[0m\n\u001b[1;32m      8\u001b[0m     \"\"\"\n\u001b[0;32m----> 9\u001b[0;31m     \u001b[0;32mfrom\u001b[0m \u001b[0mnltk\u001b[0m\u001b[0;34m.\u001b[0m\u001b[0mtranslate\u001b[0m \u001b[0;32mimport\u001b[0m \u001b[0mbleu_score\u001b[0m\u001b[0;34m,\u001b[0m \u001b[0mSmoothingFunction\u001b[0m\u001b[0;34m\u001b[0m\u001b[0;34m\u001b[0m\u001b[0m\n\u001b[0m\u001b[1;32m     10\u001b[0m \u001b[0;34m\u001b[0m\u001b[0m\n\u001b[1;32m     11\u001b[0m     \u001b[0;32mif\u001b[0m \u001b[0mlen\u001b[0m\u001b[0;34m(\u001b[0m\u001b[0mpredict\u001b[0m\u001b[0;34m)\u001b[0m \u001b[0;34m==\u001b[0m \u001b[0;36m0\u001b[0m\u001b[0;34m:\u001b[0m\u001b[0;34m\u001b[0m\u001b[0;34m\u001b[0m\u001b[0m\n",
            "\u001b[0;31mImportError\u001b[0m: cannot import name 'SmoothingFunction'",
            "",
            "\u001b[0;31m---------------------------------------------------------------------------\u001b[0;32m\nNOTE: If your import is failing due to a missing package, you can\nmanually install dependencies using either !pip or !apt.\n\nTo view examples of installing some common dependencies, click the\n\"Open Examples\" button below.\n\u001b[0;31m---------------------------------------------------------------------------\u001b[0m\n"
          ]
        }
      ]
    },
    {
      "cell_type": "code",
      "metadata": {
        "id": "l-zVOmFxx5Zi",
        "colab_type": "code",
        "colab": {
          "base_uri": "https://localhost:8080/",
          "height": 51
        },
        "outputId": "9239701c-ae88-41d4-9c2f-1be8a23151cb"
      },
      "source": [
        "print('Majority Classifier Train Accuracy:',3739/(3739+3131))\n",
        "num_correct = train_pred_new.shape[0]\n",
        "print('Exact BLEU > 0.1 Classifier Train Accuracy:',num_correct/(3739+3131))"
      ],
      "execution_count": 140,
      "outputs": [
        {
          "output_type": "stream",
          "text": [
            "Majority Classifier Train Accuracy: 0.5442503639010189\n",
            "Exact BLEU > 0.1 Classifier Train Accuracy: 0.8420669577874818\n"
          ],
          "name": "stdout"
        }
      ]
    }
  ]
}