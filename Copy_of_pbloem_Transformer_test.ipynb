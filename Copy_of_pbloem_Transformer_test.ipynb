{
  "nbformat": 4,
  "nbformat_minor": 0,
  "metadata": {
    "colab": {
      "name": "Copy of pbloem_Transformer_test.ipynb",
      "provenance": [],
      "collapsed_sections": [],
      "toc_visible": true,
      "include_colab_link": true
    },
    "kernelspec": {
      "name": "python3",
      "display_name": "Python 3"
    },
    "accelerator": "GPU"
  },
  "cells": [
    {
      "cell_type": "markdown",
      "metadata": {
        "id": "view-in-github",
        "colab_type": "text"
      },
      "source": [
        "<a href=\"https://colab.research.google.com/github/drwitt/NLP_IDS_690-03/blob/master/Copy_of_pbloem_Transformer_test.ipynb\" target=\"_parent\"><img src=\"https://colab.research.google.com/assets/colab-badge.svg\" alt=\"Open In Colab\"/></a>"
      ]
    },
    {
      "cell_type": "markdown",
      "metadata": {
        "id": "Bcill8ds_hfy",
        "colab_type": "text"
      },
      "source": [
        "This is a test of \"TRANSFORMERS FROM SCRATCH\" by P.Bloem \n",
        "www.peterbloem.nl/blog/transformers \n",
        "\n",
        "Also at \n",
        "https://github.com/pbloem/former\n",
        "\n",
        "perhaps the clearest expostion of transformers\n"
      ]
    },
    {
      "cell_type": "markdown",
      "metadata": {
        "id": "p8AK6PZtg0i7",
        "colab_type": "text"
      },
      "source": [
        "## Make sure to run it with  GPU \n",
        "\n",
        "**CPU**\n",
        "\n",
        "\n",
        " epoch 0\n",
        "100% 5000/5000 [1:03:05<00:00,  1.45it/s]\n",
        "-- validation accuracy 0.725\n",
        "\n",
        " epoch 1\n",
        "100% 5000/5000 [1:07:57<00:00,  1.22it/s]\n",
        "-- validation accuracy 0.765\n",
        "\n",
        "**GPU** \n",
        "\n",
        " epoch 0\n",
        "100% 5000/5000 [05:10<00:00, 16.11it/s]\n",
        "-- validation accuracy 0.7\n",
        "\n",
        " epoch 1\n",
        "100% 5000/5000 [05:09<00:00, 14.03it/s] \n",
        "-- validation accuracy 0.755\n",
        "\n",
        "\n",
        "**TPU**\n",
        " epoch 0\n",
        "100% 5000/5000 [1:06:07<00:00,  1.13it/s]\n",
        "-- validation accuracy 0.693\n",
        "\n",
        "\n",
        "\n"
      ]
    },
    {
      "cell_type": "code",
      "metadata": {
        "id": "-hmE5hdk4Pdh",
        "colab_type": "code",
        "outputId": "19676f5c-9cc9-4889-aebb-4c4bd11f892b",
        "colab": {
          "base_uri": "https://localhost:8080/",
          "height": 170
        }
      },
      "source": [
        "# Clone the entire repo.\n",
        "!git clone -l -s git://github.com/pbloem/former.git former\n",
        "!cd former/\n",
        "!ls"
      ],
      "execution_count": 0,
      "outputs": [
        {
          "output_type": "stream",
          "text": [
            "Cloning into 'former'...\n",
            "warning: --local is ignored\n",
            "remote: Enumerating objects: 13, done.\u001b[K\n",
            "remote: Counting objects: 100% (13/13), done.\u001b[K\n",
            "remote: Compressing objects: 100% (10/10), done.\u001b[K\n",
            "remote: Total 108 (delta 3), reused 8 (delta 3), pack-reused 95\u001b[K\n",
            "Receiving objects: 100% (108/108), 34.89 MiB | 8.87 MiB/s, done.\n",
            "Resolving deltas: 100% (39/39), done.\n",
            "former\tsample_data\n"
          ],
          "name": "stdout"
        }
      ]
    },
    {
      "cell_type": "code",
      "metadata": {
        "id": "8QSlIaLK6H9t",
        "colab_type": "code",
        "outputId": "02006b15-d175-4155-d582-6b318dbeceb5",
        "colab": {
          "base_uri": "https://localhost:8080/",
          "height": 411
        }
      },
      "source": [
        "!pip install torch tb-nightly tqdm numpy torchtext"
      ],
      "execution_count": 0,
      "outputs": [
        {
          "output_type": "stream",
          "text": [
            "Requirement already satisfied: torch in /usr/local/lib/python3.6/dist-packages (1.2.0)\n",
            "Collecting tb-nightly\n",
            "\u001b[?25l  Downloading https://files.pythonhosted.org/packages/90/04/69cdf80e31f44e277ac8091ebdea973370562e91f73667fb84e34201f4d3/tb_nightly-2.1.0a20191009-py3-none-any.whl (3.8MB)\n",
            "\u001b[K     |████████████████████████████████| 3.8MB 2.8MB/s \n",
            "\u001b[?25hRequirement already satisfied: tqdm in /usr/local/lib/python3.6/dist-packages (4.28.1)\n",
            "Requirement already satisfied: numpy in /usr/local/lib/python3.6/dist-packages (1.16.5)\n",
            "Requirement already satisfied: torchtext in /usr/local/lib/python3.6/dist-packages (0.3.1)\n",
            "Requirement already satisfied: grpcio>=1.6.3 in /usr/local/lib/python3.6/dist-packages (from tb-nightly) (1.15.0)\n",
            "Requirement already satisfied: markdown>=2.6.8 in /usr/local/lib/python3.6/dist-packages (from tb-nightly) (3.1.1)\n",
            "Requirement already satisfied: six>=1.10.0 in /usr/local/lib/python3.6/dist-packages (from tb-nightly) (1.12.0)\n",
            "Requirement already satisfied: werkzeug>=0.11.15 in /usr/local/lib/python3.6/dist-packages (from tb-nightly) (0.16.0)\n",
            "Requirement already satisfied: protobuf>=3.6.0 in /usr/local/lib/python3.6/dist-packages (from tb-nightly) (3.7.1)\n",
            "Requirement already satisfied: absl-py>=0.4 in /usr/local/lib/python3.6/dist-packages (from tb-nightly) (0.8.0)\n",
            "Requirement already satisfied: setuptools>=41.0.0 in /usr/local/lib/python3.6/dist-packages (from tb-nightly) (41.2.0)\n",
            "Requirement already satisfied: wheel>=0.26; python_version >= \"3\" in /usr/local/lib/python3.6/dist-packages (from tb-nightly) (0.33.6)\n",
            "Requirement already satisfied: requests in /usr/local/lib/python3.6/dist-packages (from torchtext) (2.21.0)\n",
            "Requirement already satisfied: idna<2.9,>=2.5 in /usr/local/lib/python3.6/dist-packages (from requests->torchtext) (2.8)\n",
            "Requirement already satisfied: chardet<3.1.0,>=3.0.2 in /usr/local/lib/python3.6/dist-packages (from requests->torchtext) (3.0.4)\n",
            "Requirement already satisfied: urllib3<1.25,>=1.21.1 in /usr/local/lib/python3.6/dist-packages (from requests->torchtext) (1.24.3)\n",
            "Requirement already satisfied: certifi>=2017.4.17 in /usr/local/lib/python3.6/dist-packages (from requests->torchtext) (2019.9.11)\n",
            "Installing collected packages: tb-nightly\n",
            "Successfully installed tb-nightly-2.1.0a20191009\n"
          ],
          "name": "stdout"
        }
      ]
    },
    {
      "cell_type": "code",
      "metadata": {
        "id": "7_Br-dZN52-7",
        "colab_type": "code",
        "outputId": "a3c6e3b8-ebb6-4ddf-b633-f958ea7e24a5",
        "colab": {
          "base_uri": "https://localhost:8080/",
          "height": 34
        }
      },
      "source": [
        "!cd former/former\n",
        "!ls \n"
      ],
      "execution_count": 0,
      "outputs": [
        {
          "output_type": "stream",
          "text": [
            "former\tsample_data\n"
          ],
          "name": "stdout"
        }
      ]
    },
    {
      "cell_type": "code",
      "metadata": {
        "id": "eKkDNXad6pE1",
        "colab_type": "code",
        "outputId": "456e8559-f308-4f3c-9e8c-af73449c192e",
        "colab": {
          "base_uri": "https://localhost:8080/",
          "height": 1000
        }
      },
      "source": [
        "!ls former/experiments\n",
        "!python ./former/experiments/classify.py -e 20"
      ],
      "execution_count": 0,
      "outputs": [
        {
          "output_type": "stream",
          "text": [
            "classify.py  _context.py  generate.py\n",
            "OPTIONS  Namespace(batch_size=4, depth=6, embedding_size=128, final=False, gradient_clipping=1.0, lr=0.0001, lr_warmup=10000, max_length=512, max_pool=False, num_epochs=20, num_heads=8, seed=1, tb_dir='./runs', vocab_size=50000)\n",
            "downloading aclImdb_v1.tar.gz\n",
            "aclImdb_v1.tar.gz: 100% 84.1M/84.1M [00:07<00:00, 11.8MB/s]\n",
            "- nr. of training examples 5000\n",
            "- nr. of validation examples 1250\n",
            "\n",
            " epoch 0\n",
            "100% 5000/5000 [05:11<00:00, 15.90it/s]\n",
            "-- validation accuracy 0.693\n",
            "\n",
            " epoch 1\n",
            "100% 5000/5000 [05:11<00:00, 14.85it/s]\n",
            "-- validation accuracy 0.757\n",
            "\n",
            " epoch 2\n",
            "100% 5000/5000 [05:10<00:00, 14.93it/s]\n",
            "-- validation accuracy 0.753\n",
            "\n",
            " epoch 3\n",
            "100% 5000/5000 [05:09<00:00, 16.16it/s]\n",
            "-- validation accuracy 0.772\n",
            "\n",
            " epoch 4\n",
            "100% 5000/5000 [05:08<00:00, 16.21it/s]\n",
            "-- validation accuracy 0.792\n",
            "\n",
            " epoch 5\n",
            "100% 5000/5000 [05:09<00:00, 16.18it/s]\n",
            "-- validation accuracy 0.824\n",
            "\n",
            " epoch 6\n",
            "100% 5000/5000 [05:08<00:00, 15.07it/s]\n",
            "-- validation accuracy 0.843\n",
            "\n",
            " epoch 7\n",
            "100% 5000/5000 [05:06<00:00, 16.30it/s]\n",
            "-- validation accuracy 0.839\n",
            "\n",
            " epoch 8\n",
            "100% 5000/5000 [05:06<00:00, 15.44it/s]\n",
            "-- validation accuracy 0.848\n",
            "\n",
            " epoch 9\n",
            "100% 5000/5000 [05:06<00:00, 16.30it/s]\n",
            "-- validation accuracy 0.853\n",
            "\n",
            " epoch 10\n",
            "100% 5000/5000 [05:06<00:00, 16.43it/s]\n",
            "-- validation accuracy 0.853\n",
            "\n",
            " epoch 11\n",
            "100% 5000/5000 [05:03<00:00, 15.47it/s]\n",
            "-- validation accuracy 0.853\n",
            "\n",
            " epoch 12\n",
            "100% 5000/5000 [05:03<00:00, 16.23it/s]\n",
            "-- validation accuracy 0.863\n",
            "\n",
            " epoch 13\n",
            "100% 5000/5000 [05:03<00:00, 15.07it/s]\n",
            "-- validation accuracy 0.862\n",
            "\n",
            " epoch 14\n",
            "100% 5000/5000 [05:08<00:00, 16.22it/s]\n",
            "-- validation accuracy 0.852\n",
            "\n",
            " epoch 15\n",
            "100% 5000/5000 [05:06<00:00, 16.31it/s]\n",
            "-- validation accuracy 0.865\n",
            "\n",
            " epoch 16\n",
            "100% 5000/5000 [05:07<00:00, 16.28it/s]\n",
            "-- validation accuracy 0.862\n",
            "\n",
            " epoch 17\n",
            "100% 5000/5000 [05:04<00:00, 16.41it/s]\n",
            "-- validation accuracy 0.85\n",
            "\n",
            " epoch 18\n",
            "100% 5000/5000 [05:05<00:00, 16.49it/s]\n",
            "-- validation accuracy 0.86\n",
            "\n",
            " epoch 19\n",
            "100% 5000/5000 [05:05<00:00, 15.54it/s]\n",
            "-- validation accuracy 0.858\n"
          ],
          "name": "stdout"
        }
      ]
    },
    {
      "cell_type": "markdown",
      "metadata": {
        "id": "Noc-r_JvJEDG",
        "colab_type": "text"
      },
      "source": [
        "#Example run\n",
        "\n",
        "### notice some non-monotonicity in convergence\n",
        "\n",
        "### running it for 68 epochs didn't improve the resuls\n",
        "\n",
        "\n",
        "\n",
        "classify.py  _context.py  generate.py\n",
        "OPTIONS  Namespace(batch_size=4, depth=6, embedding_size=128, final=False, gradient_clipping=1.0, lr=0.0001, lr_warmup=10000, max_length=512, max_pool=False, num_epochs=20, num_heads=8, seed=1, tb_dir='./runs', vocab_size=50000)\n",
        "downloading aclImdb_v1.tar.gz\n",
        "aclImdb_v1.tar.gz: 100% 84.1M/84.1M [00:07<00:00, 11.8MB/s]\n",
        "- nr. of training examples 5000\n",
        "- nr. of validation examples 1250\n",
        "\n",
        " epoch 0\n",
        "100% 5000/5000 [05:11<00:00, 15.90it/s]\n",
        "-- validation accuracy 0.693\n",
        "\n",
        " epoch 1\n",
        "100% 5000/5000 [05:11<00:00, 14.85it/s]\n",
        "-- validation accuracy 0.757\n",
        "\n",
        " epoch 2\n",
        "100% 5000/5000 [05:10<00:00, 14.93it/s]\n",
        "-- validation accuracy 0.753\n",
        "\n",
        " epoch 3\n",
        "100% 5000/5000 [05:09<00:00, 16.16it/s]\n",
        "-- validation accuracy 0.772\n",
        "\n",
        " epoch 4\n",
        "100% 5000/5000 [05:08<00:00, 16.21it/s]\n",
        "-- validation accuracy 0.792\n",
        "\n",
        " epoch 5\n",
        "100% 5000/5000 [05:09<00:00, 16.18it/s]\n",
        "-- validation accuracy 0.824\n",
        "\n",
        " epoch 6\n",
        "100% 5000/5000 [05:08<00:00, 15.07it/s]\n",
        "-- validation accuracy 0.843\n",
        "\n",
        " epoch 7\n",
        "100% 5000/5000 [05:06<00:00, 16.30it/s]\n",
        "-- validation accuracy 0.839\n",
        "\n",
        " epoch 8\n",
        "100% 5000/5000 [05:06<00:00, 15.44it/s]\n",
        "-- validation accuracy 0.848\n",
        "\n",
        " epoch 9\n",
        "100% 5000/5000 [05:06<00:00, 16.30it/s]\n",
        "-- validation accuracy 0.853\n",
        "\n",
        " epoch 10\n",
        "100% 5000/5000 [05:06<00:00, 16.43it/s]\n",
        "-- validation accuracy 0.853\n",
        "\n",
        " epoch 11\n",
        "100% 5000/5000 [05:03<00:00, 15.47it/s]\n",
        "-- validation accuracy 0.853\n",
        "\n",
        " epoch 12\n",
        "100% 5000/5000 [05:03<00:00, 16.23it/s]\n",
        "-- validation accuracy 0.863\n",
        "\n",
        " epoch 13\n",
        "100% 5000/5000 [05:03<00:00, 15.07it/s]\n",
        "-- validation accuracy 0.862\n",
        "\n",
        " epoch 14\n",
        "100% 5000/5000 [05:08<00:00, 16.22it/s]\n",
        "-- validation accuracy 0.852\n",
        "\n",
        " epoch 15\n",
        "100% 5000/5000 [05:06<00:00, 16.31it/s]\n",
        "-- validation accuracy 0.865\n",
        "\n",
        " epoch 16\n",
        "100% 5000/5000 [05:07<00:00, 16.28it/s]\n",
        "-- validation accuracy 0.862\n",
        "\n",
        " epoch 17\n",
        "100% 5000/5000 [05:04<00:00, 16.41it/s]\n",
        "-- validation accuracy 0.85\n",
        "\n",
        " epoch 18\n",
        "100% 5000/5000 [05:05<00:00, 16.49it/s]\n",
        "-- validation accuracy 0.86\n",
        "\n",
        " epoch 19\n",
        "100% 5000/5000 [05:05<00:00, 15.54it/s]\n",
        "-- validation accuracy 0.858"
      ]
    },
    {
      "cell_type": "markdown",
      "metadata": {
        "id": "nMGv7g-DJZU5",
        "colab_type": "text"
      },
      "source": [
        ""
      ]
    }
  ]
}