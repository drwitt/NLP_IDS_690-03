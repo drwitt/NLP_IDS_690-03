{
  "nbformat": 4,
  "nbformat_minor": 0,
  "metadata": {
    "kernelspec": {
      "display_name": "Python 3",
      "language": "python",
      "name": "python3"
    },
    "language_info": {
      "codemirror_mode": {
        "name": "ipython",
        "version": 3
      },
      "file_extension": ".py",
      "mimetype": "text/x-python",
      "name": "python",
      "nbconvert_exporter": "python",
      "pygments_lexer": "ipython3",
      "version": "3.6.8"
    },
    "colab": {
      "name": "code_random_text-short.ipynb",
      "version": "0.3.2",
      "provenance": [],
      "include_colab_link": true
    }
  },
  "cells": [
    {
      "cell_type": "markdown",
      "metadata": {
        "id": "view-in-github",
        "colab_type": "text"
      },
      "source": [
        "<a href=\"https://colab.research.google.com/github/drwitt/NLP_IDS_790/blob/master/code_random_text_short.ipynb\" target=\"_parent\"><img src=\"https://colab.research.google.com/assets/colab-badge.svg\" alt=\"Open In Colab\"/></a>"
      ]
    },
    {
      "cell_type": "code",
      "metadata": {
        "id": "5Ip2CgZ5UOuC",
        "colab_type": "code",
        "colab": {}
      },
      "source": [
        "# Natural Language Toolkit: code_random_text"
      ],
      "execution_count": 0,
      "outputs": []
    },
    {
      "cell_type": "code",
      "metadata": {
        "id": "o4T5T3QtUOuI",
        "colab_type": "code",
        "colab": {
          "base_uri": "https://localhost:8080/",
          "height": 68
        },
        "outputId": "9f2c0bae-f3ca-4417-f9c5-936c5c90cb2f"
      },
      "source": [
        "import nltk\n",
        "import random\n",
        "nltk.download('genesis')"
      ],
      "execution_count": 14,
      "outputs": [
        {
          "output_type": "stream",
          "text": [
            "[nltk_data] Downloading package genesis to /root/nltk_data...\n",
            "[nltk_data]   Unzipping corpora/genesis.zip.\n"
          ],
          "name": "stdout"
        },
        {
          "output_type": "execute_result",
          "data": {
            "text/plain": [
              "True"
            ]
          },
          "metadata": {
            "tags": []
          },
          "execution_count": 14
        }
      ]
    },
    {
      "cell_type": "code",
      "metadata": {
        "id": "Ocyt_a4qUOvQ",
        "colab_type": "code",
        "colab": {}
      },
      "source": [
        "def generate_model(cfdist, word, num=15):\n",
        "   for i in range(num):\n",
        "       print(word, end=' ')\n",
        "       word = cfdist[word].max()\n",
        "        \n",
        "   "
      ],
      "execution_count": 0,
      "outputs": []
    },
    {
      "cell_type": "code",
      "metadata": {
        "id": "DVIObSJZUOvT",
        "colab_type": "code",
        "outputId": "a317c461-95b0-4962-9f8d-28a918ec2657",
        "colab": {
          "base_uri": "https://localhost:8080/",
          "height": 54
        }
      },
      "source": [
        "text = nltk.corpus.genesis.words('english-kjv.txt')\n",
        "print(text[110:200])\n",
        "bigrams = nltk.bigrams(text)"
      ],
      "execution_count": 16,
      "outputs": [
        {
          "output_type": "stream",
          "text": [
            "['a', 'firmament', 'in', 'the', 'midst', 'of', 'the', 'waters', ',', 'and', 'let', 'it', 'divide', 'the', 'waters', 'from', 'the', 'waters', '.', 'And', 'God', 'made', 'the', 'firmament', ',', 'and', 'divided', 'the', 'waters', 'which', 'were', 'under', 'the', 'firmament', 'from', 'the', 'waters', 'which', 'were', 'above', 'the', 'firmame', 'and', 'it', 'was', 'so', '.', 'And', 'God', 'called', 'the', 'firmament', 'Heaven', '.', 'And', 'the', 'evening', 'and', 'the', 'morning', 'were', 'the', 'second', 'day', '.', 'And', 'God', 'said', ',', 'Let', 'the', 'waters', 'under', 'the', 'heaven', 'be', 'gathered', 'together', 'unto', 'one', 'place', ',', 'and', 'let', 'the', 'dry', 'land', 'appe', 'and', 'it']\n"
          ],
          "name": "stdout"
        }
      ]
    },
    {
      "cell_type": "code",
      "metadata": {
        "id": "CTsMs4phUOvj",
        "colab_type": "code",
        "outputId": "c2778608-d1df-483a-e4a9-867872680525",
        "colab": {
          "base_uri": "https://localhost:8080/",
          "height": 71
        }
      },
      "source": [
        "print('bigrams60', list(bigrams)[0:60])\n",
        "bigrams = nltk.bigrams(text)\n",
        "\n",
        "cfd = nltk.ConditionalFreqDist(bigrams)\n",
        "\n",
        "print(\"cfd['living']\", cfd['living'])"
      ],
      "execution_count": 17,
      "outputs": [
        {
          "output_type": "stream",
          "text": [
            "bigrams60 [('In', 'the'), ('the', 'beginning'), ('beginning', 'God'), ('God', 'created'), ('created', 'the'), ('the', 'heaven'), ('heaven', 'and'), ('and', 'the'), ('the', 'earth'), ('earth', '.'), ('.', 'And'), ('And', 'the'), ('the', 'earth'), ('earth', 'was'), ('was', 'without'), ('without', 'form'), ('form', ','), (',', 'and'), ('and', 'void'), ('void', ';'), (';', 'and'), ('and', 'darkness'), ('darkness', 'was'), ('was', 'upon'), ('upon', 'the'), ('the', 'face'), ('face', 'of'), ('of', 'the'), ('the', 'deep'), ('deep', '.'), ('.', 'And'), ('And', 'the'), ('the', 'Spirit'), ('Spirit', 'of'), ('of', 'God'), ('God', 'moved'), ('moved', 'upon'), ('upon', 'the'), ('the', 'face'), ('face', 'of'), ('of', 'the'), ('the', 'waters'), ('waters', '.'), ('.', 'And'), ('And', 'God'), ('God', 'said'), ('said', ','), (',', 'Let'), ('Let', 'there'), ('there', 'be'), ('be', 'light'), ('light', ':'), (':', 'and'), ('and', 'there'), ('there', 'was'), ('was', 'light'), ('light', '.'), ('.', 'And'), ('And', 'God'), ('God', 'saw')]\n",
            "cfd['living'] <FreqDist with 6 samples and 16 outcomes>\n"
          ],
          "name": "stdout"
        }
      ]
    },
    {
      "cell_type": "code",
      "metadata": {
        "id": "vU7Ah5pFUOvo",
        "colab_type": "code",
        "outputId": "07e5210f-ca65-421a-bc24-aecf373742fb",
        "colab": {
          "base_uri": "https://localhost:8080/",
          "height": 123
        }
      },
      "source": [
        "print('model of living: ')\n",
        "generate_model(cfd, 'living', 20)\n",
        "\n",
        "print('\\n\\nmodel of and: ')\n",
        "generate_model(cfd, 'and', 200)"
      ],
      "execution_count": 0,
      "outputs": [
        {
          "output_type": "stream",
          "text": [
            "model of living: \n",
            "living creature that he said , and the land of the land of the land of the land of the \n",
            "\n",
            "model of and: \n",
            "and the land of the land of the land of the land of the land of the land of the land of the land of the land of the land of the land of the land of the land of the land of the land of the land of the land of the land of the land of the land of the land of the land of the land of the land of the land of the land of the land of the land of the land of the land of the land of the land of the land of the land of the land of the land of the land of the land of the land of the land of the land of the land of the land of the land of the land of the land of the land of the land of the land of the land of the land of the land of the land of the land of the land of the land of the land of the land of the land of the land of the land of the land of the land of the land of the land of the land of the "
          ],
          "name": "stdout"
        }
      ]
    },
    {
      "cell_type": "code",
      "metadata": {
        "id": "OyaWqSKPUOvt",
        "colab_type": "code",
        "colab": {}
      },
      "source": [
        "def generate_random_model(cfdist, word, num=15):\n",
        "    for i in range(num):\n",
        "        print(word, end=' ')\n",
        "        mc3 = cfd[word].most_common()[0:3]\n",
        "        word = random.choice(mc3)[0]"
      ],
      "execution_count": 0,
      "outputs": []
    },
    {
      "cell_type": "code",
      "metadata": {
        "id": "JqyArC48UOvx",
        "colab_type": "code",
        "outputId": "fa8ccfe1-bbbb-4ee3-ad34-fab130d32d1f",
        "colab": {
          "base_uri": "https://localhost:8080/",
          "height": 71
        }
      },
      "source": [
        "print('model of living: ')\n",
        "generate_random_model(cfd, 'living', 140) "
      ],
      "execution_count": 19,
      "outputs": [
        {
          "output_type": "stream",
          "text": [
            "model of living: \n",
            "living creature after the land , and the LORD God hath made me . Then Jacob said to the earth . Now these were born unto him , I will I will not be with me and the earth . Then Abraham , I have I will I have given my lord , I pray you and he said to pass in the LORD God hath given me , I have given my father of his father ' s house . Now these things , that I will give me and the earth ; for the earth . Now therefore , that he was a son of my lord , I pray you , that thou art a man ' wives of his father , that I will I have done . And the LORD said , I have given "
          ],
          "name": "stdout"
        }
      ]
    },
    {
      "cell_type": "code",
      "metadata": {
        "id": "-QRkIkdGUOv1",
        "colab_type": "code",
        "colab": {}
      },
      "source": [
        ""
      ],
      "execution_count": 0,
      "outputs": []
    },
    {
      "cell_type": "code",
      "metadata": {
        "id": "K47aN-IQUOv5",
        "colab_type": "code",
        "colab": {}
      },
      "source": [
        ""
      ],
      "execution_count": 0,
      "outputs": []
    }
  ]
}