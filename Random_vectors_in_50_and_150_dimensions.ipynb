{
  "nbformat": 4,
  "nbformat_minor": 0,
  "metadata": {
    "kernelspec": {
      "display_name": "Python 3",
      "language": "python",
      "name": "python3"
    },
    "language_info": {
      "codemirror_mode": {
        "name": "ipython",
        "version": 3
      },
      "file_extension": ".py",
      "mimetype": "text/x-python",
      "name": "python",
      "nbconvert_exporter": "python",
      "pygments_lexer": "ipython3",
      "version": "3.6.8"
    },
    "colab": {
      "name": "Random vectors in 50 and 150 dimensions.ipynb",
      "version": "0.3.2",
      "provenance": [],
      "collapsed_sections": [],
      "include_colab_link": true
    }
  },
  "cells": [
    {
      "cell_type": "markdown",
      "metadata": {
        "id": "view-in-github",
        "colab_type": "text"
      },
      "source": [
        "<a href=\"https://colab.research.google.com/github/drwitt/NLP_IDS_690-03/blob/master/Random_vectors_in_50_and_150_dimensions.ipynb\" target=\"_parent\"><img src=\"https://colab.research.google.com/assets/colab-badge.svg\" alt=\"Open In Colab\"/></a>"
      ]
    },
    {
      "cell_type": "code",
      "metadata": {
        "id": "w8qSVvXLZs_f",
        "colab_type": "code",
        "colab": {}
      },
      "source": [
        "import numpy as np\n",
        "import random\n",
        "\n",
        "from scipy import spatial"
      ],
      "execution_count": 0,
      "outputs": []
    },
    {
      "cell_type": "code",
      "metadata": {
        "id": "0kg9dhggZs_h",
        "colab_type": "code",
        "outputId": "becc451d-4610-4508-fad0-7bf12a37cbb5",
        "colab": {
          "base_uri": "https://localhost:8080/",
          "height": 360
        }
      },
      "source": [
        "# Here we create random real-valued vectors \n",
        "\n",
        "x = 2*np.random.rand(50)-1\n",
        "y = 2*np.random.rand(50)-1\n",
        "print(x)\n",
        "print(np.linalg.norm(x))\n",
        "print(y)\n",
        "print(np.linalg.norm(x))\n",
        "\n"
      ],
      "execution_count": 0,
      "outputs": [
        {
          "output_type": "stream",
          "text": [
            "[-0.75594856  0.82736311 -0.48962655  0.46054297 -0.54339191 -0.54967778\n",
            " -0.80871338 -0.03854721 -0.30837696  0.13836919 -0.14892532  0.97375115\n",
            "  0.24522016  0.94325871  0.95765923 -0.21168767  0.49725879 -0.24772945\n",
            "  0.88712706  0.50038748 -0.01662806  0.87839071 -0.01180961 -0.33795134\n",
            "  0.61526283 -0.29314078  0.2999336   0.08760095 -0.03661056 -0.09586952\n",
            "  0.1206735   0.37225721  0.8958124  -0.73594217  0.37480254  0.26901324\n",
            " -0.69441712  0.60077167  0.75865105  0.23385028  0.00334407  0.47699728\n",
            "  0.85852191 -0.97065024 -0.69260655 -0.17567804 -0.76895321 -0.45624087\n",
            "  0.33903231  0.76735692]\n",
            "3.9832165786406892\n",
            "[-0.09017442 -0.17910503  0.97243404 -0.46944258  0.69636296 -0.03350936\n",
            "  0.3857555  -0.14246511  0.44573546  0.35389824  0.51679365  0.3017233\n",
            " -0.38941374 -0.22624821  0.00711901 -0.04322163  0.17367782 -0.10786134\n",
            "  0.25810253 -0.37865655  0.89063251 -0.79766983 -0.77008855 -0.71163871\n",
            " -0.15514778  0.06413356  0.77402085 -0.71382646 -0.5487604  -0.5869216\n",
            "  0.56504485  0.14945921  0.55931446 -0.33346557  0.11790942  0.7358399\n",
            "  0.75159487  0.31340296  0.34413044 -0.20323985  0.19239753  0.81775995\n",
            " -0.39662753 -0.74116316 -0.79839528 -0.1362777   0.50314871 -0.18860559\n",
            "  0.31927023  0.30976792]\n",
            "3.9832165786406892\n"
          ],
          "name": "stdout"
        }
      ]
    },
    {
      "cell_type": "code",
      "metadata": {
        "id": "WKH58HVTZs_l",
        "colab_type": "code",
        "outputId": "4a68f5a1-61eb-4711-c915-645e22cb4476",
        "colab": {
          "base_uri": "https://localhost:8080/",
          "height": 360
        }
      },
      "source": [
        "#here we don't; what is the probability of getting a zero norm vector in 1, 20, 2000, and 2 million examples?\n",
        "for i in range(20):\n",
        "    x = (2*np.random.rand(200)-1)\n",
        "    x = x /np.linalg.norm(x)\n",
        "    y = (2*np.random.rand(200)-1)\n",
        "    y = y /np.linalg.norm(y)\n",
        "    cos=1-spatial.distance.cosine(x, y)\n",
        "    print(cos)"
      ],
      "execution_count": 0,
      "outputs": [
        {
          "output_type": "stream",
          "text": [
            "0.06315207160824698\n",
            "0.08071129397534671\n",
            "-0.07214173022303205\n",
            "-0.11102457742819549\n",
            "0.061997912576387426\n",
            "-0.06719858662265743\n",
            "-0.0587405155583538\n",
            "0.03306165945252848\n",
            "-0.11171460440197656\n",
            "0.004541907166315973\n",
            "-0.03533395684597296\n",
            "-0.025128082125200235\n",
            "0.03339625544901037\n",
            "0.13722409792528212\n",
            "0.07962647112068066\n",
            "-0.04298119471741746\n",
            "0.09887984585194909\n",
            "-0.07201591369055738\n",
            "-0.06436917433689104\n",
            "0.030267082957329383\n"
          ],
          "name": "stdout"
        }
      ]
    },
    {
      "cell_type": "code",
      "metadata": {
        "id": "WRFhpgsNZs_j",
        "colab_type": "code",
        "outputId": "59841ab2-d223-4ede-f07d-a9b331ad1dd9",
        "colab": {
          "base_uri": "https://localhost:8080/",
          "height": 85
        }
      },
      "source": [
        "#Let's look at examples examples; note how we are preventing the normalized vectors from being zero  \n",
        "#np.random.seed(27)\n",
        "#Dim=150\n",
        "Dim=200\n",
        "#Dim=2000\n",
        "cosmax=0\n",
        "cosmin=1\n",
        "coss=0\n",
        "for i in range(1000):\n",
        "    x = (2*np.random.rand(Dim)-1)\n",
        "    x = (x +0.001)/(np.linalg.norm(x) +0.001)\n",
        "    y = (2*np.random.rand(Dim)-1)\n",
        "    y = (y +0.001)/(np.linalg.norm(y) + 0.001)\n",
        "    cos=1-spatial.distance.cosine(x, y)\n",
        "    cosmax = max (cos, cosmax)\n",
        "    cosmin = min (cos, abs(cosmin))\n",
        "    coss=np.abs(cos) + coss\n",
        "print('sum: ',coss)\n",
        "print('average: ',coss/1000)\n",
        "print ('max',cosmax)\n",
        "print ('min',cosmin)"
      ],
      "execution_count": 0,
      "outputs": [
        {
          "output_type": "stream",
          "text": [
            "sum:  56.34248918758158\n",
            "average:  0.05634248918758158\n",
            "max 0.2363590604830632\n",
            "min -0.047077551432427533\n"
          ],
          "name": "stdout"
        }
      ]
    },
    {
      "cell_type": "code",
      "metadata": {
        "id": "mq_GY3F0Zs_m",
        "colab_type": "code",
        "colab": {}
      },
      "source": [
        ""
      ],
      "execution_count": 0,
      "outputs": []
    }
  ]
}