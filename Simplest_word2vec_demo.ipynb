{
  "nbformat": 4,
  "nbformat_minor": 0,
  "metadata": {
    "colab": {
      "name": "Simplest word2vec demo",
      "version": "0.3.2",
      "provenance": [],
      "collapsed_sections": [],
      "include_colab_link": true
    },
    "kernelspec": {
      "name": "python3",
      "display_name": "Python 3"
    }
  },
  "cells": [
    {
      "cell_type": "markdown",
      "metadata": {
        "id": "view-in-github",
        "colab_type": "text"
      },
      "source": [
        "<a href=\"https://colab.research.google.com/github/drwitt/NLP_IDS_690-03/blob/master/Simplest_word2vec_demo.ipynb\" target=\"_parent\"><img src=\"https://colab.research.google.com/assets/colab-badge.svg\" alt=\"Open In Colab\"/></a>"
      ]
    },
    {
      "cell_type": "code",
      "metadata": {
        "id": "kZwzF8Jb4JQA",
        "colab_type": "code",
        "outputId": "ee86b4b4-a714-424e-fcb6-4545b3e93322",
        "colab": {
          "base_uri": "https://localhost:8080/",
          "height": 204
        }
      },
      "source": [
        "!wget http://mattmahoney.net/dc/text8.zip -O text8.zip"
      ],
      "execution_count": 1,
      "outputs": [
        {
          "output_type": "stream",
          "text": [
            "--2019-09-10 18:20:06--  http://mattmahoney.net/dc/text8.zip\n",
            "Resolving mattmahoney.net (mattmahoney.net)... 67.195.197.75\n",
            "Connecting to mattmahoney.net (mattmahoney.net)|67.195.197.75|:80... connected.\n",
            "HTTP request sent, awaiting response... 200 OK\n",
            "Length: 31344016 (30M) [application/zip]\n",
            "Saving to: ‘text8.zip’\n",
            "\n",
            "text8.zip           100%[===================>]  29.89M   840KB/s    in 37s     \n",
            "\n",
            "2019-09-10 18:20:43 (832 KB/s) - ‘text8.zip’ saved [31344016/31344016]\n",
            "\n"
          ],
          "name": "stdout"
        }
      ]
    },
    {
      "cell_type": "markdown",
      "metadata": {
        "id": "s1o_Aa9ZOYW9",
        "colab_type": "text"
      },
      "source": [
        "\\#wz Source: https://colab.research.google.com/drive/1VhlWwexI2FR0eT288Mbv_D4uWbqHo2mK "
      ]
    },
    {
      "cell_type": "code",
      "metadata": {
        "id": "kON5aGpa4O1i",
        "colab_type": "code",
        "outputId": "01c9456c-c2b5-4f60-98b2-285774b12d29",
        "colab": {
          "base_uri": "https://localhost:8080/",
          "height": 51
        }
      },
      "source": [
        "!unzip text8.zip"
      ],
      "execution_count": 2,
      "outputs": [
        {
          "output_type": "stream",
          "text": [
            "Archive:  text8.zip\n",
            "  inflating: text8                   \n"
          ],
          "name": "stdout"
        }
      ]
    },
    {
      "cell_type": "code",
      "metadata": {
        "id": "CdhgNkr44QUo",
        "colab_type": "code",
        "outputId": "0c2d8100-a01a-41a1-cdcf-cc6896f03bda",
        "colab": {
          "base_uri": "https://localhost:8080/",
          "height": 326
        }
      },
      "source": [
        "!pip install gensim  "
      ],
      "execution_count": 3,
      "outputs": [
        {
          "output_type": "stream",
          "text": [
            "Requirement already satisfied: gensim in /usr/local/lib/python3.6/dist-packages (3.6.0)\n",
            "Requirement already satisfied: smart-open>=1.2.1 in /usr/local/lib/python3.6/dist-packages (from gensim) (1.8.4)\n",
            "Requirement already satisfied: scipy>=0.18.1 in /usr/local/lib/python3.6/dist-packages (from gensim) (1.3.1)\n",
            "Requirement already satisfied: six>=1.5.0 in /usr/local/lib/python3.6/dist-packages (from gensim) (1.12.0)\n",
            "Requirement already satisfied: numpy>=1.11.3 in /usr/local/lib/python3.6/dist-packages (from gensim) (1.16.5)\n",
            "Requirement already satisfied: requests in /usr/local/lib/python3.6/dist-packages (from smart-open>=1.2.1->gensim) (2.21.0)\n",
            "Requirement already satisfied: boto>=2.32 in /usr/local/lib/python3.6/dist-packages (from smart-open>=1.2.1->gensim) (2.49.0)\n",
            "Requirement already satisfied: boto3 in /usr/local/lib/python3.6/dist-packages (from smart-open>=1.2.1->gensim) (1.9.224)\n",
            "Requirement already satisfied: idna<2.9,>=2.5 in /usr/local/lib/python3.6/dist-packages (from requests->smart-open>=1.2.1->gensim) (2.8)\n",
            "Requirement already satisfied: urllib3<1.25,>=1.21.1 in /usr/local/lib/python3.6/dist-packages (from requests->smart-open>=1.2.1->gensim) (1.24.3)\n",
            "Requirement already satisfied: certifi>=2017.4.17 in /usr/local/lib/python3.6/dist-packages (from requests->smart-open>=1.2.1->gensim) (2019.6.16)\n",
            "Requirement already satisfied: chardet<3.1.0,>=3.0.2 in /usr/local/lib/python3.6/dist-packages (from requests->smart-open>=1.2.1->gensim) (3.0.4)\n",
            "Requirement already satisfied: botocore<1.13.0,>=1.12.224 in /usr/local/lib/python3.6/dist-packages (from boto3->smart-open>=1.2.1->gensim) (1.12.224)\n",
            "Requirement already satisfied: s3transfer<0.3.0,>=0.2.0 in /usr/local/lib/python3.6/dist-packages (from boto3->smart-open>=1.2.1->gensim) (0.2.1)\n",
            "Requirement already satisfied: jmespath<1.0.0,>=0.7.1 in /usr/local/lib/python3.6/dist-packages (from boto3->smart-open>=1.2.1->gensim) (0.9.4)\n",
            "Requirement already satisfied: python-dateutil<3.0.0,>=2.1; python_version >= \"2.7\" in /usr/local/lib/python3.6/dist-packages (from botocore<1.13.0,>=1.12.224->boto3->smart-open>=1.2.1->gensim) (2.5.3)\n",
            "Requirement already satisfied: docutils<0.16,>=0.10 in /usr/local/lib/python3.6/dist-packages (from botocore<1.13.0,>=1.12.224->boto3->smart-open>=1.2.1->gensim) (0.15.2)\n"
          ],
          "name": "stdout"
        }
      ]
    },
    {
      "cell_type": "code",
      "metadata": {
        "id": "qLKISn-x4UkM",
        "colab_type": "code",
        "colab": {}
      },
      "source": [
        "from gensim.models import word2vec"
      ],
      "execution_count": 0,
      "outputs": []
    },
    {
      "cell_type": "code",
      "metadata": {
        "id": "GcD4yTcN4cYU",
        "colab_type": "code",
        "outputId": "20f558b7-7d92-4404-f27a-52698ab64613",
        "colab": {
          "base_uri": "https://localhost:8080/",
          "height": 71
        }
      },
      "source": [
        "# https://github.com/dav/word2vec/blob/master/scripts/create-text8-vector-data.sh#L16\n",
        "model = word2vec.Word2Vec(corpus_file='text8', sg=0, size=50, window=8, negative=25, hs=0, sample=1e-4, workers=20, min_count=5, iter=15)"
      ],
      "execution_count": 5,
      "outputs": [
        {
          "output_type": "stream",
          "text": [
            "/usr/local/lib/python3.6/dist-packages/smart_open/smart_open_lib.py:398: UserWarning: This function is deprecated, use smart_open.open instead. See the migration notes for details: https://github.com/RaRe-Technologies/smart_open/blob/master/README.rst#migrating-to-the-new-open-function\n",
            "  'See the migration notes for details: %s' % _MIGRATION_NOTES_URL\n"
          ],
          "name": "stderr"
        }
      ]
    },
    {
      "cell_type": "code",
      "metadata": {
        "id": "NlIrXapg89QK",
        "colab_type": "code",
        "outputId": "e122ec9a-8c3f-442f-8a1c-b15b948a1044",
        "colab": {
          "base_uri": "https://localhost:8080/",
          "height": 241
        }
      },
      "source": [
        "model.wv.most_similar(positive=\"intelligent\")"
      ],
      "execution_count": 6,
      "outputs": [
        {
          "output_type": "stream",
          "text": [
            "/usr/local/lib/python3.6/dist-packages/gensim/matutils.py:737: FutureWarning: Conversion of the second argument of issubdtype from `int` to `np.signedinteger` is deprecated. In future, it will be treated as `np.int64 == np.dtype(int).type`.\n",
            "  if np.issubdtype(vec.dtype, np.int):\n"
          ],
          "name": "stderr"
        },
        {
          "output_type": "execute_result",
          "data": {
            "text/plain": [
              "[('achieve', 0.9992249011993408),\n",
              " ('mechanics', 0.9990455508232117),\n",
              " ('mapping', 0.999005913734436),\n",
              " ('characters', 0.9989980459213257),\n",
              " ('lighting', 0.9989879131317139),\n",
              " ('accelerated', 0.9989834427833557),\n",
              " ('tone', 0.9989517331123352),\n",
              " ('appears', 0.9989403486251831),\n",
              " ('host', 0.998918890953064),\n",
              " ('verbal', 0.998910665512085)]"
            ]
          },
          "metadata": {
            "tags": []
          },
          "execution_count": 6
        }
      ]
    },
    {
      "cell_type": "markdown",
      "metadata": {
        "id": "fRAlpJ5qQHny",
        "colab_type": "text"
      },
      "source": [
        "\\#wz \n",
        "With original 200 dimensions:\n",
        "\n",
        "[(u'achieve', 0.9996793866157532),\n",
        " (u'easy', 0.9996366500854492),\n",
        " (u'tricks', 0.9996147155761719),\n",
        " (u'waves', 0.9995970726013184),\n",
        " (u'organisms', 0.9995874166488647),\n",
        " (u'surfaces', 0.9995859265327454),\n",
        " (u'bv', 0.9995858073234558),\n",
        " (u'lighting', 0.9995786547660828),\n",
        " (u'manipulation', 0.9995747804641724),\n",
        " (u'precise', 0.9995736479759216)]"
      ]
    },
    {
      "cell_type": "code",
      "metadata": {
        "id": "x_R-UxcSaPY_",
        "colab_type": "code",
        "outputId": "b805d768-7e7d-4464-e07c-1f9e2953570a",
        "colab": {
          "base_uri": "https://localhost:8080/",
          "height": 105
        }
      },
      "source": [
        "#wz\n",
        "print(model.wv.most_similar(positive=\"king\"))\n",
        "\n",
        "print(model.wv.most_similar(positive=\"queen\"))"
      ],
      "execution_count": 7,
      "outputs": [
        {
          "output_type": "stream",
          "text": [
            "[('charles', 0.9975823760032654), ('son', 0.9924242496490479), ('emperor', 0.9859474897384644), ('habsburg', 0.9805566072463989), ('ii', 0.9791907668113708), ('byron', 0.9785729646682739), ('castaneda', 0.9760574102401733), ('tuscany', 0.9758977293968201), ('ausgleich', 0.9753444790840149), ('george', 0.9745694398880005)]\n",
            "[('antoine', 0.9985050559043884), ('geologist', 0.9983968138694763), ('anne', 0.9983702898025513), ('martel', 0.9982931613922119), ('princess', 0.9982380270957947), ('styria', 0.9981593489646912), ('lavoisier', 0.9981197714805603), ('bohemia', 0.9981188178062439), ('historian', 0.998101532459259), ('maria', 0.9980617761611938)]\n"
          ],
          "name": "stdout"
        },
        {
          "output_type": "stream",
          "text": [
            "/usr/local/lib/python3.6/dist-packages/gensim/matutils.py:737: FutureWarning: Conversion of the second argument of issubdtype from `int` to `np.signedinteger` is deprecated. In future, it will be treated as `np.int64 == np.dtype(int).type`.\n",
            "  if np.issubdtype(vec.dtype, np.int):\n"
          ],
          "name": "stderr"
        }
      ]
    },
    {
      "cell_type": "code",
      "metadata": {
        "id": "W52paCj3aokI",
        "colab_type": "code",
        "outputId": "a797d025-e17e-4275-b58c-cc5e082f442d",
        "colab": {
          "base_uri": "https://localhost:8080/",
          "height": 105
        }
      },
      "source": [
        "#wz\n",
        "print(model.wv.most_similar(positive=\"man\"))\n",
        "\n",
        "print(model.wv.most_similar(positive=\"woman\"))"
      ],
      "execution_count": 8,
      "outputs": [
        {
          "output_type": "stream",
          "text": [
            "[('cox', 0.9994048476219177), ('cardinal', 0.999385416507721), ('goldman', 0.9993533492088318), ('friend', 0.9993487000465393), ('archbishop', 0.9993449449539185), ('emma', 0.9993277788162231), ('teach', 0.9992572069168091), ('nikolaus', 0.9992476105690002), ('isabella', 0.9992383718490601), ('lion', 0.9992303848266602)]\n",
            "[('ian', 0.9995357990264893), ('nominally', 0.9995152950286865), ('guy', 0.999451756477356), ('dc', 0.9994117617607117), ('murdered', 0.9993928670883179), ('peace', 0.9993724226951599), ('laud', 0.9993380308151245), ('wisdom', 0.9993330240249634), ('edmund', 0.9993242621421814), ('sharon', 0.9993181824684143)]\n"
          ],
          "name": "stdout"
        },
        {
          "output_type": "stream",
          "text": [
            "/usr/local/lib/python3.6/dist-packages/gensim/matutils.py:737: FutureWarning: Conversion of the second argument of issubdtype from `int` to `np.signedinteger` is deprecated. In future, it will be treated as `np.int64 == np.dtype(int).type`.\n",
            "  if np.issubdtype(vec.dtype, np.int):\n"
          ],
          "name": "stderr"
        }
      ]
    },
    {
      "cell_type": "markdown",
      "metadata": {
        "id": "fcjQaY1Ra2kK",
        "colab_type": "text"
      },
      "source": [
        "\\#wz\n",
        "### Next steps ###\n",
        "\n",
        "\n",
        "\n",
        "1.   Add visualization\n",
        "2.   Add using stored model\n",
        "3.   Check if king = argmax (queen-woman+man)   -- hint below\n",
        "         Note. It is unlikely to get it with not much data and low dimension. \n",
        "         I believe there should be a minimal data subset of (say) wikipedia and minimal number of dimensions\n",
        "\n"
      ]
    },
    {
      "cell_type": "code",
      "metadata": {
        "id": "VDXtxhsRcFtc",
        "colab_type": "code",
        "outputId": "703d66d9-48be-4c3c-fb8b-bb6a87231499",
        "colab": {
          "base_uri": "https://localhost:8080/",
          "height": 411
        }
      },
      "source": [
        "#wz \n",
        "\n",
        "print(model['queen'])\n",
        "print(model['king'])\n"
      ],
      "execution_count": 9,
      "outputs": [
        {
          "output_type": "stream",
          "text": [
            "[-2.706948   -0.05801025  1.4622854  -0.75423217 -2.1977086  -1.8453178\n",
            "  0.3812795  -1.5992873  -0.3132513   0.8042397   0.5947124   0.8158248\n",
            " -0.56016016 -0.5978635   0.9859023   0.34148347  0.68978065  0.21883233\n",
            "  0.58943045  0.54858416  0.25912556 -0.73049676 -0.98978126 -1.7322382\n",
            " -1.6875633  -0.85626775 -0.43038845 -0.23799808  0.23794813 -0.11621163\n",
            "  2.0952184   0.10812867  0.6153349   1.6004345   0.8846963   0.3395186\n",
            "  0.8605964   0.7981045  -0.62020594  0.12485584  0.03381153 -0.29414654\n",
            "  0.9694984  -0.93005717 -0.41919512 -0.6826082  -0.68208134  0.22602183\n",
            " -0.04343761 -0.8991526 ]\n",
            "[-2.5423717   0.7865883   1.5545689   0.09930681 -5.0765953  -1.7407682\n",
            "  1.5380449  -2.3706503   0.948366    1.2685689   0.39342508  0.51808155\n",
            " -0.11621928 -0.44942915  0.722592    0.8235639  -0.05798368  0.7383345\n",
            "  0.7014352   0.25734463 -0.10045145 -1.571228   -1.1497465  -1.5855407\n",
            " -2.0604565  -1.4475768  -0.7846225   0.23842438 -0.5295297   0.6177958\n",
            "  2.1684294   0.19628017  2.118777    2.336099    0.94262683  1.7696022\n",
            "  0.22748514  1.468155   -1.7057956  -0.6155559  -0.86686635  0.06477633\n",
            "  1.7665759  -0.7658763  -0.7846515  -0.06133214 -0.38431248  0.02064002\n",
            " -0.578237   -1.100764  ]\n"
          ],
          "name": "stdout"
        },
        {
          "output_type": "stream",
          "text": [
            "/usr/local/lib/python3.6/dist-packages/ipykernel_launcher.py:2: DeprecationWarning: Call to deprecated `__getitem__` (Method will be removed in 4.0.0, use self.wv.__getitem__() instead).\n",
            "  \n",
            "/usr/local/lib/python3.6/dist-packages/ipykernel_launcher.py:3: DeprecationWarning: Call to deprecated `__getitem__` (Method will be removed in 4.0.0, use self.wv.__getitem__() instead).\n",
            "  This is separate from the ipykernel package so we can avoid doing imports until\n"
          ],
          "name": "stderr"
        }
      ]
    }
  ]
}