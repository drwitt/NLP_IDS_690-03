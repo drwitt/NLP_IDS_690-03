{
  "nbformat": 4,
  "nbformat_minor": 0,
  "metadata": {
    "colab": {
      "name": "Copy of no_out_w_BERT_Ent_as_Fine_Tuning_Classf.ipynb",
      "provenance": [],
      "collapsed_sections": [],
      "include_colab_link": true
    },
    "kernelspec": {
      "name": "python3",
      "display_name": "Python 3"
    },
    "accelerator": "GPU"
  },
  "cells": [
    {
      "cell_type": "markdown",
      "metadata": {
        "id": "view-in-github",
        "colab_type": "text"
      },
      "source": [
        "<a href=\"https://colab.research.google.com/github/drwitt/NLP_IDS_690-03/blob/master/Copy_of_no_out_w_BERT_Ent_as_Fine_Tuning_Classf.ipynb\" target=\"_parent\"><img src=\"https://colab.research.google.com/assets/colab-badge.svg\" alt=\"Open In Colab\"/></a>"
      ]
    },
    {
      "cell_type": "markdown",
      "metadata": {
        "id": "jNKaJz5j_ylj",
        "colab_type": "text"
      },
      "source": [
        "# Adapting BERT classifier for Entailement \n",
        "## Retraining on RQE data using the same format as in Fine-Tuning with BERT"
      ]
    },
    {
      "cell_type": "markdown",
      "metadata": {
        "id": "QeaqgLDYIjFU",
        "colab_type": "text"
      },
      "source": [
        "Source: https://colab.research.google.com/github/tensorflow/tpu/blob/master/tools/colab/bert_finetuning_with_cloud_tpus.ipynb"
      ]
    },
    {
      "cell_type": "markdown",
      "metadata": {
        "id": "Miuc9C1fIoQm",
        "colab_type": "text"
      },
      "source": [
        "This is an almost identical private version. I removed some comments and added a section of using BERT for entailment by retraining on pairs of sentence. "
      ]
    },
    {
      "cell_type": "markdown",
      "metadata": {
        "id": "RX_ZDhicpHkV",
        "colab_type": "text"
      },
      "source": [
        "## Install and Import"
      ]
    },
    {
      "cell_type": "markdown",
      "metadata": {
        "id": "nSU7yERLP_66",
        "colab_type": "text"
      },
      "source": [
        "Google Colab offers free GPUs and TPUs! Since we'll be training a large neural network it's best to take advantage of this (in this case we'll attach a GPU), otherwise training will take a very long time. A GPU can be added by going to the menu and selecting:\n",
        "\n",
        "Edit -> Notebook Settings -> Add accelerator (GPU)\n",
        "\n",
        "Then run the following cell to confirm that the GPU is detected."
      ]
    },
    {
      "cell_type": "code",
      "metadata": {
        "id": "Foi-YLOc3eGF",
        "colab_type": "code",
        "colab": {}
      },
      "source": [
        "from datetime import datetime \n",
        "\"\"\"\n",
        "print(f'Beginning Training!')\n",
        "print(f'num_train_steps= ', num_train_steps)\n",
        "current_time = datetime.now()\n",
        "estimator.train(input_fn=train_input_fn, max_steps=num_train_steps)\n",
        "print(\"Training took time \", datetime.now() - current_time)\n",
        "\"\"\"\n",
        "current_time = datetime.now()"
      ],
      "execution_count": 0,
      "outputs": []
    },
    {
      "cell_type": "code",
      "metadata": {
        "id": "DEfSbAA4QHas",
        "colab_type": "code",
        "outputId": "57b4a636-9524-4a7d-b572-bed0930471be",
        "colab": {
          "base_uri": "https://localhost:8080/",
          "height": 52
        }
      },
      "source": [
        "import tensorflow as tf\n",
        "\n",
        "device_name = tf.test.gpu_device_name()\n",
        "if device_name != '/device:GPU:0':\n",
        "  raise SystemError('GPU device not found')\n",
        "print('Found GPU at: {}'.format(device_name))\n",
        "print(\"Time took \", datetime.now() - current_time)"
      ],
      "execution_count": 0,
      "outputs": [
        {
          "output_type": "stream",
          "text": [
            "Found GPU at: /device:GPU:0\n",
            "Time took  0:00:03.041794\n"
          ],
          "name": "stdout"
        }
      ]
    },
    {
      "cell_type": "markdown",
      "metadata": {
        "id": "2ElsnSNUridI",
        "colab_type": "text"
      },
      "source": [
        "Next, let's install the pytorch interface for BERT by Hugging Face. (This library contains interfaces for other pretrained language models like OpenAI's GPT and GPT-2.) We've selected the pytorch interface because it strikes a nice balance between the high-level APIs (which are easy to use but don't provide insight into how things work) and tensorflow code (which contains lots of details but often sidetracks us into lessons about tensorflow, when the purpose here is BERT!).\n",
        "\n",
        "At the moment, the Hugging Face library seems to be the most widely accepted and powerful pytorch interface for working with BERT. In addition to supporting a variety of different pre-trained language models (and future models to come - BERT will not be state of the art forever), the library also includes pre-built modifications of BERT suited to your specific task. For example, in this tutorial we will use BertForSequenceClassification, but the library also includes BERT modifications designed for token classification, question answering, next sentence prediciton, etc. Using these pre-built classes simplifies the process of modifying BERT for your purposes.\n",
        "\n",
        "**Note**: as of July 2019, the pytorch library called \"pytorch-pretrained-bert pytorch-nlp\" has been updated and renamed as \"pytorch-transformers.\" Though the old name still works, there is a short summary [here](https://github.com/huggingface/pytorch-transformers#Migrating-from-pytorch-pretrained-bert-to-pytorch-transformers) about migrating to the new library. (This mostly involves a few name changes.)"
      ]
    },
    {
      "cell_type": "code",
      "metadata": {
        "id": "0NmMdkZO8R6q",
        "colab_type": "code",
        "outputId": "01b39612-add6-41f8-9ad1-e9e9645cc0d5",
        "colab": {
          "base_uri": "https://localhost:8080/",
          "height": 610
        }
      },
      "source": [
        "!pip install pytorch-pretrained-bert pytorch-nlp\n"
      ],
      "execution_count": 0,
      "outputs": [
        {
          "output_type": "stream",
          "text": [
            "Collecting pytorch-pretrained-bert\n",
            "\u001b[?25l  Downloading https://files.pythonhosted.org/packages/d7/e0/c08d5553b89973d9a240605b9c12404bcf8227590de62bae27acbcfe076b/pytorch_pretrained_bert-0.6.2-py3-none-any.whl (123kB)\n",
            "\u001b[K     |████████████████████████████████| 133kB 4.8MB/s \n",
            "\u001b[?25hCollecting pytorch-nlp\n",
            "\u001b[?25l  Downloading https://files.pythonhosted.org/packages/df/ae/b6d18c3f37da5a78e83701469e6153811f4b0ecb3f9387bb3e9a65ca48ee/pytorch_nlp-0.4.1-py3-none-any.whl (82kB)\n",
            "\u001b[K     |████████████████████████████████| 92kB 26.7MB/s \n",
            "\u001b[?25hRequirement already satisfied: numpy in /usr/local/lib/python3.6/dist-packages (from pytorch-pretrained-bert) (1.16.5)\n",
            "Requirement already satisfied: torch>=0.4.1 in /usr/local/lib/python3.6/dist-packages (from pytorch-pretrained-bert) (1.2.0)\n",
            "Requirement already satisfied: tqdm in /usr/local/lib/python3.6/dist-packages (from pytorch-pretrained-bert) (4.28.1)\n",
            "Collecting regex (from pytorch-pretrained-bert)\n",
            "\u001b[?25l  Downloading https://files.pythonhosted.org/packages/6f/a6/99eeb5904ab763db87af4bd71d9b1dfdd9792681240657a4c0a599c10a81/regex-2019.08.19.tar.gz (654kB)\n",
            "\u001b[K     |████████████████████████████████| 655kB 46.3MB/s \n",
            "\u001b[?25hRequirement already satisfied: boto3 in /usr/local/lib/python3.6/dist-packages (from pytorch-pretrained-bert) (1.9.243)\n",
            "Requirement already satisfied: requests in /usr/local/lib/python3.6/dist-packages (from pytorch-pretrained-bert) (2.21.0)\n",
            "Requirement already satisfied: pandas in /usr/local/lib/python3.6/dist-packages (from pytorch-nlp) (0.24.2)\n",
            "Requirement already satisfied: jmespath<1.0.0,>=0.7.1 in /usr/local/lib/python3.6/dist-packages (from boto3->pytorch-pretrained-bert) (0.9.4)\n",
            "Requirement already satisfied: botocore<1.13.0,>=1.12.243 in /usr/local/lib/python3.6/dist-packages (from boto3->pytorch-pretrained-bert) (1.12.243)\n",
            "Requirement already satisfied: s3transfer<0.3.0,>=0.2.0 in /usr/local/lib/python3.6/dist-packages (from boto3->pytorch-pretrained-bert) (0.2.1)\n",
            "Requirement already satisfied: chardet<3.1.0,>=3.0.2 in /usr/local/lib/python3.6/dist-packages (from requests->pytorch-pretrained-bert) (3.0.4)\n",
            "Requirement already satisfied: idna<2.9,>=2.5 in /usr/local/lib/python3.6/dist-packages (from requests->pytorch-pretrained-bert) (2.8)\n",
            "Requirement already satisfied: urllib3<1.25,>=1.21.1 in /usr/local/lib/python3.6/dist-packages (from requests->pytorch-pretrained-bert) (1.24.3)\n",
            "Requirement already satisfied: certifi>=2017.4.17 in /usr/local/lib/python3.6/dist-packages (from requests->pytorch-pretrained-bert) (2019.9.11)\n",
            "Requirement already satisfied: pytz>=2011k in /usr/local/lib/python3.6/dist-packages (from pandas->pytorch-nlp) (2018.9)\n",
            "Requirement already satisfied: python-dateutil>=2.5.0 in /usr/local/lib/python3.6/dist-packages (from pandas->pytorch-nlp) (2.5.3)\n",
            "Requirement already satisfied: docutils<0.16,>=0.10 in /usr/local/lib/python3.6/dist-packages (from botocore<1.13.0,>=1.12.243->boto3->pytorch-pretrained-bert) (0.15.2)\n",
            "Requirement already satisfied: six>=1.5 in /usr/local/lib/python3.6/dist-packages (from python-dateutil>=2.5.0->pandas->pytorch-nlp) (1.12.0)\n",
            "Building wheels for collected packages: regex\n",
            "  Building wheel for regex (setup.py) ... \u001b[?25l\u001b[?25hdone\n",
            "  Created wheel for regex: filename=regex-2019.8.19-cp36-cp36m-linux_x86_64.whl size=609237 sha256=cd326df21baf281b465c186e87be34f401a84f0817a96b075fd2cb82cd955db6\n",
            "  Stored in directory: /root/.cache/pip/wheels/90/04/07/b5010fb816721eb3d6dd64ed5cc8111ca23f97fdab8619b5be\n",
            "Successfully built regex\n",
            "Installing collected packages: regex, pytorch-pretrained-bert, pytorch-nlp\n",
            "Successfully installed pytorch-nlp-0.4.1 pytorch-pretrained-bert-0.6.2 regex-2019.8.19\n"
          ],
          "name": "stdout"
        }
      ]
    },
    {
      "cell_type": "code",
      "metadata": {
        "id": "Ok002ceNB8E7",
        "colab_type": "code",
        "outputId": "83aee4de-6867-487b-e404-ccd36bd24234",
        "colab": {
          "base_uri": "https://localhost:8080/",
          "height": 52
        }
      },
      "source": [
        "import torch\n",
        "from torch.utils.data import TensorDataset, DataLoader, RandomSampler, SequentialSampler\n",
        "from keras.preprocessing.sequence import pad_sequences\n",
        "from sklearn.model_selection import train_test_split\n",
        "from pytorch_pretrained_bert import BertTokenizer, BertConfig\n",
        "from pytorch_pretrained_bert import BertAdam, BertForSequenceClassification\n",
        "from tqdm import tqdm, trange\n",
        "import pandas as pd\n",
        "import io\n",
        "import numpy as np\n",
        "import matplotlib.pyplot as plt\n",
        "% matplotlib inline\n",
        "\n",
        "print(\"Time took up to here \", datetime.now() - current_time)"
      ],
      "execution_count": 0,
      "outputs": [
        {
          "output_type": "stream",
          "text": [
            "Using TensorFlow backend.\n"
          ],
          "name": "stderr"
        },
        {
          "output_type": "stream",
          "text": [
            "Time took up to here  0:00:21.484230\n"
          ],
          "name": "stdout"
        }
      ]
    },
    {
      "cell_type": "markdown",
      "metadata": {
        "id": "cqG7FzRVFEIv",
        "colab_type": "text"
      },
      "source": [
        "In order for torch to use the GPU, we need to identify and specify the GPU as the device. Later, in our training loop, we will load data onto the device. "
      ]
    },
    {
      "cell_type": "code",
      "metadata": {
        "id": "oYsV4H8fCpZ-",
        "colab_type": "code",
        "outputId": "5faa107b-96ba-4ccb-ede6-285b52b960db",
        "colab": {
          "base_uri": "https://localhost:8080/",
          "height": 34
        }
      },
      "source": [
        "device = torch.device(\"cuda\" if torch.cuda.is_available() else \"cpu\")\n",
        "n_gpu = torch.cuda.device_count()\n",
        "\n",
        "print(\"CUDA: \", torch.cuda.get_device_name(0))\n",
        "\n"
      ],
      "execution_count": 0,
      "outputs": [
        {
          "output_type": "stream",
          "text": [
            "CUDA:  Tesla K80\n"
          ],
          "name": "stdout"
        }
      ]
    },
    {
      "cell_type": "code",
      "metadata": {
        "id": "8ifMwrAOK3Ql",
        "colab_type": "code",
        "outputId": "8bc770dd-a525-42e1-a82b-89d629094557",
        "colab": {
          "base_uri": "https://localhost:8080/",
          "height": 34
        }
      },
      "source": [
        "print(\"The setup time: \", datetime.now() - current_time)"
      ],
      "execution_count": 0,
      "outputs": [
        {
          "output_type": "stream",
          "text": [
            "The setup time:  0:00:21.518680\n"
          ],
          "name": "stdout"
        }
      ]
    },
    {
      "cell_type": "markdown",
      "metadata": {
        "id": "guw6ZNtaswKc",
        "colab_type": "text"
      },
      "source": [
        "## Load Dataset\n"
      ]
    },
    {
      "cell_type": "markdown",
      "metadata": {
        "id": "SkMfGnfT5DsO",
        "colab_type": "text"
      },
      "source": [
        "**Mount drive** -- my preferred solution "
      ]
    },
    {
      "cell_type": "code",
      "metadata": {
        "id": "f3Nia01H5KJ8",
        "colab_type": "code",
        "outputId": "b084093d-807c-4457-e210-4fba1862f503",
        "colab": {
          "base_uri": "https://localhost:8080/",
          "height": 141
        }
      },
      "source": [
        "from google.colab import drive\n",
        "drive.mount('/gdrive')\n",
        "!ls /gdrive"
      ],
      "execution_count": 0,
      "outputs": [
        {
          "output_type": "stream",
          "text": [
            "Go to this URL in a browser: https://accounts.google.com/o/oauth2/auth?client_id=947318989803-6bn6qk8qdgf4n4g3pfee6491hc0brc4i.apps.googleusercontent.com&redirect_uri=urn%3Aietf%3Awg%3Aoauth%3A2.0%3Aoob&scope=email%20https%3A%2F%2Fwww.googleapis.com%2Fauth%2Fdocs.test%20https%3A%2F%2Fwww.googleapis.com%2Fauth%2Fdrive%20https%3A%2F%2Fwww.googleapis.com%2Fauth%2Fdrive.photos.readonly%20https%3A%2F%2Fwww.googleapis.com%2Fauth%2Fpeopleapi.readonly&response_type=code\n",
            "\n",
            "Enter your authorization code:\n",
            "··········\n",
            "Mounted at /gdrive\n",
            "'My Drive'\n"
          ],
          "name": "stdout"
        }
      ]
    },
    {
      "cell_type": "code",
      "metadata": {
        "id": "DOpikSXbsvn-",
        "colab_type": "code",
        "outputId": "49dfb703-fb6d-476b-d55e-ed01fd083255",
        "colab": {
          "base_uri": "https://localhost:8080/",
          "height": 34
        }
      },
      "source": [
        "### ALTERNATIVE \n",
        "# Upload the train file from your local drive\n",
        "\"\"\"\n",
        "from google.colab import files\n",
        "uploaded = files.upload()\n",
        "\"\"\""
      ],
      "execution_count": 0,
      "outputs": [
        {
          "output_type": "execute_result",
          "data": {
            "text/plain": [
              "'\\nfrom google.colab import files\\nuploaded = files.upload()\\n'"
            ]
          },
          "metadata": {
            "tags": []
          },
          "execution_count": 8
        }
      ]
    },
    {
      "cell_type": "code",
      "metadata": {
        "id": "5jwfbJbSxILL",
        "colab_type": "code",
        "outputId": "e36d6d1d-5cc0-47a1-c327-ede7877b98b3",
        "colab": {
          "base_uri": "https://localhost:8080/",
          "height": 34
        }
      },
      "source": [
        "\"\"\" ANOTHER ALTERNATIVE \n",
        "from google.colab import drive\n",
        "drive.mount('/content/drive',force_remount=True)\n",
        "\"\"\"\n",
        "drive.mount('/content/drive',force_remount=True) #occasionally needed"
      ],
      "execution_count": 0,
      "outputs": [
        {
          "output_type": "stream",
          "text": [
            "Mounted at /content/drive\n"
          ],
          "name": "stdout"
        }
      ]
    },
    {
      "cell_type": "code",
      "metadata": {
        "id": "fdHD0OvUxIdO",
        "colab_type": "code",
        "outputId": "650be23e-973c-4d45-c5c0-d92491fb2e15",
        "colab": {
          "base_uri": "https://localhost:8080/",
          "height": 295
        }
      },
      "source": [
        "%%bash\n",
        "\n",
        "ls /content/drive/My\\ Drive/ "
      ],
      "execution_count": 0,
      "outputs": [
        {
          "output_type": "stream",
          "text": [
            "Applied NLP Homework-Paper Comparison.gslides\n",
            "Boli\n",
            "Clinical+Tech Venture\n",
            "Colab Notebooks\n",
            "Copy of BME MML: Python Quiz Review.gdoc\n",
            "craigslist-carstrucks-data\n",
            "Data Dialogues Week 1 Questions.gdoc\n",
            "DJ Vigs\n",
            "DS Interview Prep.gdoc\n",
            "IBM Hotel Discount Codes.xlsx\n",
            "Lofts At Lakeview.pdf\n",
            "MML Project Doc.gdoc\n",
            "Resume-Vignesh Kumaresan.docx\n",
            "Resume-Vignesh Kumaresan.pdf\n",
            "Stats.zip\n",
            "(Working) Copy of FAUJ Lighting Cue Template.gsheet\n"
          ],
          "name": "stdout"
        }
      ]
    },
    {
      "cell_type": "code",
      "metadata": {
        "id": "ZY756FxSxhIS",
        "colab_type": "code",
        "outputId": "0020ad01-6ec4-4df4-9480-23e2eddd1b86",
        "colab": {
          "base_uri": "https://localhost:8080/",
          "height": 380
        }
      },
      "source": [
        "dfe = pd.read_csv(\"/content/drive/My Drive/Colab Notebooks/Applied NLP/Copy of OneL-RQE_Train_8588_AMIA2016.tsv\", delimiter='\\t', \\\n",
        "                  header=None, names=['pair_num', 'label', 'label_notes', 'pairs'])\n",
        "\n",
        "print(dfe.shape)\n",
        "\n",
        "dfe.sample(10)\n",
        "\n",
        "### TODO: randomize dfe"
      ],
      "execution_count": 0,
      "outputs": [
        {
          "output_type": "stream",
          "text": [
            "(8588, 4)\n"
          ],
          "name": "stdout"
        },
        {
          "output_type": "execute_result",
          "data": {
            "text/html": [
              "<div>\n",
              "<style scoped>\n",
              "    .dataframe tbody tr th:only-of-type {\n",
              "        vertical-align: middle;\n",
              "    }\n",
              "\n",
              "    .dataframe tbody tr th {\n",
              "        vertical-align: top;\n",
              "    }\n",
              "\n",
              "    .dataframe thead th {\n",
              "        text-align: right;\n",
              "    }\n",
              "</style>\n",
              "<table border=\"1\" class=\"dataframe\">\n",
              "  <thead>\n",
              "    <tr style=\"text-align: right;\">\n",
              "      <th></th>\n",
              "      <th>pair_num</th>\n",
              "      <th>label</th>\n",
              "      <th>label_notes</th>\n",
              "      <th>pairs</th>\n",
              "    </tr>\n",
              "  </thead>\n",
              "  <tbody>\n",
              "    <tr>\n",
              "      <th>8197</th>\n",
              "      <td>pid8198typeoriginalQ-shortQ</td>\n",
              "      <td>1</td>\n",
              "      <td>NaN</td>\n",
              "      <td>chq In regards to perinatal asphyxiation, when...</td>\n",
              "    </tr>\n",
              "    <tr>\n",
              "      <th>8362</th>\n",
              "      <td>pid8363typeoriginalQ-shortQ</td>\n",
              "      <td>1</td>\n",
              "      <td>NaN</td>\n",
              "      <td>chq Where is an article on asthma management? ...</td>\n",
              "    </tr>\n",
              "    <tr>\n",
              "      <th>5003</th>\n",
              "      <td>pid5004typeoriginalQ-shortQ</td>\n",
              "      <td>1</td>\n",
              "      <td>NaN</td>\n",
              "      <td>chq What is the purpose for getting an alpha-1...</td>\n",
              "    </tr>\n",
              "    <tr>\n",
              "      <th>2837</th>\n",
              "      <td>pid2838typeoriginalQ-shortQ</td>\n",
              "      <td>1</td>\n",
              "      <td>NaN</td>\n",
              "      <td>chq Can dapsone cause a drug fever? echq faq C...</td>\n",
              "    </tr>\n",
              "    <tr>\n",
              "      <th>2792</th>\n",
              "      <td>pid2793typeoriginalQ-shortQ</td>\n",
              "      <td>1</td>\n",
              "      <td>NaN</td>\n",
              "      <td>chq What is a Roux-en-Y hepatoenterostomy? ech...</td>\n",
              "    </tr>\n",
              "    <tr>\n",
              "      <th>7534</th>\n",
              "      <td>pid7535typeoriginalQ-shortQ</td>\n",
              "      <td>1</td>\n",
              "      <td>NaN</td>\n",
              "      <td>chq 13-year-old, former shaken baby with resul...</td>\n",
              "    </tr>\n",
              "    <tr>\n",
              "      <th>3338</th>\n",
              "      <td>pid3339typeoriginalQ-shortRandQ</td>\n",
              "      <td>0</td>\n",
              "      <td>NaN</td>\n",
              "      <td>chq How should we be treating diabetes now tha...</td>\n",
              "    </tr>\n",
              "    <tr>\n",
              "      <th>1923</th>\n",
              "      <td>pid1924typeoriginalQ-shortQ</td>\n",
              "      <td>1</td>\n",
              "      <td>NaN</td>\n",
              "      <td>chq Is she not sleeping well due to sleep apne...</td>\n",
              "    </tr>\n",
              "    <tr>\n",
              "      <th>4092</th>\n",
              "      <td>pid4093typeoriginalQ-shortQ</td>\n",
              "      <td>1</td>\n",
              "      <td>NaN</td>\n",
              "      <td>chq What are the causes of hydramnios? echq fa...</td>\n",
              "    </tr>\n",
              "    <tr>\n",
              "      <th>1895</th>\n",
              "      <td>pid1896typeoriginalQ-shortRandQ</td>\n",
              "      <td>0</td>\n",
              "      <td>NaN</td>\n",
              "      <td>chq If just a sprained finger, I've always won...</td>\n",
              "    </tr>\n",
              "  </tbody>\n",
              "</table>\n",
              "</div>"
            ],
            "text/plain": [
              "                             pair_num  ...                                              pairs\n",
              "8197      pid8198typeoriginalQ-shortQ  ...  chq In regards to perinatal asphyxiation, when...\n",
              "8362      pid8363typeoriginalQ-shortQ  ...  chq Where is an article on asthma management? ...\n",
              "5003      pid5004typeoriginalQ-shortQ  ...  chq What is the purpose for getting an alpha-1...\n",
              "2837      pid2838typeoriginalQ-shortQ  ...  chq Can dapsone cause a drug fever? echq faq C...\n",
              "2792      pid2793typeoriginalQ-shortQ  ...  chq What is a Roux-en-Y hepatoenterostomy? ech...\n",
              "7534      pid7535typeoriginalQ-shortQ  ...  chq 13-year-old, former shaken baby with resul...\n",
              "3338  pid3339typeoriginalQ-shortRandQ  ...  chq How should we be treating diabetes now tha...\n",
              "1923      pid1924typeoriginalQ-shortQ  ...  chq Is she not sleeping well due to sleep apne...\n",
              "4092      pid4093typeoriginalQ-shortQ  ...  chq What are the causes of hydramnios? echq fa...\n",
              "1895  pid1896typeoriginalQ-shortRandQ  ...  chq If just a sprained finger, I've always won...\n",
              "\n",
              "[10 rows x 4 columns]"
            ]
          },
          "metadata": {
            "tags": []
          },
          "execution_count": 11
        }
      ]
    },
    {
      "cell_type": "markdown",
      "metadata": {
        "id": "JFIID8h1f0kZ",
        "colab_type": "text"
      },
      "source": [
        "## Preparing the data "
      ]
    },
    {
      "cell_type": "code",
      "metadata": {
        "id": "CTIGhbmixIuU",
        "colab_type": "code",
        "outputId": "374020a4-60f7-4bfa-a1ad-2dbb98b5f6d2",
        "colab": {
          "base_uri": "https://localhost:8080/",
          "height": 124
        }
      },
      "source": [
        "# Create sentence and label lists (we mark the new version by e)\n",
        "esentences = dfe.pairs.values\n",
        "\n",
        "# We need to add special tokens at the beginning and end of each sentence for BERT to work properly\n",
        "esentences = [\"[CLS] \" + p + \" [SEP]\" for p in dfe.pairs]\n",
        "elabels = dfe.label.values\n",
        "\n",
        "\n",
        "tokenizer = BertTokenizer.from_pretrained('bert-base-uncased', do_lower_case=True)  \n",
        "tokenized_etexts = [tokenizer.tokenize(sent) for sent in esentences]\n",
        "print (\"Tokenize a sentence:\")\n",
        "print (tokenized_etexts[3])\n",
        "\n",
        "print(len(esentences), len(elabels))\n",
        "print(\"Time took up to here \", datetime.now() - current_time)"
      ],
      "execution_count": 0,
      "outputs": [
        {
          "output_type": "stream",
          "text": [
            "100%|██████████| 231508/231508 [00:00<00:00, 1211906.87B/s]\n"
          ],
          "name": "stderr"
        },
        {
          "output_type": "stream",
          "text": [
            "Tokenize a sentence:\n",
            "['[CLS]', 'ch', '##q', 'let', \"'\", 's', 'give', 'these', 'im', '##mun', '##izations', '.', 'that', \"'\", 's', 'right', 'isn', \"'\", 't', 'it', '?', 'ec', '##h', '##q', 'fa', '##q', 'let', \"'\", 's', 'give', 'these', 'im', '##mun', '##izations', '.', 'that', \"'\", 's', 'right', 'isn', \"'\", 't', 'it', '?', 'e', '##fa', '##q', '[SEP]']\n",
            "8588 8588\n",
            "Time took up to here  0:42:44.823207\n"
          ],
          "name": "stdout"
        }
      ]
    },
    {
      "cell_type": "code",
      "metadata": {
        "id": "dA71dxrSxI_C",
        "colab_type": "code",
        "outputId": "860d50bb-d41b-450b-be70-8c86b173b6f2",
        "colab": {
          "base_uri": "https://localhost:8080/",
          "height": 34
        }
      },
      "source": [
        "test_pairs=esentences[:1500]\n",
        "test_labels= elabels[:1500]\n",
        "test_tokenized_etexts = tokenized_etexts[:1500]\n",
        "\n",
        "esentences= esentences[1500:]\n",
        "elabels=elabels[1500:]\n",
        "tokenized_etexts = tokenized_etexts[1500:]\n",
        "\n",
        "\n",
        "print(len(esentences), len(elabels),len(tokenized_etexts))"
      ],
      "execution_count": 0,
      "outputs": [
        {
          "output_type": "stream",
          "text": [
            "7088 7088 7088\n"
          ],
          "name": "stdout"
        }
      ]
    },
    {
      "cell_type": "code",
      "metadata": {
        "id": "xasAnhEUxJfw",
        "colab_type": "code",
        "outputId": "74e7bdb2-9ee4-46d9-9b16-d68023a50a5d",
        "colab": {
          "base_uri": "https://localhost:8080/",
          "height": 104
        }
      },
      "source": [
        "# Set the maximum sequence length. The longest sequence in our training set is ??? ,  \n",
        "# In the original paper, the authors used a length of 512.\n",
        "MAX_LEN = 128 # this will cut 60 sentences assuming this is length in characters\n",
        "          #512 is too much for Tesla 4 on colab\n",
        "\n",
        "\n",
        "# Use the BERT tokenizer to convert the tokens to their index numbers in the BERT vocabulary\n",
        "einput_ids = [tokenizer.convert_tokens_to_ids(x) for x in tokenized_etexts]\n",
        "\n",
        "# Pad our input tokens\n",
        "einput_ids = pad_sequences(einput_ids, maxlen=MAX_LEN, dtype=\"long\", truncating=\"post\", padding=\"post\")\n",
        "\n",
        "\n",
        "# Create attention masks\n",
        "attention_emasks = []\n",
        "\n",
        "# Create a mask of 1s for each token followed by 0s for padding\n",
        "for seq in einput_ids:\n",
        "  seq_mask = [float(i>0) for i in seq]\n",
        "  attention_emasks.append(seq_mask)\n",
        "\n",
        "\n",
        "\n",
        "\n",
        "# Making sure we have the right shapes\n",
        "print(1,einput_ids.shape)\n",
        "print(2,elabels.shape)\n",
        "\n",
        "print(einput_ids.shape)\n",
        "print(elabels.shape)\n",
        "\n",
        "\n",
        "\n",
        "# Use train_test_split to split our data into train and validation sets for training\n",
        "\n",
        "train_inputs, validation_inputs, train_labels, validation_labels = train_test_split(einput_ids, elabels, \n",
        "                                                            random_state=2018, test_size=0.1)\n",
        "train_masks, validation_masks, _, _ = train_test_split(attention_emasks, einput_ids,\n",
        "                                             random_state=2018, test_size=0.1)\n",
        "\n",
        "\n",
        "print(\"Time took up to here \", datetime.now() - current_time)"
      ],
      "execution_count": 0,
      "outputs": [
        {
          "output_type": "stream",
          "text": [
            "1 (7088, 128)\n",
            "2 (7088,)\n",
            "(7088, 128)\n",
            "(7088,)\n",
            "Time took up to here  0:42:45.668738\n"
          ],
          "name": "stdout"
        }
      ]
    },
    {
      "cell_type": "markdown",
      "metadata": {
        "id": "ex5O1eV-Pfct",
        "colab_type": "text"
      },
      "source": [
        "### Comments on the Inputs \n",
        "(from the origininal)"
      ]
    },
    {
      "cell_type": "markdown",
      "metadata": {
        "id": "BTREubVNFiz4",
        "colab_type": "text"
      },
      "source": [
        "Next, import the BERT tokenizer, used to convert our text into tokens that correspond to BERT's vocabulary."
      ]
    },
    {
      "cell_type": "markdown",
      "metadata": {
        "id": "87_kXUeT2-br",
        "colab_type": "text"
      },
      "source": [
        "BERT requires specifically formatted inputs. For each tokenized input sentence, we need to create:\n",
        "\n",
        "- **input ids**: a sequence of integers identifying each input token to its index number in the BERT tokenizer vocabulary\n",
        "- **segment mask**: (optional) a sequence of 1s and 0s used to identify whether the input is one sentence or two sentences long. For one sentence inputs, this is simply a sequence of 0s. For two sentence inputs, there is a 0 for each token of the first sentence, followed by a 1 for each token of the second sentence\n",
        "- **attention mask**: (optional) a sequence of 1s and 0s, with 1s for all input tokens and 0s for all padding tokens (we'll detail this in the next paragraph)\n",
        "- **labels**: a single value of 1 or 0. In our task 1 means \"grammatical\" and 0 means \"ungrammatical\""
      ]
    },
    {
      "cell_type": "markdown",
      "metadata": {
        "id": "xytsw1oIfnX0",
        "colab_type": "text"
      },
      "source": [
        "Although we can have variable length input sentences, BERT does requires our input arrays to be the same size. We address this by first choosing a maximum sentence length, and then padding and truncating our inputs until every input sequence is of the same length. \n",
        "\n",
        "To \"pad\" our inputs in this context means that if a sentence is shorter than the maximum sentence length, we simply add 0s to the end of the sequence until it is the maximum sentence length. \n",
        "\n",
        "If a sentence is longer than the maximum sentence length, then we simply truncate the end of the sequence, discarding anything that does not fit into our maximum sentence length.\n",
        "\n",
        "We pad and truncate our sequences so that they all become of length MAX_LEN (\"post\" indicates that we want to pad and truncate at the end of the sequence, as opposed to the beginning) `pad_sequences` is a utility function that we're borrowing from Keras. It simply handles the truncating and padding of Python lists."
      ]
    },
    {
      "cell_type": "markdown",
      "metadata": {
        "id": "pNl8khAhPYju",
        "colab_type": "text"
      },
      "source": [
        "## Train Model"
      ]
    },
    {
      "cell_type": "markdown",
      "metadata": {
        "id": "fwQ7JcuJQZ0o",
        "colab_type": "text"
      },
      "source": [
        "see the original"
      ]
    },
    {
      "cell_type": "code",
      "metadata": {
        "id": "S0WhCNZ3k2tV",
        "colab_type": "code",
        "outputId": "713c31eb-8fad-4223-f5c1-6b18a6baebcd",
        "colab": {
          "base_uri": "https://localhost:8080/",
          "height": 34
        }
      },
      "source": [
        "# Convert all of our data into torch tensors, the required datatype for our model\n",
        "\n",
        "train_inputs = torch.tensor(train_inputs)\n",
        "validation_inputs = torch.tensor(validation_inputs)\n",
        "train_labels = torch.tensor(train_labels)\n",
        "validation_labels = torch.tensor(validation_labels)\n",
        "train_masks = torch.tensor(train_masks)\n",
        "validation_masks = torch.tensor(validation_masks)\n",
        "\n",
        "print(\"Time took up to here \", datetime.now() - current_time)"
      ],
      "execution_count": 0,
      "outputs": [
        {
          "output_type": "stream",
          "text": [
            "Time took up to here  0:42:45.766950\n"
          ],
          "name": "stdout"
        }
      ]
    },
    {
      "cell_type": "code",
      "metadata": {
        "id": "GEgLpFVlo1Z-",
        "colab_type": "code",
        "colab": {}
      },
      "source": [
        "# Select a batch size for training. For fine-tuning BERT on a specific task, the authors recommend a batch size of 16 or 32\n",
        "batch_size = 32\n",
        "\n",
        "# Create an iterator of our data with torch DataLoader. This helps save on memory during training because, unlike a for loop, \n",
        "# with an iterator the entire dataset does not need to be loaded into memory\n",
        "\n",
        "train_data = TensorDataset(train_inputs, train_masks, train_labels)\n",
        "train_sampler = RandomSampler(train_data)\n",
        "train_dataloader = DataLoader(train_data, sampler=train_sampler, batch_size=batch_size)\n",
        "\n",
        "validation_data = TensorDataset(validation_inputs, validation_masks, validation_labels)\n",
        "validation_sampler = SequentialSampler(validation_data)\n",
        "validation_dataloader = DataLoader(validation_data, sampler=validation_sampler, batch_size=batch_size)\n"
      ],
      "execution_count": 0,
      "outputs": []
    },
    {
      "cell_type": "markdown",
      "metadata": {
        "id": "WnQW9E-bBCRt",
        "colab_type": "text"
      },
      "source": [
        "OK, let's load BERT! There are a few different pre-trained BERT models available. \"bert-base-uncased\" means the version that has only lowercase letters (\"uncased\") and is the smaller version of the two (\"base\" vs \"large\")."
      ]
    },
    {
      "cell_type": "code",
      "metadata": {
        "id": "gFsCTp_mporB",
        "colab_type": "code",
        "outputId": "8418cce8-ecdb-425b-b548-8758aeb6efee",
        "colab": {
          "base_uri": "https://localhost:8080/",
          "height": 52
        }
      },
      "source": [
        "# Load BertForSequenceClassification, the pretrained BERT model with a single linear classification layer on top. \n",
        "\n",
        "model = BertForSequenceClassification.from_pretrained(\"bert-base-uncased\", num_labels=2)\n",
        "model.cuda()\n",
        "\n",
        "print(\"Time took up to here \", datetime.now() - current_time)"
      ],
      "execution_count": 0,
      "outputs": [
        {
          "output_type": "stream",
          "text": [
            "100%|██████████| 407873900/407873900 [00:11<00:00, 35599890.11B/s]\n"
          ],
          "name": "stderr"
        },
        {
          "output_type": "stream",
          "text": [
            "Time took up to here  0:43:12.370965\n"
          ],
          "name": "stdout"
        }
      ]
    },
    {
      "cell_type": "markdown",
      "metadata": {
        "id": "8o-VEBobKwHk",
        "colab_type": "text"
      },
      "source": [
        "Now that we have our model loaded we need to grab the training hyperparameters from within the stored model.\n",
        "\n",
        "For the purposes of fine-tuning, the authors recommend the following hyperparameter ranges:\n",
        "- Batch size: 16, 32\n",
        "- Learning rate (Adam): 5e-5, 3e-5, 2e-5\n",
        "- Number of epochs: 2, 3, 4"
      ]
    },
    {
      "cell_type": "code",
      "metadata": {
        "id": "QxSMw0FrptiL",
        "colab_type": "code",
        "colab": {}
      },
      "source": [
        "param_optimizer = list(model.named_parameters())\n",
        "no_decay = ['bias', 'gamma', 'beta']\n",
        "optimizer_grouped_parameters = [\n",
        "    {'params': [p for n, p in param_optimizer if not any(nd in n for nd in no_decay)],\n",
        "     'weight_decay_rate': 0.01},\n",
        "    {'params': [p for n, p in param_optimizer if any(nd in n for nd in no_decay)],\n",
        "     'weight_decay_rate': 0.0}\n",
        "]\n"
      ],
      "execution_count": 0,
      "outputs": []
    },
    {
      "cell_type": "code",
      "metadata": {
        "id": "GLs72DuMODJO",
        "colab_type": "code",
        "outputId": "465b11d1-cf66-4168-81e5-21f5d410c0f5",
        "colab": {
          "base_uri": "https://localhost:8080/",
          "height": 34
        }
      },
      "source": [
        "# This variable contains all of the hyperparemeter information our training loop needs\n",
        "optimizer = BertAdam(optimizer_grouped_parameters,\n",
        "                     lr=2e-5,\n",
        "                     warmup=.1)"
      ],
      "execution_count": 0,
      "outputs": [
        {
          "output_type": "stream",
          "text": [
            "t_total value of -1 results in schedule not being applied\n"
          ],
          "name": "stderr"
        }
      ]
    },
    {
      "cell_type": "markdown",
      "metadata": {
        "id": "_QXZhFb4LnV5",
        "colab_type": "text"
      },
      "source": [
        "Below is our training loop. There's a lot going on, but fundamentally for each pass in our loop we have a trianing phase and a validation phase. At each pass we need to:\n",
        "\n",
        "Training loop:\n",
        "- Tell the model to compute gradients by setting the model in train mode\n",
        "- Unpack our data inputs and labels\n",
        "- Load data onto the GPU for acceleration\n",
        "- Clear out the gradients calculated in the previous pass. In pytorch the gradients accumulate by default (useful for things like RNNs) unless you explicitly clear them out\n",
        "- Forward pass (feed input data through the network)\n",
        "- Backward pass (backpropagation)\n",
        "- Tell the network to update parameters with optimizer.step()\n",
        "- Track variables for monitoring progress\n",
        "\n",
        "Evalution loop:\n",
        "- Tell the model not to compute gradients by setting th emodel in evaluation mode\n",
        "- Unpack our data inputs and labels\n",
        "- Load data onto the GPU for acceleration\n",
        "- Forward pass (feed input data through the network)\n",
        "- Compute loss on our validation data and track variables for monitoring progress\n",
        "\n",
        "So please read carefully through the comments to get an understanding of what's happening. If you're unfamiliar with pytorch a quick look at some of their [beginner tutorials](https://pytorch.org/tutorials/beginner/blitz/cifar10_tutorial.html#sphx-glr-beginner-blitz-cifar10-tutorial-py) will help show you that training loops really involve only a few simple steps; the rest is usually just decoration and logging.  "
      ]
    },
    {
      "cell_type": "code",
      "metadata": {
        "id": "9cQNvaZ9bnyy",
        "colab_type": "code",
        "colab": {}
      },
      "source": [
        "# Function to calculate the accuracy of our predictions vs labels\n",
        "def flat_accuracy(preds, labels):\n",
        "    pred_flat = np.argmax(preds, axis=1).flatten()\n",
        "    labels_flat = labels.flatten()\n",
        "    return np.sum(pred_flat == labels_flat) / len(labels_flat)"
      ],
      "execution_count": 0,
      "outputs": []
    },
    {
      "cell_type": "code",
      "metadata": {
        "id": "6J-FYdx6nFE_",
        "colab_type": "code",
        "outputId": "b51beaa7-ab97-417b-dead-bcd578fb75ba",
        "colab": {
          "base_uri": "https://localhost:8080/",
          "height": 121
        }
      },
      "source": [
        "# Store our loss and accuracy for plotting\n",
        "train_loss_set = []\n",
        "\n",
        "# Number of training epochs (authors recommend between 2 and 4)\n",
        "epochs = 2\n",
        "\n",
        "# trange is a tqdm wrapper around the normal python range\n",
        "for _ in trange(epochs, desc=\"Epoch\"):\n",
        "  \n",
        "  \n",
        "  # Training\n",
        "  \n",
        "  # Set our model to training mode (as opposed to evaluation mode)\n",
        "  model.train()\n",
        "  \n",
        "  # Tracking variables\n",
        "  tr_loss = 0\n",
        "  nb_tr_examples, nb_tr_steps = 0, 0\n",
        "  \n",
        "  # Train the data for one epoch\n",
        "  for step, batch in enumerate(train_dataloader):\n",
        "    # Add batch to GPU\n",
        "    batch = tuple(t.to(device) for t in batch)\n",
        "    # Unpack the inputs from our dataloader\n",
        "    b_input_ids, b_input_mask, b_labels = batch\n",
        "    # Clear out the gradients (by default they accumulate)\n",
        "    optimizer.zero_grad()\n",
        "    # Forward pass\n",
        "    loss = model(b_input_ids, token_type_ids=None, attention_mask=b_input_mask, labels=b_labels)\n",
        "    train_loss_set.append(loss.item())    \n",
        "    # Backward pass\n",
        "    loss.backward()\n",
        "    # Update parameters and take a step using the computed gradient\n",
        "    optimizer.step()\n",
        "    \n",
        "    \n",
        "    # Update tracking variables\n",
        "    tr_loss += loss.item()\n",
        "    nb_tr_examples += b_input_ids.size(0)\n",
        "    nb_tr_steps += 1\n",
        "\n",
        "  print(\"Train loss: {}\".format(tr_loss/nb_tr_steps))\n",
        "    \n",
        "    \n",
        "  # Validation\n",
        "\n",
        "  # Put model in evaluation mode to evaluate loss on the validation set\n",
        "  model.eval()\n",
        "\n",
        "  # Tracking variables \n",
        "  eval_loss, eval_accuracy = 0, 0\n",
        "  nb_eval_steps, nb_eval_examples = 0, 0\n",
        "\n",
        "  # Evaluate data for one epoch\n",
        "  for batch in validation_dataloader:\n",
        "    # Add batch to GPU\n",
        "    batch = tuple(t.to(device) for t in batch)\n",
        "    # Unpack the inputs from our dataloader\n",
        "    b_input_ids, b_input_mask, b_labels = batch\n",
        "    # Telling the model not to compute or store gradients, saving memory and speeding up validation\n",
        "    with torch.no_grad():\n",
        "      # Forward pass, calculate logit predictions\n",
        "      logits = model(b_input_ids, token_type_ids=None, attention_mask=b_input_mask)\n",
        "    \n",
        "    # Move logits and labels to CPU\n",
        "    logits = logits.detach().cpu().numpy()\n",
        "    label_ids = b_labels.to('cpu').numpy()\n",
        "\n",
        "    tmp_eval_accuracy = flat_accuracy(logits, label_ids)\n",
        "    \n",
        "    eval_accuracy += tmp_eval_accuracy\n",
        "    nb_eval_steps += 1\n",
        "\n",
        "  print(\"Validation Accuracy: {}\".format(eval_accuracy/nb_eval_steps))\n",
        "\n",
        "\n",
        "print(\"Time took up to here \", datetime.now() - current_time)"
      ],
      "execution_count": 0,
      "outputs": [
        {
          "output_type": "stream",
          "text": [
            "\rEpoch:   0%|          | 0/2 [00:00<?, ?it/s]"
          ],
          "name": "stderr"
        },
        {
          "output_type": "stream",
          "text": [
            "Train loss: 0.07898255502805114\n"
          ],
          "name": "stdout"
        },
        {
          "output_type": "stream",
          "text": [
            "\rEpoch:  50%|█████     | 1/2 [05:19<05:19, 319.85s/it]"
          ],
          "name": "stderr"
        },
        {
          "output_type": "stream",
          "text": [
            "Validation Accuracy: 0.9790760869565218\n",
            "Train loss: 0.017877964630024508\n"
          ],
          "name": "stdout"
        },
        {
          "output_type": "stream",
          "text": [
            "\rEpoch: 100%|██████████| 2/2 [10:39<00:00, 319.71s/it]"
          ],
          "name": "stderr"
        },
        {
          "output_type": "stream",
          "text": [
            "Validation Accuracy: 0.9790760869565218\n",
            "Time took up to here  0:53:51.720869\n"
          ],
          "name": "stdout"
        },
        {
          "output_type": "stream",
          "text": [
            "\n"
          ],
          "name": "stderr"
        }
      ]
    },
    {
      "cell_type": "markdown",
      "metadata": {
        "id": "49HfnWaKNm0h",
        "colab_type": "text"
      },
      "source": [
        "Total time from the start and 1 epoch training: 16min\n",
        "one epoch 3-4 min. (w. GPU)"
      ]
    },
    {
      "cell_type": "markdown",
      "metadata": {
        "id": "iyRa-5CcHv_g",
        "colab_type": "text"
      },
      "source": [
        "## Training Evaluation"
      ]
    },
    {
      "cell_type": "markdown",
      "metadata": {
        "id": "1-G03mmwH3aI",
        "colab_type": "text"
      },
      "source": [
        "Let's take a look at our training loss over all batches:"
      ]
    },
    {
      "cell_type": "code",
      "metadata": {
        "id": "68xreA9JAmG5",
        "colab_type": "code",
        "outputId": "9f6dc5a8-e813-433d-87cd-6702e1f50b17",
        "colab": {
          "base_uri": "https://localhost:8080/",
          "height": 530
        }
      },
      "source": [
        "plt.figure(figsize=(15,8))\n",
        "plt.title(\"Training loss\")\n",
        "plt.xlabel(\"Batch\")\n",
        "plt.ylabel(\"Loss\")\n",
        "plt.plot(train_loss_set)\n",
        "plt.show()\n",
        "\n",
        "print(\"Time took up to here \", datetime.now() - current_time)"
      ],
      "execution_count": 0,
      "outputs": [
        {
          "output_type": "display_data",
          "data": {
            "image/png": "[encoded data removed]",
            "text/plain": [
              "<Figure size 1080x576 with 1 Axes>"
            ]
          },
          "metadata": {
            "tags": []
          }
        },
        {
          "output_type": "stream",
          "text": [
            "Time took up to here  0:53:52.146559\n"
          ],
          "name": "stdout"
        }
      ]
    },
    {
      "cell_type": "markdown",
      "metadata": {
        "id": "mkyubuJSOzg3",
        "colab_type": "text"
      },
      "source": [
        "##Predict and Evaluate on Holdout Set"
      ]
    },
    {
      "cell_type": "markdown",
      "metadata": {
        "id": "DosV94BYIYxg",
        "colab_type": "text"
      },
      "source": [
        "Now we'll load the holdout dataset and prepare inputs just as we did with the training set. Then we'll evaluate predictions using [Matthew's correlation coefficient](https://scikit-learn.org/stable/modules/generated/sklearn.metrics.matthews_corrcoef.html) because this is the metric used by the wider NLP community to evaluate performance on CoLA. With this metric, +1 is the best score, and -1 is the worst score. This way, we can see how well we perform against the state of the art models for this specific task."
      ]
    },
    {
      "cell_type": "markdown",
      "metadata": {
        "id": "f3xIWbZaHgzx",
        "colab_type": "text"
      },
      "source": [
        "We previously defined: \n",
        "\n",
        "test_pairs=esentences[:1500]\n",
        "\n",
        "test_labels= elabels[:1500]\n",
        "\n",
        "test_tokenized_etexts = tokenized_etexts[:1500]"
      ]
    },
    {
      "cell_type": "code",
      "metadata": {
        "id": "mAN0LZBOOPVh",
        "colab_type": "code",
        "outputId": "73dc9298-8ea5-4067-d923-1c9725b00b82",
        "colab": {
          "base_uri": "https://localhost:8080/",
          "height": 34
        }
      },
      "source": [
        "\n",
        "\n",
        "# We need to add special tokens at the beginning and end of each sentence for BERT to work properly\n",
        "sentences = test_pairs\n",
        "labels =  test_labels\n",
        "\n",
        "tokenized_texts = test_tokenized_etexts\n",
        "\n",
        "\n",
        "MAX_LEN = 128\n",
        "\n",
        "# Use the BERT tokenizer to convert the tokens to their index numbers in the BERT vocabulary\n",
        "input_ids = [tokenizer.convert_tokens_to_ids(x) for x in tokenized_texts]\n",
        "# Pad our input tokens\n",
        "input_ids = pad_sequences(input_ids, maxlen=MAX_LEN, dtype=\"long\", truncating=\"post\", padding=\"post\")\n",
        "# Create attention masks\n",
        "attention_masks = []\n",
        "\n",
        "# Create a mask of 1s for each token followed by 0s for padding\n",
        "for seq in input_ids:\n",
        "  seq_mask = [float(i>0) for i in seq]\n",
        "  attention_masks.append(seq_mask) \n",
        "\n",
        "prediction_inputs = torch.tensor(input_ids)\n",
        "prediction_masks = torch.tensor(attention_masks)\n",
        "prediction_labels = torch.tensor(labels)\n",
        "  \n",
        "batch_size = 32  \n",
        "\n",
        "\n",
        "prediction_data = TensorDataset(prediction_inputs, prediction_masks, prediction_labels)\n",
        "prediction_sampler = SequentialSampler(prediction_data)\n",
        "prediction_dataloader = DataLoader(prediction_data, sampler=prediction_sampler, batch_size=batch_size)\n",
        "\n",
        "print(\"Time took up to here \", datetime.now() - current_time)"
      ],
      "execution_count": 0,
      "outputs": [
        {
          "output_type": "stream",
          "text": [
            "Time took up to here  0:53:52.386165\n"
          ],
          "name": "stdout"
        }
      ]
    },
    {
      "cell_type": "code",
      "metadata": {
        "id": "Hba10sXR7Xi6",
        "colab_type": "code",
        "outputId": "c43a5591-e824-4771-d7c3-1c0c27c72c7f",
        "colab": {
          "base_uri": "https://localhost:8080/",
          "height": 34
        }
      },
      "source": [
        "# Prediction on test set\n",
        "\n",
        "# Put model in evaluation mode\n",
        "model.eval()\n",
        "\n",
        "# Tracking variables \n",
        "predictions , true_labels = [], []\n",
        "\n",
        "# Predict \n",
        "for batch in prediction_dataloader:\n",
        "  # Add batch to GPU\n",
        "  batch = tuple(t.to(device) for t in batch)\n",
        "  # Unpack the inputs from our dataloader\n",
        "  b_input_ids, b_input_mask, b_labels = batch\n",
        "  # Telling the model not to compute or store gradients, saving memory and speeding up prediction\n",
        "  with torch.no_grad():\n",
        "    # Forward pass, calculate logit predictions\n",
        "    logits = model(b_input_ids, token_type_ids=None, attention_mask=b_input_mask)\n",
        "\n",
        "  # Move logits and labels to CPU\n",
        "  logits = logits.detach().cpu().numpy()\n",
        "  label_ids = b_labels.to('cpu').numpy()\n",
        "  \n",
        "  # Store predictions and true labels\n",
        "  predictions.append(logits)\n",
        "  true_labels.append(label_ids)\n",
        "\n",
        "print(\"Time took up to here \", datetime.now() - current_time)"
      ],
      "execution_count": 0,
      "outputs": [
        {
          "output_type": "stream",
          "text": [
            "Time took up to here  0:54:15.987183\n"
          ],
          "name": "stdout"
        }
      ]
    },
    {
      "cell_type": "code",
      "metadata": {
        "id": "cRaZQ4XC7kLs",
        "colab_type": "code",
        "outputId": "4158e203-e567-47e6-e4ff-f2ae0371e480",
        "colab": {
          "base_uri": "https://localhost:8080/",
          "height": 72
        }
      },
      "source": [
        "# Import and evaluate each test batch using Matthew's correlation coefficient\n",
        "from sklearn.metrics import matthews_corrcoef\n",
        "matthews_set = []\n",
        "\n",
        "for i in range(len(true_labels)):\n",
        "  matthews = matthews_corrcoef(true_labels[i],\n",
        "                 np.argmax(predictions[i], axis=1).flatten())\n",
        "  matthews_set.append(matthews)\n",
        "\n",
        "\n",
        "print(\"Time took up to here \", datetime.now() - current_time)\n",
        "\n",
        "print(matthews_set)"
      ],
      "execution_count": 0,
      "outputs": [
        {
          "output_type": "stream",
          "text": [
            "Time took up to here  0:54:16.048328\n",
            "[1.0, 1.0, 0.938872452190116, 1.0, 1.0, 1.0, 1.0, 1.0, 0.9393364366277243, 1.0, 1.0, 1.0, 1.0, 1.0, 1.0, 1.0, 1.0, 1.0, 0.938872452190116, 1.0, 1.0, 1.0, 1.0, 1.0, 1.0, 1.0, 1.0, 1.0, 0.9393364366277243, 1.0, 0.938872452190116, 0.8823529411764706, 1.0, 1.0, 1.0, 1.0, 1.0, 0.8745098039215686, 1.0, 1.0, 0.9379228369755696, 1.0, 1.0, 0.9393364366277243, 1.0, 0.9393364366277243, 1.0]\n"
          ],
          "name": "stdout"
        }
      ]
    },
    {
      "cell_type": "markdown",
      "metadata": {
        "id": "IUM0UA1qJaVB",
        "colab_type": "text"
      },
      "source": [
        "The final score will be based on the entire test set, but let's take a look at the scores on the individual batches to get a sense of the variability in the metric between batches.\n"
      ]
    },
    {
      "cell_type": "code",
      "metadata": {
        "id": "oCYZa1lQ8Jn8",
        "colab_type": "code",
        "outputId": "eef5d56c-9baf-46c6-b99d-fd38418e7280",
        "colab": {
          "base_uri": "https://localhost:8080/",
          "height": 52
        }
      },
      "source": [
        "# Flatten the predictions and true values for aggregate Matthew's evaluation on the whole dataset\n",
        "flat_predictions = [item for sublist in predictions for item in sublist]\n",
        "flat_predictions = np.argmax(flat_predictions, axis=1).flatten()\n",
        "flat_true_labels = [item for sublist in true_labels for item in sublist]\n",
        "\n",
        "\n",
        "print(matthews_corrcoef(flat_true_labels, flat_predictions))\n",
        "\n",
        "print(\"TOTAL time \", datetime.now() - current_time)"
      ],
      "execution_count": 0,
      "outputs": [
        {
          "output_type": "stream",
          "text": [
            "0.9838670070841533\n",
            "TOTAL time  0:54:16.070327\n"
          ],
          "name": "stdout"
        }
      ]
    },
    {
      "cell_type": "markdown",
      "metadata": {
        "id": "l3mONZB2hBWP",
        "colab_type": "text"
      },
      "source": [
        "### Looking at the results"
      ]
    },
    {
      "cell_type": "code",
      "metadata": {
        "id": "mL2rLCoyLa64",
        "colab_type": "code",
        "outputId": "fbf841e1-7b8a-4116-d6ef-9f13a42fb412",
        "colab": {
          "base_uri": "https://localhost:8080/",
          "height": 280
        }
      },
      "source": [
        "count=0\n",
        "for i in range(len(flat_true_labels)):\n",
        "  if np.abs(flat_predictions[i]-flat_true_labels[i])==1:\n",
        "    #print(i, flat_predictions[i]-flat_true_labels[i])\n",
        "    print(i, sentences[i])\n",
        "    count+=1\n",
        "print('incorrect', count)\n",
        "accuracy = (len(flat_true_labels)-count)/len(flat_true_labels)\n",
        "print('accuracy: ', accuracy)"
      ],
      "execution_count": 0,
      "outputs": [
        {
          "output_type": "stream",
          "text": [
            "94 [CLS] chq What is the cause of this woman's long term head shaking (tremor)? echq faq What is the cause of this woman's long term head shaking (tremor)? efaq [SEP]\n",
            "284 [CLS] chq Another phone conversation with hospital pharmacist regarding providing enough dosage of typhoid capsules for Dr. X and his wife for out of country trip. echq faq How many typhoid vaccine pills do I need to take for my trip to middle east? efaq [SEP]\n",
            "596 [CLS] chq The cardiologist said in his letter that the patient has a distinct fourth heart sound. Why aren't I hearing the fourth heart sound? I couldn't hear it -- I guess I need to review heart sounds. echq faq Cardiologist heard a distinct S4 (fourth heart sound). Why don't I hear an S4. efaq [SEP]\n",
            "897 [CLS] chq I don't know why she passed out but it's probably a combination of upper respiratory infection, taking two decongestant-antihistamine combinations, donating blood recently, et cetera. echq faq I don't know why she passed out. efaq [SEP]\n",
            "965 [CLS] chq Should this 4-year-old have a computerized tomography (CT) or magnetic resonance imaging (MRI)? Headaches since before Christmas (over 2 months). echq faq Should we do a head CT (computerized tomography) with contrast tomorrow (Saturday) or MRI (magnetic resonance imaging) Monday? efaq [SEP]\n",
            "997 [CLS] chq Patient complains she has been dizzy and can't lose weight for 3 months and she has a friend who has a thyroid problem and wonders if she also has a thyroid problem. Dr. X figures she has vertigo with labyrinthitis although he doesn't usually see labyrinthitis for 3 months. He says he is willing to order thyroid tests which came back slightly low but a repeat was normal. But neurologist suggests he treat with low dose of thyroid. Dr X. has never done this but respects neurologist. Am I too rigid? echq faq Neurologist recommended thyroid prescription. Doctor X doubtful but respects neurologist. Am I too rigid? efaq [SEP]\n",
            "1001 [CLS] chq Patient has been on Estraderm patch and cyclic Progesterone and was changed to PremPro today. Patient asked how long she will continue to have periods or spotting after the medication change. Dr. X wasn't sure -- told her maybe up to 6 months. echq faq Changed to PremPro. Patient asked how long spotting would last. Doctor wasn't sure (maybe 6 months). efaq [SEP]\n",
            "1197 [CLS] chq Patient with stiff man syndrome. Yesterday she vomited and then couldn't catch her breath. Sounded like a \"tracheal spasm.\" Otolaryngologist said to drink cold water to relax trachea. She asked me how I can prevent these attacks in the future. I didn't know so I referred her to a pulmonologist. Also, what caused this episode? echq faq Stiff-man syndrome, vomited, couldn't catch breath. How can I prevent attacks? efaq [SEP]\n",
            "1204 [CLS] chq Phone call, family of 81-year-old woman wants lab and x-ray results. Tell them \"I'm still reviewing the results.\" 81-year-old new patient with heart burn, low abdominal pain, hip pain. Question of a uterine fibroid palpated on abdominal exam. Ultrasound showed \"abnormal endometrium with irregular margins and a small fluid/blood collection. Why would an 81 year old have that? Wasn't sure what to do with that. echq faq What causes fibroids and what would cause them to enlarge rapidly? efaq [SEP]\n",
            "1304 [CLS] chq Could I have used a low-dose birth control pill instead of doubling the dose of Premarin? I've heard you can do that. She's doing better on the higher dose of Premarin. echq faq How should you adjust the birth control pill if someone has spotting on it? efaq [SEP]\n",
            "1399 [CLS] chq Patient in the hospital with premature rupture of membranes and twins. I read the RADIUS (Routine Antenatal Diagnostic Imaging With Ultrasound) trial in the New England Journal of Medicine. I never used to do routine ultrasound but here everybody does it. I felt vindicated when RADIUS (Routine Antenatal Diagnostic Imaging With Ultrasound) was published. But I recently went to an OB talk and they were bad mouthing the study. This patient wanted to know the sex so I ordered the ultrasound and she turned out to have twins. So now I'm uncertain about whether I should be doing routine prenatal ultrasound. echq faq Can I use low molecular weight heparin in pregnancy (patient with deep vein thrombosis last pregnancy)? efaq [SEP]\n",
            "1452 [CLS] chq 81-year-old man with terrible kidneys (renal failure), colon cancer, iron infusion brought hemoglobin from approximately 7.0 to 8.0, yesterday reticulocyte count approximately 4.0%. Is this from blood loss or kidney failure? echq faq 81-year-old male renal failure and colon cancer. Should I add erythropoietin? efaq [SEP]\n",
            "incorrect 12\n",
            "accuracy:  0.992\n"
          ],
          "name": "stdout"
        }
      ]
    },
    {
      "cell_type": "markdown",
      "metadata": {
        "id": "g5eTyt6Fjq5-",
        "colab_type": "text"
      },
      "source": [
        "## Test on actual task test set"
      ]
    },
    {
      "cell_type": "code",
      "metadata": {
        "id": "sR8itSmHoYj1",
        "colab_type": "code",
        "outputId": "3ef88327-0ac4-4f5a-d860-c1f5a9c38f4f",
        "colab": {
          "base_uri": "https://localhost:8080/",
          "height": 380
        }
      },
      "source": [
        "# upload test file\n",
        "dfe_test = pd.read_csv(\"/content/drive/My Drive/Colab Notebooks/Applied NLP/rqe_test_pairs.tsv\", delimiter='\\t', \\\n",
        "                  header=1, names=['pair_num', 'type', 'label', 'chq', 'faq', 'pairs'])\n",
        "\n",
        "print(dfe_test.shape)\n",
        "# drop non-relevant variables\n",
        "dfe_test.drop(columns=['type', 'chq', 'faq'], inplace=True)\n",
        "dfe_test.sample(10)"
      ],
      "execution_count": 0,
      "outputs": [
        {
          "output_type": "stream",
          "text": [
            "(301, 6)\n"
          ],
          "name": "stdout"
        },
        {
          "output_type": "execute_result",
          "data": {
            "text/html": [
              "<div>\n",
              "<style scoped>\n",
              "    .dataframe tbody tr th:only-of-type {\n",
              "        vertical-align: middle;\n",
              "    }\n",
              "\n",
              "    .dataframe tbody tr th {\n",
              "        vertical-align: top;\n",
              "    }\n",
              "\n",
              "    .dataframe thead th {\n",
              "        text-align: right;\n",
              "    }\n",
              "</style>\n",
              "<table border=\"1\" class=\"dataframe\">\n",
              "  <thead>\n",
              "    <tr style=\"text-align: right;\">\n",
              "      <th></th>\n",
              "      <th>pair_num</th>\n",
              "      <th>label</th>\n",
              "      <th>pairs</th>\n",
              "    </tr>\n",
              "  </thead>\n",
              "  <tbody>\n",
              "    <tr>\n",
              "      <th>14</th>\n",
              "      <td>15</td>\n",
              "      <td>1</td>\n",
              "      <td>chq is there any help available,for fibromalgi...</td>\n",
              "    </tr>\n",
              "    <tr>\n",
              "      <th>165</th>\n",
              "      <td>166</td>\n",
              "      <td>1</td>\n",
              "      <td>chq Questions. i am looking for the latest evi...</td>\n",
              "    </tr>\n",
              "    <tr>\n",
              "      <th>218</th>\n",
              "      <td>219</td>\n",
              "      <td>0</td>\n",
              "      <td>chq medicine and allied. I LIKE TO KNOW RECENT...</td>\n",
              "    </tr>\n",
              "    <tr>\n",
              "      <th>233</th>\n",
              "      <td>234</td>\n",
              "      <td>0</td>\n",
              "      <td>chq My girlfriend suffers from scoliosis. She ...</td>\n",
              "    </tr>\n",
              "    <tr>\n",
              "      <th>1</th>\n",
              "      <td>2</td>\n",
              "      <td>0</td>\n",
              "      <td>chq Arrhythmia. can arrhythmia occurs after ab...</td>\n",
              "    </tr>\n",
              "    <tr>\n",
              "      <th>209</th>\n",
              "      <td>210</td>\n",
              "      <td>0</td>\n",
              "      <td>chq Are large, inoperable schwannomas treatabl...</td>\n",
              "    </tr>\n",
              "    <tr>\n",
              "      <th>227</th>\n",
              "      <td>228</td>\n",
              "      <td>0</td>\n",
              "      <td>chq DVT. Can a birth control called Ocella cau...</td>\n",
              "    </tr>\n",
              "    <tr>\n",
              "      <th>28</th>\n",
              "      <td>29</td>\n",
              "      <td>1</td>\n",
              "      <td>chq lupus. Hi,  I  want to know about Lupus an...</td>\n",
              "    </tr>\n",
              "    <tr>\n",
              "      <th>93</th>\n",
              "      <td>94</td>\n",
              "      <td>1</td>\n",
              "      <td>chq Are large, inoperable schwannomas treatabl...</td>\n",
              "    </tr>\n",
              "    <tr>\n",
              "      <th>175</th>\n",
              "      <td>176</td>\n",
              "      <td>1</td>\n",
              "      <td>chq Which drug we I take to stop water come ou...</td>\n",
              "    </tr>\n",
              "  </tbody>\n",
              "</table>\n",
              "</div>"
            ],
            "text/plain": [
              "     pair_num  label                                              pairs\n",
              "14         15      1  chq is there any help available,for fibromalgi...\n",
              "165       166      1  chq Questions. i am looking for the latest evi...\n",
              "218       219      0  chq medicine and allied. I LIKE TO KNOW RECENT...\n",
              "233       234      0  chq My girlfriend suffers from scoliosis. She ...\n",
              "1           2      0  chq Arrhythmia. can arrhythmia occurs after ab...\n",
              "209       210      0  chq Are large, inoperable schwannomas treatabl...\n",
              "227       228      0  chq DVT. Can a birth control called Ocella cau...\n",
              "28         29      1  chq lupus. Hi,  I  want to know about Lupus an...\n",
              "93         94      1  chq Are large, inoperable schwannomas treatabl...\n",
              "175       176      1  chq Which drug we I take to stop water come ou..."
            ]
          },
          "metadata": {
            "tags": []
          },
          "execution_count": 51
        }
      ]
    },
    {
      "cell_type": "code",
      "metadata": {
        "id": "n3lJyaofoaDv",
        "colab_type": "code",
        "outputId": "df7ecc69-bc61-4cb7-cd62-3b09e5352e67",
        "colab": {
          "base_uri": "https://localhost:8080/",
          "height": 89
        }
      },
      "source": [
        "# Create sentence and label lists (we mark the new version by e)\n",
        "test_sentences = dfe_test.pairs.values\n",
        "\n",
        "# We need to add special tokens at the beginning and end of each sentence for BERT to work properly\n",
        "test_sentences = [\"[CLS] \" + p + \" [SEP]\" for p in dfe_test.pairs]\n",
        "test_labels = dfe_test.label.values\n",
        "\n",
        "\n",
        "tokenizer = BertTokenizer.from_pretrained('bert-base-uncased', do_lower_case=True)  \n",
        "test_tokenized_etexts = [tokenizer.tokenize(sent) for sent in test_sentences]\n",
        "print (\"Tokenize a sentence:\")\n",
        "print (test_tokenized_etexts[3])\n",
        "\n",
        "print(len(test_sentences), len(test_labels))"
      ],
      "execution_count": 0,
      "outputs": [
        {
          "output_type": "stream",
          "text": [
            "Tokenize a sentence:\n",
            "['[CLS]', 'ch', '##q', 'sleep', 'ap', '##nea', '.', 'i', 'was', 'diagnosed', 'with', 'sleep', 'ap', '##nea', '(', 'pro', '##lly', 'had', 'it', 'for', '5', 'years', ')', 'and', 'i', 'have', 'swelling', 'issues', 'caused', 'from', 'that', '(', 'it', 'has', 'been', 'ruled', 'out', 'from', 'everything', 'else', 'so', 'the', 'doctor', 'thinks', ')', '.', 'i', 'just', 'got', 'my', 'cp', '##ap', 'machine', '.', 'i', 'was', 'wondering', 'how', 'long', 'will', 'it', 'take', 'for', 'the', 'swelling', 'to', 'go', 'away', '.', 'thank', 'you', '!', 'ec', '##h', '##q', 'fa', '##q', 'what', 'is', 'sleep', 'ap', '##nea', '?', 'e', '##fa', '##q', '[SEP]']\n",
            "301 301\n"
          ],
          "name": "stdout"
        }
      ]
    },
    {
      "cell_type": "code",
      "metadata": {
        "id": "uDyefw3aZARS",
        "colab_type": "code",
        "colab": {}
      },
      "source": [
        "sentences = test_pairs\n",
        "labels =  test_labels\n",
        "\n",
        "tokenized_texts = test_tokenized_etexts\n",
        "\n",
        "MAX_LEN = 128\n",
        "\n",
        "# Use the BERT tokenizer to convert the tokens to their index numbers in the BERT vocabulary\n",
        "input_ids = [tokenizer.convert_tokens_to_ids(x) for x in tokenized_texts]\n",
        "# Pad our input tokens\n",
        "input_ids = pad_sequences(input_ids, maxlen=MAX_LEN, dtype=\"long\", truncating=\"post\", padding=\"post\")\n",
        "# Create attention masks\n",
        "attention_masks = []\n",
        "\n",
        "# Create a mask of 1s for each token followed by 0s for padding\n",
        "for seq in input_ids:\n",
        "  seq_mask = [float(i>0) for i in seq]\n",
        "  attention_masks.append(seq_mask) \n",
        "\n",
        "prediction_inputs = torch.tensor(input_ids)\n",
        "prediction_masks = torch.tensor(attention_masks)\n",
        "prediction_labels = torch.tensor(labels)\n",
        "  \n",
        "batch_size = 32  \n",
        "\n",
        "\n",
        "prediction_data = TensorDataset(prediction_inputs, prediction_masks, prediction_labels)\n",
        "prediction_sampler = SequentialSampler(prediction_data)\n",
        "prediction_dataloader = DataLoader(prediction_data, sampler=prediction_sampler, batch_size=batch_size)"
      ],
      "execution_count": 0,
      "outputs": []
    },
    {
      "cell_type": "code",
      "metadata": {
        "id": "zCi5sKHDZcS3",
        "colab_type": "code",
        "colab": {}
      },
      "source": [
        "# Prediction on test set\n",
        "\n",
        "# Put model in evaluation mode\n",
        "model.eval()\n",
        "\n",
        "# Tracking variables \n",
        "predictions , true_labels = [], []\n",
        "\n",
        "# Predict \n",
        "for batch in prediction_dataloader:\n",
        "  # Add batch to GPU\n",
        "  batch = tuple(t.to(device) for t in batch)\n",
        "  # Unpack the inputs from our dataloader\n",
        "  b_input_ids, b_input_mask, b_labels = batch\n",
        "  # Telling the model not to compute or store gradients, saving memory and speeding up prediction\n",
        "  with torch.no_grad():\n",
        "    # Forward pass, calculate logit predictions\n",
        "    logits = model(b_input_ids, token_type_ids=None, attention_mask=b_input_mask)\n",
        "\n",
        "  # Move logits and labels to CPU\n",
        "  logits = logits.detach().cpu().numpy()\n",
        "  label_ids = b_labels.to('cpu').numpy()\n",
        "  \n",
        "  # Store predictions and true labels\n",
        "  predictions.append(logits)\n",
        "  true_labels.append(label_ids)"
      ],
      "execution_count": 0,
      "outputs": []
    },
    {
      "cell_type": "code",
      "metadata": {
        "id": "DnMbrNFMl8o5",
        "colab_type": "code",
        "outputId": "da96d9b3-5554-41c3-9eee-832307d88ef2",
        "colab": {
          "base_uri": "https://localhost:8080/",
          "height": 52
        }
      },
      "source": [
        "# Flatten the predictions and true values for aggregate Matthew's evaluation on the whole dataset\n",
        "flat_predictions = [item for sublist in predictions for item in sublist]\n",
        "flat_predictions = np.argmax(flat_predictions, axis=1).flatten()\n",
        "flat_true_labels = [item for sublist in true_labels for item in sublist]\n",
        "\n",
        "\n",
        "print(matthews_corrcoef(flat_true_labels, flat_predictions))\n",
        "\n",
        "print(\"TOTAL time \", datetime.now() - current_time)"
      ],
      "execution_count": 0,
      "outputs": [
        {
          "output_type": "stream",
          "text": [
            "0.44118657106294934\n",
            "TOTAL time  2:26:00.930645\n"
          ],
          "name": "stdout"
        }
      ]
    },
    {
      "cell_type": "code",
      "metadata": {
        "id": "NEPqrn38mAN_",
        "colab_type": "code",
        "outputId": "61934d5d-0c8b-409d-a9a7-0a66873f669a",
        "colab": {
          "base_uri": "https://localhost:8080/",
          "height": 1000
        }
      },
      "source": [
        "count=0\n",
        "for i in range(len(flat_true_labels)):\n",
        "  if np.abs(flat_predictions[i]-flat_true_labels[i])==1:\n",
        "    #print(i, flat_predictions[i]-flat_true_labels[i])\n",
        "    print(i, sentences[i])\n",
        "    count+=1\n",
        "print('incorrect', count)\n",
        "accuracy = (len(flat_true_labels)-count)/len(flat_true_labels)\n",
        "print('accuracy: ', accuracy)"
      ],
      "execution_count": 0,
      "outputs": [
        {
          "output_type": "stream",
          "text": [
            "0 [CLS] chq How should I treat polymenorrhea in a 14-year-old girl? echq faq How should I treat polymenorrhea in a 14-year-old girl? efaq [SEP]\n",
            "1 [CLS] chq Have there been any studies with low molecular weight heparin in pregnancy because I have an obstetric patient who had a deep vein thrombosis with her last pregnancy and I'm wondering if I can use it? echq faq Can I use low molecular weight heparin in pregnancy (patient with deep vein thrombosis last pregnancy)? efaq [SEP]\n",
            "2 [CLS] chq Have there been any studies with low molecular weight heparin in pregnancy because I have an obstetric patient who had a deep vein thrombosis with her last pregnancy and I'm wondering if I can use it? echq faq What are the side effects of Florinef? Could it cause headaches? efaq [SEP]\n",
            "3 [CLS] chq Let's give these immunizations. That's right isn't it? echq faq Let's give these immunizations. That's right isn't it? efaq [SEP]\n",
            "5 [CLS] chq Since these boys' father has Marfan's Syndrome, do these boys need further evaluation? echq faq Boys' father has Marfan's Syndrome. Do these boys need further evaluation? efaq [SEP]\n",
            "7 [CLS] chq Why did they cut out the expanding granuloma which was due to Coccidiomycosis immitis, rather than just treat it medically? echq faq Why did they cut out the Coccidiomycosis granuloma rather than treat it medically? efaq [SEP]\n",
            "8 [CLS] chq Why did she get Coccidiomycosis? She's in her 60's, goes to Florida every winter. echq faq Why did she get Coccidiomycosis? efaq [SEP]\n",
            "9 [CLS] chq How do you inject the bicipital tendon? echq faq How do you inject the bicipital tendon? efaq [SEP]\n",
            "10 [CLS] chq How do you inject the bicipital tendon? echq faq Let's give these immunizations. That's right isn't it? efaq [SEP]\n",
            "11 [CLS] chq I wonder if this patient could have a rotator cuff thing? echq faq I wonder if this patient could have a rotator cuff thing? efaq [SEP]\n",
            "12 [CLS] chq I wonder if this patient could have a rotator cuff thing? echq faq Can I use low molecular weight heparin in pregnancy (patient with deep vein thrombosis last pregnancy)? efaq [SEP]\n",
            "14 [CLS] chq How do you use Redux? What are the indications? echq faq How should I treat polymenorrhea in a 14-year-old girl? efaq [SEP]\n",
            "15 [CLS] chq What is the cause and treatment of this old man's stomatitis? echq faq What is the cause and treatment of this old man's stomatitis? efaq [SEP]\n",
            "16 [CLS] chq What antibiotic should I use for this diabetic patient's infected foot ulcer? echq faq What antibiotic should I use for this diabetic patient's infected foot ulcer? efaq [SEP]\n",
            "17 [CLS] chq What antibiotic should I use for this diabetic patient's infected foot ulcer? echq faq At what ages should you do a Denver Developmental Screening Test? efaq [SEP]\n",
            "18 [CLS] chq Should we switch now to just Ancef? Are you satisfied with the rate of improvement? (Orthopedist did not get culture, foot still red) echq faq Should we switch to Ancef for this diabetic foot ulcer? Improvement adequate? efaq [SEP]\n",
            "19 [CLS] chq Should we switch now to just Ancef? Are you satisfied with the rate of improvement? (Orthopedist did not get culture, foot still red) echq faq What are the causes of tinnitus? efaq [SEP]\n",
            "20 [CLS] chq Is melatonin good for anything? I don't know anything about melatonin. I need to know the dose. echq faq Is melatonin good for anything? What is the dose? efaq [SEP]\n",
            "23 [CLS] chq At what ages should you do a Denver Developmental Screening Test? echq faq Boys' father has Marfan's Syndrome. Do these boys need further evaluation? efaq [SEP]\n",
            "25 [CLS] chq What is the maximum dose of digoxin? (patient seen in emergency room had digoxin level less than 0.03) echq faq How should I treat polymenorrhea in a 14-year-old girl? efaq [SEP]\n",
            "26 [CLS] chq What size pills does digoxin come in? echq faq What size pills does digoxin come in? efaq [SEP]\n",
            "29 [CLS] chq What are the indications for getting a digoxin level? echq faq Why did she get Coccidiomycosis? efaq [SEP]\n",
            "30 [CLS] chq Why wasn't this patient very sick? (patient with large empyema and Haemophilus influenza in sputum, no growth from empyema fluid.) echq faq Why wasn't this patient very sick? (large empyema and Haemophilus influenza in sputum) efaq [SEP]\n",
            "31 [CLS] chq Why wasn't this patient very sick? (patient with large empyema and Haemophilus influenza in sputum, no growth from empyema fluid.) echq faq How should I treat polymenorrhea in a 14-year-old girl? efaq [SEP]\n",
            "32 [CLS] chq Is Serzone okay to give to someone with a partial gastrectomy, will it be absorbed? echq faq Is Serzone okay to give to with a partial gastrectomy; that is, will it be absorbed? efaq [SEP]\n",
            "38 [CLS] chq What is the dose of Famvir? echq faq How should I treat polymenorrhea in a 14-year-old girl? efaq [SEP]\n",
            "39 [CLS] chq What is the other drug besides Famvir and acyclovir for Herpes Zoster? echq faq What is the other drug besides Famvir and acyclovir for Herpes Zoster? efaq [SEP]\n",
            "40 [CLS] chq What is the other drug besides Famvir and acyclovir for Herpes Zoster? echq faq Should we switch to Ancef for this diabetic foot ulcer? Improvement adequate? efaq [SEP]\n",
            "41 [CLS] chq Obstetric patient at 39 weeks had little sore possible herpes. How long after the lesion heals is it safe to let her deliver vaginally? echq faq Obstetric patient, 39 weeks had a little sore, ? herpes. How long after she heals is it safe to do a vaginal delivery? efaq [SEP]\n",
            "42 [CLS] chq Obstetric patient at 39 weeks had little sore possible herpes. How long after the lesion heals is it safe to let her deliver vaginally? echq faq I wonder if this patient could have a rotator cuff thing? efaq [SEP]\n",
            "44 [CLS] chq There was this maneuver mentioned at a continuing medical education course for vertigo, but I couldn't remember how to do it or the name of it. echq faq At what ages should you do a Denver Developmental Screening Test? efaq [SEP]\n",
            "45 [CLS] chq Does this patient with a plate in her hip, but no murmur, need subacute bacterial endocarditis prophylaxis before the dentist cleans her teeth? echq faq Patient, plate in hip, no murmur, needs subacute bacterial endocarditis prophylaxis before sees dentist? efaq [SEP]\n",
            "46 [CLS] chq Does this patient with a plate in her hip, but no murmur, need subacute bacterial endocarditis prophylaxis before the dentist cleans her teeth? echq faq Let's give these immunizations. That's right isn't it? efaq [SEP]\n",
            "48 [CLS] chq Can you use Prozac along with lithium? echq faq Boys' father has Marfan's Syndrome. Do these boys need further evaluation? efaq [SEP]\n",
            "49 [CLS] chq What is in Ortho Novum 1/35? echq faq What is in Ortho Novum 1/35? efaq [SEP]\n",
            "50 [CLS] chq What is in Ortho Novum 1/35? echq faq Should we do a head CT (computerized tomography) with contrast tomorrow (Saturday) or MRI (magnetic resonance imaging) Monday? efaq [SEP]\n",
            "52 [CLS] chq How should you adjust the birth control pill if someone has spotting on it? echq faq On nonstress test after every acceleration brief sharp not deep deceleration. Important? efaq [SEP]\n",
            "53 [CLS] chq What are the causes of tinnitus? echq faq What are the causes of tinnitus? efaq [SEP]\n",
            "54 [CLS] chq What are the causes of tinnitus? echq faq How should I treat polymenorrhea in a 14-year-old girl? efaq [SEP]\n",
            "55 [CLS] chq Could Procardia or Mevacor cause tinnitus? echq faq Could Procardia or Mevacor cause tinnitus? efaq [SEP]\n",
            "56 [CLS] chq Could Procardia or Mevacor cause tinnitus? echq faq Let's give these immunizations. That's right isn't it? efaq [SEP]\n",
            "57 [CLS] chq I'm always uncomfortable with how quickly to move in terms of workup (patient had been having TIA (transient ischemic attack) symptoms for several weeks) echq faq Patient with transient ischemic attacks; I'm always uncomfortable with how quickly to pursue a workup. efaq [SEP]\n",
            "58 [CLS] chq In this patient with TIAs (transient ischemic attacks) and no cardiac murmur, should I do an echocardiogram anyway? echq faq In this patient with transient ischemic attacks and no murmur, should I do an echocardiogram anyway? efaq [SEP]\n",
            "59 [CLS] chq In this patient with TIAs (transient ischemic attacks) and no cardiac murmur, should I do an echocardiogram anyway? echq faq Boys' father has Marfan's Syndrome. Do these boys need further evaluation? efaq [SEP]\n",
            "60 [CLS] chq This patient had a nonstress test one week ago and at the end of every acceleration there was a brief sharp spike not very deep deceleration. Is this important? echq faq On nonstress test after every acceleration brief sharp not deep deceleration. Important? efaq [SEP]\n",
            "61 [CLS] chq This patient had a nonstress test one week ago and at the end of every acceleration there was a brief sharp spike not very deep deceleration. Is this important? echq faq Why wasn't this patient very sick? (large empyema and Haemophilus influenza in sputum) efaq [SEP]\n",
            "62 [CLS] chq How should I workup this baby with a single umbilical artery? Thirty percent of such babies have anomalies but where should I look if not obvious on physical exam? echq faq How should I workup this baby with a single umbilical artery? efaq [SEP]\n",
            "66 [CLS] chq The patient has been symptomatic with shingles for 4 days -- Can I still give Zovirax? echq faq Has had shingles for 4 days -- Can I still give Zovirax? efaq [SEP]\n",
            "67 [CLS] chq The patient has been symptomatic with shingles for 4 days -- Can I still give Zovirax? echq faq How should I treat polymenorrhea in a 14-year-old girl? efaq [SEP]\n",
            "68 [CLS] chq What is a good steroid eye drop? echq faq What is a good steroid eye drop? efaq [SEP]\n",
            "70 [CLS] chq What should I do with this patient whose biopsy report shows carcinoma in situ of the vulva? echq faq What to do with this patient, biopsy shows carcinoma in situ of the vulva? efaq [SEP]\n",
            "73 [CLS] chq What is the dose of Neurontin? echq faq I wonder if this patient could have a rotator cuff thing? efaq [SEP]\n",
            "76 [CLS] chq Doctor would like a better way to introduce the subject of sexually transmitted disease -- open rather than closed question -- to get the information she needs. Now she asks \"Are you careful about protecting yourself against sexually transmitted diseases?\" Her question is whether there is a better way to ask this. echq faq Is there a better way to introduce the subject of sexually transmitted disease? efaq [SEP]\n",
            "81 [CLS] chq Patient with hypertension and abdominal bruit. Should I order an intravenous pyelogram? echq faq Patient with hypertension and abdominal bruit. Should I order an intravenous pyelogram? efaq [SEP]\n",
            "83 [CLS] chq Patient is reluctant to take medications so I have been treating with smaller doses than I would with some other patients. How do I control her hypertension and still get her cooperation? echq faq Patient reluctant to take medication. How to control hypertension and still get her cooperation? efaq [SEP]\n",
            "88 [CLS] chq At age 4 has had two simple bladder infections with no upper symptoms. Question is should I just treat or do more evaluation of the cause? echq faq Maneuver mentioned at continuing medical education course for vertigo, couldn't remember how to do it or name of it. efaq [SEP]\n",
            "91 [CLS] chq Can Staphylococcus or Haemophilus influenza septicemia give the same clinical picture as streptococcal septicemia (fever, rash, joint pain, vomiting). echq faq Can Staphylococcus or Haemophilus influenza sepsis give same clinical picture as streptococcal septicemia? efaq [SEP]\n",
            "93 [CLS] chq What is the cause of this woman's long term head shaking (tremor)? echq faq What is the cause of this woman's long term head shaking (tremor)? efaq [SEP]\n",
            "114 [CLS] chq It's just the age old question, \"How do you convince someone they are depressed when they don't want to accept it?\" echq faq I wonder if this patient could have a rotator cuff thing? efaq [SEP]\n",
            "116 [CLS] chq Is it possible for someone to get recurrent pelvic inflammatory disease without a new exposure? She had it one year ago from an intrauterine device. echq faq How should I treat polymenorrhea in a 14-year-old girl? efaq [SEP]\n",
            "125 [CLS] chq Is there a review or an answer to whether patients with osteoporosis should get bone densitometry, because now we have Fosamax? echq faq Should patients with osteoporosis get bone densitometry, because now we have Fosamax? efaq [SEP]\n",
            "126 [CLS] chq Is there a review or an answer to whether patients with osteoporosis should get bone densitometry, because now we have Fosamax? echq faq Is melatonin good for anything? What is the dose? efaq [SEP]\n",
            "132 [CLS] chq What are the side effects of Florinef? Could it cause headaches? echq faq What are the indications for getting a digoxin level? efaq [SEP]\n",
            "136 [CLS] chq What is the bulletin for patients with Crohn's disease and how do you get a patient on the mailing list for this? echq faq What is the bulletin for patients with Crohn's and how to get them on mailing list? efaq [SEP]\n",
            "137 [CLS] chq Is there more support we can provide to patients with macular degeneration? echq faq Is there more support we can provide patients with macular degeneration? efaq [SEP]\n",
            "143 [CLS] chq In a patient with a history of rheumatic fever, do you need to use subacute bacterial endocarditis prophylaxis for pilonidal cyst excision? echq faq Patient with history of rheumatic fever, need subacute bacterial endocarditis prophylaxis for pilonidal cyst excision? efaq [SEP]\n",
            "144 [CLS] chq In a patient with a history of rheumatic fever, do you need to use subacute bacterial endocarditis prophylaxis for pilonidal cyst excision? echq faq Why did they cut out the Coccidiomycosis granuloma rather than treat it medically? efaq [SEP]\n",
            "146 [CLS] chq After starting treatment for a step throat, how long does the patient need to stay out of work or school? echq faq How should I treat polymenorrhea in a 14-year-old girl? efaq [SEP]\n",
            "150 [CLS] chq How long should you wait after giving the digoxin dose before you get a digoxin level? echq faq What is the cause and treatment of this old man's stomatitis? efaq [SEP]\n",
            "157 [CLS] chq How old is it still safe to give a woman birth control pills? echq faq How old is it still safe to give a woman birth control pills? efaq [SEP]\n",
            "159 [CLS] chq What should you do for asymptomatic carotid bruits or bruits in general? Folic acid?, Vitamin B1? Aspirin? echq faq What to do for asymptomatic carotid bruits or carotid bruits in general? efaq [SEP]\n",
            "162 [CLS] chq Is obsessive compulsive disorder hereditary (mother has the diagnosis)? echq faq Is obsessive compulsive disorder hereditary (mother has the diagnosis)? efaq [SEP]\n",
            "165 [CLS] chq What is the diagnosis for this rash that looks like impetigo, comes every April and May? echq faq What is this rash, looks like impetigo, comes every April and May? efaq [SEP]\n",
            "166 [CLS] chq What is the diagnosis for this rash that looks like impetigo, comes every April and May? echq faq How should I treat polymenorrhea in a 14-year-old girl? efaq [SEP]\n",
            "167 [CLS] chq This woman has Herpes zoster on her chest. Which dermatome is it? echq faq This woman has Herpes zoster on her chest. Which dermatome is it? efaq [SEP]\n",
            "170 [CLS] chq This woman takes Premarin 0.625 milligrams for osteoporosis prophylaxis but she got sore breasts. Is there a smaller size Premarin like 0.3 milligrams? echq faq What is the other drug besides Famvir and acyclovir for Herpes Zoster? efaq [SEP]\n",
            "171 [CLS] chq A woman with bad acne, status post bilateral tubal ligation is on Accutane. Dermatologist put her on oral contraceptive too. Why? echq faq Patient status post bilateral tubal ligation on Accutane for acne. Dermatologist put her on oral contraceptives too. Why? efaq [SEP]\n",
            "172 [CLS] chq A woman with bad acne, status post bilateral tubal ligation is on Accutane. Dermatologist put her on oral contraceptive too. Why? echq faq What antibiotic should I use for this diabetic patient's infected foot ulcer? efaq [SEP]\n",
            "180 [CLS] chq What are the Supplemental Security Income (SSI) criteria for disability? echq faq What are the Supplemental Security Income (SSI) criteria for disability? efaq [SEP]\n",
            "189 [CLS] chq Why does he have eye pain and blurred vision (referred to ophthalmologist)? echq faq Why does he have eye pain and blurred vision? efaq [SEP]\n",
            "215 [CLS] chq What is the name of the ophthalmic drop that has ciprofloxacin in it? echq faq How should I treat polymenorrhea in a 14-year-old girl? efaq [SEP]\n",
            "233 [CLS] chq Man with stomach ulcers. Can't take nonsteroidal anti-inflammatory drugs. Why can't I get the only thing that ever worked (Plegine)? What is it and how can I get it? echq faq Let's give these immunizations. That's right isn't it? efaq [SEP]\n",
            "249 [CLS] chq Is an upset stomach a side effect of Glucotrol? Dr. X said she hadn't seen that before. echq faq How should I treat polymenorrhea in a 14-year-old girl? efaq [SEP]\n",
            "298 [CLS] chq 15-year-old with an influenza-like illness, increased lactate dehydrogenase (LDH) and bilirubin. We had a recent death on the football field here (anomalous coronary artery). This patient is a football hero and the original question was whether to let him play. I did. echq faq 15-year-old, influenza-like illness, increased lactate dehydrogenase (LDH) and bilirubin. Should he play football? efaq [SEP]\n",
            "300 [CLS] chq This is a little old lady with diverticulitis and diarrhea, acutely ill. She had hirsutism as a teenager and they irradiated her adrenals. Do I need to cover her with steroids? echq faq Little old lady diverticulitis, previous radiation adrenals. Give steroids now? efaq [SEP]\n",
            "incorrect 85\n",
            "accuracy:  0.717607973421927\n"
          ],
          "name": "stdout"
        }
      ]
    },
    {
      "cell_type": "code",
      "metadata": {
        "id": "dTxRjlNamEMO",
        "colab_type": "code",
        "colab": {}
      },
      "source": [
        ""
      ],
      "execution_count": 0,
      "outputs": []
    }
  ]
}